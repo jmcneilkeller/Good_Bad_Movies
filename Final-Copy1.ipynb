{
 "cells": [
  {
   "cell_type": "code",
   "execution_count": 2,
   "metadata": {},
   "outputs": [
    {
     "name": "stdout",
     "output_type": "stream",
     "text": [
      "Requirement already satisfied: tmdbsimple in /anaconda3/lib/python3.7/site-packages (2.2.0)\n",
      "Requirement already satisfied: requests in /anaconda3/lib/python3.7/site-packages (from tmdbsimple) (2.21.0)\n",
      "Requirement already satisfied: idna<2.9,>=2.5 in /anaconda3/lib/python3.7/site-packages (from requests->tmdbsimple) (2.8)\n",
      "Requirement already satisfied: urllib3<1.25,>=1.21.1 in /anaconda3/lib/python3.7/site-packages (from requests->tmdbsimple) (1.24.1)\n",
      "Requirement already satisfied: chardet<3.1.0,>=3.0.2 in /anaconda3/lib/python3.7/site-packages (from requests->tmdbsimple) (3.0.4)\n",
      "Requirement already satisfied: certifi>=2017.4.17 in /anaconda3/lib/python3.7/site-packages (from requests->tmdbsimple) (2018.11.29)\n"
     ]
    }
   ],
   "source": [
    "!pip install tmdbsimple"
   ]
  },
  {
   "cell_type": "code",
   "execution_count": 2,
   "metadata": {},
   "outputs": [],
   "source": [
    "import requests\n",
    "import pandas as pd\n",
    "import time\n",
    "import tmdbsimple as tmdb"
   ]
  },
  {
   "cell_type": "code",
   "execution_count": 3,
   "metadata": {},
   "outputs": [],
   "source": [
    "from tqdm import tqdm_notebook as tqdm\n"
   ]
  },
  {
   "cell_type": "code",
   "execution_count": 4,
   "metadata": {},
   "outputs": [],
   "source": [
    "pd.set_option('display.max_columns',300)\n",
    "pd.set_option('display.max_rows',300)"
   ]
  },
  {
   "cell_type": "code",
   "execution_count": 5,
   "metadata": {},
   "outputs": [],
   "source": [
    "tmdb.API_KEY = '609bfa19cbc6d10450102037baa49767'"
   ]
  },
  {
   "cell_type": "code",
   "execution_count": 6,
   "metadata": {},
   "outputs": [
    {
     "data": {
      "text/plain": [
       "<Response [200]>"
      ]
     },
     "execution_count": 6,
     "metadata": {},
     "output_type": "execute_result"
    }
   ],
   "source": [
    "r = requests.get('http://www.omdbapi.com/?type=tvEpisode&i=tt0105643&apikey=1dcae6cc')\n",
    "r"
   ]
  },
  {
   "cell_type": "code",
   "execution_count": 53,
   "metadata": {},
   "outputs": [
    {
     "data": {
      "text/plain": [
       "200"
      ]
     },
     "execution_count": 53,
     "metadata": {},
     "output_type": "execute_result"
    }
   ],
   "source": [
    "r.status_code"
   ]
  },
  {
   "cell_type": "code",
   "execution_count": 100,
   "metadata": {},
   "outputs": [
    {
     "name": "stdout",
     "output_type": "stream",
     "text": [
      "<class 'str'>\n"
     ]
    },
    {
     "data": {
      "text/plain": [
       "str"
      ]
     },
     "execution_count": 100,
     "metadata": {},
     "output_type": "execute_result"
    }
   ],
   "source": [
    "print(type(r.text))\n",
    "type(r.text)"
   ]
  },
  {
   "cell_type": "code",
   "execution_count": null,
   "metadata": {},
   "outputs": [],
   "source": [
    "url = 'http://www.omdbapi.com/?i={}&apikey=1dcae6cc'.format()\n",
    "    "
   ]
  },
  {
   "cell_type": "code",
   "execution_count": 113,
   "metadata": {},
   "outputs": [
    {
     "data": {
      "text/plain": [
       "'{\"status_code\":34,\"status_message\":\"The resource you requested could not be found.\"}'"
      ]
     },
     "execution_count": 113,
     "metadata": {},
     "output_type": "execute_result"
    }
   ],
   "source": [
    "r = requests.get('https://api.themoviedb.org/3/movie/' + str(23) + '?api_key=609bfa19cbc6d10450102037baa49767')\n",
    "r.text"
   ]
  },
  {
   "cell_type": "code",
   "execution_count": 64,
   "metadata": {},
   "outputs": [
    {
     "data": {
      "text/plain": [
       "<tmdbsimple.movies.Movies at 0x11cf19320>"
      ]
     },
     "execution_count": 64,
     "metadata": {},
     "output_type": "execute_result"
    }
   ],
   "source": [
    "test_movie = tmdb.Movies('latest')\n",
    "test_movie"
   ]
  },
  {
   "cell_type": "code",
   "execution_count": 65,
   "metadata": {},
   "outputs": [],
   "source": [
    "resp = test_movie.info()"
   ]
  },
  {
   "cell_type": "code",
   "execution_count": 66,
   "metadata": {},
   "outputs": [
    {
     "data": {
      "text/plain": [
       "dict"
      ]
     },
     "execution_count": 66,
     "metadata": {},
     "output_type": "execute_result"
    }
   ],
   "source": [
    "type(resp)"
   ]
  },
  {
   "cell_type": "code",
   "execution_count": 67,
   "metadata": {},
   "outputs": [
    {
     "data": {
      "text/plain": [
       "{'adult': False,\n",
       " 'backdrop_path': None,\n",
       " 'belongs_to_collection': None,\n",
       " 'budget': 0,\n",
       " 'genres': [],\n",
       " 'homepage': None,\n",
       " 'id': 614500,\n",
       " 'imdb_id': 'tt0015462',\n",
       " 'original_language': 'en',\n",
       " 'original_title': 'Virginian Outcast',\n",
       " 'overview': '',\n",
       " 'popularity': 0.0,\n",
       " 'poster_path': None,\n",
       " 'production_companies': [],\n",
       " 'production_countries': [],\n",
       " 'release_date': '',\n",
       " 'revenue': 0,\n",
       " 'runtime': None,\n",
       " 'spoken_languages': [],\n",
       " 'status': 'Released',\n",
       " 'tagline': '',\n",
       " 'title': 'Virginian Outcast',\n",
       " 'video': False,\n",
       " 'vote_average': 0.0,\n",
       " 'vote_count': 0}"
      ]
     },
     "execution_count": 67,
     "metadata": {},
     "output_type": "execute_result"
    }
   ],
   "source": [
    "resp"
   ]
  },
  {
   "cell_type": "code",
   "execution_count": null,
   "metadata": {},
   "outputs": [],
   "source": [
    "614497"
   ]
  },
  {
   "cell_type": "code",
   "execution_count": 8,
   "metadata": {},
   "outputs": [],
   "source": [
    "from requests.packages.urllib3.util.retry import Retry"
   ]
  },
  {
   "cell_type": "code",
   "execution_count": 9,
   "metadata": {},
   "outputs": [],
   "source": [
    "def tmdb_getter(start,stop):\n",
    "    movie_list = []\n",
    "    for movie in tqdm(range(start,stop)):\n",
    "        r = requests.get('https://api.themoviedb.org/3/movie/' + str(movie) + '?api_key=609bfa19cbc6d10450102037baa49767')\n",
    "        if r.status_code == 200:\n",
    "            info = r.json()\n",
    "            movie_list.append(info)\n",
    "            time.sleep(.25)\n",
    "        elif r.status_code == 429:\n",
    "            print('Connection broken - wait')\n",
    "            time.sleep(10)\n",
    "            continue\n",
    "        else:\n",
    "            continue\n",
    "        \n",
    "    return movie_list\n",
    "    \n",
    "    "
   ]
  },
  {
   "cell_type": "code",
   "execution_count": 148,
   "metadata": {
    "scrolled": true
   },
   "outputs": [
    {
     "data": {
      "application/vnd.jupyter.widget-view+json": {
       "model_id": "83ba1ebcfa624330b63b4e82cb585237",
       "version_major": 2,
       "version_minor": 0
      },
      "text/plain": [
       "HBox(children=(IntProgress(value=0, max=10000), HTML(value='')))"
      ]
     },
     "metadata": {},
     "output_type": "display_data"
    },
    {
     "ename": "NameError",
     "evalue": "name 'Retry' is not defined",
     "output_type": "error",
     "traceback": [
      "\u001b[0;31m---------------------------------------------------------------------------\u001b[0m",
      "\u001b[0;31mNameError\u001b[0m                                 Traceback (most recent call last)",
      "\u001b[0;32m<ipython-input-148-ff17dca89cf3>\u001b[0m in \u001b[0;36m<module>\u001b[0;34m\u001b[0m\n\u001b[0;32m----> 1\u001b[0;31m \u001b[0mlist_10k\u001b[0m \u001b[0;34m=\u001b[0m \u001b[0mtmdb_getter\u001b[0m\u001b[0;34m(\u001b[0m\u001b[0;36m1\u001b[0m\u001b[0;34m,\u001b[0m\u001b[0;36m10001\u001b[0m\u001b[0;34m)\u001b[0m\u001b[0;34m\u001b[0m\u001b[0;34m\u001b[0m\u001b[0m\n\u001b[0m",
      "\u001b[0;32m<ipython-input-147-fa3e70b2b776>\u001b[0m in \u001b[0;36mtmdb_getter\u001b[0;34m(start, stop)\u001b[0m\n\u001b[1;32m      2\u001b[0m     \u001b[0mmovie_list\u001b[0m \u001b[0;34m=\u001b[0m \u001b[0;34m[\u001b[0m\u001b[0;34m]\u001b[0m\u001b[0;34m\u001b[0m\u001b[0;34m\u001b[0m\u001b[0m\n\u001b[1;32m      3\u001b[0m     \u001b[0;32mfor\u001b[0m \u001b[0mmovie\u001b[0m \u001b[0;32min\u001b[0m \u001b[0mtqdm\u001b[0m\u001b[0;34m(\u001b[0m\u001b[0mrange\u001b[0m\u001b[0;34m(\u001b[0m\u001b[0mstart\u001b[0m\u001b[0;34m,\u001b[0m\u001b[0mstop\u001b[0m\u001b[0;34m)\u001b[0m\u001b[0;34m)\u001b[0m\u001b[0;34m:\u001b[0m\u001b[0;34m\u001b[0m\u001b[0;34m\u001b[0m\u001b[0m\n\u001b[0;32m----> 4\u001b[0;31m         \u001b[0mr\u001b[0m \u001b[0;34m=\u001b[0m \u001b[0mrequests\u001b[0m\u001b[0;34m.\u001b[0m\u001b[0mget\u001b[0m\u001b[0;34m(\u001b[0m\u001b[0;34m'https://api.themoviedb.org/3/movie/'\u001b[0m \u001b[0;34m+\u001b[0m \u001b[0mstr\u001b[0m\u001b[0;34m(\u001b[0m\u001b[0mmovie\u001b[0m\u001b[0;34m)\u001b[0m \u001b[0;34m+\u001b[0m \u001b[0;34m'?api_key=609bfa19cbc6d10450102037baa49767'\u001b[0m\u001b[0;34m,\u001b[0m \u001b[0mretries\u001b[0m\u001b[0;34m=\u001b[0m\u001b[0mRetry\u001b[0m\u001b[0;34m(\u001b[0m\u001b[0;36m10\u001b[0m\u001b[0;34m)\u001b[0m\u001b[0;34m)\u001b[0m\u001b[0;34m\u001b[0m\u001b[0;34m\u001b[0m\u001b[0m\n\u001b[0m\u001b[1;32m      5\u001b[0m         \u001b[0;32mif\u001b[0m \u001b[0mr\u001b[0m\u001b[0;34m.\u001b[0m\u001b[0mstatus_code\u001b[0m \u001b[0;34m==\u001b[0m \u001b[0;36m200\u001b[0m\u001b[0;34m:\u001b[0m\u001b[0;34m\u001b[0m\u001b[0;34m\u001b[0m\u001b[0m\n\u001b[1;32m      6\u001b[0m             \u001b[0minfo\u001b[0m \u001b[0;34m=\u001b[0m \u001b[0mr\u001b[0m\u001b[0;34m.\u001b[0m\u001b[0mjson\u001b[0m\u001b[0;34m(\u001b[0m\u001b[0;34m)\u001b[0m\u001b[0;34m\u001b[0m\u001b[0;34m\u001b[0m\u001b[0m\n",
      "\u001b[0;31mNameError\u001b[0m: name 'Retry' is not defined"
     ]
    }
   ],
   "source": [
    "list_10k = tmdb_getter(1,10001)"
   ]
  },
  {
   "cell_type": "code",
   "execution_count": 149,
   "metadata": {},
   "outputs": [
    {
     "data": {
      "text/plain": [
       "4768"
      ]
     },
     "execution_count": 149,
     "metadata": {},
     "output_type": "execute_result"
    }
   ],
   "source": [
    "len(list_10k)"
   ]
  },
  {
   "cell_type": "code",
   "execution_count": 143,
   "metadata": {},
   "outputs": [
    {
     "data": {
      "application/vnd.jupyter.widget-view+json": {
       "model_id": "3538d5559a4d49dc8428643a9867a7e3",
       "version_major": 2,
       "version_minor": 0
      },
      "text/plain": [
       "HBox(children=(IntProgress(value=0, max=10000), HTML(value='')))"
      ]
     },
     "metadata": {},
     "output_type": "display_data"
    }
   ],
   "source": [
    "list_10to20 = tmdb_getter(10001,20001)"
   ]
  },
  {
   "cell_type": "code",
   "execution_count": 144,
   "metadata": {},
   "outputs": [
    {
     "data": {
      "text/plain": [
       "6647"
      ]
     },
     "execution_count": 144,
     "metadata": {},
     "output_type": "execute_result"
    }
   ],
   "source": [
    "len(list_10to20)"
   ]
  },
  {
   "cell_type": "code",
   "execution_count": 156,
   "metadata": {
    "scrolled": false
   },
   "outputs": [
    {
     "data": {
      "application/vnd.jupyter.widget-view+json": {
       "model_id": "876164e764b44bd5a818804cef63d568",
       "version_major": 2,
       "version_minor": 0
      },
      "text/plain": [
       "HBox(children=(IntProgress(value=0, max=30000), HTML(value='')))"
      ]
     },
     "metadata": {},
     "output_type": "display_data"
    },
    {
     "name": "stdout",
     "output_type": "stream",
     "text": [
      "Connection broken - wait\n",
      "Connection broken - wait\n",
      "Connection broken - wait\n",
      "Connection broken - wait\n",
      "Connection broken - wait\n",
      "Connection broken - wait\n",
      "Connection broken - wait\n",
      "Connection broken - wait\n",
      "Connection broken - wait\n",
      "Connection broken - wait\n",
      "Connection broken - wait\n",
      "Connection broken - wait\n",
      "Connection broken - wait\n",
      "Connection broken - wait\n",
      "Connection broken - wait\n",
      "Connection broken - wait\n",
      "Connection broken - wait\n",
      "Connection broken - wait\n",
      "Connection broken - wait\n",
      "Connection broken - wait\n",
      "Connection broken - wait\n",
      "Connection broken - wait\n",
      "Connection broken - wait\n",
      "Connection broken - wait\n",
      "Connection broken - wait\n",
      "Connection broken - wait\n",
      "Connection broken - wait\n",
      "Connection broken - wait\n",
      "Connection broken - wait\n",
      "Connection broken - wait\n",
      "Connection broken - wait\n",
      "Connection broken - wait\n",
      "Connection broken - wait\n",
      "Connection broken - wait\n",
      "Connection broken - wait\n",
      "Connection broken - wait\n",
      "Connection broken - wait\n",
      "Connection broken - wait\n",
      "Connection broken - wait\n",
      "Connection broken - wait\n",
      "Connection broken - wait\n",
      "Connection broken - wait\n",
      "Connection broken - wait\n",
      "Connection broken - wait\n",
      "Connection broken - wait\n",
      "Connection broken - wait\n",
      "Connection broken - wait\n",
      "Connection broken - wait\n",
      "Connection broken - wait\n",
      "Connection broken - wait\n",
      "Connection broken - wait\n",
      "Connection broken - wait\n",
      "Connection broken - wait\n",
      "Connection broken - wait\n",
      "Connection broken - wait\n",
      "Connection broken - wait\n",
      "Connection broken - wait\n",
      "Connection broken - wait\n",
      "Connection broken - wait\n",
      "Connection broken - wait\n",
      "Connection broken - wait\n",
      "Connection broken - wait\n",
      "Connection broken - wait\n",
      "Connection broken - wait\n",
      "Connection broken - wait\n",
      "Connection broken - wait\n",
      "Connection broken - wait\n",
      "Connection broken - wait\n",
      "Connection broken - wait\n",
      "Connection broken - wait\n",
      "Connection broken - wait\n",
      "Connection broken - wait\n",
      "Connection broken - wait\n",
      "Connection broken - wait\n",
      "Connection broken - wait\n",
      "Connection broken - wait\n",
      "Connection broken - wait\n",
      "Connection broken - wait\n",
      "Connection broken - wait\n",
      "Connection broken - wait\n",
      "Connection broken - wait\n",
      "Connection broken - wait\n",
      "Connection broken - wait\n",
      "Connection broken - wait\n"
     ]
    }
   ],
   "source": [
    "list_20to50 = tmdb_getter(20001,50001)"
   ]
  },
  {
   "cell_type": "code",
   "execution_count": 160,
   "metadata": {},
   "outputs": [
    {
     "data": {
      "text/plain": [
       "22321"
      ]
     },
     "execution_count": 160,
     "metadata": {},
     "output_type": "execute_result"
    }
   ],
   "source": [
    "len(list_20to50)"
   ]
  },
  {
   "cell_type": "code",
   "execution_count": 161,
   "metadata": {},
   "outputs": [
    {
     "data": {
      "application/vnd.jupyter.widget-view+json": {
       "model_id": "295efb0e4f1444d3a5c7277315038887",
       "version_major": 2,
       "version_minor": 0
      },
      "text/plain": [
       "HBox(children=(IntProgress(value=0, max=10000), HTML(value='')))"
      ]
     },
     "metadata": {},
     "output_type": "display_data"
    },
    {
     "name": "stdout",
     "output_type": "stream",
     "text": [
      "Connection broken - wait\n",
      "Connection broken - wait\n",
      "Connection broken - wait\n",
      "Connection broken - wait\n",
      "Connection broken - wait\n",
      "Connection broken - wait\n",
      "Connection broken - wait\n",
      "Connection broken - wait\n",
      "Connection broken - wait\n"
     ]
    }
   ],
   "source": [
    "list_50to60 = tmdb_getter(50001,60001)"
   ]
  },
  {
   "cell_type": "code",
   "execution_count": 170,
   "metadata": {},
   "outputs": [
    {
     "data": {
      "text/plain": [
       "{'adult': False,\n",
       " 'backdrop_path': '/fcSzcMFx40gSr19cNdPz0G7YIs9.jpg',\n",
       " 'belongs_to_collection': None,\n",
       " 'budget': 5500000,\n",
       " 'genres': [{'id': 28, 'name': 'Action'}, {'id': 16, 'name': 'Animation'}],\n",
       " 'homepage': None,\n",
       " 'id': 50007,\n",
       " 'imdb_id': 'tt0446701',\n",
       " 'original_language': 'ja',\n",
       " 'original_title': 'Gisaku',\n",
       " 'overview': 'The adventures of a young Japanese samurai named Yohei who visited Spain in the 17th century, in a story loosely taking its inspiration from the travels of historic samurai Hasekura. Yohei survived in hiding to the present day due to magical powers, and accomplishes many adventures in modern Spain as a superhero.',\n",
       " 'popularity': 0.787,\n",
       " 'poster_path': '/fFKP17sosqcZreGndEOVm4cC6S9.jpg',\n",
       " 'production_companies': [{'id': 3631,\n",
       "   'logo_path': None,\n",
       "   'name': 'Filmax',\n",
       "   'origin_country': ''}],\n",
       " 'production_countries': [{'iso_3166_1': 'ES', 'name': 'Spain'}],\n",
       " 'release_date': '2005-03-04',\n",
       " 'revenue': 0,\n",
       " 'runtime': 78,\n",
       " 'spoken_languages': [{'iso_639_1': 'es', 'name': 'Español'},\n",
       "  {'iso_639_1': 'en', 'name': 'English'},\n",
       "  {'iso_639_1': 'ja', 'name': '日本語'}],\n",
       " 'status': 'Released',\n",
       " 'tagline': 'A legendary key. A samurai lost in time. A world to save.',\n",
       " 'title': 'Gisaku',\n",
       " 'video': False,\n",
       " 'vote_average': 5.0,\n",
       " 'vote_count': 3}"
      ]
     },
     "execution_count": 170,
     "metadata": {},
     "output_type": "execute_result"
    }
   ],
   "source": [
    "list_50to60[6]"
   ]
  },
  {
   "cell_type": "code",
   "execution_count": 171,
   "metadata": {},
   "outputs": [
    {
     "data": {
      "application/vnd.jupyter.widget-view+json": {
       "model_id": "b77ac55bd60947059800b08ef607b2a8",
       "version_major": 2,
       "version_minor": 0
      },
      "text/plain": [
       "HBox(children=(IntProgress(value=0, max=75000), HTML(value='')))"
      ]
     },
     "metadata": {},
     "output_type": "display_data"
    },
    {
     "name": "stdout",
     "output_type": "stream",
     "text": [
      "Connection broken - wait\n",
      "Connection broken - wait\n",
      "Connection broken - wait\n",
      "Connection broken - wait\n",
      "Connection broken - wait\n",
      "Connection broken - wait\n",
      "Connection broken - wait\n",
      "Connection broken - wait\n",
      "Connection broken - wait\n",
      "Connection broken - wait\n",
      "Connection broken - wait\n",
      "Connection broken - wait\n",
      "Connection broken - wait\n",
      "Connection broken - wait\n",
      "Connection broken - wait\n",
      "Connection broken - wait\n",
      "Connection broken - wait\n",
      "Connection broken - wait\n",
      "Connection broken - wait\n",
      "Connection broken - wait\n",
      "Connection broken - wait\n",
      "Connection broken - wait\n",
      "Connection broken - wait\n",
      "Connection broken - wait\n",
      "Connection broken - wait\n",
      "Connection broken - wait\n",
      "Connection broken - wait\n",
      "Connection broken - wait\n",
      "Connection broken - wait\n",
      "Connection broken - wait\n",
      "Connection broken - wait\n",
      "Connection broken - wait\n",
      "Connection broken - wait\n",
      "Connection broken - wait\n",
      "Connection broken - wait\n",
      "Connection broken - wait\n",
      "Connection broken - wait\n",
      "Connection broken - wait\n",
      "Connection broken - wait\n",
      "Connection broken - wait\n",
      "Connection broken - wait\n",
      "Connection broken - wait\n",
      "Connection broken - wait\n",
      "Connection broken - wait\n",
      "Connection broken - wait\n",
      "Connection broken - wait\n",
      "Connection broken - wait\n",
      "Connection broken - wait\n",
      "Connection broken - wait\n",
      "Connection broken - wait\n",
      "Connection broken - wait\n",
      "Connection broken - wait\n",
      "Connection broken - wait\n",
      "Connection broken - wait\n",
      "Connection broken - wait\n",
      "Connection broken - wait\n",
      "Connection broken - wait\n",
      "Connection broken - wait\n",
      "Connection broken - wait\n",
      "Connection broken - wait\n",
      "Connection broken - wait\n",
      "Connection broken - wait\n",
      "Connection broken - wait\n",
      "Connection broken - wait\n",
      "Connection broken - wait\n",
      "Connection broken - wait\n",
      "Connection broken - wait\n",
      "Connection broken - wait\n",
      "Connection broken - wait\n",
      "Connection broken - wait\n",
      "Connection broken - wait\n",
      "Connection broken - wait\n",
      "Connection broken - wait\n",
      "Connection broken - wait\n",
      "Connection broken - wait\n",
      "Connection broken - wait\n",
      "Connection broken - wait\n",
      "Connection broken - wait\n",
      "Connection broken - wait\n",
      "Connection broken - wait\n",
      "Connection broken - wait\n",
      "Connection broken - wait\n",
      "Connection broken - wait\n",
      "Connection broken - wait\n",
      "Connection broken - wait\n",
      "Connection broken - wait\n",
      "Connection broken - wait\n",
      "Connection broken - wait\n",
      "Connection broken - wait\n",
      "Connection broken - wait\n",
      "Connection broken - wait\n",
      "Connection broken - wait\n",
      "Connection broken - wait\n",
      "Connection broken - wait\n",
      "Connection broken - wait\n",
      "Connection broken - wait\n",
      "Connection broken - wait\n",
      "Connection broken - wait\n",
      "Connection broken - wait\n",
      "Connection broken - wait\n",
      "Connection broken - wait\n",
      "Connection broken - wait\n",
      "Connection broken - wait\n",
      "Connection broken - wait\n",
      "Connection broken - wait\n",
      "Connection broken - wait\n",
      "Connection broken - wait\n",
      "Connection broken - wait\n",
      "Connection broken - wait\n",
      "Connection broken - wait\n",
      "Connection broken - wait\n",
      "Connection broken - wait\n",
      "Connection broken - wait\n",
      "Connection broken - wait\n",
      "Connection broken - wait\n",
      "Connection broken - wait\n",
      "Connection broken - wait\n",
      "Connection broken - wait\n",
      "Connection broken - wait\n",
      "Connection broken - wait\n",
      "Connection broken - wait\n",
      "Connection broken - wait\n",
      "Connection broken - wait\n",
      "Connection broken - wait\n",
      "Connection broken - wait\n",
      "Connection broken - wait\n",
      "Connection broken - wait\n",
      "Connection broken - wait\n",
      "Connection broken - wait\n",
      "Connection broken - wait\n",
      "Connection broken - wait\n",
      "Connection broken - wait\n",
      "Connection broken - wait\n",
      "Connection broken - wait\n",
      "Connection broken - wait\n",
      "Connection broken - wait\n",
      "Connection broken - wait\n",
      "Connection broken - wait\n",
      "Connection broken - wait\n",
      "Connection broken - wait\n",
      "Connection broken - wait\n",
      "Connection broken - wait\n",
      "Connection broken - wait\n",
      "Connection broken - wait\n",
      "Connection broken - wait\n",
      "Connection broken - wait\n",
      "Connection broken - wait\n",
      "Connection broken - wait\n",
      "Connection broken - wait\n",
      "Connection broken - wait\n",
      "Connection broken - wait\n",
      "Connection broken - wait\n",
      "Connection broken - wait\n",
      "Connection broken - wait\n",
      "Connection broken - wait\n",
      "Connection broken - wait\n",
      "Connection broken - wait\n",
      "Connection broken - wait\n",
      "Connection broken - wait\n",
      "Connection broken - wait\n",
      "Connection broken - wait\n",
      "Connection broken - wait\n",
      "Connection broken - wait\n",
      "Connection broken - wait\n",
      "Connection broken - wait\n",
      "Connection broken - wait\n",
      "Connection broken - wait\n",
      "Connection broken - wait\n",
      "Connection broken - wait\n",
      "Connection broken - wait\n",
      "Connection broken - wait\n",
      "Connection broken - wait\n",
      "Connection broken - wait\n",
      "Connection broken - wait\n",
      "Connection broken - wait\n",
      "Connection broken - wait\n",
      "Connection broken - wait\n",
      "Connection broken - wait\n",
      "Connection broken - wait\n",
      "Connection broken - wait\n",
      "Connection broken - wait\n",
      "Connection broken - wait\n",
      "Connection broken - wait\n",
      "Connection broken - wait\n",
      "Connection broken - wait\n",
      "Connection broken - wait\n",
      "Connection broken - wait\n",
      "Connection broken - wait\n",
      "Connection broken - wait\n",
      "Connection broken - wait\n",
      "Connection broken - wait\n",
      "Connection broken - wait\n",
      "Connection broken - wait\n",
      "Connection broken - wait\n",
      "Connection broken - wait\n",
      "Connection broken - wait\n",
      "Connection broken - wait\n",
      "Connection broken - wait\n",
      "Connection broken - wait\n",
      "Connection broken - wait\n",
      "Connection broken - wait\n",
      "Connection broken - wait\n",
      "Connection broken - wait\n",
      "Connection broken - wait\n",
      "Connection broken - wait\n",
      "Connection broken - wait\n",
      "Connection broken - wait\n",
      "Connection broken - wait\n",
      "Connection broken - wait\n",
      "Connection broken - wait\n",
      "Connection broken - wait\n",
      "Connection broken - wait\n",
      "Connection broken - wait\n",
      "Connection broken - wait\n",
      "Connection broken - wait\n",
      "Connection broken - wait\n",
      "Connection broken - wait\n",
      "Connection broken - wait\n",
      "Connection broken - wait\n",
      "Connection broken - wait\n",
      "Connection broken - wait\n",
      "Connection broken - wait\n",
      "Connection broken - wait\n",
      "Connection broken - wait\n",
      "Connection broken - wait\n",
      "Connection broken - wait\n",
      "Connection broken - wait\n",
      "Connection broken - wait\n",
      "Connection broken - wait\n",
      "Connection broken - wait\n",
      "Connection broken - wait\n",
      "Connection broken - wait\n",
      "Connection broken - wait\n",
      "Connection broken - wait\n",
      "Connection broken - wait\n"
     ]
    }
   ],
   "source": [
    "list_60to135 = tmdb_getter(60001,135001)"
   ]
  },
  {
   "cell_type": "code",
   "execution_count": 172,
   "metadata": {},
   "outputs": [
    {
     "data": {
      "text/plain": [
       "47108"
      ]
     },
     "execution_count": 172,
     "metadata": {},
     "output_type": "execute_result"
    }
   ],
   "source": [
    "len(list_60to135)"
   ]
  },
  {
   "cell_type": "code",
   "execution_count": 174,
   "metadata": {},
   "outputs": [
    {
     "data": {
      "application/vnd.jupyter.widget-view+json": {
       "model_id": "f927d9589c174920882760164a6eb70f",
       "version_major": 2,
       "version_minor": 0
      },
      "text/plain": [
       "HBox(children=(IntProgress(value=0, max=10000), HTML(value='')))"
      ]
     },
     "metadata": {},
     "output_type": "display_data"
    },
    {
     "name": "stdout",
     "output_type": "stream",
     "text": [
      "Connection broken - wait\n",
      "Connection broken - wait\n",
      "Connection broken - wait\n",
      "Connection broken - wait\n",
      "Connection broken - wait\n",
      "Connection broken - wait\n",
      "Connection broken - wait\n",
      "Connection broken - wait\n",
      "Connection broken - wait\n",
      "Connection broken - wait\n",
      "Connection broken - wait\n",
      "Connection broken - wait\n",
      "Connection broken - wait\n",
      "Connection broken - wait\n",
      "Connection broken - wait\n",
      "Connection broken - wait\n",
      "Connection broken - wait\n",
      "Connection broken - wait\n",
      "Connection broken - wait\n",
      "Connection broken - wait\n",
      "Connection broken - wait\n",
      "Connection broken - wait\n",
      "Connection broken - wait\n",
      "Connection broken - wait\n",
      "Connection broken - wait\n",
      "Connection broken - wait\n",
      "Connection broken - wait\n",
      "Connection broken - wait\n",
      "Connection broken - wait\n",
      "Connection broken - wait\n",
      "Connection broken - wait\n",
      "Connection broken - wait\n",
      "Connection broken - wait\n",
      "Connection broken - wait\n",
      "Connection broken - wait\n",
      "Connection broken - wait\n",
      "Connection broken - wait\n",
      "Connection broken - wait\n",
      "Connection broken - wait\n",
      "Connection broken - wait\n",
      "Connection broken - wait\n",
      "Connection broken - wait\n",
      "Connection broken - wait\n",
      "Connection broken - wait\n",
      "Connection broken - wait\n",
      "Connection broken - wait\n",
      "Connection broken - wait\n",
      "Connection broken - wait\n",
      "Connection broken - wait\n",
      "Connection broken - wait\n",
      "Connection broken - wait\n",
      "Connection broken - wait\n",
      "Connection broken - wait\n",
      "Connection broken - wait\n",
      "Connection broken - wait\n",
      "Connection broken - wait\n",
      "Connection broken - wait\n",
      "Connection broken - wait\n",
      "Connection broken - wait\n",
      "Connection broken - wait\n",
      "Connection broken - wait\n",
      "Connection broken - wait\n",
      "Connection broken - wait\n",
      "Connection broken - wait\n",
      "Connection broken - wait\n",
      "Connection broken - wait\n",
      "Connection broken - wait\n",
      "Connection broken - wait\n",
      "Connection broken - wait\n",
      "Connection broken - wait\n",
      "Connection broken - wait\n",
      "Connection broken - wait\n",
      "Connection broken - wait\n",
      "Connection broken - wait\n",
      "Connection broken - wait\n",
      "Connection broken - wait\n",
      "Connection broken - wait\n",
      "Connection broken - wait\n",
      "Connection broken - wait\n",
      "Connection broken - wait\n",
      "Connection broken - wait\n",
      "Connection broken - wait\n",
      "Connection broken - wait\n",
      "Connection broken - wait\n",
      "Connection broken - wait\n",
      "Connection broken - wait\n",
      "Connection broken - wait\n",
      "Connection broken - wait\n",
      "Connection broken - wait\n",
      "Connection broken - wait\n",
      "Connection broken - wait\n",
      "Connection broken - wait\n",
      "Connection broken - wait\n",
      "Connection broken - wait\n",
      "Connection broken - wait\n",
      "Connection broken - wait\n",
      "Connection broken - wait\n",
      "Connection broken - wait\n",
      "Connection broken - wait\n",
      "Connection broken - wait\n",
      "Connection broken - wait\n",
      "Connection broken - wait\n",
      "Connection broken - wait\n",
      "Connection broken - wait\n",
      "Connection broken - wait\n",
      "Connection broken - wait\n",
      "Connection broken - wait\n",
      "Connection broken - wait\n",
      "Connection broken - wait\n",
      "Connection broken - wait\n",
      "Connection broken - wait\n",
      "Connection broken - wait\n",
      "Connection broken - wait\n",
      "Connection broken - wait\n",
      "Connection broken - wait\n",
      "Connection broken - wait\n",
      "Connection broken - wait\n",
      "Connection broken - wait\n",
      "Connection broken - wait\n",
      "Connection broken - wait\n",
      "Connection broken - wait\n",
      "Connection broken - wait\n",
      "Connection broken - wait\n",
      "Connection broken - wait\n",
      "Connection broken - wait\n",
      "Connection broken - wait\n",
      "Connection broken - wait\n"
     ]
    }
   ],
   "source": [
    "list_135to145 = tmdb_getter(135001,145001)"
   ]
  },
  {
   "cell_type": "code",
   "execution_count": 175,
   "metadata": {},
   "outputs": [
    {
     "data": {
      "application/vnd.jupyter.widget-view+json": {
       "model_id": "5e16e38747ab478f86a50b99d302b548",
       "version_major": 2,
       "version_minor": 0
      },
      "text/plain": [
       "HBox(children=(IntProgress(value=0, max=75000), HTML(value='')))"
      ]
     },
     "metadata": {},
     "output_type": "display_data"
    },
    {
     "name": "stdout",
     "output_type": "stream",
     "text": [
      "Connection broken - wait\n",
      "Connection broken - wait\n",
      "Connection broken - wait\n",
      "Connection broken - wait\n",
      "Connection broken - wait\n",
      "Connection broken - wait\n",
      "Connection broken - wait\n",
      "Connection broken - wait\n",
      "Connection broken - wait\n",
      "Connection broken - wait\n",
      "Connection broken - wait\n",
      "Connection broken - wait\n",
      "Connection broken - wait\n",
      "Connection broken - wait\n",
      "Connection broken - wait\n",
      "Connection broken - wait\n",
      "Connection broken - wait\n",
      "Connection broken - wait\n",
      "Connection broken - wait\n",
      "Connection broken - wait\n",
      "Connection broken - wait\n",
      "Connection broken - wait\n",
      "Connection broken - wait\n",
      "Connection broken - wait\n",
      "Connection broken - wait\n",
      "Connection broken - wait\n",
      "Connection broken - wait\n",
      "Connection broken - wait\n",
      "Connection broken - wait\n",
      "Connection broken - wait\n",
      "Connection broken - wait\n",
      "Connection broken - wait\n",
      "Connection broken - wait\n",
      "Connection broken - wait\n",
      "Connection broken - wait\n",
      "Connection broken - wait\n",
      "Connection broken - wait\n",
      "Connection broken - wait\n",
      "Connection broken - wait\n",
      "Connection broken - wait\n",
      "Connection broken - wait\n",
      "Connection broken - wait\n",
      "Connection broken - wait\n",
      "Connection broken - wait\n",
      "Connection broken - wait\n",
      "Connection broken - wait\n",
      "Connection broken - wait\n",
      "Connection broken - wait\n",
      "Connection broken - wait\n",
      "Connection broken - wait\n",
      "Connection broken - wait\n",
      "Connection broken - wait\n",
      "Connection broken - wait\n",
      "Connection broken - wait\n",
      "Connection broken - wait\n",
      "Connection broken - wait\n",
      "Connection broken - wait\n",
      "Connection broken - wait\n",
      "Connection broken - wait\n",
      "Connection broken - wait\n",
      "Connection broken - wait\n",
      "Connection broken - wait\n",
      "Connection broken - wait\n",
      "Connection broken - wait\n",
      "Connection broken - wait\n",
      "Connection broken - wait\n",
      "Connection broken - wait\n",
      "Connection broken - wait\n",
      "Connection broken - wait\n",
      "Connection broken - wait\n",
      "Connection broken - wait\n",
      "Connection broken - wait\n",
      "Connection broken - wait\n",
      "Connection broken - wait\n",
      "Connection broken - wait\n",
      "Connection broken - wait\n",
      "Connection broken - wait\n",
      "Connection broken - wait\n",
      "Connection broken - wait\n",
      "Connection broken - wait\n",
      "Connection broken - wait\n",
      "Connection broken - wait\n",
      "Connection broken - wait\n",
      "Connection broken - wait\n",
      "Connection broken - wait\n",
      "Connection broken - wait\n",
      "Connection broken - wait\n",
      "Connection broken - wait\n",
      "Connection broken - wait\n",
      "Connection broken - wait\n",
      "Connection broken - wait\n",
      "Connection broken - wait\n",
      "Connection broken - wait\n",
      "Connection broken - wait\n",
      "Connection broken - wait\n",
      "Connection broken - wait\n",
      "Connection broken - wait\n",
      "Connection broken - wait\n",
      "Connection broken - wait\n",
      "Connection broken - wait\n",
      "Connection broken - wait\n",
      "Connection broken - wait\n",
      "Connection broken - wait\n",
      "Connection broken - wait\n",
      "Connection broken - wait\n",
      "Connection broken - wait\n",
      "Connection broken - wait\n",
      "Connection broken - wait\n",
      "Connection broken - wait\n",
      "Connection broken - wait\n",
      "Connection broken - wait\n",
      "Connection broken - wait\n",
      "Connection broken - wait\n",
      "Connection broken - wait\n",
      "Connection broken - wait\n",
      "Connection broken - wait\n",
      "Connection broken - wait\n",
      "Connection broken - wait\n",
      "Connection broken - wait\n",
      "Connection broken - wait\n",
      "Connection broken - wait\n",
      "Connection broken - wait\n",
      "Connection broken - wait\n",
      "Connection broken - wait\n",
      "Connection broken - wait\n",
      "Connection broken - wait\n",
      "Connection broken - wait\n",
      "Connection broken - wait\n",
      "Connection broken - wait\n",
      "Connection broken - wait\n",
      "Connection broken - wait\n",
      "Connection broken - wait\n",
      "Connection broken - wait\n",
      "Connection broken - wait\n",
      "Connection broken - wait\n",
      "Connection broken - wait\n",
      "Connection broken - wait\n",
      "Connection broken - wait\n",
      "Connection broken - wait\n",
      "Connection broken - wait\n",
      "Connection broken - wait\n",
      "Connection broken - wait\n",
      "Connection broken - wait\n",
      "Connection broken - wait\n",
      "Connection broken - wait\n",
      "Connection broken - wait\n",
      "Connection broken - wait\n",
      "Connection broken - wait\n",
      "Connection broken - wait\n",
      "Connection broken - wait\n",
      "Connection broken - wait\n",
      "Connection broken - wait\n",
      "Connection broken - wait\n",
      "Connection broken - wait\n",
      "Connection broken - wait\n",
      "Connection broken - wait\n",
      "Connection broken - wait\n",
      "Connection broken - wait\n",
      "Connection broken - wait\n",
      "Connection broken - wait\n",
      "Connection broken - wait\n",
      "Connection broken - wait\n",
      "Connection broken - wait\n",
      "Connection broken - wait\n",
      "Connection broken - wait\n",
      "Connection broken - wait\n",
      "Connection broken - wait\n",
      "Connection broken - wait\n",
      "Connection broken - wait\n",
      "Connection broken - wait\n",
      "Connection broken - wait\n",
      "Connection broken - wait\n",
      "Connection broken - wait\n",
      "Connection broken - wait\n",
      "Connection broken - wait\n",
      "Connection broken - wait\n",
      "Connection broken - wait\n",
      "Connection broken - wait\n",
      "Connection broken - wait\n",
      "Connection broken - wait\n",
      "Connection broken - wait\n",
      "Connection broken - wait\n",
      "Connection broken - wait\n",
      "Connection broken - wait\n",
      "Connection broken - wait\n",
      "Connection broken - wait\n",
      "Connection broken - wait\n",
      "Connection broken - wait\n",
      "Connection broken - wait\n",
      "Connection broken - wait\n",
      "Connection broken - wait\n",
      "Connection broken - wait\n",
      "Connection broken - wait\n",
      "Connection broken - wait\n",
      "Connection broken - wait\n",
      "Connection broken - wait\n",
      "Connection broken - wait\n",
      "Connection broken - wait\n",
      "Connection broken - wait\n",
      "Connection broken - wait\n",
      "Connection broken - wait\n",
      "Connection broken - wait\n",
      "Connection broken - wait\n",
      "Connection broken - wait\n",
      "Connection broken - wait\n",
      "Connection broken - wait\n",
      "Connection broken - wait\n",
      "Connection broken - wait\n",
      "Connection broken - wait\n",
      "Connection broken - wait\n",
      "Connection broken - wait\n",
      "Connection broken - wait\n",
      "Connection broken - wait\n",
      "Connection broken - wait\n",
      "Connection broken - wait\n",
      "Connection broken - wait\n",
      "Connection broken - wait\n",
      "Connection broken - wait\n",
      "Connection broken - wait\n",
      "Connection broken - wait\n",
      "Connection broken - wait\n",
      "Connection broken - wait\n",
      "Connection broken - wait\n",
      "Connection broken - wait\n",
      "Connection broken - wait\n",
      "Connection broken - wait\n",
      "Connection broken - wait\n",
      "Connection broken - wait\n",
      "Connection broken - wait\n",
      "Connection broken - wait\n",
      "Connection broken - wait\n",
      "Connection broken - wait\n",
      "Connection broken - wait\n",
      "Connection broken - wait\n",
      "Connection broken - wait\n",
      "Connection broken - wait\n",
      "Connection broken - wait\n",
      "Connection broken - wait\n",
      "Connection broken - wait\n",
      "Connection broken - wait\n",
      "Connection broken - wait\n",
      "Connection broken - wait\n",
      "Connection broken - wait\n",
      "Connection broken - wait\n",
      "Connection broken - wait\n",
      "Connection broken - wait\n",
      "Connection broken - wait\n",
      "Connection broken - wait\n",
      "Connection broken - wait\n",
      "Connection broken - wait\n",
      "Connection broken - wait\n",
      "Connection broken - wait\n",
      "Connection broken - wait\n",
      "Connection broken - wait\n",
      "Connection broken - wait\n",
      "Connection broken - wait\n",
      "Connection broken - wait\n",
      "Connection broken - wait\n",
      "Connection broken - wait\n",
      "Connection broken - wait\n",
      "Connection broken - wait\n",
      "Connection broken - wait\n",
      "Connection broken - wait\n",
      "Connection broken - wait\n",
      "Connection broken - wait\n",
      "Connection broken - wait\n",
      "Connection broken - wait\n",
      "Connection broken - wait\n",
      "Connection broken - wait\n",
      "Connection broken - wait\n",
      "Connection broken - wait\n",
      "Connection broken - wait\n",
      "Connection broken - wait\n",
      "Connection broken - wait\n",
      "Connection broken - wait\n",
      "Connection broken - wait\n",
      "Connection broken - wait\n",
      "Connection broken - wait\n",
      "Connection broken - wait\n",
      "Connection broken - wait\n",
      "Connection broken - wait\n",
      "Connection broken - wait\n",
      "Connection broken - wait\n",
      "Connection broken - wait\n",
      "Connection broken - wait\n",
      "Connection broken - wait\n",
      "Connection broken - wait\n",
      "Connection broken - wait\n",
      "Connection broken - wait\n",
      "Connection broken - wait\n",
      "Connection broken - wait\n",
      "Connection broken - wait\n",
      "Connection broken - wait\n",
      "Connection broken - wait\n",
      "Connection broken - wait\n",
      "Connection broken - wait\n",
      "Connection broken - wait\n",
      "Connection broken - wait\n",
      "Connection broken - wait\n",
      "Connection broken - wait\n",
      "Connection broken - wait\n",
      "Connection broken - wait\n",
      "Connection broken - wait\n",
      "Connection broken - wait\n",
      "Connection broken - wait\n",
      "Connection broken - wait\n",
      "Connection broken - wait\n",
      "Connection broken - wait\n",
      "Connection broken - wait\n",
      "Connection broken - wait\n",
      "Connection broken - wait\n",
      "Connection broken - wait\n",
      "Connection broken - wait\n",
      "Connection broken - wait\n",
      "Connection broken - wait\n",
      "Connection broken - wait\n",
      "Connection broken - wait\n",
      "Connection broken - wait\n",
      "Connection broken - wait\n",
      "Connection broken - wait\n",
      "Connection broken - wait\n",
      "Connection broken - wait\n",
      "Connection broken - wait\n",
      "Connection broken - wait\n",
      "Connection broken - wait\n",
      "Connection broken - wait\n",
      "Connection broken - wait\n",
      "Connection broken - wait\n"
     ]
    },
    {
     "name": "stdout",
     "output_type": "stream",
     "text": [
      "Connection broken - wait\n",
      "Connection broken - wait\n",
      "Connection broken - wait\n",
      "Connection broken - wait\n",
      "Connection broken - wait\n",
      "Connection broken - wait\n",
      "Connection broken - wait\n",
      "Connection broken - wait\n",
      "Connection broken - wait\n",
      "Connection broken - wait\n",
      "Connection broken - wait\n",
      "Connection broken - wait\n",
      "Connection broken - wait\n",
      "Connection broken - wait\n",
      "Connection broken - wait\n",
      "Connection broken - wait\n",
      "Connection broken - wait\n",
      "Connection broken - wait\n",
      "Connection broken - wait\n",
      "Connection broken - wait\n",
      "Connection broken - wait\n",
      "Connection broken - wait\n",
      "Connection broken - wait\n",
      "Connection broken - wait\n",
      "Connection broken - wait\n",
      "Connection broken - wait\n",
      "Connection broken - wait\n",
      "Connection broken - wait\n",
      "Connection broken - wait\n",
      "Connection broken - wait\n",
      "Connection broken - wait\n",
      "Connection broken - wait\n",
      "Connection broken - wait\n",
      "Connection broken - wait\n",
      "Connection broken - wait\n",
      "Connection broken - wait\n",
      "Connection broken - wait\n",
      "Connection broken - wait\n",
      "Connection broken - wait\n",
      "Connection broken - wait\n",
      "Connection broken - wait\n",
      "Connection broken - wait\n",
      "Connection broken - wait\n",
      "Connection broken - wait\n",
      "Connection broken - wait\n",
      "Connection broken - wait\n",
      "Connection broken - wait\n",
      "Connection broken - wait\n",
      "Connection broken - wait\n",
      "Connection broken - wait\n",
      "Connection broken - wait\n",
      "Connection broken - wait\n",
      "Connection broken - wait\n",
      "Connection broken - wait\n",
      "Connection broken - wait\n",
      "Connection broken - wait\n"
     ]
    }
   ],
   "source": [
    "list_145to220 = tmdb_getter(145001,220001)"
   ]
  },
  {
   "cell_type": "code",
   "execution_count": 176,
   "metadata": {},
   "outputs": [
    {
     "data": {
      "application/vnd.jupyter.widget-view+json": {
       "model_id": "0f76be7054f341f4bb3e22d6e9f46fef",
       "version_major": 2,
       "version_minor": 0
      },
      "text/plain": [
       "HBox(children=(IntProgress(value=0, max=20000), HTML(value='')))"
      ]
     },
     "metadata": {},
     "output_type": "display_data"
    },
    {
     "name": "stdout",
     "output_type": "stream",
     "text": [
      "Connection broken - wait\n",
      "Connection broken - wait\n",
      "Connection broken - wait\n",
      "Connection broken - wait\n",
      "Connection broken - wait\n",
      "Connection broken - wait\n",
      "Connection broken - wait\n",
      "Connection broken - wait\n",
      "Connection broken - wait\n",
      "Connection broken - wait\n",
      "Connection broken - wait\n",
      "Connection broken - wait\n",
      "Connection broken - wait\n",
      "Connection broken - wait\n",
      "Connection broken - wait\n",
      "Connection broken - wait\n",
      "Connection broken - wait\n",
      "Connection broken - wait\n",
      "Connection broken - wait\n",
      "Connection broken - wait\n",
      "Connection broken - wait\n",
      "Connection broken - wait\n",
      "Connection broken - wait\n",
      "Connection broken - wait\n",
      "Connection broken - wait\n",
      "Connection broken - wait\n",
      "Connection broken - wait\n",
      "Connection broken - wait\n",
      "Connection broken - wait\n",
      "Connection broken - wait\n",
      "Connection broken - wait\n",
      "Connection broken - wait\n",
      "Connection broken - wait\n",
      "Connection broken - wait\n",
      "Connection broken - wait\n",
      "Connection broken - wait\n",
      "Connection broken - wait\n",
      "Connection broken - wait\n",
      "Connection broken - wait\n",
      "Connection broken - wait\n",
      "Connection broken - wait\n",
      "Connection broken - wait\n",
      "Connection broken - wait\n",
      "Connection broken - wait\n",
      "Connection broken - wait\n",
      "Connection broken - wait\n",
      "Connection broken - wait\n",
      "Connection broken - wait\n",
      "Connection broken - wait\n",
      "Connection broken - wait\n",
      "Connection broken - wait\n",
      "Connection broken - wait\n",
      "Connection broken - wait\n",
      "Connection broken - wait\n",
      "Connection broken - wait\n",
      "Connection broken - wait\n",
      "Connection broken - wait\n",
      "Connection broken - wait\n",
      "Connection broken - wait\n",
      "Connection broken - wait\n",
      "Connection broken - wait\n",
      "Connection broken - wait\n",
      "Connection broken - wait\n",
      "Connection broken - wait\n",
      "Connection broken - wait\n",
      "Connection broken - wait\n"
     ]
    }
   ],
   "source": [
    "list_220to240 = tmdb_getter(220001,240001)"
   ]
  },
  {
   "cell_type": "code",
   "execution_count": 177,
   "metadata": {},
   "outputs": [
    {
     "data": {
      "application/vnd.jupyter.widget-view+json": {
       "model_id": "119c58c768424bf9adc7b7c0996863c4",
       "version_major": 2,
       "version_minor": 0
      },
      "text/plain": [
       "HBox(children=(IntProgress(value=0, max=10000), HTML(value='')))"
      ]
     },
     "metadata": {},
     "output_type": "display_data"
    },
    {
     "name": "stdout",
     "output_type": "stream",
     "text": [
      "Connection broken - wait\n",
      "Connection broken - wait\n",
      "Connection broken - wait\n",
      "Connection broken - wait\n",
      "Connection broken - wait\n",
      "Connection broken - wait\n",
      "Connection broken - wait\n",
      "Connection broken - wait\n",
      "Connection broken - wait\n",
      "Connection broken - wait\n",
      "Connection broken - wait\n",
      "Connection broken - wait\n",
      "Connection broken - wait\n",
      "Connection broken - wait\n",
      "Connection broken - wait\n",
      "Connection broken - wait\n",
      "Connection broken - wait\n",
      "Connection broken - wait\n",
      "Connection broken - wait\n",
      "Connection broken - wait\n",
      "Connection broken - wait\n",
      "Connection broken - wait\n",
      "Connection broken - wait\n",
      "Connection broken - wait\n"
     ]
    }
   ],
   "source": [
    "list_240to250 = tmdb_getter(240001,250001)"
   ]
  },
  {
   "cell_type": "code",
   "execution_count": 178,
   "metadata": {},
   "outputs": [
    {
     "data": {
      "text/plain": [
       "5176"
      ]
     },
     "execution_count": 178,
     "metadata": {},
     "output_type": "execute_result"
    }
   ],
   "source": [
    "len(list_240to250)"
   ]
  },
  {
   "cell_type": "code",
   "execution_count": 179,
   "metadata": {},
   "outputs": [
    {
     "data": {
      "application/vnd.jupyter.widget-view+json": {
       "model_id": "5fd193b13bc848b3ba5c4f6819ef43ae",
       "version_major": 2,
       "version_minor": 0
      },
      "text/plain": [
       "HBox(children=(IntProgress(value=0, max=75000), HTML(value='')))"
      ]
     },
     "metadata": {},
     "output_type": "display_data"
    },
    {
     "name": "stdout",
     "output_type": "stream",
     "text": [
      "Connection broken - wait\n",
      "Connection broken - wait\n",
      "Connection broken - wait\n",
      "Connection broken - wait\n",
      "Connection broken - wait\n",
      "Connection broken - wait\n"
     ]
    }
   ],
   "source": [
    "list_250to325 = tmdb_getter(250001,325001)"
   ]
  },
  {
   "cell_type": "code",
   "execution_count": 180,
   "metadata": {},
   "outputs": [
    {
     "data": {
      "application/vnd.jupyter.widget-view+json": {
       "model_id": "9fd62074a3e3446aba2535ada7750cf3",
       "version_major": 2,
       "version_minor": 0
      },
      "text/plain": [
       "HBox(children=(IntProgress(value=0, max=10000), HTML(value='')))"
      ]
     },
     "metadata": {},
     "output_type": "display_data"
    }
   ],
   "source": [
    "list_320to335 = tmdb_getter(325001,335001)"
   ]
  },
  {
   "cell_type": "code",
   "execution_count": 182,
   "metadata": {},
   "outputs": [
    {
     "data": {
      "text/plain": [
       "{'adult': False,\n",
       " 'backdrop_path': None,\n",
       " 'belongs_to_collection': None,\n",
       " 'budget': 0,\n",
       " 'genres': [],\n",
       " 'homepage': None,\n",
       " 'id': 325001,\n",
       " 'imdb_id': None,\n",
       " 'original_language': 'en',\n",
       " 'original_title': 'Captain',\n",
       " 'overview': \"Steve, mid-thirties and an unpublished author, had taken a writing class with Carl Johnson an award-winning novelist. Carl sees the potential in Steve. In writing exercises, he stuns his classmates with his wit and use of language but Carl wants more. Carl and his wife Trish are planning a trip and ask Steve if he could take care of their Chihuahua Captain. Steve says yes without hesitation, thinking it will be a good opportunity to re-establish his relationship with Carl, who three months earlier, kicked him out of class and wouldn't be allowed back until he made a commitment to becoming the best writer he could be.\",\n",
       " 'popularity': 0.6,\n",
       " 'poster_path': None,\n",
       " 'production_companies': [],\n",
       " 'production_countries': [],\n",
       " 'release_date': '2015-02-23',\n",
       " 'revenue': 0,\n",
       " 'runtime': None,\n",
       " 'spoken_languages': [],\n",
       " 'status': 'Released',\n",
       " 'tagline': '',\n",
       " 'title': 'Captain',\n",
       " 'video': False,\n",
       " 'vote_average': 0.0,\n",
       " 'vote_count': 0}"
      ]
     },
     "execution_count": 182,
     "metadata": {},
     "output_type": "execute_result"
    }
   ],
   "source": [
    "list_320to335[0]"
   ]
  },
  {
   "cell_type": "code",
   "execution_count": null,
   "metadata": {},
   "outputs": [],
   "source": []
  },
  {
   "cell_type": "code",
   "execution_count": 191,
   "metadata": {},
   "outputs": [],
   "source": [
    "list_10k.extend(list_10to20)\n",
    "list_10k.extend(list_20to50)\n",
    "list_10k.extend(list_50to60)\n",
    "list_10k.extend(list_60to135)\n",
    "list_10k.extend(list_135to145)\n",
    "list_10k.extend(list_145to220)\n",
    "list_10k.extend(list_220to240)\n",
    "list_10k.extend(list_240to250)\n",
    "list_10k.extend(list_250to325)\n",
    "list_10k.extend(list_320to335)"
   ]
  },
  {
   "cell_type": "code",
   "execution_count": 192,
   "metadata": {},
   "outputs": [
    {
     "data": {
      "text/plain": [
       "221949"
      ]
     },
     "execution_count": 192,
     "metadata": {},
     "output_type": "execute_result"
    }
   ],
   "source": [
    "len(list_10k)"
   ]
  },
  {
   "cell_type": "code",
   "execution_count": 193,
   "metadata": {},
   "outputs": [],
   "source": [
    "df_335k = pd.DataFrame.from_dict(list_10k)"
   ]
  },
  {
   "cell_type": "code",
   "execution_count": 194,
   "metadata": {},
   "outputs": [
    {
     "name": "stdout",
     "output_type": "stream",
     "text": [
      "<class 'pandas.core.frame.DataFrame'>\n",
      "RangeIndex: 221949 entries, 0 to 221948\n",
      "Data columns (total 25 columns):\n",
      "adult                    221949 non-null bool\n",
      "backdrop_path            101898 non-null object\n",
      "belongs_to_collection    9242 non-null object\n",
      "budget                   221949 non-null int64\n",
      "genres                   221949 non-null object\n",
      "homepage                 23632 non-null object\n",
      "id                       221949 non-null int64\n",
      "imdb_id                  210466 non-null object\n",
      "original_language        221949 non-null object\n",
      "original_title           221949 non-null object\n",
      "overview                 221948 non-null object\n",
      "popularity               221949 non-null float64\n",
      "poster_path              190233 non-null object\n",
      "production_companies     221949 non-null object\n",
      "production_countries     221949 non-null object\n",
      "release_date             221949 non-null object\n",
      "revenue                  221949 non-null int64\n",
      "runtime                  168114 non-null float64\n",
      "spoken_languages         221949 non-null object\n",
      "status                   221949 non-null object\n",
      "tagline                  221949 non-null object\n",
      "title                    221949 non-null object\n",
      "video                    221949 non-null bool\n",
      "vote_average             221949 non-null float64\n",
      "vote_count               221949 non-null int64\n",
      "dtypes: bool(2), float64(3), int64(4), object(16)\n",
      "memory usage: 39.4+ MB\n"
     ]
    }
   ],
   "source": [
    "df_335k.info()"
   ]
  },
  {
   "cell_type": "code",
   "execution_count": 195,
   "metadata": {},
   "outputs": [],
   "source": [
    "df_335k.to_csv('335k.csv')"
   ]
  },
  {
   "cell_type": "code",
   "execution_count": 10,
   "metadata": {},
   "outputs": [
    {
     "data": {
      "application/vnd.jupyter.widget-view+json": {
       "model_id": "fe950024e4754a1eaf0304f389a2484d",
       "version_major": 2,
       "version_minor": 0
      },
      "text/plain": [
       "HBox(children=(IntProgress(value=0, max=25000), HTML(value='')))"
      ]
     },
     "metadata": {},
     "output_type": "display_data"
    },
    {
     "name": "stdout",
     "output_type": "stream",
     "text": [
      "\n"
     ]
    }
   ],
   "source": [
    "list_335to360 = tmdb_getter(335001,360001)"
   ]
  },
  {
   "cell_type": "code",
   "execution_count": null,
   "metadata": {},
   "outputs": [],
   "source": []
  },
  {
   "cell_type": "code",
   "execution_count": null,
   "metadata": {},
   "outputs": [],
   "source": []
  },
  {
   "cell_type": "code",
   "execution_count": null,
   "metadata": {},
   "outputs": [],
   "source": []
  },
  {
   "cell_type": "code",
   "execution_count": null,
   "metadata": {},
   "outputs": [],
   "source": [
    "with open('tmdb_0to335k.pickle', 'wb') as f:\n",
    "    pickle.dump(list_10k,f)\n",
    "    pickle.dump(list_10to20,f)\n",
    "    pickle.dump(list_20to50,f)\n",
    "    pickle.dump(list_50to60,f)\n",
    "    pickle.dump(list_60to135,f)\n",
    "    pickle.dump(list_135to145,f)\n",
    "    pickle.dump(list_145to220,f)\n",
    "    pickle.dump(list_220to240,f)\n",
    "    pickle.dump(list_240to250,f)\n",
    "    pickle.dump(list_250to325,f)\n",
    "    list_320to335"
   ]
  }
 ],
 "metadata": {
  "kernelspec": {
   "display_name": "Python 3",
   "language": "python",
   "name": "python3"
  },
  "language_info": {
   "codemirror_mode": {
    "name": "ipython",
    "version": 3
   },
   "file_extension": ".py",
   "mimetype": "text/x-python",
   "name": "python",
   "nbconvert_exporter": "python",
   "pygments_lexer": "ipython3",
   "version": "3.7.1"
  }
 },
 "nbformat": 4,
 "nbformat_minor": 2
}
