{
 "cells": [
  {
   "cell_type": "markdown",
   "metadata": {},
   "source": [
    "MVP: Recommendation System\n",
    "   - Item based. \n",
    "   - Model based. \n",
    "   - Collaborative. \n",
    "   - Evaluate with RMSE. \n",
    "   - Input is a good/bad movie.\n",
    "   \n",
    "   Content based recommendations:\n",
    "    - Items are the movies.\n",
    "    - Attributes can be score distribution, genome tags,"
   ]
  },
  {
   "cell_type": "code",
   "execution_count": 2,
   "metadata": {},
   "outputs": [
    {
     "name": "stdout",
     "output_type": "stream",
     "text": [
      "Requirement already satisfied: tmdbsimple in /anaconda3/lib/python3.7/site-packages (2.2.0)\n",
      "Requirement already satisfied: requests in /anaconda3/lib/python3.7/site-packages (from tmdbsimple) (2.21.0)\n",
      "Requirement already satisfied: idna<2.9,>=2.5 in /anaconda3/lib/python3.7/site-packages (from requests->tmdbsimple) (2.8)\n",
      "Requirement already satisfied: urllib3<1.25,>=1.21.1 in /anaconda3/lib/python3.7/site-packages (from requests->tmdbsimple) (1.24.1)\n",
      "Requirement already satisfied: chardet<3.1.0,>=3.0.2 in /anaconda3/lib/python3.7/site-packages (from requests->tmdbsimple) (3.0.4)\n",
      "Requirement already satisfied: certifi>=2017.4.17 in /anaconda3/lib/python3.7/site-packages (from requests->tmdbsimple) (2018.11.29)\n"
     ]
    }
   ],
   "source": [
    "!pip install tmdbsimple"
   ]
  },
  {
   "cell_type": "code",
   "execution_count": 2,
   "metadata": {},
   "outputs": [],
   "source": [
    "import requests\n",
    "import pandas as pd\n",
    "import time\n",
    "import tmdbsimple as tmdb"
   ]
  },
  {
   "cell_type": "code",
   "execution_count": 3,
   "metadata": {},
   "outputs": [],
   "source": [
    "from tqdm import tqdm_notebook as tqdm\n"
   ]
  },
  {
   "cell_type": "code",
   "execution_count": 4,
   "metadata": {},
   "outputs": [],
   "source": [
    "pd.set_option('display.max_columns',300)\n",
    "pd.set_option('display.max_rows',300)"
   ]
  },
  {
   "cell_type": "code",
   "execution_count": 5,
   "metadata": {},
   "outputs": [],
   "source": [
    "tmdb.API_KEY = '609bfa19cbc6d10450102037baa49767'"
   ]
  },
  {
   "cell_type": "code",
   "execution_count": 6,
   "metadata": {},
   "outputs": [
    {
     "data": {
      "text/plain": [
       "<Response [200]>"
      ]
     },
     "execution_count": 6,
     "metadata": {},
     "output_type": "execute_result"
    }
   ],
   "source": [
    "r = requests.get('http://www.omdbapi.com/?type=tvEpisode&i=tt0105643&apikey=1dcae6cc')\n",
    "r"
   ]
  },
  {
   "cell_type": "code",
   "execution_count": 53,
   "metadata": {},
   "outputs": [
    {
     "data": {
      "text/plain": [
       "200"
      ]
     },
     "execution_count": 53,
     "metadata": {},
     "output_type": "execute_result"
    }
   ],
   "source": [
    "r.status_code"
   ]
  },
  {
   "cell_type": "code",
   "execution_count": 100,
   "metadata": {},
   "outputs": [
    {
     "name": "stdout",
     "output_type": "stream",
     "text": [
      "<class 'str'>\n"
     ]
    },
    {
     "data": {
      "text/plain": [
       "str"
      ]
     },
     "execution_count": 100,
     "metadata": {},
     "output_type": "execute_result"
    }
   ],
   "source": [
    "print(type(r.text))\n",
    "type(r.text)"
   ]
  },
  {
   "cell_type": "code",
   "execution_count": null,
   "metadata": {},
   "outputs": [],
   "source": [
    "url = 'http://www.omdbapi.com/?i={}&apikey=1dcae6cc'.format()\n",
    "    "
   ]
  },
  {
   "cell_type": "code",
   "execution_count": 113,
   "metadata": {},
   "outputs": [
    {
     "data": {
      "text/plain": [
       "'{\"status_code\":34,\"status_message\":\"The resource you requested could not be found.\"}'"
      ]
     },
     "execution_count": 113,
     "metadata": {},
     "output_type": "execute_result"
    }
   ],
   "source": [
    "r = requests.get('https://api.themoviedb.org/3/movie/' + str(23) + '?api_key=609bfa19cbc6d10450102037baa49767')\n",
    "r.text"
   ]
  },
  {
   "cell_type": "code",
   "execution_count": 64,
   "metadata": {},
   "outputs": [
    {
     "data": {
      "text/plain": [
       "<tmdbsimple.movies.Movies at 0x11cf19320>"
      ]
     },
     "execution_count": 64,
     "metadata": {},
     "output_type": "execute_result"
    }
   ],
   "source": [
    "test_movie = tmdb.Movies('latest')\n",
    "test_movie"
   ]
  },
  {
   "cell_type": "code",
   "execution_count": 65,
   "metadata": {},
   "outputs": [],
   "source": [
    "resp = test_movie.info()"
   ]
  },
  {
   "cell_type": "code",
   "execution_count": 66,
   "metadata": {},
   "outputs": [
    {
     "data": {
      "text/plain": [
       "dict"
      ]
     },
     "execution_count": 66,
     "metadata": {},
     "output_type": "execute_result"
    }
   ],
   "source": [
    "type(resp)"
   ]
  },
  {
   "cell_type": "code",
   "execution_count": 67,
   "metadata": {},
   "outputs": [
    {
     "data": {
      "text/plain": [
       "{'adult': False,\n",
       " 'backdrop_path': None,\n",
       " 'belongs_to_collection': None,\n",
       " 'budget': 0,\n",
       " 'genres': [],\n",
       " 'homepage': None,\n",
       " 'id': 614500,\n",
       " 'imdb_id': 'tt0015462',\n",
       " 'original_language': 'en',\n",
       " 'original_title': 'Virginian Outcast',\n",
       " 'overview': '',\n",
       " 'popularity': 0.0,\n",
       " 'poster_path': None,\n",
       " 'production_companies': [],\n",
       " 'production_countries': [],\n",
       " 'release_date': '',\n",
       " 'revenue': 0,\n",
       " 'runtime': None,\n",
       " 'spoken_languages': [],\n",
       " 'status': 'Released',\n",
       " 'tagline': '',\n",
       " 'title': 'Virginian Outcast',\n",
       " 'video': False,\n",
       " 'vote_average': 0.0,\n",
       " 'vote_count': 0}"
      ]
     },
     "execution_count": 67,
     "metadata": {},
     "output_type": "execute_result"
    }
   ],
   "source": [
    "resp"
   ]
  },
  {
   "cell_type": "code",
   "execution_count": null,
   "metadata": {},
   "outputs": [],
   "source": [
    "614497"
   ]
  },
  {
   "cell_type": "code",
   "execution_count": 8,
   "metadata": {},
   "outputs": [],
   "source": [
    "from requests.packages.urllib3.util.retry import Retry"
   ]
  },
  {
   "cell_type": "code",
   "execution_count": 9,
   "metadata": {},
   "outputs": [],
   "source": [
    "def tmdb_getter(start,stop):\n",
    "    movie_list = []\n",
    "    for movie in tqdm(range(start,stop)):\n",
    "        r = requests.get('https://api.themoviedb.org/3/movie/' + str(movie) + '?api_key=609bfa19cbc6d10450102037baa49767')\n",
    "        if r.status_code == 200:\n",
    "            info = r.json()\n",
    "            movie_list.append(info)\n",
    "            time.sleep(.25)\n",
    "        elif r.status_code == 429:\n",
    "            print('Connection broken - wait')\n",
    "            time.sleep(10)\n",
    "            continue\n",
    "        else:\n",
    "            continue\n",
    "        \n",
    "    return movie_list\n",
    "    \n",
    "    "
   ]
  },
  {
   "cell_type": "code",
   "execution_count": 148,
   "metadata": {
    "scrolled": true
   },
   "outputs": [
    {
     "data": {
      "application/vnd.jupyter.widget-view+json": {
       "model_id": "83ba1ebcfa624330b63b4e82cb585237",
       "version_major": 2,
       "version_minor": 0
      },
      "text/plain": [
       "HBox(children=(IntProgress(value=0, max=10000), HTML(value='')))"
      ]
     },
     "metadata": {},
     "output_type": "display_data"
    },
    {
     "ename": "NameError",
     "evalue": "name 'Retry' is not defined",
     "output_type": "error",
     "traceback": [
      "\u001b[0;31m---------------------------------------------------------------------------\u001b[0m",
      "\u001b[0;31mNameError\u001b[0m                                 Traceback (most recent call last)",
      "\u001b[0;32m<ipython-input-148-ff17dca89cf3>\u001b[0m in \u001b[0;36m<module>\u001b[0;34m\u001b[0m\n\u001b[0;32m----> 1\u001b[0;31m \u001b[0mlist_10k\u001b[0m \u001b[0;34m=\u001b[0m \u001b[0mtmdb_getter\u001b[0m\u001b[0;34m(\u001b[0m\u001b[0;36m1\u001b[0m\u001b[0;34m,\u001b[0m\u001b[0;36m10001\u001b[0m\u001b[0;34m)\u001b[0m\u001b[0;34m\u001b[0m\u001b[0;34m\u001b[0m\u001b[0m\n\u001b[0m",
      "\u001b[0;32m<ipython-input-147-fa3e70b2b776>\u001b[0m in \u001b[0;36mtmdb_getter\u001b[0;34m(start, stop)\u001b[0m\n\u001b[1;32m      2\u001b[0m     \u001b[0mmovie_list\u001b[0m \u001b[0;34m=\u001b[0m \u001b[0;34m[\u001b[0m\u001b[0;34m]\u001b[0m\u001b[0;34m\u001b[0m\u001b[0;34m\u001b[0m\u001b[0m\n\u001b[1;32m      3\u001b[0m     \u001b[0;32mfor\u001b[0m \u001b[0mmovie\u001b[0m \u001b[0;32min\u001b[0m \u001b[0mtqdm\u001b[0m\u001b[0;34m(\u001b[0m\u001b[0mrange\u001b[0m\u001b[0;34m(\u001b[0m\u001b[0mstart\u001b[0m\u001b[0;34m,\u001b[0m\u001b[0mstop\u001b[0m\u001b[0;34m)\u001b[0m\u001b[0;34m)\u001b[0m\u001b[0;34m:\u001b[0m\u001b[0;34m\u001b[0m\u001b[0;34m\u001b[0m\u001b[0m\n\u001b[0;32m----> 4\u001b[0;31m         \u001b[0mr\u001b[0m \u001b[0;34m=\u001b[0m \u001b[0mrequests\u001b[0m\u001b[0;34m.\u001b[0m\u001b[0mget\u001b[0m\u001b[0;34m(\u001b[0m\u001b[0;34m'https://api.themoviedb.org/3/movie/'\u001b[0m \u001b[0;34m+\u001b[0m \u001b[0mstr\u001b[0m\u001b[0;34m(\u001b[0m\u001b[0mmovie\u001b[0m\u001b[0;34m)\u001b[0m \u001b[0;34m+\u001b[0m \u001b[0;34m'?api_key=609bfa19cbc6d10450102037baa49767'\u001b[0m\u001b[0;34m,\u001b[0m \u001b[0mretries\u001b[0m\u001b[0;34m=\u001b[0m\u001b[0mRetry\u001b[0m\u001b[0;34m(\u001b[0m\u001b[0;36m10\u001b[0m\u001b[0;34m)\u001b[0m\u001b[0;34m)\u001b[0m\u001b[0;34m\u001b[0m\u001b[0;34m\u001b[0m\u001b[0m\n\u001b[0m\u001b[1;32m      5\u001b[0m         \u001b[0;32mif\u001b[0m \u001b[0mr\u001b[0m\u001b[0;34m.\u001b[0m\u001b[0mstatus_code\u001b[0m \u001b[0;34m==\u001b[0m \u001b[0;36m200\u001b[0m\u001b[0;34m:\u001b[0m\u001b[0;34m\u001b[0m\u001b[0;34m\u001b[0m\u001b[0m\n\u001b[1;32m      6\u001b[0m             \u001b[0minfo\u001b[0m \u001b[0;34m=\u001b[0m \u001b[0mr\u001b[0m\u001b[0;34m.\u001b[0m\u001b[0mjson\u001b[0m\u001b[0;34m(\u001b[0m\u001b[0;34m)\u001b[0m\u001b[0;34m\u001b[0m\u001b[0;34m\u001b[0m\u001b[0m\n",
      "\u001b[0;31mNameError\u001b[0m: name 'Retry' is not defined"
     ]
    }
   ],
   "source": [
    "list_10k = tmdb_getter(1,10001)"
   ]
  },
  {
   "cell_type": "code",
   "execution_count": 149,
   "metadata": {},
   "outputs": [
    {
     "data": {
      "text/plain": [
       "4768"
      ]
     },
     "execution_count": 149,
     "metadata": {},
     "output_type": "execute_result"
    }
   ],
   "source": [
    "len(list_10k)"
   ]
  },
  {
   "cell_type": "code",
   "execution_count": 143,
   "metadata": {},
   "outputs": [
    {
     "data": {
      "application/vnd.jupyter.widget-view+json": {
       "model_id": "3538d5559a4d49dc8428643a9867a7e3",
       "version_major": 2,
       "version_minor": 0
      },
      "text/plain": [
       "HBox(children=(IntProgress(value=0, max=10000), HTML(value='')))"
      ]
     },
     "metadata": {},
     "output_type": "display_data"
    }
   ],
   "source": [
    "list_10to20 = tmdb_getter(10001,20001)"
   ]
  },
  {
   "cell_type": "code",
   "execution_count": 144,
   "metadata": {},
   "outputs": [
    {
     "data": {
      "text/plain": [
       "6647"
      ]
     },
     "execution_count": 144,
     "metadata": {},
     "output_type": "execute_result"
    }
   ],
   "source": [
    "len(list_10to20)"
   ]
  },
  {
   "cell_type": "code",
   "execution_count": 156,
   "metadata": {
    "scrolled": false
   },
   "outputs": [
    {
     "data": {
      "application/vnd.jupyter.widget-view+json": {
       "model_id": "876164e764b44bd5a818804cef63d568",
       "version_major": 2,
       "version_minor": 0
      },
      "text/plain": [
       "HBox(children=(IntProgress(value=0, max=30000), HTML(value='')))"
      ]
     },
     "metadata": {},
     "output_type": "display_data"
    },
    {
     "name": "stdout",
     "output_type": "stream",
     "text": [
      "Connection broken - wait\n",
      "Connection broken - wait\n",
      "Connection broken - wait\n",
      "Connection broken - wait\n",
      "Connection broken - wait\n",
      "Connection broken - wait\n",
      "Connection broken - wait\n",
      "Connection broken - wait\n",
      "Connection broken - wait\n",
      "Connection broken - wait\n",
      "Connection broken - wait\n",
      "Connection broken - wait\n",
      "Connection broken - wait\n",
      "Connection broken - wait\n",
      "Connection broken - wait\n",
      "Connection broken - wait\n",
      "Connection broken - wait\n",
      "Connection broken - wait\n",
      "Connection broken - wait\n",
      "Connection broken - wait\n",
      "Connection broken - wait\n",
      "Connection broken - wait\n",
      "Connection broken - wait\n",
      "Connection broken - wait\n",
      "Connection broken - wait\n",
      "Connection broken - wait\n",
      "Connection broken - wait\n",
      "Connection broken - wait\n",
      "Connection broken - wait\n",
      "Connection broken - wait\n",
      "Connection broken - wait\n",
      "Connection broken - wait\n",
      "Connection broken - wait\n",
      "Connection broken - wait\n",
      "Connection broken - wait\n",
      "Connection broken - wait\n",
      "Connection broken - wait\n",
      "Connection broken - wait\n",
      "Connection broken - wait\n",
      "Connection broken - wait\n",
      "Connection broken - wait\n",
      "Connection broken - wait\n",
      "Connection broken - wait\n",
      "Connection broken - wait\n",
      "Connection broken - wait\n",
      "Connection broken - wait\n",
      "Connection broken - wait\n",
      "Connection broken - wait\n",
      "Connection broken - wait\n",
      "Connection broken - wait\n",
      "Connection broken - wait\n",
      "Connection broken - wait\n",
      "Connection broken - wait\n",
      "Connection broken - wait\n",
      "Connection broken - wait\n",
      "Connection broken - wait\n",
      "Connection broken - wait\n",
      "Connection broken - wait\n",
      "Connection broken - wait\n",
      "Connection broken - wait\n",
      "Connection broken - wait\n",
      "Connection broken - wait\n",
      "Connection broken - wait\n",
      "Connection broken - wait\n",
      "Connection broken - wait\n",
      "Connection broken - wait\n",
      "Connection broken - wait\n",
      "Connection broken - wait\n",
      "Connection broken - wait\n",
      "Connection broken - wait\n",
      "Connection broken - wait\n",
      "Connection broken - wait\n",
      "Connection broken - wait\n",
      "Connection broken - wait\n",
      "Connection broken - wait\n",
      "Connection broken - wait\n",
      "Connection broken - wait\n",
      "Connection broken - wait\n",
      "Connection broken - wait\n",
      "Connection broken - wait\n",
      "Connection broken - wait\n",
      "Connection broken - wait\n",
      "Connection broken - wait\n",
      "Connection broken - wait\n"
     ]
    }
   ],
   "source": [
    "list_20to50 = tmdb_getter(20001,50001)"
   ]
  },
  {
   "cell_type": "code",
   "execution_count": 160,
   "metadata": {},
   "outputs": [
    {
     "data": {
      "text/plain": [
       "22321"
      ]
     },
     "execution_count": 160,
     "metadata": {},
     "output_type": "execute_result"
    }
   ],
   "source": [
    "len(list_20to50)"
   ]
  },
  {
   "cell_type": "code",
   "execution_count": 161,
   "metadata": {},
   "outputs": [
    {
     "data": {
      "application/vnd.jupyter.widget-view+json": {
       "model_id": "295efb0e4f1444d3a5c7277315038887",
       "version_major": 2,
       "version_minor": 0
      },
      "text/plain": [
       "HBox(children=(IntProgress(value=0, max=10000), HTML(value='')))"
      ]
     },
     "metadata": {},
     "output_type": "display_data"
    },
    {
     "name": "stdout",
     "output_type": "stream",
     "text": [
      "Connection broken - wait\n",
      "Connection broken - wait\n",
      "Connection broken - wait\n",
      "Connection broken - wait\n",
      "Connection broken - wait\n",
      "Connection broken - wait\n",
      "Connection broken - wait\n",
      "Connection broken - wait\n",
      "Connection broken - wait\n"
     ]
    }
   ],
   "source": [
    "list_50to60 = tmdb_getter(50001,60001)"
   ]
  },
  {
   "cell_type": "code",
   "execution_count": 170,
   "metadata": {},
   "outputs": [
    {
     "data": {
      "text/plain": [
       "{'adult': False,\n",
       " 'backdrop_path': '/fcSzcMFx40gSr19cNdPz0G7YIs9.jpg',\n",
       " 'belongs_to_collection': None,\n",
       " 'budget': 5500000,\n",
       " 'genres': [{'id': 28, 'name': 'Action'}, {'id': 16, 'name': 'Animation'}],\n",
       " 'homepage': None,\n",
       " 'id': 50007,\n",
       " 'imdb_id': 'tt0446701',\n",
       " 'original_language': 'ja',\n",
       " 'original_title': 'Gisaku',\n",
       " 'overview': 'The adventures of a young Japanese samurai named Yohei who visited Spain in the 17th century, in a story loosely taking its inspiration from the travels of historic samurai Hasekura. Yohei survived in hiding to the present day due to magical powers, and accomplishes many adventures in modern Spain as a superhero.',\n",
       " 'popularity': 0.787,\n",
       " 'poster_path': '/fFKP17sosqcZreGndEOVm4cC6S9.jpg',\n",
       " 'production_companies': [{'id': 3631,\n",
       "   'logo_path': None,\n",
       "   'name': 'Filmax',\n",
       "   'origin_country': ''}],\n",
       " 'production_countries': [{'iso_3166_1': 'ES', 'name': 'Spain'}],\n",
       " 'release_date': '2005-03-04',\n",
       " 'revenue': 0,\n",
       " 'runtime': 78,\n",
       " 'spoken_languages': [{'iso_639_1': 'es', 'name': 'Español'},\n",
       "  {'iso_639_1': 'en', 'name': 'English'},\n",
       "  {'iso_639_1': 'ja', 'name': '日本語'}],\n",
       " 'status': 'Released',\n",
       " 'tagline': 'A legendary key. A samurai lost in time. A world to save.',\n",
       " 'title': 'Gisaku',\n",
       " 'video': False,\n",
       " 'vote_average': 5.0,\n",
       " 'vote_count': 3}"
      ]
     },
     "execution_count": 170,
     "metadata": {},
     "output_type": "execute_result"
    }
   ],
   "source": [
    "list_50to60[6]"
   ]
  },
  {
   "cell_type": "code",
   "execution_count": 171,
   "metadata": {},
   "outputs": [
    {
     "data": {
      "application/vnd.jupyter.widget-view+json": {
       "model_id": "b77ac55bd60947059800b08ef607b2a8",
       "version_major": 2,
       "version_minor": 0
      },
      "text/plain": [
       "HBox(children=(IntProgress(value=0, max=75000), HTML(value='')))"
      ]
     },
     "metadata": {},
     "output_type": "display_data"
    },
    {
     "name": "stdout",
     "output_type": "stream",
     "text": [
      "Connection broken - wait\n",
      "Connection broken - wait\n",
      "Connection broken - wait\n",
      "Connection broken - wait\n",
      "Connection broken - wait\n",
      "Connection broken - wait\n",
      "Connection broken - wait\n",
      "Connection broken - wait\n",
      "Connection broken - wait\n",
      "Connection broken - wait\n",
      "Connection broken - wait\n",
      "Connection broken - wait\n",
      "Connection broken - wait\n",
      "Connection broken - wait\n",
      "Connection broken - wait\n",
      "Connection broken - wait\n",
      "Connection broken - wait\n",
      "Connection broken - wait\n",
      "Connection broken - wait\n",
      "Connection broken - wait\n",
      "Connection broken - wait\n",
      "Connection broken - wait\n",
      "Connection broken - wait\n",
      "Connection broken - wait\n",
      "Connection broken - wait\n",
      "Connection broken - wait\n",
      "Connection broken - wait\n",
      "Connection broken - wait\n",
      "Connection broken - wait\n",
      "Connection broken - wait\n",
      "Connection broken - wait\n",
      "Connection broken - wait\n",
      "Connection broken - wait\n",
      "Connection broken - wait\n",
      "Connection broken - wait\n",
      "Connection broken - wait\n",
      "Connection broken - wait\n",
      "Connection broken - wait\n",
      "Connection broken - wait\n",
      "Connection broken - wait\n",
      "Connection broken - wait\n",
      "Connection broken - wait\n",
      "Connection broken - wait\n",
      "Connection broken - wait\n",
      "Connection broken - wait\n",
      "Connection broken - wait\n",
      "Connection broken - wait\n",
      "Connection broken - wait\n",
      "Connection broken - wait\n",
      "Connection broken - wait\n",
      "Connection broken - wait\n",
      "Connection broken - wait\n",
      "Connection broken - wait\n",
      "Connection broken - wait\n",
      "Connection broken - wait\n",
      "Connection broken - wait\n",
      "Connection broken - wait\n",
      "Connection broken - wait\n",
      "Connection broken - wait\n",
      "Connection broken - wait\n",
      "Connection broken - wait\n",
      "Connection broken - wait\n",
      "Connection broken - wait\n",
      "Connection broken - wait\n",
      "Connection broken - wait\n",
      "Connection broken - wait\n",
      "Connection broken - wait\n",
      "Connection broken - wait\n",
      "Connection broken - wait\n",
      "Connection broken - wait\n",
      "Connection broken - wait\n",
      "Connection broken - wait\n",
      "Connection broken - wait\n",
      "Connection broken - wait\n",
      "Connection broken - wait\n",
      "Connection broken - wait\n",
      "Connection broken - wait\n",
      "Connection broken - wait\n",
      "Connection broken - wait\n",
      "Connection broken - wait\n",
      "Connection broken - wait\n",
      "Connection broken - wait\n",
      "Connection broken - wait\n",
      "Connection broken - wait\n",
      "Connection broken - wait\n",
      "Connection broken - wait\n",
      "Connection broken - wait\n",
      "Connection broken - wait\n",
      "Connection broken - wait\n",
      "Connection broken - wait\n",
      "Connection broken - wait\n",
      "Connection broken - wait\n",
      "Connection broken - wait\n",
      "Connection broken - wait\n",
      "Connection broken - wait\n",
      "Connection broken - wait\n",
      "Connection broken - wait\n",
      "Connection broken - wait\n",
      "Connection broken - wait\n",
      "Connection broken - wait\n",
      "Connection broken - wait\n",
      "Connection broken - wait\n",
      "Connection broken - wait\n",
      "Connection broken - wait\n",
      "Connection broken - wait\n",
      "Connection broken - wait\n",
      "Connection broken - wait\n",
      "Connection broken - wait\n",
      "Connection broken - wait\n",
      "Connection broken - wait\n",
      "Connection broken - wait\n",
      "Connection broken - wait\n",
      "Connection broken - wait\n",
      "Connection broken - wait\n",
      "Connection broken - wait\n",
      "Connection broken - wait\n",
      "Connection broken - wait\n",
      "Connection broken - wait\n",
      "Connection broken - wait\n",
      "Connection broken - wait\n",
      "Connection broken - wait\n",
      "Connection broken - wait\n",
      "Connection broken - wait\n",
      "Connection broken - wait\n",
      "Connection broken - wait\n",
      "Connection broken - wait\n",
      "Connection broken - wait\n",
      "Connection broken - wait\n",
      "Connection broken - wait\n",
      "Connection broken - wait\n",
      "Connection broken - wait\n",
      "Connection broken - wait\n",
      "Connection broken - wait\n",
      "Connection broken - wait\n",
      "Connection broken - wait\n",
      "Connection broken - wait\n",
      "Connection broken - wait\n",
      "Connection broken - wait\n",
      "Connection broken - wait\n",
      "Connection broken - wait\n",
      "Connection broken - wait\n",
      "Connection broken - wait\n",
      "Connection broken - wait\n",
      "Connection broken - wait\n",
      "Connection broken - wait\n",
      "Connection broken - wait\n",
      "Connection broken - wait\n",
      "Connection broken - wait\n",
      "Connection broken - wait\n",
      "Connection broken - wait\n",
      "Connection broken - wait\n",
      "Connection broken - wait\n",
      "Connection broken - wait\n",
      "Connection broken - wait\n",
      "Connection broken - wait\n",
      "Connection broken - wait\n",
      "Connection broken - wait\n",
      "Connection broken - wait\n",
      "Connection broken - wait\n",
      "Connection broken - wait\n",
      "Connection broken - wait\n",
      "Connection broken - wait\n",
      "Connection broken - wait\n",
      "Connection broken - wait\n",
      "Connection broken - wait\n",
      "Connection broken - wait\n",
      "Connection broken - wait\n",
      "Connection broken - wait\n",
      "Connection broken - wait\n",
      "Connection broken - wait\n",
      "Connection broken - wait\n",
      "Connection broken - wait\n",
      "Connection broken - wait\n",
      "Connection broken - wait\n",
      "Connection broken - wait\n",
      "Connection broken - wait\n",
      "Connection broken - wait\n",
      "Connection broken - wait\n",
      "Connection broken - wait\n",
      "Connection broken - wait\n",
      "Connection broken - wait\n",
      "Connection broken - wait\n",
      "Connection broken - wait\n",
      "Connection broken - wait\n",
      "Connection broken - wait\n",
      "Connection broken - wait\n",
      "Connection broken - wait\n",
      "Connection broken - wait\n",
      "Connection broken - wait\n",
      "Connection broken - wait\n",
      "Connection broken - wait\n",
      "Connection broken - wait\n",
      "Connection broken - wait\n",
      "Connection broken - wait\n",
      "Connection broken - wait\n",
      "Connection broken - wait\n",
      "Connection broken - wait\n",
      "Connection broken - wait\n",
      "Connection broken - wait\n",
      "Connection broken - wait\n",
      "Connection broken - wait\n",
      "Connection broken - wait\n",
      "Connection broken - wait\n",
      "Connection broken - wait\n",
      "Connection broken - wait\n",
      "Connection broken - wait\n",
      "Connection broken - wait\n",
      "Connection broken - wait\n",
      "Connection broken - wait\n",
      "Connection broken - wait\n",
      "Connection broken - wait\n",
      "Connection broken - wait\n",
      "Connection broken - wait\n",
      "Connection broken - wait\n",
      "Connection broken - wait\n",
      "Connection broken - wait\n",
      "Connection broken - wait\n",
      "Connection broken - wait\n",
      "Connection broken - wait\n",
      "Connection broken - wait\n",
      "Connection broken - wait\n",
      "Connection broken - wait\n",
      "Connection broken - wait\n",
      "Connection broken - wait\n",
      "Connection broken - wait\n",
      "Connection broken - wait\n",
      "Connection broken - wait\n",
      "Connection broken - wait\n",
      "Connection broken - wait\n",
      "Connection broken - wait\n",
      "Connection broken - wait\n",
      "Connection broken - wait\n",
      "Connection broken - wait\n",
      "Connection broken - wait\n",
      "Connection broken - wait\n"
     ]
    }
   ],
   "source": [
    "list_60to135 = tmdb_getter(60001,135001)"
   ]
  },
  {
   "cell_type": "code",
   "execution_count": 172,
   "metadata": {},
   "outputs": [
    {
     "data": {
      "text/plain": [
       "47108"
      ]
     },
     "execution_count": 172,
     "metadata": {},
     "output_type": "execute_result"
    }
   ],
   "source": [
    "len(list_60to135)"
   ]
  },
  {
   "cell_type": "code",
   "execution_count": 174,
   "metadata": {},
   "outputs": [
    {
     "data": {
      "application/vnd.jupyter.widget-view+json": {
       "model_id": "f927d9589c174920882760164a6eb70f",
       "version_major": 2,
       "version_minor": 0
      },
      "text/plain": [
       "HBox(children=(IntProgress(value=0, max=10000), HTML(value='')))"
      ]
     },
     "metadata": {},
     "output_type": "display_data"
    },
    {
     "name": "stdout",
     "output_type": "stream",
     "text": [
      "Connection broken - wait\n",
      "Connection broken - wait\n",
      "Connection broken - wait\n",
      "Connection broken - wait\n",
      "Connection broken - wait\n",
      "Connection broken - wait\n",
      "Connection broken - wait\n",
      "Connection broken - wait\n",
      "Connection broken - wait\n",
      "Connection broken - wait\n",
      "Connection broken - wait\n",
      "Connection broken - wait\n",
      "Connection broken - wait\n",
      "Connection broken - wait\n",
      "Connection broken - wait\n",
      "Connection broken - wait\n",
      "Connection broken - wait\n",
      "Connection broken - wait\n",
      "Connection broken - wait\n",
      "Connection broken - wait\n",
      "Connection broken - wait\n",
      "Connection broken - wait\n",
      "Connection broken - wait\n",
      "Connection broken - wait\n",
      "Connection broken - wait\n",
      "Connection broken - wait\n",
      "Connection broken - wait\n",
      "Connection broken - wait\n",
      "Connection broken - wait\n",
      "Connection broken - wait\n",
      "Connection broken - wait\n",
      "Connection broken - wait\n",
      "Connection broken - wait\n",
      "Connection broken - wait\n",
      "Connection broken - wait\n",
      "Connection broken - wait\n",
      "Connection broken - wait\n",
      "Connection broken - wait\n",
      "Connection broken - wait\n",
      "Connection broken - wait\n",
      "Connection broken - wait\n",
      "Connection broken - wait\n",
      "Connection broken - wait\n",
      "Connection broken - wait\n",
      "Connection broken - wait\n",
      "Connection broken - wait\n",
      "Connection broken - wait\n",
      "Connection broken - wait\n",
      "Connection broken - wait\n",
      "Connection broken - wait\n",
      "Connection broken - wait\n",
      "Connection broken - wait\n",
      "Connection broken - wait\n",
      "Connection broken - wait\n",
      "Connection broken - wait\n",
      "Connection broken - wait\n",
      "Connection broken - wait\n",
      "Connection broken - wait\n",
      "Connection broken - wait\n",
      "Connection broken - wait\n",
      "Connection broken - wait\n",
      "Connection broken - wait\n",
      "Connection broken - wait\n",
      "Connection broken - wait\n",
      "Connection broken - wait\n",
      "Connection broken - wait\n",
      "Connection broken - wait\n",
      "Connection broken - wait\n",
      "Connection broken - wait\n",
      "Connection broken - wait\n",
      "Connection broken - wait\n",
      "Connection broken - wait\n",
      "Connection broken - wait\n",
      "Connection broken - wait\n",
      "Connection broken - wait\n",
      "Connection broken - wait\n",
      "Connection broken - wait\n",
      "Connection broken - wait\n",
      "Connection broken - wait\n",
      "Connection broken - wait\n",
      "Connection broken - wait\n",
      "Connection broken - wait\n",
      "Connection broken - wait\n",
      "Connection broken - wait\n",
      "Connection broken - wait\n",
      "Connection broken - wait\n",
      "Connection broken - wait\n",
      "Connection broken - wait\n",
      "Connection broken - wait\n",
      "Connection broken - wait\n",
      "Connection broken - wait\n",
      "Connection broken - wait\n",
      "Connection broken - wait\n",
      "Connection broken - wait\n",
      "Connection broken - wait\n",
      "Connection broken - wait\n",
      "Connection broken - wait\n",
      "Connection broken - wait\n",
      "Connection broken - wait\n",
      "Connection broken - wait\n",
      "Connection broken - wait\n",
      "Connection broken - wait\n",
      "Connection broken - wait\n",
      "Connection broken - wait\n",
      "Connection broken - wait\n",
      "Connection broken - wait\n",
      "Connection broken - wait\n",
      "Connection broken - wait\n",
      "Connection broken - wait\n",
      "Connection broken - wait\n",
      "Connection broken - wait\n",
      "Connection broken - wait\n",
      "Connection broken - wait\n",
      "Connection broken - wait\n",
      "Connection broken - wait\n",
      "Connection broken - wait\n",
      "Connection broken - wait\n",
      "Connection broken - wait\n",
      "Connection broken - wait\n",
      "Connection broken - wait\n",
      "Connection broken - wait\n",
      "Connection broken - wait\n",
      "Connection broken - wait\n",
      "Connection broken - wait\n",
      "Connection broken - wait\n",
      "Connection broken - wait\n",
      "Connection broken - wait\n"
     ]
    }
   ],
   "source": [
    "list_135to145 = tmdb_getter(135001,145001)"
   ]
  },
  {
   "cell_type": "code",
   "execution_count": 175,
   "metadata": {},
   "outputs": [
    {
     "data": {
      "application/vnd.jupyter.widget-view+json": {
       "model_id": "5e16e38747ab478f86a50b99d302b548",
       "version_major": 2,
       "version_minor": 0
      },
      "text/plain": [
       "HBox(children=(IntProgress(value=0, max=75000), HTML(value='')))"
      ]
     },
     "metadata": {},
     "output_type": "display_data"
    },
    {
     "name": "stdout",
     "output_type": "stream",
     "text": [
      "Connection broken - wait\n",
      "Connection broken - wait\n",
      "Connection broken - wait\n",
      "Connection broken - wait\n",
      "Connection broken - wait\n",
      "Connection broken - wait\n",
      "Connection broken - wait\n",
      "Connection broken - wait\n",
      "Connection broken - wait\n",
      "Connection broken - wait\n",
      "Connection broken - wait\n",
      "Connection broken - wait\n",
      "Connection broken - wait\n",
      "Connection broken - wait\n",
      "Connection broken - wait\n",
      "Connection broken - wait\n",
      "Connection broken - wait\n",
      "Connection broken - wait\n",
      "Connection broken - wait\n",
      "Connection broken - wait\n",
      "Connection broken - wait\n",
      "Connection broken - wait\n",
      "Connection broken - wait\n",
      "Connection broken - wait\n",
      "Connection broken - wait\n",
      "Connection broken - wait\n",
      "Connection broken - wait\n",
      "Connection broken - wait\n",
      "Connection broken - wait\n",
      "Connection broken - wait\n",
      "Connection broken - wait\n",
      "Connection broken - wait\n",
      "Connection broken - wait\n",
      "Connection broken - wait\n",
      "Connection broken - wait\n",
      "Connection broken - wait\n",
      "Connection broken - wait\n",
      "Connection broken - wait\n",
      "Connection broken - wait\n",
      "Connection broken - wait\n",
      "Connection broken - wait\n",
      "Connection broken - wait\n",
      "Connection broken - wait\n",
      "Connection broken - wait\n",
      "Connection broken - wait\n",
      "Connection broken - wait\n",
      "Connection broken - wait\n",
      "Connection broken - wait\n",
      "Connection broken - wait\n",
      "Connection broken - wait\n",
      "Connection broken - wait\n",
      "Connection broken - wait\n",
      "Connection broken - wait\n",
      "Connection broken - wait\n",
      "Connection broken - wait\n",
      "Connection broken - wait\n",
      "Connection broken - wait\n",
      "Connection broken - wait\n",
      "Connection broken - wait\n",
      "Connection broken - wait\n",
      "Connection broken - wait\n",
      "Connection broken - wait\n",
      "Connection broken - wait\n",
      "Connection broken - wait\n",
      "Connection broken - wait\n",
      "Connection broken - wait\n",
      "Connection broken - wait\n",
      "Connection broken - wait\n",
      "Connection broken - wait\n",
      "Connection broken - wait\n",
      "Connection broken - wait\n",
      "Connection broken - wait\n",
      "Connection broken - wait\n",
      "Connection broken - wait\n",
      "Connection broken - wait\n",
      "Connection broken - wait\n",
      "Connection broken - wait\n",
      "Connection broken - wait\n",
      "Connection broken - wait\n",
      "Connection broken - wait\n",
      "Connection broken - wait\n",
      "Connection broken - wait\n",
      "Connection broken - wait\n",
      "Connection broken - wait\n",
      "Connection broken - wait\n",
      "Connection broken - wait\n",
      "Connection broken - wait\n",
      "Connection broken - wait\n",
      "Connection broken - wait\n",
      "Connection broken - wait\n",
      "Connection broken - wait\n",
      "Connection broken - wait\n",
      "Connection broken - wait\n",
      "Connection broken - wait\n",
      "Connection broken - wait\n",
      "Connection broken - wait\n",
      "Connection broken - wait\n",
      "Connection broken - wait\n",
      "Connection broken - wait\n",
      "Connection broken - wait\n",
      "Connection broken - wait\n",
      "Connection broken - wait\n",
      "Connection broken - wait\n",
      "Connection broken - wait\n",
      "Connection broken - wait\n",
      "Connection broken - wait\n",
      "Connection broken - wait\n",
      "Connection broken - wait\n",
      "Connection broken - wait\n",
      "Connection broken - wait\n",
      "Connection broken - wait\n",
      "Connection broken - wait\n",
      "Connection broken - wait\n",
      "Connection broken - wait\n",
      "Connection broken - wait\n",
      "Connection broken - wait\n",
      "Connection broken - wait\n",
      "Connection broken - wait\n",
      "Connection broken - wait\n",
      "Connection broken - wait\n",
      "Connection broken - wait\n",
      "Connection broken - wait\n",
      "Connection broken - wait\n",
      "Connection broken - wait\n",
      "Connection broken - wait\n",
      "Connection broken - wait\n",
      "Connection broken - wait\n",
      "Connection broken - wait\n",
      "Connection broken - wait\n",
      "Connection broken - wait\n",
      "Connection broken - wait\n",
      "Connection broken - wait\n",
      "Connection broken - wait\n",
      "Connection broken - wait\n",
      "Connection broken - wait\n",
      "Connection broken - wait\n",
      "Connection broken - wait\n",
      "Connection broken - wait\n",
      "Connection broken - wait\n",
      "Connection broken - wait\n",
      "Connection broken - wait\n",
      "Connection broken - wait\n",
      "Connection broken - wait\n",
      "Connection broken - wait\n",
      "Connection broken - wait\n",
      "Connection broken - wait\n",
      "Connection broken - wait\n",
      "Connection broken - wait\n",
      "Connection broken - wait\n",
      "Connection broken - wait\n",
      "Connection broken - wait\n",
      "Connection broken - wait\n",
      "Connection broken - wait\n",
      "Connection broken - wait\n",
      "Connection broken - wait\n",
      "Connection broken - wait\n",
      "Connection broken - wait\n",
      "Connection broken - wait\n",
      "Connection broken - wait\n",
      "Connection broken - wait\n",
      "Connection broken - wait\n",
      "Connection broken - wait\n",
      "Connection broken - wait\n",
      "Connection broken - wait\n",
      "Connection broken - wait\n",
      "Connection broken - wait\n",
      "Connection broken - wait\n",
      "Connection broken - wait\n",
      "Connection broken - wait\n",
      "Connection broken - wait\n",
      "Connection broken - wait\n",
      "Connection broken - wait\n",
      "Connection broken - wait\n",
      "Connection broken - wait\n",
      "Connection broken - wait\n",
      "Connection broken - wait\n",
      "Connection broken - wait\n",
      "Connection broken - wait\n",
      "Connection broken - wait\n",
      "Connection broken - wait\n",
      "Connection broken - wait\n",
      "Connection broken - wait\n",
      "Connection broken - wait\n",
      "Connection broken - wait\n",
      "Connection broken - wait\n",
      "Connection broken - wait\n",
      "Connection broken - wait\n",
      "Connection broken - wait\n",
      "Connection broken - wait\n",
      "Connection broken - wait\n",
      "Connection broken - wait\n",
      "Connection broken - wait\n",
      "Connection broken - wait\n",
      "Connection broken - wait\n",
      "Connection broken - wait\n",
      "Connection broken - wait\n",
      "Connection broken - wait\n",
      "Connection broken - wait\n",
      "Connection broken - wait\n",
      "Connection broken - wait\n",
      "Connection broken - wait\n",
      "Connection broken - wait\n",
      "Connection broken - wait\n",
      "Connection broken - wait\n",
      "Connection broken - wait\n",
      "Connection broken - wait\n",
      "Connection broken - wait\n",
      "Connection broken - wait\n",
      "Connection broken - wait\n",
      "Connection broken - wait\n",
      "Connection broken - wait\n",
      "Connection broken - wait\n",
      "Connection broken - wait\n",
      "Connection broken - wait\n",
      "Connection broken - wait\n",
      "Connection broken - wait\n",
      "Connection broken - wait\n",
      "Connection broken - wait\n",
      "Connection broken - wait\n",
      "Connection broken - wait\n",
      "Connection broken - wait\n",
      "Connection broken - wait\n",
      "Connection broken - wait\n",
      "Connection broken - wait\n",
      "Connection broken - wait\n",
      "Connection broken - wait\n",
      "Connection broken - wait\n",
      "Connection broken - wait\n",
      "Connection broken - wait\n",
      "Connection broken - wait\n",
      "Connection broken - wait\n",
      "Connection broken - wait\n",
      "Connection broken - wait\n",
      "Connection broken - wait\n",
      "Connection broken - wait\n",
      "Connection broken - wait\n",
      "Connection broken - wait\n",
      "Connection broken - wait\n",
      "Connection broken - wait\n",
      "Connection broken - wait\n",
      "Connection broken - wait\n",
      "Connection broken - wait\n",
      "Connection broken - wait\n",
      "Connection broken - wait\n",
      "Connection broken - wait\n",
      "Connection broken - wait\n",
      "Connection broken - wait\n",
      "Connection broken - wait\n",
      "Connection broken - wait\n",
      "Connection broken - wait\n",
      "Connection broken - wait\n",
      "Connection broken - wait\n",
      "Connection broken - wait\n",
      "Connection broken - wait\n",
      "Connection broken - wait\n",
      "Connection broken - wait\n",
      "Connection broken - wait\n",
      "Connection broken - wait\n",
      "Connection broken - wait\n",
      "Connection broken - wait\n",
      "Connection broken - wait\n",
      "Connection broken - wait\n",
      "Connection broken - wait\n",
      "Connection broken - wait\n",
      "Connection broken - wait\n",
      "Connection broken - wait\n",
      "Connection broken - wait\n",
      "Connection broken - wait\n",
      "Connection broken - wait\n",
      "Connection broken - wait\n",
      "Connection broken - wait\n",
      "Connection broken - wait\n",
      "Connection broken - wait\n",
      "Connection broken - wait\n",
      "Connection broken - wait\n",
      "Connection broken - wait\n",
      "Connection broken - wait\n",
      "Connection broken - wait\n",
      "Connection broken - wait\n",
      "Connection broken - wait\n",
      "Connection broken - wait\n",
      "Connection broken - wait\n",
      "Connection broken - wait\n",
      "Connection broken - wait\n",
      "Connection broken - wait\n",
      "Connection broken - wait\n",
      "Connection broken - wait\n",
      "Connection broken - wait\n",
      "Connection broken - wait\n",
      "Connection broken - wait\n",
      "Connection broken - wait\n",
      "Connection broken - wait\n",
      "Connection broken - wait\n",
      "Connection broken - wait\n",
      "Connection broken - wait\n",
      "Connection broken - wait\n",
      "Connection broken - wait\n",
      "Connection broken - wait\n",
      "Connection broken - wait\n",
      "Connection broken - wait\n",
      "Connection broken - wait\n",
      "Connection broken - wait\n",
      "Connection broken - wait\n",
      "Connection broken - wait\n",
      "Connection broken - wait\n",
      "Connection broken - wait\n",
      "Connection broken - wait\n",
      "Connection broken - wait\n",
      "Connection broken - wait\n",
      "Connection broken - wait\n",
      "Connection broken - wait\n",
      "Connection broken - wait\n",
      "Connection broken - wait\n",
      "Connection broken - wait\n",
      "Connection broken - wait\n",
      "Connection broken - wait\n",
      "Connection broken - wait\n",
      "Connection broken - wait\n",
      "Connection broken - wait\n",
      "Connection broken - wait\n",
      "Connection broken - wait\n",
      "Connection broken - wait\n",
      "Connection broken - wait\n",
      "Connection broken - wait\n",
      "Connection broken - wait\n",
      "Connection broken - wait\n",
      "Connection broken - wait\n",
      "Connection broken - wait\n"
     ]
    },
    {
     "name": "stdout",
     "output_type": "stream",
     "text": [
      "Connection broken - wait\n",
      "Connection broken - wait\n",
      "Connection broken - wait\n",
      "Connection broken - wait\n",
      "Connection broken - wait\n",
      "Connection broken - wait\n",
      "Connection broken - wait\n",
      "Connection broken - wait\n",
      "Connection broken - wait\n",
      "Connection broken - wait\n",
      "Connection broken - wait\n",
      "Connection broken - wait\n",
      "Connection broken - wait\n",
      "Connection broken - wait\n",
      "Connection broken - wait\n",
      "Connection broken - wait\n",
      "Connection broken - wait\n",
      "Connection broken - wait\n",
      "Connection broken - wait\n",
      "Connection broken - wait\n",
      "Connection broken - wait\n",
      "Connection broken - wait\n",
      "Connection broken - wait\n",
      "Connection broken - wait\n",
      "Connection broken - wait\n",
      "Connection broken - wait\n",
      "Connection broken - wait\n",
      "Connection broken - wait\n",
      "Connection broken - wait\n",
      "Connection broken - wait\n",
      "Connection broken - wait\n",
      "Connection broken - wait\n",
      "Connection broken - wait\n",
      "Connection broken - wait\n",
      "Connection broken - wait\n",
      "Connection broken - wait\n",
      "Connection broken - wait\n",
      "Connection broken - wait\n",
      "Connection broken - wait\n",
      "Connection broken - wait\n",
      "Connection broken - wait\n",
      "Connection broken - wait\n",
      "Connection broken - wait\n",
      "Connection broken - wait\n",
      "Connection broken - wait\n",
      "Connection broken - wait\n",
      "Connection broken - wait\n",
      "Connection broken - wait\n",
      "Connection broken - wait\n",
      "Connection broken - wait\n",
      "Connection broken - wait\n",
      "Connection broken - wait\n",
      "Connection broken - wait\n",
      "Connection broken - wait\n",
      "Connection broken - wait\n",
      "Connection broken - wait\n"
     ]
    }
   ],
   "source": [
    "list_145to220 = tmdb_getter(145001,220001)"
   ]
  },
  {
   "cell_type": "code",
   "execution_count": 176,
   "metadata": {},
   "outputs": [
    {
     "data": {
      "application/vnd.jupyter.widget-view+json": {
       "model_id": "0f76be7054f341f4bb3e22d6e9f46fef",
       "version_major": 2,
       "version_minor": 0
      },
      "text/plain": [
       "HBox(children=(IntProgress(value=0, max=20000), HTML(value='')))"
      ]
     },
     "metadata": {},
     "output_type": "display_data"
    },
    {
     "name": "stdout",
     "output_type": "stream",
     "text": [
      "Connection broken - wait\n",
      "Connection broken - wait\n",
      "Connection broken - wait\n",
      "Connection broken - wait\n",
      "Connection broken - wait\n",
      "Connection broken - wait\n",
      "Connection broken - wait\n",
      "Connection broken - wait\n",
      "Connection broken - wait\n",
      "Connection broken - wait\n",
      "Connection broken - wait\n",
      "Connection broken - wait\n",
      "Connection broken - wait\n",
      "Connection broken - wait\n",
      "Connection broken - wait\n",
      "Connection broken - wait\n",
      "Connection broken - wait\n",
      "Connection broken - wait\n",
      "Connection broken - wait\n",
      "Connection broken - wait\n",
      "Connection broken - wait\n",
      "Connection broken - wait\n",
      "Connection broken - wait\n",
      "Connection broken - wait\n",
      "Connection broken - wait\n",
      "Connection broken - wait\n",
      "Connection broken - wait\n",
      "Connection broken - wait\n",
      "Connection broken - wait\n",
      "Connection broken - wait\n",
      "Connection broken - wait\n",
      "Connection broken - wait\n",
      "Connection broken - wait\n",
      "Connection broken - wait\n",
      "Connection broken - wait\n",
      "Connection broken - wait\n",
      "Connection broken - wait\n",
      "Connection broken - wait\n",
      "Connection broken - wait\n",
      "Connection broken - wait\n",
      "Connection broken - wait\n",
      "Connection broken - wait\n",
      "Connection broken - wait\n",
      "Connection broken - wait\n",
      "Connection broken - wait\n",
      "Connection broken - wait\n",
      "Connection broken - wait\n",
      "Connection broken - wait\n",
      "Connection broken - wait\n",
      "Connection broken - wait\n",
      "Connection broken - wait\n",
      "Connection broken - wait\n",
      "Connection broken - wait\n",
      "Connection broken - wait\n",
      "Connection broken - wait\n",
      "Connection broken - wait\n",
      "Connection broken - wait\n",
      "Connection broken - wait\n",
      "Connection broken - wait\n",
      "Connection broken - wait\n",
      "Connection broken - wait\n",
      "Connection broken - wait\n",
      "Connection broken - wait\n",
      "Connection broken - wait\n",
      "Connection broken - wait\n",
      "Connection broken - wait\n"
     ]
    }
   ],
   "source": [
    "list_220to240 = tmdb_getter(220001,240001)"
   ]
  },
  {
   "cell_type": "code",
   "execution_count": 177,
   "metadata": {},
   "outputs": [
    {
     "data": {
      "application/vnd.jupyter.widget-view+json": {
       "model_id": "119c58c768424bf9adc7b7c0996863c4",
       "version_major": 2,
       "version_minor": 0
      },
      "text/plain": [
       "HBox(children=(IntProgress(value=0, max=10000), HTML(value='')))"
      ]
     },
     "metadata": {},
     "output_type": "display_data"
    },
    {
     "name": "stdout",
     "output_type": "stream",
     "text": [
      "Connection broken - wait\n",
      "Connection broken - wait\n",
      "Connection broken - wait\n",
      "Connection broken - wait\n",
      "Connection broken - wait\n",
      "Connection broken - wait\n",
      "Connection broken - wait\n",
      "Connection broken - wait\n",
      "Connection broken - wait\n",
      "Connection broken - wait\n",
      "Connection broken - wait\n",
      "Connection broken - wait\n",
      "Connection broken - wait\n",
      "Connection broken - wait\n",
      "Connection broken - wait\n",
      "Connection broken - wait\n",
      "Connection broken - wait\n",
      "Connection broken - wait\n",
      "Connection broken - wait\n",
      "Connection broken - wait\n",
      "Connection broken - wait\n",
      "Connection broken - wait\n",
      "Connection broken - wait\n",
      "Connection broken - wait\n"
     ]
    }
   ],
   "source": [
    "list_240to250 = tmdb_getter(240001,250001)"
   ]
  },
  {
   "cell_type": "code",
   "execution_count": 178,
   "metadata": {},
   "outputs": [
    {
     "data": {
      "text/plain": [
       "5176"
      ]
     },
     "execution_count": 178,
     "metadata": {},
     "output_type": "execute_result"
    }
   ],
   "source": [
    "len(list_240to250)"
   ]
  },
  {
   "cell_type": "code",
   "execution_count": 179,
   "metadata": {},
   "outputs": [
    {
     "data": {
      "application/vnd.jupyter.widget-view+json": {
       "model_id": "5fd193b13bc848b3ba5c4f6819ef43ae",
       "version_major": 2,
       "version_minor": 0
      },
      "text/plain": [
       "HBox(children=(IntProgress(value=0, max=75000), HTML(value='')))"
      ]
     },
     "metadata": {},
     "output_type": "display_data"
    },
    {
     "name": "stdout",
     "output_type": "stream",
     "text": [
      "Connection broken - wait\n",
      "Connection broken - wait\n",
      "Connection broken - wait\n",
      "Connection broken - wait\n",
      "Connection broken - wait\n",
      "Connection broken - wait\n"
     ]
    }
   ],
   "source": [
    "list_250to325 = tmdb_getter(250001,325001)"
   ]
  },
  {
   "cell_type": "code",
   "execution_count": 180,
   "metadata": {},
   "outputs": [
    {
     "data": {
      "application/vnd.jupyter.widget-view+json": {
       "model_id": "9fd62074a3e3446aba2535ada7750cf3",
       "version_major": 2,
       "version_minor": 0
      },
      "text/plain": [
       "HBox(children=(IntProgress(value=0, max=10000), HTML(value='')))"
      ]
     },
     "metadata": {},
     "output_type": "display_data"
    }
   ],
   "source": [
    "list_320to335 = tmdb_getter(325001,335001)"
   ]
  },
  {
   "cell_type": "code",
   "execution_count": 182,
   "metadata": {},
   "outputs": [
    {
     "data": {
      "text/plain": [
       "{'adult': False,\n",
       " 'backdrop_path': None,\n",
       " 'belongs_to_collection': None,\n",
       " 'budget': 0,\n",
       " 'genres': [],\n",
       " 'homepage': None,\n",
       " 'id': 325001,\n",
       " 'imdb_id': None,\n",
       " 'original_language': 'en',\n",
       " 'original_title': 'Captain',\n",
       " 'overview': \"Steve, mid-thirties and an unpublished author, had taken a writing class with Carl Johnson an award-winning novelist. Carl sees the potential in Steve. In writing exercises, he stuns his classmates with his wit and use of language but Carl wants more. Carl and his wife Trish are planning a trip and ask Steve if he could take care of their Chihuahua Captain. Steve says yes without hesitation, thinking it will be a good opportunity to re-establish his relationship with Carl, who three months earlier, kicked him out of class and wouldn't be allowed back until he made a commitment to becoming the best writer he could be.\",\n",
       " 'popularity': 0.6,\n",
       " 'poster_path': None,\n",
       " 'production_companies': [],\n",
       " 'production_countries': [],\n",
       " 'release_date': '2015-02-23',\n",
       " 'revenue': 0,\n",
       " 'runtime': None,\n",
       " 'spoken_languages': [],\n",
       " 'status': 'Released',\n",
       " 'tagline': '',\n",
       " 'title': 'Captain',\n",
       " 'video': False,\n",
       " 'vote_average': 0.0,\n",
       " 'vote_count': 0}"
      ]
     },
     "execution_count": 182,
     "metadata": {},
     "output_type": "execute_result"
    }
   ],
   "source": [
    "list_320to335[0]"
   ]
  },
  {
   "cell_type": "code",
   "execution_count": null,
   "metadata": {},
   "outputs": [],
   "source": []
  },
  {
   "cell_type": "code",
   "execution_count": 191,
   "metadata": {},
   "outputs": [],
   "source": [
    "list_10k.extend(list_10to20)\n",
    "list_10k.extend(list_20to50)\n",
    "list_10k.extend(list_50to60)\n",
    "list_10k.extend(list_60to135)\n",
    "list_10k.extend(list_135to145)\n",
    "list_10k.extend(list_145to220)\n",
    "list_10k.extend(list_220to240)\n",
    "list_10k.extend(list_240to250)\n",
    "list_10k.extend(list_250to325)\n",
    "list_10k.extend(list_320to335)"
   ]
  },
  {
   "cell_type": "code",
   "execution_count": 192,
   "metadata": {},
   "outputs": [
    {
     "data": {
      "text/plain": [
       "221949"
      ]
     },
     "execution_count": 192,
     "metadata": {},
     "output_type": "execute_result"
    }
   ],
   "source": [
    "len(list_10k)"
   ]
  },
  {
   "cell_type": "code",
   "execution_count": 33,
   "metadata": {},
   "outputs": [
    {
     "ename": "NameError",
     "evalue": "name 'list_10k' is not defined",
     "output_type": "error",
     "traceback": [
      "\u001b[0;31m---------------------------------------------------------------------------\u001b[0m",
      "\u001b[0;31mNameError\u001b[0m                                 Traceback (most recent call last)",
      "\u001b[0;32m<ipython-input-33-99dd0bed673e>\u001b[0m in \u001b[0;36m<module>\u001b[0;34m\u001b[0m\n\u001b[0;32m----> 1\u001b[0;31m \u001b[0mdf_335k\u001b[0m \u001b[0;34m=\u001b[0m \u001b[0mpd\u001b[0m\u001b[0;34m.\u001b[0m\u001b[0mDataFrame\u001b[0m\u001b[0;34m.\u001b[0m\u001b[0mfrom_dict\u001b[0m\u001b[0;34m(\u001b[0m\u001b[0mlist_10k\u001b[0m\u001b[0;34m)\u001b[0m\u001b[0;34m\u001b[0m\u001b[0;34m\u001b[0m\u001b[0m\n\u001b[0m",
      "\u001b[0;31mNameError\u001b[0m: name 'list_10k' is not defined"
     ]
    }
   ],
   "source": [
    "df_335k = pd.DataFrame.from_dict(list_10k)"
   ]
  },
  {
   "cell_type": "code",
   "execution_count": 24,
   "metadata": {},
   "outputs": [
    {
     "ename": "NameError",
     "evalue": "name 'df_335k' is not defined",
     "output_type": "error",
     "traceback": [
      "\u001b[0;31m---------------------------------------------------------------------------\u001b[0m",
      "\u001b[0;31mNameError\u001b[0m                                 Traceback (most recent call last)",
      "\u001b[0;32m<ipython-input-24-3d513e8c9c39>\u001b[0m in \u001b[0;36m<module>\u001b[0;34m\u001b[0m\n\u001b[0;32m----> 1\u001b[0;31m \u001b[0mdf_335k\u001b[0m\u001b[0;34m.\u001b[0m\u001b[0mhead\u001b[0m\u001b[0;34m(\u001b[0m\u001b[0;34m)\u001b[0m\u001b[0;34m\u001b[0m\u001b[0;34m\u001b[0m\u001b[0m\n\u001b[0m",
      "\u001b[0;31mNameError\u001b[0m: name 'df_335k' is not defined"
     ]
    }
   ],
   "source": [
    "df_335k.head()"
   ]
  },
  {
   "cell_type": "code",
   "execution_count": 194,
   "metadata": {},
   "outputs": [
    {
     "name": "stdout",
     "output_type": "stream",
     "text": [
      "<class 'pandas.core.frame.DataFrame'>\n",
      "RangeIndex: 221949 entries, 0 to 221948\n",
      "Data columns (total 25 columns):\n",
      "adult                    221949 non-null bool\n",
      "backdrop_path            101898 non-null object\n",
      "belongs_to_collection    9242 non-null object\n",
      "budget                   221949 non-null int64\n",
      "genres                   221949 non-null object\n",
      "homepage                 23632 non-null object\n",
      "id                       221949 non-null int64\n",
      "imdb_id                  210466 non-null object\n",
      "original_language        221949 non-null object\n",
      "original_title           221949 non-null object\n",
      "overview                 221948 non-null object\n",
      "popularity               221949 non-null float64\n",
      "poster_path              190233 non-null object\n",
      "production_companies     221949 non-null object\n",
      "production_countries     221949 non-null object\n",
      "release_date             221949 non-null object\n",
      "revenue                  221949 non-null int64\n",
      "runtime                  168114 non-null float64\n",
      "spoken_languages         221949 non-null object\n",
      "status                   221949 non-null object\n",
      "tagline                  221949 non-null object\n",
      "title                    221949 non-null object\n",
      "video                    221949 non-null bool\n",
      "vote_average             221949 non-null float64\n",
      "vote_count               221949 non-null int64\n",
      "dtypes: bool(2), float64(3), int64(4), object(16)\n",
      "memory usage: 39.4+ MB\n"
     ]
    }
   ],
   "source": [
    "df_335k.info()"
   ]
  },
  {
   "cell_type": "code",
   "execution_count": 195,
   "metadata": {},
   "outputs": [],
   "source": [
    "df_335k.to_csv('335k.csv')"
   ]
  },
  {
   "cell_type": "code",
   "execution_count": 10,
   "metadata": {},
   "outputs": [
    {
     "data": {
      "application/vnd.jupyter.widget-view+json": {
       "model_id": "fe950024e4754a1eaf0304f389a2484d",
       "version_major": 2,
       "version_minor": 0
      },
      "text/plain": [
       "HBox(children=(IntProgress(value=0, max=25000), HTML(value='')))"
      ]
     },
     "metadata": {},
     "output_type": "display_data"
    },
    {
     "name": "stdout",
     "output_type": "stream",
     "text": [
      "\n"
     ]
    }
   ],
   "source": [
    "list_335to360 = tmdb_getter(335001,360001)"
   ]
  },
  {
   "cell_type": "code",
   "execution_count": 25,
   "metadata": {},
   "outputs": [
    {
     "data": {
      "text/plain": [
       "{'adult': False,\n",
       " 'backdrop_path': None,\n",
       " 'belongs_to_collection': None,\n",
       " 'budget': 0,\n",
       " 'genres': [],\n",
       " 'homepage': None,\n",
       " 'id': 335001,\n",
       " 'imdb_id': '',\n",
       " 'original_language': 'en',\n",
       " 'original_title': 'HOH',\n",
       " 'overview': '',\n",
       " 'popularity': 0.6,\n",
       " 'poster_path': '/wv9xhOfB9WHiiFCDxoiYAEm90Cy.jpg',\n",
       " 'production_companies': [],\n",
       " 'production_countries': [],\n",
       " 'release_date': '2014-11-15',\n",
       " 'revenue': 0,\n",
       " 'runtime': 180,\n",
       " 'spoken_languages': [],\n",
       " 'status': 'Released',\n",
       " 'tagline': '',\n",
       " 'title': 'HOH',\n",
       " 'video': False,\n",
       " 'vote_average': 0.0,\n",
       " 'vote_count': 0}"
      ]
     },
     "execution_count": 25,
     "metadata": {},
     "output_type": "execute_result"
    }
   ],
   "source": [
    "list_335to360[0]"
   ]
  },
  {
   "cell_type": "code",
   "execution_count": 11,
   "metadata": {},
   "outputs": [
    {
     "data": {
      "application/vnd.jupyter.widget-view+json": {
       "model_id": "422e7bf1c3d94b9bb7e2e363774aabac",
       "version_major": 2,
       "version_minor": 0
      },
      "text/plain": [
       "HBox(children=(IntProgress(value=0, max=10000), HTML(value='')))"
      ]
     },
     "metadata": {},
     "output_type": "display_data"
    },
    {
     "name": "stdout",
     "output_type": "stream",
     "text": [
      "Connection broken - wait\n",
      "\n"
     ]
    }
   ],
   "source": [
    "list_360to370 = tmdb_getter(360001,370001)"
   ]
  },
  {
   "cell_type": "code",
   "execution_count": 12,
   "metadata": {},
   "outputs": [
    {
     "data": {
      "application/vnd.jupyter.widget-view+json": {
       "model_id": "7b19527060634ce2b189ea627e012e47",
       "version_major": 2,
       "version_minor": 0
      },
      "text/plain": [
       "HBox(children=(IntProgress(value=0, max=10000), HTML(value='')))"
      ]
     },
     "metadata": {},
     "output_type": "display_data"
    },
    {
     "name": "stdout",
     "output_type": "stream",
     "text": [
      "\n"
     ]
    }
   ],
   "source": [
    "list_370to380 = tmdb_getter(370001,380001)"
   ]
  },
  {
   "cell_type": "code",
   "execution_count": 13,
   "metadata": {},
   "outputs": [
    {
     "data": {
      "application/vnd.jupyter.widget-view+json": {
       "model_id": "bf423bfc7a7d4ea98c31ffffaf583b5d",
       "version_major": 2,
       "version_minor": 0
      },
      "text/plain": [
       "HBox(children=(IntProgress(value=0, max=75000), HTML(value='')))"
      ]
     },
     "metadata": {},
     "output_type": "display_data"
    },
    {
     "name": "stdout",
     "output_type": "stream",
     "text": [
      "Connection broken - wait\n",
      "Connection broken - wait\n",
      "Connection broken - wait\n",
      "Connection broken - wait\n",
      "Connection broken - wait\n",
      "Connection broken - wait\n",
      "Connection broken - wait\n",
      "\n"
     ]
    }
   ],
   "source": [
    "list_380to455 = tmdb_getter(380001,455001)"
   ]
  },
  {
   "cell_type": "code",
   "execution_count": 15,
   "metadata": {},
   "outputs": [
    {
     "data": {
      "application/vnd.jupyter.widget-view+json": {
       "model_id": "7956c7da71434db8880a96aa6a529791",
       "version_major": 2,
       "version_minor": 0
      },
      "text/plain": [
       "HBox(children=(IntProgress(value=0, max=20000), HTML(value='')))"
      ]
     },
     "metadata": {},
     "output_type": "display_data"
    },
    {
     "name": "stdout",
     "output_type": "stream",
     "text": [
      "\n"
     ]
    }
   ],
   "source": [
    "list_455to475 = tmdb_getter(455001,475001)"
   ]
  },
  {
   "cell_type": "code",
   "execution_count": 16,
   "metadata": {},
   "outputs": [
    {
     "data": {
      "application/vnd.jupyter.widget-view+json": {
       "model_id": "4d17bb51a5cf42f3a1678eceea077cc7",
       "version_major": 2,
       "version_minor": 0
      },
      "text/plain": [
       "HBox(children=(IntProgress(value=0, max=10000), HTML(value='')))"
      ]
     },
     "metadata": {},
     "output_type": "display_data"
    },
    {
     "name": "stdout",
     "output_type": "stream",
     "text": [
      "\n"
     ]
    }
   ],
   "source": [
    "list_475to485 = tmdb_getter(475001,485001)"
   ]
  },
  {
   "cell_type": "code",
   "execution_count": 18,
   "metadata": {},
   "outputs": [
    {
     "data": {
      "application/vnd.jupyter.widget-view+json": {
       "model_id": "479830fb0cd24147bc1023d07a256196",
       "version_major": 2,
       "version_minor": 0
      },
      "text/plain": [
       "HBox(children=(IntProgress(value=0, max=10000), HTML(value='')))"
      ]
     },
     "metadata": {},
     "output_type": "display_data"
    }
   ],
   "source": [
    "list_485to495 = tmdb_getter(485001,495001)"
   ]
  },
  {
   "cell_type": "code",
   "execution_count": 19,
   "metadata": {},
   "outputs": [
    {
     "data": {
      "application/vnd.jupyter.widget-view+json": {
       "model_id": "ae3311219a2247ea8d63b856543527b9",
       "version_major": 2,
       "version_minor": 0
      },
      "text/plain": [
       "HBox(children=(IntProgress(value=0, max=75000), HTML(value='')))"
      ]
     },
     "metadata": {},
     "output_type": "display_data"
    },
    {
     "name": "stdout",
     "output_type": "stream",
     "text": [
      "Connection broken - wait\n",
      "Connection broken - wait\n",
      "Connection broken - wait\n",
      "Connection broken - wait\n",
      "Connection broken - wait\n"
     ]
    }
   ],
   "source": [
    "list_495to495 = tmdb_getter(495001,570001)"
   ]
  },
  {
   "cell_type": "code",
   "execution_count": 20,
   "metadata": {},
   "outputs": [
    {
     "data": {
      "application/vnd.jupyter.widget-view+json": {
       "model_id": "60e39ec99f854a3c83d2f6542478830e",
       "version_major": 2,
       "version_minor": 0
      },
      "text/plain": [
       "HBox(children=(IntProgress(value=0, max=20000), HTML(value='')))"
      ]
     },
     "metadata": {},
     "output_type": "display_data"
    }
   ],
   "source": [
    "list_570to590 = tmdb_getter(570001,590001)"
   ]
  },
  {
   "cell_type": "code",
   "execution_count": 22,
   "metadata": {},
   "outputs": [
    {
     "data": {
      "application/vnd.jupyter.widget-view+json": {
       "model_id": "c203ddd348664bcfa3f019552375f43a",
       "version_major": 2,
       "version_minor": 0
      },
      "text/plain": [
       "HBox(children=(IntProgress(value=0, max=25000), HTML(value='')))"
      ]
     },
     "metadata": {},
     "output_type": "display_data"
    },
    {
     "name": "stdout",
     "output_type": "stream",
     "text": [
      "Connection broken - wait\n",
      "Connection broken - wait\n"
     ]
    }
   ],
   "source": [
    "list_590to615 = tmdb_getter(590001,615001)"
   ]
  },
  {
   "cell_type": "code",
   "execution_count": 26,
   "metadata": {},
   "outputs": [],
   "source": [
    "list_335to360.extend(list_360to370)"
   ]
  },
  {
   "cell_type": "code",
   "execution_count": 27,
   "metadata": {},
   "outputs": [],
   "source": [
    "list_335to360.extend(list_370to380)\n",
    "list_335to360.extend(list_380to455)\n",
    "list_335to360.extend(list_455to475)\n",
    "list_335to360.extend(list_475to485)"
   ]
  },
  {
   "cell_type": "code",
   "execution_count": 28,
   "metadata": {},
   "outputs": [],
   "source": [
    "list_335to360.extend(list_485to495)\n",
    "list_335to360.extend(list_495to495)\n",
    "list_335to360.extend(list_570to590)\n",
    "list_335to360.extend(list_590to615)"
   ]
  },
  {
   "cell_type": "code",
   "execution_count": 29,
   "metadata": {},
   "outputs": [
    {
     "data": {
      "text/plain": [
       "247341"
      ]
     },
     "execution_count": 29,
     "metadata": {},
     "output_type": "execute_result"
    }
   ],
   "source": [
    "len(list_335to360)"
   ]
  },
  {
   "cell_type": "code",
   "execution_count": 30,
   "metadata": {},
   "outputs": [
    {
     "data": {
      "text/html": [
       "<div>\n",
       "<style scoped>\n",
       "    .dataframe tbody tr th:only-of-type {\n",
       "        vertical-align: middle;\n",
       "    }\n",
       "\n",
       "    .dataframe tbody tr th {\n",
       "        vertical-align: top;\n",
       "    }\n",
       "\n",
       "    .dataframe thead th {\n",
       "        text-align: right;\n",
       "    }\n",
       "</style>\n",
       "<table border=\"1\" class=\"dataframe\">\n",
       "  <thead>\n",
       "    <tr style=\"text-align: right;\">\n",
       "      <th></th>\n",
       "      <th>adult</th>\n",
       "      <th>backdrop_path</th>\n",
       "      <th>belongs_to_collection</th>\n",
       "      <th>budget</th>\n",
       "      <th>genres</th>\n",
       "      <th>homepage</th>\n",
       "      <th>id</th>\n",
       "      <th>imdb_id</th>\n",
       "      <th>original_language</th>\n",
       "      <th>original_title</th>\n",
       "      <th>overview</th>\n",
       "      <th>popularity</th>\n",
       "      <th>poster_path</th>\n",
       "      <th>production_companies</th>\n",
       "      <th>production_countries</th>\n",
       "      <th>release_date</th>\n",
       "      <th>revenue</th>\n",
       "      <th>runtime</th>\n",
       "      <th>spoken_languages</th>\n",
       "      <th>status</th>\n",
       "      <th>tagline</th>\n",
       "      <th>title</th>\n",
       "      <th>video</th>\n",
       "      <th>vote_average</th>\n",
       "      <th>vote_count</th>\n",
       "    </tr>\n",
       "  </thead>\n",
       "  <tbody>\n",
       "    <tr>\n",
       "      <th>0</th>\n",
       "      <td>False</td>\n",
       "      <td>None</td>\n",
       "      <td>None</td>\n",
       "      <td>0</td>\n",
       "      <td>[]</td>\n",
       "      <td>None</td>\n",
       "      <td>335001</td>\n",
       "      <td></td>\n",
       "      <td>en</td>\n",
       "      <td>HOH</td>\n",
       "      <td></td>\n",
       "      <td>0.600</td>\n",
       "      <td>/wv9xhOfB9WHiiFCDxoiYAEm90Cy.jpg</td>\n",
       "      <td>[]</td>\n",
       "      <td>[]</td>\n",
       "      <td>2014-11-15</td>\n",
       "      <td>0</td>\n",
       "      <td>180.0</td>\n",
       "      <td>[]</td>\n",
       "      <td>Released</td>\n",
       "      <td></td>\n",
       "      <td>HOH</td>\n",
       "      <td>False</td>\n",
       "      <td>0.0</td>\n",
       "      <td>0</td>\n",
       "    </tr>\n",
       "    <tr>\n",
       "      <th>1</th>\n",
       "      <td>False</td>\n",
       "      <td>/few5N131MmjNkQDnZ7jSG1AOxRb.jpg</td>\n",
       "      <td>None</td>\n",
       "      <td>0</td>\n",
       "      <td>[{'id': 27, 'name': 'Horror'}, {'id': 53, 'nam...</td>\n",
       "      <td>None</td>\n",
       "      <td>335003</td>\n",
       "      <td>tt4177498</td>\n",
       "      <td>en</td>\n",
       "      <td>A Room to Die For</td>\n",
       "      <td>When a broke young couple rent a room in an el...</td>\n",
       "      <td>0.729</td>\n",
       "      <td>/7MSPDL6HbbTcQ7hf7zC5f51zvG6.jpg</td>\n",
       "      <td>[{'id': 85724, 'logo_path': None, 'name': 'Swi...</td>\n",
       "      <td>[{'iso_3166_1': 'GB', 'name': 'United Kingdom'}]</td>\n",
       "      <td>2017-01-16</td>\n",
       "      <td>0</td>\n",
       "      <td>84.0</td>\n",
       "      <td>[{'iso_639_1': 'en', 'name': 'English'}]</td>\n",
       "      <td>Released</td>\n",
       "      <td>Enjoy your stay</td>\n",
       "      <td>A Room to Die For</td>\n",
       "      <td>False</td>\n",
       "      <td>5.7</td>\n",
       "      <td>3</td>\n",
       "    </tr>\n",
       "    <tr>\n",
       "      <th>2</th>\n",
       "      <td>False</td>\n",
       "      <td>None</td>\n",
       "      <td>None</td>\n",
       "      <td>0</td>\n",
       "      <td>[{'id': 35, 'name': 'Comedy'}, {'id': 10402, '...</td>\n",
       "      <td>http://thrillingadventurehour.com</td>\n",
       "      <td>335004</td>\n",
       "      <td>tt4548442</td>\n",
       "      <td>en</td>\n",
       "      <td>The Thrilling Adventure Hour Live</td>\n",
       "      <td>A concert film designed to bring the live Thri...</td>\n",
       "      <td>0.979</td>\n",
       "      <td>/idwLpR58NeK3CyvZT2UHhvqD3lE.jpg</td>\n",
       "      <td>[{'id': 21207, 'logo_path': '/bhgVefS8V22TxYn9...</td>\n",
       "      <td>[]</td>\n",
       "      <td>2015-03-01</td>\n",
       "      <td>0</td>\n",
       "      <td>113.0</td>\n",
       "      <td>[]</td>\n",
       "      <td>Released</td>\n",
       "      <td></td>\n",
       "      <td>The Thrilling Adventure Hour Live</td>\n",
       "      <td>False</td>\n",
       "      <td>9.0</td>\n",
       "      <td>1</td>\n",
       "    </tr>\n",
       "    <tr>\n",
       "      <th>3</th>\n",
       "      <td>False</td>\n",
       "      <td>/nOuif4jU9EX9tOeXc6Zwurl39BE.jpg</td>\n",
       "      <td>None</td>\n",
       "      <td>0</td>\n",
       "      <td>[{'id': 12, 'name': 'Adventure'}, {'id': 37, '...</td>\n",
       "      <td>None</td>\n",
       "      <td>335005</td>\n",
       "      <td>tt0041413</td>\n",
       "      <td>en</td>\n",
       "      <td>Ghost of Zorro</td>\n",
       "      <td>Although ostensibly the grand-son of the legen...</td>\n",
       "      <td>0.627</td>\n",
       "      <td>/wigidYrQXpDoW7cVuEARhEYvcQl.jpg</td>\n",
       "      <td>[{'id': 1432, 'logo_path': '/8AcaWEWQ8MFUBGlt9...</td>\n",
       "      <td>[{'iso_3166_1': 'US', 'name': 'United States o...</td>\n",
       "      <td>1949-03-24</td>\n",
       "      <td>0</td>\n",
       "      <td>167.0</td>\n",
       "      <td>[{'iso_639_1': 'en', 'name': 'English'}]</td>\n",
       "      <td>Released</td>\n",
       "      <td>NEVER SUCH COURAGE NEVER SUCH DARING NEVER SUC...</td>\n",
       "      <td>Ghost of Zorro</td>\n",
       "      <td>False</td>\n",
       "      <td>0.0</td>\n",
       "      <td>0</td>\n",
       "    </tr>\n",
       "    <tr>\n",
       "      <th>4</th>\n",
       "      <td>False</td>\n",
       "      <td>None</td>\n",
       "      <td>None</td>\n",
       "      <td>0</td>\n",
       "      <td>[]</td>\n",
       "      <td>None</td>\n",
       "      <td>335006</td>\n",
       "      <td>tt2444458</td>\n",
       "      <td>en</td>\n",
       "      <td>Vseki ima svoya izbor</td>\n",
       "      <td>This short film is about two life styles - the...</td>\n",
       "      <td>0.600</td>\n",
       "      <td>None</td>\n",
       "      <td>[{'id': 50219, 'logo_path': None, 'name': 'Cla...</td>\n",
       "      <td>[{'iso_3166_1': 'BG', 'name': 'Bulgaria'}]</td>\n",
       "      <td>2012-06-26</td>\n",
       "      <td>0</td>\n",
       "      <td>3.0</td>\n",
       "      <td>[]</td>\n",
       "      <td>Released</td>\n",
       "      <td></td>\n",
       "      <td>Vseki ima svoya izbor</td>\n",
       "      <td>False</td>\n",
       "      <td>0.0</td>\n",
       "      <td>0</td>\n",
       "    </tr>\n",
       "  </tbody>\n",
       "</table>\n",
       "</div>"
      ],
      "text/plain": [
       "   adult                     backdrop_path belongs_to_collection  budget  \\\n",
       "0  False                              None                  None       0   \n",
       "1  False  /few5N131MmjNkQDnZ7jSG1AOxRb.jpg                  None       0   \n",
       "2  False                              None                  None       0   \n",
       "3  False  /nOuif4jU9EX9tOeXc6Zwurl39BE.jpg                  None       0   \n",
       "4  False                              None                  None       0   \n",
       "\n",
       "                                              genres  \\\n",
       "0                                                 []   \n",
       "1  [{'id': 27, 'name': 'Horror'}, {'id': 53, 'nam...   \n",
       "2  [{'id': 35, 'name': 'Comedy'}, {'id': 10402, '...   \n",
       "3  [{'id': 12, 'name': 'Adventure'}, {'id': 37, '...   \n",
       "4                                                 []   \n",
       "\n",
       "                            homepage      id    imdb_id original_language  \\\n",
       "0                               None  335001                           en   \n",
       "1                               None  335003  tt4177498                en   \n",
       "2  http://thrillingadventurehour.com  335004  tt4548442                en   \n",
       "3                               None  335005  tt0041413                en   \n",
       "4                               None  335006  tt2444458                en   \n",
       "\n",
       "                      original_title  \\\n",
       "0                                HOH   \n",
       "1                  A Room to Die For   \n",
       "2  The Thrilling Adventure Hour Live   \n",
       "3                     Ghost of Zorro   \n",
       "4              Vseki ima svoya izbor   \n",
       "\n",
       "                                            overview  popularity  \\\n",
       "0                                                          0.600   \n",
       "1  When a broke young couple rent a room in an el...       0.729   \n",
       "2  A concert film designed to bring the live Thri...       0.979   \n",
       "3  Although ostensibly the grand-son of the legen...       0.627   \n",
       "4  This short film is about two life styles - the...       0.600   \n",
       "\n",
       "                        poster_path  \\\n",
       "0  /wv9xhOfB9WHiiFCDxoiYAEm90Cy.jpg   \n",
       "1  /7MSPDL6HbbTcQ7hf7zC5f51zvG6.jpg   \n",
       "2  /idwLpR58NeK3CyvZT2UHhvqD3lE.jpg   \n",
       "3  /wigidYrQXpDoW7cVuEARhEYvcQl.jpg   \n",
       "4                              None   \n",
       "\n",
       "                                production_companies  \\\n",
       "0                                                 []   \n",
       "1  [{'id': 85724, 'logo_path': None, 'name': 'Swi...   \n",
       "2  [{'id': 21207, 'logo_path': '/bhgVefS8V22TxYn9...   \n",
       "3  [{'id': 1432, 'logo_path': '/8AcaWEWQ8MFUBGlt9...   \n",
       "4  [{'id': 50219, 'logo_path': None, 'name': 'Cla...   \n",
       "\n",
       "                                production_countries release_date  revenue  \\\n",
       "0                                                 []   2014-11-15        0   \n",
       "1   [{'iso_3166_1': 'GB', 'name': 'United Kingdom'}]   2017-01-16        0   \n",
       "2                                                 []   2015-03-01        0   \n",
       "3  [{'iso_3166_1': 'US', 'name': 'United States o...   1949-03-24        0   \n",
       "4         [{'iso_3166_1': 'BG', 'name': 'Bulgaria'}]   2012-06-26        0   \n",
       "\n",
       "   runtime                          spoken_languages    status  \\\n",
       "0    180.0                                        []  Released   \n",
       "1     84.0  [{'iso_639_1': 'en', 'name': 'English'}]  Released   \n",
       "2    113.0                                        []  Released   \n",
       "3    167.0  [{'iso_639_1': 'en', 'name': 'English'}]  Released   \n",
       "4      3.0                                        []  Released   \n",
       "\n",
       "                                             tagline  \\\n",
       "0                                                      \n",
       "1                                    Enjoy your stay   \n",
       "2                                                      \n",
       "3  NEVER SUCH COURAGE NEVER SUCH DARING NEVER SUC...   \n",
       "4                                                      \n",
       "\n",
       "                               title  video  vote_average  vote_count  \n",
       "0                                HOH  False           0.0           0  \n",
       "1                  A Room to Die For  False           5.7           3  \n",
       "2  The Thrilling Adventure Hour Live  False           9.0           1  \n",
       "3                     Ghost of Zorro  False           0.0           0  \n",
       "4              Vseki ima svoya izbor  False           0.0           0  "
      ]
     },
     "execution_count": 30,
     "metadata": {},
     "output_type": "execute_result"
    }
   ],
   "source": [
    "df_335_615k = pd.DataFrame.from_dict(list_335to360)\n",
    "df_335_615k.head()"
   ]
  },
  {
   "cell_type": "code",
   "execution_count": 31,
   "metadata": {},
   "outputs": [],
   "source": [
    "df_335_615k.to_csv('615k.csv')"
   ]
  },
  {
   "cell_type": "code",
   "execution_count": 37,
   "metadata": {},
   "outputs": [],
   "source": [
    "df_335 = pd.read_csv('335k.csv', lineterminator='\\n')"
   ]
  },
  {
   "cell_type": "code",
   "execution_count": 39,
   "metadata": {},
   "outputs": [],
   "source": [
    "df_335.drop('Unnamed: 0', inplace=True,axis=1)"
   ]
  },
  {
   "cell_type": "code",
   "execution_count": 40,
   "metadata": {},
   "outputs": [
    {
     "data": {
      "text/html": [
       "<div>\n",
       "<style scoped>\n",
       "    .dataframe tbody tr th:only-of-type {\n",
       "        vertical-align: middle;\n",
       "    }\n",
       "\n",
       "    .dataframe tbody tr th {\n",
       "        vertical-align: top;\n",
       "    }\n",
       "\n",
       "    .dataframe thead th {\n",
       "        text-align: right;\n",
       "    }\n",
       "</style>\n",
       "<table border=\"1\" class=\"dataframe\">\n",
       "  <thead>\n",
       "    <tr style=\"text-align: right;\">\n",
       "      <th></th>\n",
       "      <th>adult</th>\n",
       "      <th>backdrop_path</th>\n",
       "      <th>belongs_to_collection</th>\n",
       "      <th>budget</th>\n",
       "      <th>genres</th>\n",
       "      <th>homepage</th>\n",
       "      <th>id</th>\n",
       "      <th>imdb_id</th>\n",
       "      <th>original_language</th>\n",
       "      <th>original_title</th>\n",
       "      <th>overview</th>\n",
       "      <th>popularity</th>\n",
       "      <th>poster_path</th>\n",
       "      <th>production_companies</th>\n",
       "      <th>production_countries</th>\n",
       "      <th>release_date</th>\n",
       "      <th>revenue</th>\n",
       "      <th>runtime</th>\n",
       "      <th>spoken_languages</th>\n",
       "      <th>status</th>\n",
       "      <th>tagline</th>\n",
       "      <th>title</th>\n",
       "      <th>video</th>\n",
       "      <th>vote_average</th>\n",
       "      <th>vote_count</th>\n",
       "    </tr>\n",
       "  </thead>\n",
       "  <tbody>\n",
       "    <tr>\n",
       "      <th>0</th>\n",
       "      <td>False</td>\n",
       "      <td>/z2QUexmccqrvw1kDMw3R8TxAh5E.jpg</td>\n",
       "      <td>NaN</td>\n",
       "      <td>0</td>\n",
       "      <td>[{'id': 18, 'name': 'Drama'}, {'id': 80, 'name...</td>\n",
       "      <td>NaN</td>\n",
       "      <td>2</td>\n",
       "      <td>tt0094675</td>\n",
       "      <td>fi</td>\n",
       "      <td>Ariel</td>\n",
       "      <td>Taisto Kasurinen is a Finnish coal miner whose...</td>\n",
       "      <td>6.663</td>\n",
       "      <td>/w0NzAc4Lv6euPtPAmsdEf0ZCF8C.jpg</td>\n",
       "      <td>[{'id': 2303, 'logo_path': None, 'name': 'Vill...</td>\n",
       "      <td>[{'iso_3166_1': 'FI', 'name': 'Finland'}]</td>\n",
       "      <td>1988-10-21</td>\n",
       "      <td>0</td>\n",
       "      <td>73.0</td>\n",
       "      <td>[{'iso_639_1': 'de', 'name': 'Deutsch'}, {'iso...</td>\n",
       "      <td>Released</td>\n",
       "      <td>NaN</td>\n",
       "      <td>Ariel</td>\n",
       "      <td>False</td>\n",
       "      <td>7.0</td>\n",
       "      <td>74</td>\n",
       "    </tr>\n",
       "    <tr>\n",
       "      <th>1</th>\n",
       "      <td>False</td>\n",
       "      <td>/6YjUX87VtIEuDzanBE6obVxE9V3.jpg</td>\n",
       "      <td>NaN</td>\n",
       "      <td>0</td>\n",
       "      <td>[{'id': 18, 'name': 'Drama'}, {'id': 35, 'name...</td>\n",
       "      <td>NaN</td>\n",
       "      <td>3</td>\n",
       "      <td>tt0092149</td>\n",
       "      <td>fi</td>\n",
       "      <td>Varjoja paratiisissa</td>\n",
       "      <td>An episode in the life of Nikander, a garbage ...</td>\n",
       "      <td>5.779</td>\n",
       "      <td>/7ad4iku8cYBuB08g9yAU7tHJik5.jpg</td>\n",
       "      <td>[{'id': 2303, 'logo_path': None, 'name': 'Vill...</td>\n",
       "      <td>[{'iso_3166_1': 'FI', 'name': 'Finland'}]</td>\n",
       "      <td>1986-10-17</td>\n",
       "      <td>0</td>\n",
       "      <td>72.0</td>\n",
       "      <td>[{'iso_639_1': 'en', 'name': 'English'}, {'iso...</td>\n",
       "      <td>Released</td>\n",
       "      <td>NaN</td>\n",
       "      <td>Shadows in Paradise</td>\n",
       "      <td>False</td>\n",
       "      <td>7.5</td>\n",
       "      <td>90</td>\n",
       "    </tr>\n",
       "    <tr>\n",
       "      <th>2</th>\n",
       "      <td>False</td>\n",
       "      <td>/3EqYpbGCE9S5GddU2K4cYzP5UmI.jpg</td>\n",
       "      <td>NaN</td>\n",
       "      <td>4000000</td>\n",
       "      <td>[{'id': 80, 'name': 'Crime'}, {'id': 35, 'name...</td>\n",
       "      <td>NaN</td>\n",
       "      <td>5</td>\n",
       "      <td>tt0113101</td>\n",
       "      <td>en</td>\n",
       "      <td>Four Rooms</td>\n",
       "      <td>It's Ted the Bellhop's first night on the job....</td>\n",
       "      <td>13.250</td>\n",
       "      <td>/eQs5hh9rxrk1m4xHsIz1w11Ngqb.jpg</td>\n",
       "      <td>[{'id': 14, 'logo_path': '/m6AHu84oZQxvq7n1rsv...</td>\n",
       "      <td>[{'iso_3166_1': 'US', 'name': 'United States o...</td>\n",
       "      <td>1995-12-09</td>\n",
       "      <td>4300000</td>\n",
       "      <td>98.0</td>\n",
       "      <td>[{'iso_639_1': 'en', 'name': 'English'}]</td>\n",
       "      <td>Released</td>\n",
       "      <td>Twelve outrageous guests. Four scandalous requ...</td>\n",
       "      <td>Four Rooms</td>\n",
       "      <td>False</td>\n",
       "      <td>6.1</td>\n",
       "      <td>1211</td>\n",
       "    </tr>\n",
       "    <tr>\n",
       "      <th>3</th>\n",
       "      <td>False</td>\n",
       "      <td>/eXKgVIjLCFNpQkjVg1VpA8yM2GA.jpg</td>\n",
       "      <td>NaN</td>\n",
       "      <td>21000000</td>\n",
       "      <td>[{'id': 28, 'name': 'Action'}, {'id': 53, 'nam...</td>\n",
       "      <td>NaN</td>\n",
       "      <td>6</td>\n",
       "      <td>tt0107286</td>\n",
       "      <td>en</td>\n",
       "      <td>Judgment Night</td>\n",
       "      <td>While racing to a boxing match, Frank, Mike, J...</td>\n",
       "      <td>11.510</td>\n",
       "      <td>/lNXmgUrP6h1nD53gkFh4WDzT6RZ.jpg</td>\n",
       "      <td>[{'id': 33, 'logo_path': '/8lvHyhjr8oUKOOy2dKX...</td>\n",
       "      <td>[{'iso_3166_1': 'JP', 'name': 'Japan'}, {'iso_...</td>\n",
       "      <td>1993-10-15</td>\n",
       "      <td>12136938</td>\n",
       "      <td>110.0</td>\n",
       "      <td>[{'iso_639_1': 'en', 'name': 'English'}]</td>\n",
       "      <td>Released</td>\n",
       "      <td>Don't move. Don't whisper. Don't even breathe.</td>\n",
       "      <td>Judgment Night</td>\n",
       "      <td>False</td>\n",
       "      <td>6.6</td>\n",
       "      <td>120</td>\n",
       "    </tr>\n",
       "    <tr>\n",
       "      <th>4</th>\n",
       "      <td>False</td>\n",
       "      <td>/udvB86uyzJ6P9vmB83WfrCbnmnI.jpg</td>\n",
       "      <td>NaN</td>\n",
       "      <td>42000</td>\n",
       "      <td>[{'id': 99, 'name': 'Documentary'}]</td>\n",
       "      <td>http://www.lifeinloops.com</td>\n",
       "      <td>8</td>\n",
       "      <td>tt0825671</td>\n",
       "      <td>en</td>\n",
       "      <td>Life in Loops (A Megacities RMX)</td>\n",
       "      <td>Timo Novotny labels his new project an experim...</td>\n",
       "      <td>1.422</td>\n",
       "      <td>/8YyIjOAxwzD3fZMdmJrfiApod4l.jpg</td>\n",
       "      <td>[{'id': 19123, 'logo_path': None, 'name': 'inL...</td>\n",
       "      <td>[{'iso_3166_1': 'AT', 'name': 'Austria'}]</td>\n",
       "      <td>2006-01-01</td>\n",
       "      <td>0</td>\n",
       "      <td>80.0</td>\n",
       "      <td>[{'iso_639_1': 'en', 'name': 'English'}, {'iso...</td>\n",
       "      <td>Released</td>\n",
       "      <td>A Megacities remix.</td>\n",
       "      <td>Life in Loops (A Megacities RMX)</td>\n",
       "      <td>False</td>\n",
       "      <td>7.4</td>\n",
       "      <td>7</td>\n",
       "    </tr>\n",
       "  </tbody>\n",
       "</table>\n",
       "</div>"
      ],
      "text/plain": [
       "   adult                     backdrop_path belongs_to_collection    budget  \\\n",
       "0  False  /z2QUexmccqrvw1kDMw3R8TxAh5E.jpg                   NaN         0   \n",
       "1  False  /6YjUX87VtIEuDzanBE6obVxE9V3.jpg                   NaN         0   \n",
       "2  False  /3EqYpbGCE9S5GddU2K4cYzP5UmI.jpg                   NaN   4000000   \n",
       "3  False  /eXKgVIjLCFNpQkjVg1VpA8yM2GA.jpg                   NaN  21000000   \n",
       "4  False  /udvB86uyzJ6P9vmB83WfrCbnmnI.jpg                   NaN     42000   \n",
       "\n",
       "                                              genres  \\\n",
       "0  [{'id': 18, 'name': 'Drama'}, {'id': 80, 'name...   \n",
       "1  [{'id': 18, 'name': 'Drama'}, {'id': 35, 'name...   \n",
       "2  [{'id': 80, 'name': 'Crime'}, {'id': 35, 'name...   \n",
       "3  [{'id': 28, 'name': 'Action'}, {'id': 53, 'nam...   \n",
       "4                [{'id': 99, 'name': 'Documentary'}]   \n",
       "\n",
       "                     homepage  id    imdb_id original_language  \\\n",
       "0                         NaN   2  tt0094675                fi   \n",
       "1                         NaN   3  tt0092149                fi   \n",
       "2                         NaN   5  tt0113101                en   \n",
       "3                         NaN   6  tt0107286                en   \n",
       "4  http://www.lifeinloops.com   8  tt0825671                en   \n",
       "\n",
       "                     original_title  \\\n",
       "0                             Ariel   \n",
       "1              Varjoja paratiisissa   \n",
       "2                        Four Rooms   \n",
       "3                    Judgment Night   \n",
       "4  Life in Loops (A Megacities RMX)   \n",
       "\n",
       "                                            overview  popularity  \\\n",
       "0  Taisto Kasurinen is a Finnish coal miner whose...       6.663   \n",
       "1  An episode in the life of Nikander, a garbage ...       5.779   \n",
       "2  It's Ted the Bellhop's first night on the job....      13.250   \n",
       "3  While racing to a boxing match, Frank, Mike, J...      11.510   \n",
       "4  Timo Novotny labels his new project an experim...       1.422   \n",
       "\n",
       "                        poster_path  \\\n",
       "0  /w0NzAc4Lv6euPtPAmsdEf0ZCF8C.jpg   \n",
       "1  /7ad4iku8cYBuB08g9yAU7tHJik5.jpg   \n",
       "2  /eQs5hh9rxrk1m4xHsIz1w11Ngqb.jpg   \n",
       "3  /lNXmgUrP6h1nD53gkFh4WDzT6RZ.jpg   \n",
       "4  /8YyIjOAxwzD3fZMdmJrfiApod4l.jpg   \n",
       "\n",
       "                                production_companies  \\\n",
       "0  [{'id': 2303, 'logo_path': None, 'name': 'Vill...   \n",
       "1  [{'id': 2303, 'logo_path': None, 'name': 'Vill...   \n",
       "2  [{'id': 14, 'logo_path': '/m6AHu84oZQxvq7n1rsv...   \n",
       "3  [{'id': 33, 'logo_path': '/8lvHyhjr8oUKOOy2dKX...   \n",
       "4  [{'id': 19123, 'logo_path': None, 'name': 'inL...   \n",
       "\n",
       "                                production_countries release_date   revenue  \\\n",
       "0          [{'iso_3166_1': 'FI', 'name': 'Finland'}]   1988-10-21         0   \n",
       "1          [{'iso_3166_1': 'FI', 'name': 'Finland'}]   1986-10-17         0   \n",
       "2  [{'iso_3166_1': 'US', 'name': 'United States o...   1995-12-09   4300000   \n",
       "3  [{'iso_3166_1': 'JP', 'name': 'Japan'}, {'iso_...   1993-10-15  12136938   \n",
       "4          [{'iso_3166_1': 'AT', 'name': 'Austria'}]   2006-01-01         0   \n",
       "\n",
       "   runtime                                   spoken_languages    status  \\\n",
       "0     73.0  [{'iso_639_1': 'de', 'name': 'Deutsch'}, {'iso...  Released   \n",
       "1     72.0  [{'iso_639_1': 'en', 'name': 'English'}, {'iso...  Released   \n",
       "2     98.0           [{'iso_639_1': 'en', 'name': 'English'}]  Released   \n",
       "3    110.0           [{'iso_639_1': 'en', 'name': 'English'}]  Released   \n",
       "4     80.0  [{'iso_639_1': 'en', 'name': 'English'}, {'iso...  Released   \n",
       "\n",
       "                                             tagline  \\\n",
       "0                                                NaN   \n",
       "1                                                NaN   \n",
       "2  Twelve outrageous guests. Four scandalous requ...   \n",
       "3     Don't move. Don't whisper. Don't even breathe.   \n",
       "4                                A Megacities remix.   \n",
       "\n",
       "                              title  video  vote_average  vote_count  \n",
       "0                             Ariel  False           7.0          74  \n",
       "1               Shadows in Paradise  False           7.5          90  \n",
       "2                        Four Rooms  False           6.1        1211  \n",
       "3                    Judgment Night  False           6.6         120  \n",
       "4  Life in Loops (A Megacities RMX)  False           7.4           7  "
      ]
     },
     "execution_count": 40,
     "metadata": {},
     "output_type": "execute_result"
    }
   ],
   "source": [
    "df_335.head()"
   ]
  },
  {
   "cell_type": "code",
   "execution_count": 41,
   "metadata": {},
   "outputs": [
    {
     "data": {
      "text/html": [
       "<div>\n",
       "<style scoped>\n",
       "    .dataframe tbody tr th:only-of-type {\n",
       "        vertical-align: middle;\n",
       "    }\n",
       "\n",
       "    .dataframe tbody tr th {\n",
       "        vertical-align: top;\n",
       "    }\n",
       "\n",
       "    .dataframe thead th {\n",
       "        text-align: right;\n",
       "    }\n",
       "</style>\n",
       "<table border=\"1\" class=\"dataframe\">\n",
       "  <thead>\n",
       "    <tr style=\"text-align: right;\">\n",
       "      <th></th>\n",
       "      <th>adult</th>\n",
       "      <th>backdrop_path</th>\n",
       "      <th>belongs_to_collection</th>\n",
       "      <th>budget</th>\n",
       "      <th>genres</th>\n",
       "      <th>homepage</th>\n",
       "      <th>id</th>\n",
       "      <th>imdb_id</th>\n",
       "      <th>original_language</th>\n",
       "      <th>original_title</th>\n",
       "      <th>overview</th>\n",
       "      <th>popularity</th>\n",
       "      <th>poster_path</th>\n",
       "      <th>production_companies</th>\n",
       "      <th>production_countries</th>\n",
       "      <th>release_date</th>\n",
       "      <th>revenue</th>\n",
       "      <th>runtime</th>\n",
       "      <th>spoken_languages</th>\n",
       "      <th>status</th>\n",
       "      <th>tagline</th>\n",
       "      <th>title</th>\n",
       "      <th>video</th>\n",
       "      <th>vote_average</th>\n",
       "      <th>vote_count</th>\n",
       "    </tr>\n",
       "  </thead>\n",
       "  <tbody>\n",
       "    <tr>\n",
       "      <th>0</th>\n",
       "      <td>False</td>\n",
       "      <td>/z2QUexmccqrvw1kDMw3R8TxAh5E.jpg</td>\n",
       "      <td>NaN</td>\n",
       "      <td>0</td>\n",
       "      <td>[{'id': 18, 'name': 'Drama'}, {'id': 80, 'name...</td>\n",
       "      <td>NaN</td>\n",
       "      <td>2</td>\n",
       "      <td>tt0094675</td>\n",
       "      <td>fi</td>\n",
       "      <td>Ariel</td>\n",
       "      <td>Taisto Kasurinen is a Finnish coal miner whose...</td>\n",
       "      <td>6.663</td>\n",
       "      <td>/w0NzAc4Lv6euPtPAmsdEf0ZCF8C.jpg</td>\n",
       "      <td>[{'id': 2303, 'logo_path': None, 'name': 'Vill...</td>\n",
       "      <td>[{'iso_3166_1': 'FI', 'name': 'Finland'}]</td>\n",
       "      <td>1988-10-21</td>\n",
       "      <td>0</td>\n",
       "      <td>73.0</td>\n",
       "      <td>[{'iso_639_1': 'de', 'name': 'Deutsch'}, {'iso...</td>\n",
       "      <td>Released</td>\n",
       "      <td>NaN</td>\n",
       "      <td>Ariel</td>\n",
       "      <td>False</td>\n",
       "      <td>7.0</td>\n",
       "      <td>74</td>\n",
       "    </tr>\n",
       "    <tr>\n",
       "      <th>1</th>\n",
       "      <td>False</td>\n",
       "      <td>/6YjUX87VtIEuDzanBE6obVxE9V3.jpg</td>\n",
       "      <td>NaN</td>\n",
       "      <td>0</td>\n",
       "      <td>[{'id': 18, 'name': 'Drama'}, {'id': 35, 'name...</td>\n",
       "      <td>NaN</td>\n",
       "      <td>3</td>\n",
       "      <td>tt0092149</td>\n",
       "      <td>fi</td>\n",
       "      <td>Varjoja paratiisissa</td>\n",
       "      <td>An episode in the life of Nikander, a garbage ...</td>\n",
       "      <td>5.779</td>\n",
       "      <td>/7ad4iku8cYBuB08g9yAU7tHJik5.jpg</td>\n",
       "      <td>[{'id': 2303, 'logo_path': None, 'name': 'Vill...</td>\n",
       "      <td>[{'iso_3166_1': 'FI', 'name': 'Finland'}]</td>\n",
       "      <td>1986-10-17</td>\n",
       "      <td>0</td>\n",
       "      <td>72.0</td>\n",
       "      <td>[{'iso_639_1': 'en', 'name': 'English'}, {'iso...</td>\n",
       "      <td>Released</td>\n",
       "      <td>NaN</td>\n",
       "      <td>Shadows in Paradise</td>\n",
       "      <td>False</td>\n",
       "      <td>7.5</td>\n",
       "      <td>90</td>\n",
       "    </tr>\n",
       "    <tr>\n",
       "      <th>2</th>\n",
       "      <td>False</td>\n",
       "      <td>/3EqYpbGCE9S5GddU2K4cYzP5UmI.jpg</td>\n",
       "      <td>NaN</td>\n",
       "      <td>4000000</td>\n",
       "      <td>[{'id': 80, 'name': 'Crime'}, {'id': 35, 'name...</td>\n",
       "      <td>NaN</td>\n",
       "      <td>5</td>\n",
       "      <td>tt0113101</td>\n",
       "      <td>en</td>\n",
       "      <td>Four Rooms</td>\n",
       "      <td>It's Ted the Bellhop's first night on the job....</td>\n",
       "      <td>13.250</td>\n",
       "      <td>/eQs5hh9rxrk1m4xHsIz1w11Ngqb.jpg</td>\n",
       "      <td>[{'id': 14, 'logo_path': '/m6AHu84oZQxvq7n1rsv...</td>\n",
       "      <td>[{'iso_3166_1': 'US', 'name': 'United States o...</td>\n",
       "      <td>1995-12-09</td>\n",
       "      <td>4300000</td>\n",
       "      <td>98.0</td>\n",
       "      <td>[{'iso_639_1': 'en', 'name': 'English'}]</td>\n",
       "      <td>Released</td>\n",
       "      <td>Twelve outrageous guests. Four scandalous requ...</td>\n",
       "      <td>Four Rooms</td>\n",
       "      <td>False</td>\n",
       "      <td>6.1</td>\n",
       "      <td>1211</td>\n",
       "    </tr>\n",
       "    <tr>\n",
       "      <th>3</th>\n",
       "      <td>False</td>\n",
       "      <td>/eXKgVIjLCFNpQkjVg1VpA8yM2GA.jpg</td>\n",
       "      <td>NaN</td>\n",
       "      <td>21000000</td>\n",
       "      <td>[{'id': 28, 'name': 'Action'}, {'id': 53, 'nam...</td>\n",
       "      <td>NaN</td>\n",
       "      <td>6</td>\n",
       "      <td>tt0107286</td>\n",
       "      <td>en</td>\n",
       "      <td>Judgment Night</td>\n",
       "      <td>While racing to a boxing match, Frank, Mike, J...</td>\n",
       "      <td>11.510</td>\n",
       "      <td>/lNXmgUrP6h1nD53gkFh4WDzT6RZ.jpg</td>\n",
       "      <td>[{'id': 33, 'logo_path': '/8lvHyhjr8oUKOOy2dKX...</td>\n",
       "      <td>[{'iso_3166_1': 'JP', 'name': 'Japan'}, {'iso_...</td>\n",
       "      <td>1993-10-15</td>\n",
       "      <td>12136938</td>\n",
       "      <td>110.0</td>\n",
       "      <td>[{'iso_639_1': 'en', 'name': 'English'}]</td>\n",
       "      <td>Released</td>\n",
       "      <td>Don't move. Don't whisper. Don't even breathe.</td>\n",
       "      <td>Judgment Night</td>\n",
       "      <td>False</td>\n",
       "      <td>6.6</td>\n",
       "      <td>120</td>\n",
       "    </tr>\n",
       "    <tr>\n",
       "      <th>4</th>\n",
       "      <td>False</td>\n",
       "      <td>/udvB86uyzJ6P9vmB83WfrCbnmnI.jpg</td>\n",
       "      <td>NaN</td>\n",
       "      <td>42000</td>\n",
       "      <td>[{'id': 99, 'name': 'Documentary'}]</td>\n",
       "      <td>http://www.lifeinloops.com</td>\n",
       "      <td>8</td>\n",
       "      <td>tt0825671</td>\n",
       "      <td>en</td>\n",
       "      <td>Life in Loops (A Megacities RMX)</td>\n",
       "      <td>Timo Novotny labels his new project an experim...</td>\n",
       "      <td>1.422</td>\n",
       "      <td>/8YyIjOAxwzD3fZMdmJrfiApod4l.jpg</td>\n",
       "      <td>[{'id': 19123, 'logo_path': None, 'name': 'inL...</td>\n",
       "      <td>[{'iso_3166_1': 'AT', 'name': 'Austria'}]</td>\n",
       "      <td>2006-01-01</td>\n",
       "      <td>0</td>\n",
       "      <td>80.0</td>\n",
       "      <td>[{'iso_639_1': 'en', 'name': 'English'}, {'iso...</td>\n",
       "      <td>Released</td>\n",
       "      <td>A Megacities remix.</td>\n",
       "      <td>Life in Loops (A Megacities RMX)</td>\n",
       "      <td>False</td>\n",
       "      <td>7.4</td>\n",
       "      <td>7</td>\n",
       "    </tr>\n",
       "  </tbody>\n",
       "</table>\n",
       "</div>"
      ],
      "text/plain": [
       "   adult                     backdrop_path belongs_to_collection    budget  \\\n",
       "0  False  /z2QUexmccqrvw1kDMw3R8TxAh5E.jpg                   NaN         0   \n",
       "1  False  /6YjUX87VtIEuDzanBE6obVxE9V3.jpg                   NaN         0   \n",
       "2  False  /3EqYpbGCE9S5GddU2K4cYzP5UmI.jpg                   NaN   4000000   \n",
       "3  False  /eXKgVIjLCFNpQkjVg1VpA8yM2GA.jpg                   NaN  21000000   \n",
       "4  False  /udvB86uyzJ6P9vmB83WfrCbnmnI.jpg                   NaN     42000   \n",
       "\n",
       "                                              genres  \\\n",
       "0  [{'id': 18, 'name': 'Drama'}, {'id': 80, 'name...   \n",
       "1  [{'id': 18, 'name': 'Drama'}, {'id': 35, 'name...   \n",
       "2  [{'id': 80, 'name': 'Crime'}, {'id': 35, 'name...   \n",
       "3  [{'id': 28, 'name': 'Action'}, {'id': 53, 'nam...   \n",
       "4                [{'id': 99, 'name': 'Documentary'}]   \n",
       "\n",
       "                     homepage  id    imdb_id original_language  \\\n",
       "0                         NaN   2  tt0094675                fi   \n",
       "1                         NaN   3  tt0092149                fi   \n",
       "2                         NaN   5  tt0113101                en   \n",
       "3                         NaN   6  tt0107286                en   \n",
       "4  http://www.lifeinloops.com   8  tt0825671                en   \n",
       "\n",
       "                     original_title  \\\n",
       "0                             Ariel   \n",
       "1              Varjoja paratiisissa   \n",
       "2                        Four Rooms   \n",
       "3                    Judgment Night   \n",
       "4  Life in Loops (A Megacities RMX)   \n",
       "\n",
       "                                            overview  popularity  \\\n",
       "0  Taisto Kasurinen is a Finnish coal miner whose...       6.663   \n",
       "1  An episode in the life of Nikander, a garbage ...       5.779   \n",
       "2  It's Ted the Bellhop's first night on the job....      13.250   \n",
       "3  While racing to a boxing match, Frank, Mike, J...      11.510   \n",
       "4  Timo Novotny labels his new project an experim...       1.422   \n",
       "\n",
       "                        poster_path  \\\n",
       "0  /w0NzAc4Lv6euPtPAmsdEf0ZCF8C.jpg   \n",
       "1  /7ad4iku8cYBuB08g9yAU7tHJik5.jpg   \n",
       "2  /eQs5hh9rxrk1m4xHsIz1w11Ngqb.jpg   \n",
       "3  /lNXmgUrP6h1nD53gkFh4WDzT6RZ.jpg   \n",
       "4  /8YyIjOAxwzD3fZMdmJrfiApod4l.jpg   \n",
       "\n",
       "                                production_companies  \\\n",
       "0  [{'id': 2303, 'logo_path': None, 'name': 'Vill...   \n",
       "1  [{'id': 2303, 'logo_path': None, 'name': 'Vill...   \n",
       "2  [{'id': 14, 'logo_path': '/m6AHu84oZQxvq7n1rsv...   \n",
       "3  [{'id': 33, 'logo_path': '/8lvHyhjr8oUKOOy2dKX...   \n",
       "4  [{'id': 19123, 'logo_path': None, 'name': 'inL...   \n",
       "\n",
       "                                production_countries release_date   revenue  \\\n",
       "0          [{'iso_3166_1': 'FI', 'name': 'Finland'}]   1988-10-21         0   \n",
       "1          [{'iso_3166_1': 'FI', 'name': 'Finland'}]   1986-10-17         0   \n",
       "2  [{'iso_3166_1': 'US', 'name': 'United States o...   1995-12-09   4300000   \n",
       "3  [{'iso_3166_1': 'JP', 'name': 'Japan'}, {'iso_...   1993-10-15  12136938   \n",
       "4          [{'iso_3166_1': 'AT', 'name': 'Austria'}]   2006-01-01         0   \n",
       "\n",
       "   runtime                                   spoken_languages    status  \\\n",
       "0     73.0  [{'iso_639_1': 'de', 'name': 'Deutsch'}, {'iso...  Released   \n",
       "1     72.0  [{'iso_639_1': 'en', 'name': 'English'}, {'iso...  Released   \n",
       "2     98.0           [{'iso_639_1': 'en', 'name': 'English'}]  Released   \n",
       "3    110.0           [{'iso_639_1': 'en', 'name': 'English'}]  Released   \n",
       "4     80.0  [{'iso_639_1': 'en', 'name': 'English'}, {'iso...  Released   \n",
       "\n",
       "                                             tagline  \\\n",
       "0                                                NaN   \n",
       "1                                                NaN   \n",
       "2  Twelve outrageous guests. Four scandalous requ...   \n",
       "3     Don't move. Don't whisper. Don't even breathe.   \n",
       "4                                A Megacities remix.   \n",
       "\n",
       "                              title  video  vote_average  vote_count  \n",
       "0                             Ariel  False           7.0          74  \n",
       "1               Shadows in Paradise  False           7.5          90  \n",
       "2                        Four Rooms  False           6.1        1211  \n",
       "3                    Judgment Night  False           6.6         120  \n",
       "4  Life in Loops (A Megacities RMX)  False           7.4           7  "
      ]
     },
     "execution_count": 41,
     "metadata": {},
     "output_type": "execute_result"
    }
   ],
   "source": [
    "full = pd.concat([df_335, df_335_615k])\n",
    "full.head()"
   ]
  },
  {
   "cell_type": "code",
   "execution_count": 43,
   "metadata": {},
   "outputs": [
    {
     "data": {
      "text/plain": [
       "False    446713\n",
       "True      22577\n",
       "Name: video, dtype: int64"
      ]
     },
     "execution_count": 43,
     "metadata": {},
     "output_type": "execute_result"
    }
   ],
   "source": [
    "full.video.value_counts()"
   ]
  },
  {
   "cell_type": "code",
   "execution_count": 44,
   "metadata": {},
   "outputs": [
    {
     "data": {
      "text/plain": [
       "False    444764\n",
       "True      24526\n",
       "Name: adult, dtype: int64"
      ]
     },
     "execution_count": 44,
     "metadata": {},
     "output_type": "execute_result"
    }
   ],
   "source": [
    "full.adult.value_counts()"
   ]
  },
  {
   "cell_type": "code",
   "execution_count": 45,
   "metadata": {},
   "outputs": [],
   "source": [
    "full.drop(['backdrop_path', 'belongs_to_collection', 'homepage', 'poster_path', 'status','video'],inplace=True,axis=1)"
   ]
  },
  {
   "cell_type": "code",
   "execution_count": 47,
   "metadata": {},
   "outputs": [
    {
     "data": {
      "text/plain": [
       "False    444764\n",
       "Name: adult, dtype: int64"
      ]
     },
     "execution_count": 47,
     "metadata": {},
     "output_type": "execute_result"
    }
   ],
   "source": [
    "full = full.loc[full.adult != True]\n",
    "full.adult.value_counts()"
   ]
  },
  {
   "cell_type": "code",
   "execution_count": 48,
   "metadata": {},
   "outputs": [],
   "source": [
    "full.drop('adult',inplace=True,axis=1)"
   ]
  },
  {
   "cell_type": "code",
   "execution_count": 49,
   "metadata": {},
   "outputs": [
    {
     "name": "stdout",
     "output_type": "stream",
     "text": [
      "<class 'pandas.core.frame.DataFrame'>\n",
      "Int64Index: 444764 entries, 0 to 247340\n",
      "Data columns (total 18 columns):\n",
      "budget                  444764 non-null int64\n",
      "genres                  444764 non-null object\n",
      "id                      444764 non-null int64\n",
      "imdb_id                 342547 non-null object\n",
      "original_language       444764 non-null object\n",
      "original_title          444763 non-null object\n",
      "overview                421530 non-null object\n",
      "popularity              444764 non-null float64\n",
      "production_companies    444764 non-null object\n",
      "production_countries    444764 non-null object\n",
      "release_date            436314 non-null object\n",
      "revenue                 444764 non-null int64\n",
      "runtime                 318782 non-null float64\n",
      "spoken_languages        444764 non-null object\n",
      "tagline                 271775 non-null object\n",
      "title                   444763 non-null object\n",
      "vote_average            444764 non-null float64\n",
      "vote_count              444764 non-null int64\n",
      "dtypes: float64(3), int64(4), object(11)\n",
      "memory usage: 64.5+ MB\n"
     ]
    }
   ],
   "source": [
    "full.info()"
   ]
  },
  {
   "cell_type": "code",
   "execution_count": 56,
   "metadata": {},
   "outputs": [
    {
     "data": {
      "text/plain": [
       "budget                  36862\n",
       "genres                  36862\n",
       "id                      36862\n",
       "imdb_id                 36771\n",
       "original_language       36862\n",
       "original_title          36862\n",
       "overview                36326\n",
       "popularity              36862\n",
       "production_companies    36862\n",
       "production_countries    36862\n",
       "release_date            36859\n",
       "revenue                 36862\n",
       "runtime                 35828\n",
       "spoken_languages        36862\n",
       "tagline                 21912\n",
       "title                   36862\n",
       "vote_average            36862\n",
       "vote_count              36862\n",
       "dtype: int64"
      ]
     },
     "execution_count": 56,
     "metadata": {},
     "output_type": "execute_result"
    }
   ],
   "source": [
    "full[full['vote_count'] > 10].count()"
   ]
  },
  {
   "cell_type": "code",
   "execution_count": 54,
   "metadata": {},
   "outputs": [
    {
     "data": {
      "text/plain": [
       "0     [{'id': 18, 'name': 'Drama'}, {'id': 80, 'name...\n",
       "1     [{'id': 18, 'name': 'Drama'}, {'id': 35, 'name...\n",
       "2     [{'id': 80, 'name': 'Crime'}, {'id': 35, 'name...\n",
       "3     [{'id': 28, 'name': 'Action'}, {'id': 53, 'nam...\n",
       "4                   [{'id': 99, 'name': 'Documentary'}]\n",
       "5                         [{'id': 18, 'name': 'Drama'}]\n",
       "6     [{'id': 12, 'name': 'Adventure'}, {'id': 28, '...\n",
       "7     [{'id': 16, 'name': 'Animation'}, {'id': 10751...\n",
       "8     [{'id': 35, 'name': 'Comedy'}, {'id': 18, 'nam...\n",
       "9                         [{'id': 18, 'name': 'Drama'}]\n",
       "10    [{'id': 9648, 'name': 'Mystery'}, {'id': 18, '...\n",
       "11    [{'id': 18, 'name': 'Drama'}, {'id': 80, 'name...\n",
       "12    [{'id': 27, 'name': 'Horror'}, {'id': 53, 'nam...\n",
       "13    [{'id': 12, 'name': 'Adventure'}, {'id': 14, '...\n",
       "14    [{'id': 18, 'name': 'Drama'}, {'id': 878, 'nam...\n",
       "15    [{'id': 18, 'name': 'Drama'}, {'id': 10749, 'n...\n",
       "16                  [{'id': 99, 'name': 'Documentary'}]\n",
       "17    [{'id': 12, 'name': 'Adventure'}, {'id': 14, '...\n",
       "18    [{'id': 28, 'name': 'Action'}, {'id': 80, 'nam...\n",
       "19    [{'id': 18, 'name': 'Drama'}, {'id': 10752, 'n...\n",
       "20                        [{'id': 18, 'name': 'Drama'}]\n",
       "21    [{'id': 18, 'name': 'Drama'}, {'id': 10402, 'n...\n",
       "22    [{'id': 18, 'name': 'Drama'}, {'id': 10752, 'n...\n",
       "23    [{'id': 16, 'name': 'Animation'}, {'id': 878, ...\n",
       "24    [{'id': 28, 'name': 'Action'}, {'id': 16, 'nam...\n",
       "25    [{'id': 16, 'name': 'Animation'}, {'id': 36, '...\n",
       "26                      [{'id': 37, 'name': 'Western'}]\n",
       "27    [{'id': 16, 'name': 'Animation'}, {'id': 35, '...\n",
       "28    [{'id': 878, 'name': 'Science Fiction'}, {'id'...\n",
       "29    [{'id': 18, 'name': 'Drama'}, {'id': 53, 'name...\n",
       "30    [{'id': 12, 'name': 'Adventure'}, {'id': 14, '...\n",
       "31    [{'id': 18, 'name': 'Drama'}, {'id': 53, 'name...\n",
       "32    [{'id': 18, 'name': 'Drama'}, {'id': 10402, 'n...\n",
       "33    [{'id': 80, 'name': 'Crime'}, {'id': 18, 'name...\n",
       "34    [{'id': 53, 'name': 'Thriller'}, {'id': 80, 'n...\n",
       "35    [{'id': 35, 'name': 'Comedy'}, {'id': 878, 'na...\n",
       "36    [{'id': 18, 'name': 'Drama'}, {'id': 10402, 'n...\n",
       "37                        [{'id': 18, 'name': 'Drama'}]\n",
       "38    [{'id': 18, 'name': 'Drama'}, {'id': 35, 'name...\n",
       "39                        [{'id': 18, 'name': 'Drama'}]\n",
       "40    [{'id': 12, 'name': 'Adventure'}, {'id': 53, '...\n",
       "41    [{'id': 35, 'name': 'Comedy'}, {'id': 14, 'nam...\n",
       "42    [{'id': 18, 'name': 'Drama'}, {'id': 10749, 'n...\n",
       "43    [{'id': 9648, 'name': 'Mystery'}, {'id': 53, '...\n",
       "44    [{'id': 878, 'name': 'Science Fiction'}, {'id'...\n",
       "45    [{'id': 18, 'name': 'Drama'}, {'id': 12, 'name...\n",
       "46    [{'id': 18, 'name': 'Drama'}, {'id': 10749, 'n...\n",
       "47    [{'id': 12, 'name': 'Adventure'}, {'id': 16, '...\n",
       "48    [{'id': 28, 'name': 'Action'}, {'id': 12, 'nam...\n",
       "49    [{'id': 18, 'name': 'Drama'}, {'id': 53, 'name...\n",
       "Name: genres, dtype: object"
      ]
     },
     "execution_count": 54,
     "metadata": {},
     "output_type": "execute_result"
    }
   ],
   "source": [
    "full['genres'].head(50)"
   ]
  },
  {
   "cell_type": "code",
   "execution_count": null,
   "metadata": {},
   "outputs": [],
   "source": []
  },
  {
   "cell_type": "code",
   "execution_count": null,
   "metadata": {},
   "outputs": [],
   "source": []
  },
  {
   "cell_type": "code",
   "execution_count": null,
   "metadata": {},
   "outputs": [],
   "source": []
  },
  {
   "cell_type": "code",
   "execution_count": null,
   "metadata": {},
   "outputs": [],
   "source": [
    "def omdb_getter(start,stop):\n",
    "    movie_list = []\n",
    "    for movie in tqdm(range(start,stop)):\n",
    "        r = requests.get('https://api.themoviedb.org/3/movie/' + str(movie) + '?api_key=609bfa19cbc6d10450102037baa49767')\n",
    "        if r.status_code == 200:\n",
    "            info = r.json()\n",
    "            movie_list.append(info)\n",
    "        elif r.status_code == 429:\n",
    "            print('Connection broken - wait')\n",
    "            time.sleep(10)\n",
    "            continue\n",
    "        else:\n",
    "            continue\n",
    "        \n",
    "    return movie_list"
   ]
  },
  {
   "cell_type": "code",
   "execution_count": null,
   "metadata": {},
   "outputs": [],
   "source": []
  },
  {
   "cell_type": "code",
   "execution_count": null,
   "metadata": {},
   "outputs": [],
   "source": []
  },
  {
   "cell_type": "code",
   "execution_count": null,
   "metadata": {},
   "outputs": [],
   "source": []
  },
  {
   "cell_type": "code",
   "execution_count": null,
   "metadata": {},
   "outputs": [],
   "source": []
  },
  {
   "cell_type": "code",
   "execution_count": null,
   "metadata": {},
   "outputs": [],
   "source": []
  }
 ],
 "metadata": {
  "kernelspec": {
   "display_name": "Python 3",
   "language": "python",
   "name": "python3"
  },
  "language_info": {
   "codemirror_mode": {
    "name": "ipython",
    "version": 3
   },
   "file_extension": ".py",
   "mimetype": "text/x-python",
   "name": "python",
   "nbconvert_exporter": "python",
   "pygments_lexer": "ipython3",
   "version": "3.7.1"
  }
 },
 "nbformat": 4,
 "nbformat_minor": 2
}
