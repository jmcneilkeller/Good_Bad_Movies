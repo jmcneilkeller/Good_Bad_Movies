{
 "cells": [
  {
   "cell_type": "code",
   "execution_count": 1,
   "metadata": {},
   "outputs": [
    {
     "name": "stdout",
     "output_type": "stream",
     "text": [
      "Requirement already satisfied: annoy in /anaconda3/lib/python3.7/site-packages (1.16.0)\n",
      "Requirement already satisfied: implicit in /anaconda3/lib/python3.7/site-packages (0.3.9)\n",
      "Requirement already satisfied: numpy in /anaconda3/lib/python3.7/site-packages (from implicit) (1.15.4)\n",
      "Requirement already satisfied: scipy>=0.16 in /anaconda3/lib/python3.7/site-packages (from implicit) (1.1.0)\n",
      "Requirement already satisfied: tqdm in /anaconda3/lib/python3.7/site-packages (from implicit) (4.28.1)\n"
     ]
    }
   ],
   "source": [
    "!pip install annoy\n",
    "!pip install implicit"
   ]
  },
  {
   "cell_type": "code",
   "execution_count": 2,
   "metadata": {},
   "outputs": [],
   "source": [
    "import annoy\n",
    "import numpy as np\n",
    "import pandas as pd\n",
    "from surprise import Dataset\n",
    "from surprise import Reader\n",
    "from surprise import SVD, evaluate, accuracy\n",
    "from surprise import dump\n",
    "from surprise.model_selection import cross_validate, train_test_split\n",
    "from surprise.model_selection import GridSearchCV "
   ]
  },
  {
   "cell_type": "code",
   "execution_count": 49,
   "metadata": {},
   "outputs": [],
   "source": [
    "from surprise import NMF\n",
    "from surprise import KNNBasic\n",
    "from surprise import KNNWithMeans\n",
    "from surprise import KNNBaseline\n",
    "from surprise import KNNWithZScore\n",
    "from surprise import SlopeOne\n",
    "from surprise import SVDpp\n",
    "from surprise import NormalPredictor\n",
    "from surprise import BaselineOnly\n",
    "from surprise import CoClustering"
   ]
  },
  {
   "cell_type": "code",
   "execution_count": 28,
   "metadata": {},
   "outputs": [],
   "source": [
    "from tqdm import tqdm_notebook as tqdm"
   ]
  },
  {
   "cell_type": "code",
   "execution_count": 70,
   "metadata": {},
   "outputs": [],
   "source": [
    "import implicit"
   ]
  },
  {
   "cell_type": "code",
   "execution_count": 33,
   "metadata": {},
   "outputs": [
    {
     "data": {
      "text/html": [
       "<div>\n",
       "<style scoped>\n",
       "    .dataframe tbody tr th:only-of-type {\n",
       "        vertical-align: middle;\n",
       "    }\n",
       "\n",
       "    .dataframe tbody tr th {\n",
       "        vertical-align: top;\n",
       "    }\n",
       "\n",
       "    .dataframe thead th {\n",
       "        text-align: right;\n",
       "    }\n",
       "</style>\n",
       "<table border=\"1\" class=\"dataframe\">\n",
       "  <thead>\n",
       "    <tr style=\"text-align: right;\">\n",
       "      <th></th>\n",
       "      <th>Unnamed: 0</th>\n",
       "      <th>userId</th>\n",
       "      <th>movieId</th>\n",
       "      <th>rating</th>\n",
       "      <th>timestamp</th>\n",
       "    </tr>\n",
       "  </thead>\n",
       "  <tbody>\n",
       "    <tr>\n",
       "      <th>0</th>\n",
       "      <td>90</td>\n",
       "      <td>4</td>\n",
       "      <td>181</td>\n",
       "      <td>0.5</td>\n",
       "      <td>1127946789</td>\n",
       "    </tr>\n",
       "    <tr>\n",
       "      <th>1</th>\n",
       "      <td>296</td>\n",
       "      <td>4</td>\n",
       "      <td>1760</td>\n",
       "      <td>0.5</td>\n",
       "      <td>1114050751</td>\n",
       "    </tr>\n",
       "    <tr>\n",
       "      <th>2</th>\n",
       "      <td>484</td>\n",
       "      <td>4</td>\n",
       "      <td>3593</td>\n",
       "      <td>1.0</td>\n",
       "      <td>1115782046</td>\n",
       "    </tr>\n",
       "    <tr>\n",
       "      <th>3</th>\n",
       "      <td>1631</td>\n",
       "      <td>19</td>\n",
       "      <td>181</td>\n",
       "      <td>2.0</td>\n",
       "      <td>836433987</td>\n",
       "    </tr>\n",
       "    <tr>\n",
       "      <th>4</th>\n",
       "      <td>2655</td>\n",
       "      <td>38</td>\n",
       "      <td>4125</td>\n",
       "      <td>1.0</td>\n",
       "      <td>982853654</td>\n",
       "    </tr>\n",
       "    <tr>\n",
       "      <th>5</th>\n",
       "      <td>4450</td>\n",
       "      <td>54</td>\n",
       "      <td>810</td>\n",
       "      <td>3.0</td>\n",
       "      <td>868126354</td>\n",
       "    </tr>\n",
       "    <tr>\n",
       "      <th>6</th>\n",
       "      <td>5189</td>\n",
       "      <td>56</td>\n",
       "      <td>4255</td>\n",
       "      <td>3.5</td>\n",
       "      <td>1381372980</td>\n",
       "    </tr>\n",
       "    <tr>\n",
       "      <th>7</th>\n",
       "      <td>6455</td>\n",
       "      <td>72</td>\n",
       "      <td>90890</td>\n",
       "      <td>3.5</td>\n",
       "      <td>1459980875</td>\n",
       "    </tr>\n",
       "    <tr>\n",
       "      <th>8</th>\n",
       "      <td>6506</td>\n",
       "      <td>72</td>\n",
       "      <td>125916</td>\n",
       "      <td>0.5</td>\n",
       "      <td>1459979959</td>\n",
       "    </tr>\n",
       "    <tr>\n",
       "      <th>9</th>\n",
       "      <td>7119</td>\n",
       "      <td>75</td>\n",
       "      <td>125916</td>\n",
       "      <td>2.5</td>\n",
       "      <td>1511888779</td>\n",
       "    </tr>\n",
       "    <tr>\n",
       "      <th>10</th>\n",
       "      <td>7213</td>\n",
       "      <td>77</td>\n",
       "      <td>3799</td>\n",
       "      <td>4.0</td>\n",
       "      <td>1273189694</td>\n",
       "    </tr>\n",
       "    <tr>\n",
       "      <th>11</th>\n",
       "      <td>7215</td>\n",
       "      <td>77</td>\n",
       "      <td>43919</td>\n",
       "      <td>0.5</td>\n",
       "      <td>1273189819</td>\n",
       "    </tr>\n",
       "    <tr>\n",
       "      <th>12</th>\n",
       "      <td>7404</td>\n",
       "      <td>79</td>\n",
       "      <td>1760</td>\n",
       "      <td>4.0</td>\n",
       "      <td>1007913434</td>\n",
       "    </tr>\n",
       "    <tr>\n",
       "      <th>13</th>\n",
       "      <td>7975</td>\n",
       "      <td>81</td>\n",
       "      <td>3593</td>\n",
       "      <td>3.0</td>\n",
       "      <td>1432518868</td>\n",
       "    </tr>\n",
       "    <tr>\n",
       "      <th>14</th>\n",
       "      <td>8332</td>\n",
       "      <td>81</td>\n",
       "      <td>31698</td>\n",
       "      <td>0.5</td>\n",
       "      <td>1432522213</td>\n",
       "    </tr>\n",
       "    <tr>\n",
       "      <th>15</th>\n",
       "      <td>8551</td>\n",
       "      <td>81</td>\n",
       "      <td>61348</td>\n",
       "      <td>0.5</td>\n",
       "      <td>1432522522</td>\n",
       "    </tr>\n",
       "    <tr>\n",
       "      <th>16</th>\n",
       "      <td>8593</td>\n",
       "      <td>81</td>\n",
       "      <td>67867</td>\n",
       "      <td>0.5</td>\n",
       "      <td>1432522811</td>\n",
       "    </tr>\n",
       "    <tr>\n",
       "      <th>17</th>\n",
       "      <td>8823</td>\n",
       "      <td>83</td>\n",
       "      <td>181</td>\n",
       "      <td>5.0</td>\n",
       "      <td>832443013</td>\n",
       "    </tr>\n",
       "    <tr>\n",
       "      <th>18</th>\n",
       "      <td>9609</td>\n",
       "      <td>94</td>\n",
       "      <td>1760</td>\n",
       "      <td>4.0</td>\n",
       "      <td>1400301676</td>\n",
       "    </tr>\n",
       "    <tr>\n",
       "      <th>19</th>\n",
       "      <td>10284</td>\n",
       "      <td>100</td>\n",
       "      <td>3799</td>\n",
       "      <td>0.5</td>\n",
       "      <td>1204699936</td>\n",
       "    </tr>\n",
       "    <tr>\n",
       "      <th>20</th>\n",
       "      <td>10738</td>\n",
       "      <td>105</td>\n",
       "      <td>6827</td>\n",
       "      <td>0.5</td>\n",
       "      <td>1067386896</td>\n",
       "    </tr>\n",
       "    <tr>\n",
       "      <th>21</th>\n",
       "      <td>10899</td>\n",
       "      <td>111</td>\n",
       "      <td>3799</td>\n",
       "      <td>2.0</td>\n",
       "      <td>967488739</td>\n",
       "    </tr>\n",
       "    <tr>\n",
       "      <th>22</th>\n",
       "      <td>11312</td>\n",
       "      <td>117</td>\n",
       "      <td>810</td>\n",
       "      <td>2.0</td>\n",
       "      <td>856632876</td>\n",
       "    </tr>\n",
       "    <tr>\n",
       "      <th>23</th>\n",
       "      <td>12222</td>\n",
       "      <td>134</td>\n",
       "      <td>810</td>\n",
       "      <td>2.5</td>\n",
       "      <td>1382317679</td>\n",
       "    </tr>\n",
       "    <tr>\n",
       "      <th>24</th>\n",
       "      <td>12326</td>\n",
       "      <td>134</td>\n",
       "      <td>1599</td>\n",
       "      <td>2.0</td>\n",
       "      <td>1383498413</td>\n",
       "    </tr>\n",
       "    <tr>\n",
       "      <th>25</th>\n",
       "      <td>12373</td>\n",
       "      <td>134</td>\n",
       "      <td>1981</td>\n",
       "      <td>1.0</td>\n",
       "      <td>1347378821</td>\n",
       "    </tr>\n",
       "    <tr>\n",
       "      <th>26</th>\n",
       "      <td>12376</td>\n",
       "      <td>134</td>\n",
       "      <td>1984</td>\n",
       "      <td>1.0</td>\n",
       "      <td>1383496602</td>\n",
       "    </tr>\n",
       "    <tr>\n",
       "      <th>27</th>\n",
       "      <td>12584</td>\n",
       "      <td>134</td>\n",
       "      <td>3572</td>\n",
       "      <td>2.0</td>\n",
       "      <td>1485107161</td>\n",
       "    </tr>\n",
       "    <tr>\n",
       "      <th>28</th>\n",
       "      <td>12587</td>\n",
       "      <td>134</td>\n",
       "      <td>3593</td>\n",
       "      <td>3.0</td>\n",
       "      <td>1383496029</td>\n",
       "    </tr>\n",
       "    <tr>\n",
       "      <th>29</th>\n",
       "      <td>12890</td>\n",
       "      <td>134</td>\n",
       "      <td>8811</td>\n",
       "      <td>3.0</td>\n",
       "      <td>1485105635</td>\n",
       "    </tr>\n",
       "  </tbody>\n",
       "</table>\n",
       "</div>"
      ],
      "text/plain": [
       "    Unnamed: 0  userId  movieId  rating   timestamp\n",
       "0           90       4      181     0.5  1127946789\n",
       "1          296       4     1760     0.5  1114050751\n",
       "2          484       4     3593     1.0  1115782046\n",
       "3         1631      19      181     2.0   836433987\n",
       "4         2655      38     4125     1.0   982853654\n",
       "5         4450      54      810     3.0   868126354\n",
       "6         5189      56     4255     3.5  1381372980\n",
       "7         6455      72    90890     3.5  1459980875\n",
       "8         6506      72   125916     0.5  1459979959\n",
       "9         7119      75   125916     2.5  1511888779\n",
       "10        7213      77     3799     4.0  1273189694\n",
       "11        7215      77    43919     0.5  1273189819\n",
       "12        7404      79     1760     4.0  1007913434\n",
       "13        7975      81     3593     3.0  1432518868\n",
       "14        8332      81    31698     0.5  1432522213\n",
       "15        8551      81    61348     0.5  1432522522\n",
       "16        8593      81    67867     0.5  1432522811\n",
       "17        8823      83      181     5.0   832443013\n",
       "18        9609      94     1760     4.0  1400301676\n",
       "19       10284     100     3799     0.5  1204699936\n",
       "20       10738     105     6827     0.5  1067386896\n",
       "21       10899     111     3799     2.0   967488739\n",
       "22       11312     117      810     2.0   856632876\n",
       "23       12222     134      810     2.5  1382317679\n",
       "24       12326     134     1599     2.0  1383498413\n",
       "25       12373     134     1981     1.0  1347378821\n",
       "26       12376     134     1984     1.0  1383496602\n",
       "27       12584     134     3572     2.0  1485107161\n",
       "28       12587     134     3593     3.0  1383496029\n",
       "29       12890     134     8811     3.0  1485105635"
      ]
     },
     "execution_count": 33,
     "metadata": {},
     "output_type": "execute_result"
    }
   ],
   "source": [
    "df = pd.read_csv('item_item_test.csv')\n",
    "df.head(30)"
   ]
  },
  {
   "cell_type": "code",
   "execution_count": 34,
   "metadata": {},
   "outputs": [],
   "source": [
    "df.drop(['Unnamed: 0','timestamp'], inplace=True,axis=1)"
   ]
  },
  {
   "cell_type": "code",
   "execution_count": 35,
   "metadata": {},
   "outputs": [
    {
     "data": {
      "text/html": [
       "<div>\n",
       "<style scoped>\n",
       "    .dataframe tbody tr th:only-of-type {\n",
       "        vertical-align: middle;\n",
       "    }\n",
       "\n",
       "    .dataframe tbody tr th {\n",
       "        vertical-align: top;\n",
       "    }\n",
       "\n",
       "    .dataframe thead th {\n",
       "        text-align: right;\n",
       "    }\n",
       "</style>\n",
       "<table border=\"1\" class=\"dataframe\">\n",
       "  <thead>\n",
       "    <tr style=\"text-align: right;\">\n",
       "      <th></th>\n",
       "      <th>userId</th>\n",
       "      <th>movieId</th>\n",
       "      <th>rating</th>\n",
       "    </tr>\n",
       "  </thead>\n",
       "  <tbody>\n",
       "    <tr>\n",
       "      <th>0</th>\n",
       "      <td>4</td>\n",
       "      <td>181</td>\n",
       "      <td>0.5</td>\n",
       "    </tr>\n",
       "    <tr>\n",
       "      <th>1</th>\n",
       "      <td>4</td>\n",
       "      <td>1760</td>\n",
       "      <td>0.5</td>\n",
       "    </tr>\n",
       "    <tr>\n",
       "      <th>2</th>\n",
       "      <td>4</td>\n",
       "      <td>3593</td>\n",
       "      <td>1.0</td>\n",
       "    </tr>\n",
       "    <tr>\n",
       "      <th>3</th>\n",
       "      <td>19</td>\n",
       "      <td>181</td>\n",
       "      <td>2.0</td>\n",
       "    </tr>\n",
       "    <tr>\n",
       "      <th>4</th>\n",
       "      <td>38</td>\n",
       "      <td>4125</td>\n",
       "      <td>1.0</td>\n",
       "    </tr>\n",
       "  </tbody>\n",
       "</table>\n",
       "</div>"
      ],
      "text/plain": [
       "   userId  movieId  rating\n",
       "0       4      181     0.5\n",
       "1       4     1760     0.5\n",
       "2       4     3593     1.0\n",
       "3      19      181     2.0\n",
       "4      38     4125     1.0"
      ]
     },
     "execution_count": 35,
     "metadata": {},
     "output_type": "execute_result"
    }
   ],
   "source": [
    "df.head()"
   ]
  },
  {
   "cell_type": "code",
   "execution_count": 36,
   "metadata": {},
   "outputs": [
    {
     "data": {
      "text/plain": [
       "63163"
      ]
     },
     "execution_count": 36,
     "metadata": {},
     "output_type": "execute_result"
    }
   ],
   "source": [
    "len(df)"
   ]
  },
  {
   "cell_type": "code",
   "execution_count": 61,
   "metadata": {},
   "outputs": [],
   "source": [
    "def rec_gridsearch(model,param_grid,cv):\n",
    "    gs = GridSearchCV(model, param_grid, measures=['rmse', 'mae'], cv=cv, n_jobs=-1)\n",
    "    gs.fit(data)\n",
    "    # best RMSE score\n",
    "    print(gs.best_score['rmse'])\n",
    "\n",
    "    # combination of parameters that gave the best RMSE score\n",
    "    print(gs.best_params['rmse'])"
   ]
  },
  {
   "cell_type": "markdown",
   "metadata": {},
   "source": [
    "## Lets narrow down candidates.    "
   ]
  },
  {
   "cell_type": "code",
   "execution_count": 51,
   "metadata": {},
   "outputs": [
    {
     "name": "stdout",
     "output_type": "stream",
     "text": [
      "Estimating biases using als...\n",
      "Computing the msd similarity matrix...\n",
      "Done computing similarity matrix.\n",
      "Estimating biases using als...\n",
      "Computing the msd similarity matrix...\n",
      "Done computing similarity matrix.\n",
      "Estimating biases using als...\n",
      "Computing the msd similarity matrix...\n",
      "Done computing similarity matrix.\n",
      "Estimating biases using als...\n",
      "Computing the msd similarity matrix...\n",
      "Done computing similarity matrix.\n",
      "Estimating biases using als...\n",
      "Computing the msd similarity matrix...\n",
      "Done computing similarity matrix.\n",
      "Estimating biases using als...\n",
      "Computing the msd similarity matrix...\n",
      "Done computing similarity matrix.\n",
      "Estimating biases using als...\n",
      "Computing the msd similarity matrix...\n",
      "Done computing similarity matrix.\n",
      "Estimating biases using als...\n",
      "Computing the msd similarity matrix...\n",
      "Done computing similarity matrix.\n",
      "Estimating biases using als...\n",
      "Computing the msd similarity matrix...\n",
      "Done computing similarity matrix.\n",
      "Estimating biases using als...\n",
      "Computing the msd similarity matrix...\n",
      "Done computing similarity matrix.\n",
      "Computing the msd similarity matrix...\n",
      "Done computing similarity matrix.\n",
      "Computing the msd similarity matrix...\n",
      "Done computing similarity matrix.\n",
      "Computing the msd similarity matrix...\n",
      "Done computing similarity matrix.\n",
      "Computing the msd similarity matrix...\n",
      "Done computing similarity matrix.\n",
      "Computing the msd similarity matrix...\n",
      "Done computing similarity matrix.\n",
      "Computing the msd similarity matrix...\n",
      "Done computing similarity matrix.\n",
      "Computing the msd similarity matrix...\n",
      "Done computing similarity matrix.\n",
      "Computing the msd similarity matrix...\n",
      "Done computing similarity matrix.\n",
      "Computing the msd similarity matrix...\n",
      "Done computing similarity matrix.\n",
      "Computing the msd similarity matrix...\n",
      "Done computing similarity matrix.\n",
      "Computing the msd similarity matrix...\n",
      "Done computing similarity matrix.\n",
      "Computing the msd similarity matrix...\n",
      "Done computing similarity matrix.\n",
      "Computing the msd similarity matrix...\n",
      "Done computing similarity matrix.\n",
      "Computing the msd similarity matrix...\n",
      "Done computing similarity matrix.\n",
      "Computing the msd similarity matrix...\n",
      "Done computing similarity matrix.\n",
      "Computing the msd similarity matrix...\n",
      "Done computing similarity matrix.\n",
      "Computing the msd similarity matrix...\n",
      "Done computing similarity matrix.\n",
      "Computing the msd similarity matrix...\n",
      "Done computing similarity matrix.\n",
      "Computing the msd similarity matrix...\n",
      "Done computing similarity matrix.\n",
      "Computing the msd similarity matrix...\n",
      "Done computing similarity matrix.\n",
      "Computing the msd similarity matrix...\n",
      "Done computing similarity matrix.\n",
      "Computing the msd similarity matrix...\n",
      "Done computing similarity matrix.\n",
      "Computing the msd similarity matrix...\n",
      "Done computing similarity matrix.\n",
      "Computing the msd similarity matrix...\n",
      "Done computing similarity matrix.\n",
      "Computing the msd similarity matrix...\n",
      "Done computing similarity matrix.\n",
      "Computing the msd similarity matrix...\n",
      "Done computing similarity matrix.\n",
      "Computing the msd similarity matrix...\n",
      "Done computing similarity matrix.\n",
      "Computing the msd similarity matrix...\n",
      "Done computing similarity matrix.\n",
      "Computing the msd similarity matrix...\n",
      "Done computing similarity matrix.\n",
      "Computing the msd similarity matrix...\n",
      "Done computing similarity matrix.\n",
      "Estimating biases using als...\n",
      "Estimating biases using als...\n",
      "Estimating biases using als...\n",
      "Estimating biases using als...\n",
      "Estimating biases using als...\n",
      "Estimating biases using als...\n",
      "Estimating biases using als...\n",
      "Estimating biases using als...\n",
      "Estimating biases using als...\n",
      "Estimating biases using als...\n"
     ]
    },
    {
     "data": {
      "text/html": [
       "<div>\n",
       "<style scoped>\n",
       "    .dataframe tbody tr th:only-of-type {\n",
       "        vertical-align: middle;\n",
       "    }\n",
       "\n",
       "    .dataframe tbody tr th {\n",
       "        vertical-align: top;\n",
       "    }\n",
       "\n",
       "    .dataframe thead th {\n",
       "        text-align: right;\n",
       "    }\n",
       "</style>\n",
       "<table border=\"1\" class=\"dataframe\">\n",
       "  <thead>\n",
       "    <tr style=\"text-align: right;\">\n",
       "      <th></th>\n",
       "      <th>test_rmse</th>\n",
       "      <th>fit_time</th>\n",
       "      <th>test_time</th>\n",
       "    </tr>\n",
       "    <tr>\n",
       "      <th>Algorithm</th>\n",
       "      <th></th>\n",
       "      <th></th>\n",
       "      <th></th>\n",
       "    </tr>\n",
       "  </thead>\n",
       "  <tbody>\n",
       "    <tr>\n",
       "      <th>KNNBaseline</th>\n",
       "      <td>1.020727</td>\n",
       "      <td>89.183144</td>\n",
       "      <td>7.468731</td>\n",
       "    </tr>\n",
       "    <tr>\n",
       "      <th>SVDpp</th>\n",
       "      <td>1.040596</td>\n",
       "      <td>14.320231</td>\n",
       "      <td>0.210154</td>\n",
       "    </tr>\n",
       "    <tr>\n",
       "      <th>KNNBasic</th>\n",
       "      <td>1.053583</td>\n",
       "      <td>83.150241</td>\n",
       "      <td>6.483075</td>\n",
       "    </tr>\n",
       "    <tr>\n",
       "      <th>KNNWithMeans</th>\n",
       "      <td>1.059923</td>\n",
       "      <td>89.239505</td>\n",
       "      <td>6.966381</td>\n",
       "    </tr>\n",
       "    <tr>\n",
       "      <th>NMF</th>\n",
       "      <td>1.060838</td>\n",
       "      <td>6.355041</td>\n",
       "      <td>0.069143</td>\n",
       "    </tr>\n",
       "    <tr>\n",
       "      <th>KNNWithZScore</th>\n",
       "      <td>1.062559</td>\n",
       "      <td>93.642434</td>\n",
       "      <td>7.276902</td>\n",
       "    </tr>\n",
       "    <tr>\n",
       "      <th>SlopeOne</th>\n",
       "      <td>1.064206</td>\n",
       "      <td>0.392056</td>\n",
       "      <td>0.145317</td>\n",
       "    </tr>\n",
       "    <tr>\n",
       "      <th>SVD</th>\n",
       "      <td>1.065767</td>\n",
       "      <td>4.401206</td>\n",
       "      <td>0.075216</td>\n",
       "    </tr>\n",
       "    <tr>\n",
       "      <th>CoClustering</th>\n",
       "      <td>1.081905</td>\n",
       "      <td>4.598551</td>\n",
       "      <td>0.051666</td>\n",
       "    </tr>\n",
       "    <tr>\n",
       "      <th>BaselineOnly</th>\n",
       "      <td>1.086919</td>\n",
       "      <td>0.291023</td>\n",
       "      <td>0.046545</td>\n",
       "    </tr>\n",
       "    <tr>\n",
       "      <th>NormalPredictor</th>\n",
       "      <td>1.516856</td>\n",
       "      <td>0.113144</td>\n",
       "      <td>0.046027</td>\n",
       "    </tr>\n",
       "  </tbody>\n",
       "</table>\n",
       "</div>"
      ],
      "text/plain": [
       "                 test_rmse   fit_time  test_time\n",
       "Algorithm                                       \n",
       "KNNBaseline       1.020727  89.183144   7.468731\n",
       "SVDpp             1.040596  14.320231   0.210154\n",
       "KNNBasic          1.053583  83.150241   6.483075\n",
       "KNNWithMeans      1.059923  89.239505   6.966381\n",
       "NMF               1.060838   6.355041   0.069143\n",
       "KNNWithZScore     1.062559  93.642434   7.276902\n",
       "SlopeOne          1.064206   0.392056   0.145317\n",
       "SVD               1.065767   4.401206   0.075216\n",
       "CoClustering      1.081905   4.598551   0.051666\n",
       "BaselineOnly      1.086919   0.291023   0.046545\n",
       "NormalPredictor   1.516856   0.113144   0.046027"
      ]
     },
     "execution_count": 51,
     "metadata": {},
     "output_type": "execute_result"
    }
   ],
   "source": [
    "benchmark = []\n",
    "# Iterate over all algorithms\n",
    "for algorithm in [SVD(), SVDpp(), SlopeOne(), NMF(), NormalPredictor(), KNNBaseline(), KNNBasic(), KNNWithMeans(), KNNWithZScore(), BaselineOnly(), CoClustering()]:\n",
    "    # Perform cross validation\n",
    "    results = cross_validate(algorithm, data, measures=['RMSE'], cv=10, verbose=False)\n",
    "    \n",
    "    # Get results & append algorithm name\n",
    "    tmp = pd.DataFrame.from_dict(results).mean(axis=0)\n",
    "    tmp = tmp.append(pd.Series([str(algorithm).split(' ')[0].split('.')[-1]], index=['Algorithm']))\n",
    "    benchmark.append(tmp)\n",
    "    \n",
    "pd.DataFrame(benchmark).set_index('Algorithm').sort_values('test_rmse') "
   ]
  },
  {
   "cell_type": "markdown",
   "metadata": {},
   "source": [
    "## SVD"
   ]
  },
  {
   "cell_type": "code",
   "execution_count": 14,
   "metadata": {},
   "outputs": [],
   "source": [
    "reader = Reader(rating_scale=(1, 5))\n",
    "data = Dataset.load_from_df(df,reader)"
   ]
  },
  {
   "cell_type": "code",
   "execution_count": 40,
   "metadata": {},
   "outputs": [
    {
     "name": "stdout",
     "output_type": "stream",
     "text": [
      "Evaluating RMSE, MAE of algorithm SVD on 10 split(s).\n",
      "\n",
      "                  Fold 1  Fold 2  Fold 3  Fold 4  Fold 5  Fold 6  Fold 7  Fold 8  Fold 9  Fold 10 Mean    Std     \n",
      "RMSE (testset)    1.0480  1.0639  1.0572  1.0631  1.0695  1.0577  1.0587  1.0828  1.0779  1.0816  1.0660  0.0110  \n",
      "MAE (testset)     0.8468  0.8610  0.8527  0.8584  0.8670  0.8529  0.8580  0.8763  0.8746  0.8800  0.8628  0.0107  \n",
      "Fit time          4.23    4.24    4.17    4.20    4.20    4.22    4.29    4.22    4.29    4.16    4.22    0.04    \n",
      "Test time         0.06    0.06    0.06    0.06    0.06    0.07    0.06    0.06    0.14    0.06    0.07    0.03    \n"
     ]
    },
    {
     "data": {
      "text/plain": [
       "{'test_rmse': array([1.04799704, 1.06393136, 1.05718242, 1.0631157 , 1.06948358,\n",
       "        1.0576798 , 1.05870252, 1.08278422, 1.07792866, 1.0815916 ]),\n",
       " 'test_mae': array([0.84680658, 0.86103314, 0.85271596, 0.85842769, 0.86704902,\n",
       "        0.85287666, 0.85803869, 0.87626983, 0.87460099, 0.88001262]),\n",
       " 'fit_time': (4.225666761398315,\n",
       "  4.244113922119141,\n",
       "  4.16943097114563,\n",
       "  4.201759099960327,\n",
       "  4.200515985488892,\n",
       "  4.22236704826355,\n",
       "  4.287075757980347,\n",
       "  4.219311237335205,\n",
       "  4.285580635070801,\n",
       "  4.1620237827301025),\n",
       " 'test_time': (0.05500006675720215,\n",
       "  0.05860090255737305,\n",
       "  0.057804107666015625,\n",
       "  0.05599403381347656,\n",
       "  0.05787920951843262,\n",
       "  0.07165002822875977,\n",
       "  0.05598306655883789,\n",
       "  0.0560460090637207,\n",
       "  0.1419200897216797,\n",
       "  0.06035280227661133)}"
      ]
     },
     "execution_count": 40,
     "metadata": {},
     "output_type": "execute_result"
    }
   ],
   "source": [
    "svd = SVD()\n",
    "cross_validate(svd, data, measures=['RMSE', 'MAE'], cv=10, verbose=True)"
   ]
  },
  {
   "cell_type": "code",
   "execution_count": 42,
   "metadata": {},
   "outputs": [
    {
     "name": "stdout",
     "output_type": "stream",
     "text": [
      "1.0465191432486414\n",
      "{'n_epochs': 50, 'n_factors': 10, 'lr_all': 0.01, 'reg_all': 0.4, 'biased': True}\n"
     ]
    }
   ],
   "source": [
    "param_grid = {'n_epochs': [10, 20, 50], 'n_factors': [1,5,10],'lr_all': [0.001, 0.005, 0.01,0.05],\n",
    "              'reg_all': [0.4, 0.6], 'biased': [True, False],}\n",
    "rec_gridsearch(SVD,param_grid,3)"
   ]
  },
  {
   "cell_type": "code",
   "execution_count": 53,
   "metadata": {},
   "outputs": [
    {
     "name": "stdout",
     "output_type": "stream",
     "text": [
      "1.0424537695080438\n",
      "{'n_epochs': 75, 'n_factors': 20, 'lr_all': 0.01, 'reg_all': 0.3, 'biased': True}\n"
     ]
    }
   ],
   "source": [
    "param_grid = {'n_epochs': [50,75,100], 'n_factors': [5,10,20],'lr_all': [0.01,0.05],\n",
    "              'reg_all': [0.3,0.4,0.5], 'biased': [True, False],}\n",
    "rec_gridsearch(SVD,param_grid,3)"
   ]
  },
  {
   "cell_type": "code",
   "execution_count": 64,
   "metadata": {},
   "outputs": [
    {
     "name": "stdout",
     "output_type": "stream",
     "text": [
      "1.0298727259675857\n",
      "{'n_epochs': 75, 'n_factors': 40, 'lr_all': 0.01, 'reg_all': 0.1, 'biased': True}\n"
     ]
    }
   ],
   "source": [
    "param_grid = {'n_epochs': [75], 'n_factors': [20,30,40],'lr_all': [0.01],\n",
    "              'reg_all': [0.1,0.2,0.3], 'biased': [True],}\n",
    "rec_gridsearch(SVD,param_grid,3)"
   ]
  },
  {
   "cell_type": "code",
   "execution_count": 65,
   "metadata": {},
   "outputs": [
    {
     "name": "stdout",
     "output_type": "stream",
     "text": [
      "1.0282990610139882\n",
      "{'n_epochs': 75, 'n_factors': 60, 'lr_all': 0.01, 'reg_all': 0.1, 'biased': True}\n"
     ]
    }
   ],
   "source": [
    "param_grid = {'n_epochs': [75], 'n_factors': [40,50,60],'lr_all': [0.01],\n",
    "              'reg_all': [0.01,0.05,0.1], 'biased': [True],}\n",
    "rec_gridsearch(SVD,param_grid,3)"
   ]
  },
  {
   "cell_type": "code",
   "execution_count": 66,
   "metadata": {},
   "outputs": [
    {
     "name": "stdout",
     "output_type": "stream",
     "text": [
      "1.0281911365332073\n",
      "{'n_epochs': 75, 'n_factors': 90, 'lr_all': 0.01, 'reg_all': 0.1, 'biased': True}\n"
     ]
    }
   ],
   "source": [
    "param_grid = {'n_epochs': [75], 'n_factors': [60,70,80,90],'lr_all': [0.01],\n",
    "              'reg_all': [0.1], 'biased': [True],}\n",
    "rec_gridsearch(SVD,param_grid,3)"
   ]
  },
  {
   "cell_type": "markdown",
   "metadata": {},
   "source": [
    "Marginal improvement at this point. Moving on to other models."
   ]
  },
  {
   "cell_type": "markdown",
   "metadata": {},
   "source": [
    "## NMF"
   ]
  },
  {
   "cell_type": "code",
   "execution_count": 37,
   "metadata": {},
   "outputs": [
    {
     "name": "stdout",
     "output_type": "stream",
     "text": [
      "Evaluating RMSE, MAE of algorithm NMF on 10 split(s).\n",
      "\n",
      "                  Fold 1  Fold 2  Fold 3  Fold 4  Fold 5  Fold 6  Fold 7  Fold 8  Fold 9  Fold 10 Mean    Std     \n",
      "RMSE (testset)    1.0633  1.0634  1.0668  1.0630  1.0625  1.0599  1.0577  1.0702  1.0516  1.0759  1.0634  0.0063  \n",
      "MAE (testset)     0.7956  0.7947  0.7967  0.8000  0.8004  0.7915  0.7877  0.7993  0.7878  0.8044  0.7958  0.0053  \n",
      "Fit time          7.55    7.07    7.60    7.27    7.57    7.09    7.65    7.90    7.39    7.00    7.41    0.28    \n",
      "Test time         0.07    0.06    0.06    0.07    0.06    0.05    0.06    0.09    0.08    0.15    0.08    0.03    \n"
     ]
    },
    {
     "data": {
      "text/plain": [
       "{'test_rmse': array([1.06328433, 1.06336099, 1.06677292, 1.06301131, 1.06252209,\n",
       "        1.05991413, 1.05772675, 1.07020364, 1.05158049, 1.07592665]),\n",
       " 'test_mae': array([0.79562841, 0.79471426, 0.7966913 , 0.79999204, 0.80043335,\n",
       "        0.79146986, 0.78771769, 0.79933589, 0.78783922, 0.80444307]),\n",
       " 'fit_time': (7.5549468994140625,\n",
       "  7.073349952697754,\n",
       "  7.60212516784668,\n",
       "  7.266840934753418,\n",
       "  7.566035985946655,\n",
       "  7.087186813354492,\n",
       "  7.645038843154907,\n",
       "  7.904263973236084,\n",
       "  7.385869979858398,\n",
       "  7.002677917480469),\n",
       " 'test_time': (0.07328200340270996,\n",
       "  0.05996417999267578,\n",
       "  0.06066727638244629,\n",
       "  0.06553912162780762,\n",
       "  0.059427738189697266,\n",
       "  0.054814815521240234,\n",
       "  0.06008100509643555,\n",
       "  0.08710718154907227,\n",
       "  0.0838470458984375,\n",
       "  0.1524968147277832)}"
      ]
     },
     "execution_count": 37,
     "metadata": {},
     "output_type": "execute_result"
    }
   ],
   "source": [
    "nmf = NMF()\n",
    "cross_validate(nmf, data, measures=['RMSE', 'MAE'], cv=10, verbose=True)"
   ]
  },
  {
   "cell_type": "code",
   "execution_count": 39,
   "metadata": {},
   "outputs": [
    {
     "name": "stdout",
     "output_type": "stream",
     "text": [
      "1.057280091186513\n",
      "{'n_epochs': 50, 'n_factors': 1, 'biased': False}\n"
     ]
    },
    {
     "data": {
      "application/vnd.jupyter.widget-view+json": {
       "model_id": "abb21a8e26824dccb2076182dfe70f9f",
       "version_major": 2,
       "version_minor": 0
      },
      "text/plain": [
       "HBox(children=(IntProgress(value=1, bar_style='info', max=1), HTML(value='')))"
      ]
     },
     "metadata": {},
     "output_type": "display_data"
    },
    {
     "data": {
      "text/plain": [
       "0it [00:00, ?it/s]"
      ]
     },
     "execution_count": 39,
     "metadata": {},
     "output_type": "execute_result"
    }
   ],
   "source": [
    "# Not tuning LR/Reg until biased is determined to be true or not. \n",
    "param_grid = {'n_epochs': [10, 20, 50], 'n_factors': [1,5,10], 'biased': [True, False],}\n",
    "tqdm(rec_gridsearch(NMF,param_grid,9))"
   ]
  },
  {
   "cell_type": "code",
   "execution_count": null,
   "metadata": {},
   "outputs": [],
   "source": []
  },
  {
   "cell_type": "code",
   "execution_count": null,
   "metadata": {},
   "outputs": [],
   "source": []
  },
  {
   "cell_type": "markdown",
   "metadata": {},
   "source": [
    "### KNN Baseline"
   ]
  },
  {
   "cell_type": "code",
   "execution_count": 78,
   "metadata": {},
   "outputs": [],
   "source": [
    "knn = KNNBaseline()"
   ]
  },
  {
   "cell_type": "code",
   "execution_count": 79,
   "metadata": {},
   "outputs": [
    {
     "name": "stdout",
     "output_type": "stream",
     "text": [
      "Estimating biases using als...\n",
      "Computing the msd similarity matrix...\n",
      "Done computing similarity matrix.\n",
      "Estimating biases using als...\n",
      "Computing the msd similarity matrix...\n",
      "Done computing similarity matrix.\n",
      "Estimating biases using als...\n",
      "Computing the msd similarity matrix...\n",
      "Done computing similarity matrix.\n",
      "Estimating biases using als...\n",
      "Computing the msd similarity matrix...\n",
      "Done computing similarity matrix.\n",
      "Estimating biases using als...\n",
      "Computing the msd similarity matrix...\n",
      "Done computing similarity matrix.\n",
      "Estimating biases using als...\n",
      "Computing the msd similarity matrix...\n",
      "Done computing similarity matrix.\n",
      "Estimating biases using als...\n",
      "Computing the msd similarity matrix...\n",
      "Done computing similarity matrix.\n",
      "Estimating biases using als...\n",
      "Computing the msd similarity matrix...\n",
      "Done computing similarity matrix.\n",
      "Estimating biases using als...\n",
      "Computing the msd similarity matrix...\n",
      "Done computing similarity matrix.\n",
      "Estimating biases using als...\n",
      "Computing the msd similarity matrix...\n",
      "Done computing similarity matrix.\n",
      "Evaluating RMSE, MAE of algorithm KNNBaseline on 10 split(s).\n",
      "\n",
      "                  Fold 1  Fold 2  Fold 3  Fold 4  Fold 5  Fold 6  Fold 7  Fold 8  Fold 9  Fold 10 Mean    Std     \n",
      "RMSE (testset)    1.0212  1.0147  1.0171  1.0057  1.0183  1.0154  1.0254  1.0393  1.0167  1.0206  1.0194  0.0082  \n",
      "MAE (testset)     0.7897  0.7966  0.7962  0.7862  0.7983  0.7940  0.8047  0.8130  0.7952  0.7951  0.7969  0.0071  \n",
      "Fit time          81.98   85.10   83.33   82.51   81.27   85.21   85.35   82.57   82.92   80.71   83.10   1.57    \n",
      "Test time         6.32    6.42    7.32    6.58    6.94    6.73    6.29    6.50    7.58    6.68    6.73    0.41    \n"
     ]
    },
    {
     "data": {
      "text/plain": [
       "{'test_rmse': array([1.02117399, 1.01472005, 1.01711235, 1.00567749, 1.01832867,\n",
       "        1.01538854, 1.02541524, 1.03927229, 1.01674642, 1.02055621]),\n",
       " 'test_mae': array([0.78972274, 0.79656566, 0.79622076, 0.78623501, 0.79834623,\n",
       "        0.79404881, 0.80474513, 0.81302319, 0.79518576, 0.79507834]),\n",
       " 'fit_time': (81.97987985610962,\n",
       "  85.09711527824402,\n",
       "  83.33498191833496,\n",
       "  82.5072431564331,\n",
       "  81.26806092262268,\n",
       "  85.20557284355164,\n",
       "  85.35262894630432,\n",
       "  82.57301998138428,\n",
       "  82.91954588890076,\n",
       "  80.7125871181488),\n",
       " 'test_time': (6.315085172653198,\n",
       "  6.4196648597717285,\n",
       "  7.319612741470337,\n",
       "  6.577861309051514,\n",
       "  6.937384843826294,\n",
       "  6.732741832733154,\n",
       "  6.29314398765564,\n",
       "  6.4974470138549805,\n",
       "  7.580524206161499,\n",
       "  6.67586612701416)}"
      ]
     },
     "execution_count": 79,
     "metadata": {},
     "output_type": "execute_result"
    }
   ],
   "source": [
    "cross_validate(knn, data, measures=['RMSE', 'MAE'], cv=10, verbose=True)"
   ]
  },
  {
   "cell_type": "code",
   "execution_count": 83,
   "metadata": {},
   "outputs": [],
   "source": [
    "param_grid_knn = {'k': [20,30,50,60]}\n",
    "knnbaseline_gs = GridSearchCV(KNNBaseline, param_grid_knn, measures=['rmse', 'mae'], cv=4, n_jobs=-1)\n",
    "knnbaseline_gs.fit(data)"
   ]
  },
  {
   "cell_type": "code",
   "execution_count": 85,
   "metadata": {},
   "outputs": [
    {
     "data": {
      "text/plain": [
       "{'rmse': 1.0339278002256562, 'mae': 0.81000248363954}"
      ]
     },
     "execution_count": 85,
     "metadata": {},
     "output_type": "execute_result"
    }
   ],
   "source": [
    "knnbaseline_gs.best_params\n",
    "knnbaseline_gs.best_score"
   ]
  },
  {
   "cell_type": "code",
   "execution_count": 86,
   "metadata": {},
   "outputs": [
    {
     "name": "stdout",
     "output_type": "stream",
     "text": [
      "{'rmse': {'k': 35}, 'mae': {'k': 30}}\n",
      "{'rmse': 1.0327849906778375, 'mae': 0.8090094874055599}\n"
     ]
    }
   ],
   "source": [
    "param_grid_knn = {'k': [30,35,40,45]}\n",
    "knnbaseline_gs = GridSearchCV(KNNBaseline, param_grid_knn, measures=['rmse', 'mae'], cv=4, n_jobs=-1)\n",
    "knnbaseline_gs.fit(data)\n",
    "print(knnbaseline_gs.best_params)\n",
    "print(knnbaseline_gs.best_score)"
   ]
  },
  {
   "cell_type": "code",
   "execution_count": null,
   "metadata": {},
   "outputs": [],
   "source": []
  },
  {
   "cell_type": "markdown",
   "metadata": {},
   "source": [
    "### SVDpp"
   ]
  },
  {
   "cell_type": "code",
   "execution_count": 54,
   "metadata": {},
   "outputs": [
    {
     "name": "stdout",
     "output_type": "stream",
     "text": [
      "Evaluating RMSE, MAE of algorithm SVDpp on 10 split(s).\n",
      "\n",
      "                  Fold 1  Fold 2  Fold 3  Fold 4  Fold 5  Fold 6  Fold 7  Fold 8  Fold 9  Fold 10 Mean    Std     \n",
      "RMSE (testset)    1.0417  1.0315  1.0367  1.0386  1.0307  1.0364  1.0249  1.0468  1.0484  1.0428  1.0379  0.0070  \n",
      "MAE (testset)     0.8153  0.8088  0.8099  0.8155  0.7991  0.8077  0.8022  0.8201  0.8223  0.8163  0.8117  0.0071  \n",
      "Fit time          13.81   13.53   13.70   14.03   13.13   12.79   12.96   12.73   12.63   12.64   13.19   0.50    \n",
      "Test time         0.31    0.15    0.18    0.16    0.14    0.15    0.14    0.15    0.14    0.15    0.17    0.05    \n"
     ]
    },
    {
     "data": {
      "text/plain": [
       "{'test_rmse': array([1.04172288, 1.03148326, 1.0367124 , 1.03858046, 1.03072872,\n",
       "        1.03638924, 1.02494009, 1.04676632, 1.04843384, 1.04284449]),\n",
       " 'test_mae': array([0.81527772, 0.80879415, 0.80990328, 0.8154974 , 0.79912627,\n",
       "        0.80766324, 0.80224503, 0.82013032, 0.82229712, 0.81628458]),\n",
       " 'fit_time': (13.805808782577515,\n",
       "  13.52705192565918,\n",
       "  13.697068929672241,\n",
       "  14.026280879974365,\n",
       "  13.12869930267334,\n",
       "  12.78980016708374,\n",
       "  12.958942174911499,\n",
       "  12.731549978256226,\n",
       "  12.634726285934448,\n",
       "  12.638183832168579),\n",
       " 'test_time': (0.31453514099121094,\n",
       "  0.14533495903015137,\n",
       "  0.18267416954040527,\n",
       "  0.15613913536071777,\n",
       "  0.14376091957092285,\n",
       "  0.1474299430847168,\n",
       "  0.1381058692932129,\n",
       "  0.15408015251159668,\n",
       "  0.1385819911956787,\n",
       "  0.15295100212097168)}"
      ]
     },
     "execution_count": 54,
     "metadata": {},
     "output_type": "execute_result"
    }
   ],
   "source": [
    "svdpp = SVDpp()\n",
    "cross_validate(svdpp, data, measures=['RMSE', 'MAE'], cv=10, verbose=True)"
   ]
  },
  {
   "cell_type": "code",
   "execution_count": 62,
   "metadata": {},
   "outputs": [
    {
     "name": "stdout",
     "output_type": "stream",
     "text": [
      "1.031005864411734\n",
      "{'n_epochs': 75, 'n_factors': 20, 'lr_all': 0.01, 'reg_all': 0.3, 'random_state': 7}\n"
     ]
    }
   ],
   "source": [
    "param_grid_svdpp = {'n_epochs': [50,75,100], 'n_factors': [5,10,20],'lr_all': [0.01,0.05],\n",
    "              'reg_all': [0.3,0.4,0.5],'random_state':[7]}\n",
    "rec_gridsearch(SVDpp,param_grid_svdpp,7)"
   ]
  },
  {
   "cell_type": "code",
   "execution_count": 67,
   "metadata": {},
   "outputs": [
    {
     "name": "stdout",
     "output_type": "stream",
     "text": [
      "1.013783707348949\n",
      "{'n_epochs': 75, 'n_factors': 40, 'lr_all': 0.01, 'reg_all': 0.1, 'random_state': 7}\n"
     ]
    }
   ],
   "source": [
    "param_grid_svdpp = {'n_epochs': [75], 'n_factors': [20,30,40],'lr_all': [0.01],\n",
    "              'reg_all': [0.1,0.2,0.3],'random_state':[7]}\n",
    "rec_gridsearch(SVDpp,param_grid_svdpp,7)"
   ]
  },
  {
   "cell_type": "code",
   "execution_count": 68,
   "metadata": {},
   "outputs": [
    {
     "name": "stdout",
     "output_type": "stream",
     "text": [
      "1.012264700140572\n",
      "{'n_epochs': 75, 'n_factors': 50, 'lr_all': 0.01, 'reg_all': 0.1, 'random_state': 7}\n"
     ]
    }
   ],
   "source": [
    "param_grid_svdpp = {'n_epochs': [75], 'n_factors': [40,50,60],'lr_all': [0.01],\n",
    "              'reg_all': [0.05,0.1],'random_state':[7]}\n",
    "rec_gridsearch(SVDpp,param_grid_svdpp,7)"
   ]
  },
  {
   "cell_type": "code",
   "execution_count": null,
   "metadata": {},
   "outputs": [],
   "source": []
  },
  {
   "cell_type": "markdown",
   "metadata": {},
   "source": [
    "### Annoy"
   ]
  },
  {
   "cell_type": "code",
   "execution_count": null,
   "metadata": {},
   "outputs": [],
   "source": []
  },
  {
   "cell_type": "code",
   "execution_count": null,
   "metadata": {},
   "outputs": [],
   "source": []
  }
 ],
 "metadata": {
  "kernelspec": {
   "display_name": "Python 3",
   "language": "python",
   "name": "python3"
  },
  "language_info": {
   "codemirror_mode": {
    "name": "ipython",
    "version": 3
   },
   "file_extension": ".py",
   "mimetype": "text/x-python",
   "name": "python",
   "nbconvert_exporter": "python",
   "pygments_lexer": "ipython3",
   "version": "3.7.1"
  }
 },
 "nbformat": 4,
 "nbformat_minor": 2
}
