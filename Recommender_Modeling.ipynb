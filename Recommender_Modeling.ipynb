{
 "cells": [
  {
   "cell_type": "code",
   "execution_count": 1,
   "metadata": {},
   "outputs": [
    {
     "name": "stdout",
     "output_type": "stream",
     "text": [
      "Requirement already satisfied: annoy in /anaconda3/lib/python3.7/site-packages (1.16.0)\n",
      "Requirement already satisfied: implicit in /anaconda3/lib/python3.7/site-packages (0.3.9)\n",
      "Requirement already satisfied: numpy in /anaconda3/lib/python3.7/site-packages (from implicit) (1.15.4)\n",
      "Requirement already satisfied: scipy>=0.16 in /anaconda3/lib/python3.7/site-packages (from implicit) (1.1.0)\n",
      "Requirement already satisfied: tqdm in /anaconda3/lib/python3.7/site-packages (from implicit) (4.28.1)\n"
     ]
    }
   ],
   "source": [
    "!pip install annoy\n",
    "!pip install implicit"
   ]
  },
  {
   "cell_type": "code",
   "execution_count": 4,
   "metadata": {},
   "outputs": [],
   "source": [
    "import annoy\n",
    "import numpy as np\n",
    "import pandas as pd\n",
    "from surprise import Dataset\n",
    "from surprise import Reader\n",
    "from surprise import SVD, evaluate, accuracy\n",
    "from surprise import dump\n",
    "from surprise.model_selection import cross_validate, train_test_split\n",
    "from surprise.model_selection import GridSearchCV "
   ]
  },
  {
   "cell_type": "code",
   "execution_count": 5,
   "metadata": {},
   "outputs": [],
   "source": [
    "from surprise import NMF\n",
    "from surprise import KNNBasic\n",
    "from surprise import KNNWithMeans\n",
    "from surprise import KNNBaseline\n",
    "from surprise import KNNWithZScore\n",
    "from surprise import SlopeOne\n",
    "from surprise import SVDpp\n",
    "from surprise import NormalPredictor\n",
    "from surprise import BaselineOnly\n",
    "from surprise import CoClustering"
   ]
  },
  {
   "cell_type": "code",
   "execution_count": 6,
   "metadata": {},
   "outputs": [],
   "source": [
    "from surprise import get_dataset_dir\n",
    "import io"
   ]
  },
  {
   "cell_type": "code",
   "execution_count": 7,
   "metadata": {},
   "outputs": [],
   "source": [
    "from tqdm import tqdm_notebook as tqdm"
   ]
  },
  {
   "cell_type": "code",
   "execution_count": 70,
   "metadata": {},
   "outputs": [],
   "source": [
    "import implicit"
   ]
  },
  {
   "cell_type": "code",
   "execution_count": 33,
   "metadata": {},
   "outputs": [
    {
     "data": {
      "text/html": [
       "<div>\n",
       "<style scoped>\n",
       "    .dataframe tbody tr th:only-of-type {\n",
       "        vertical-align: middle;\n",
       "    }\n",
       "\n",
       "    .dataframe tbody tr th {\n",
       "        vertical-align: top;\n",
       "    }\n",
       "\n",
       "    .dataframe thead th {\n",
       "        text-align: right;\n",
       "    }\n",
       "</style>\n",
       "<table border=\"1\" class=\"dataframe\">\n",
       "  <thead>\n",
       "    <tr style=\"text-align: right;\">\n",
       "      <th></th>\n",
       "      <th>Unnamed: 0</th>\n",
       "      <th>userId</th>\n",
       "      <th>movieId</th>\n",
       "      <th>rating</th>\n",
       "      <th>timestamp</th>\n",
       "    </tr>\n",
       "  </thead>\n",
       "  <tbody>\n",
       "    <tr>\n",
       "      <th>0</th>\n",
       "      <td>90</td>\n",
       "      <td>4</td>\n",
       "      <td>181</td>\n",
       "      <td>0.5</td>\n",
       "      <td>1127946789</td>\n",
       "    </tr>\n",
       "    <tr>\n",
       "      <th>1</th>\n",
       "      <td>296</td>\n",
       "      <td>4</td>\n",
       "      <td>1760</td>\n",
       "      <td>0.5</td>\n",
       "      <td>1114050751</td>\n",
       "    </tr>\n",
       "    <tr>\n",
       "      <th>2</th>\n",
       "      <td>484</td>\n",
       "      <td>4</td>\n",
       "      <td>3593</td>\n",
       "      <td>1.0</td>\n",
       "      <td>1115782046</td>\n",
       "    </tr>\n",
       "    <tr>\n",
       "      <th>3</th>\n",
       "      <td>1631</td>\n",
       "      <td>19</td>\n",
       "      <td>181</td>\n",
       "      <td>2.0</td>\n",
       "      <td>836433987</td>\n",
       "    </tr>\n",
       "    <tr>\n",
       "      <th>4</th>\n",
       "      <td>2655</td>\n",
       "      <td>38</td>\n",
       "      <td>4125</td>\n",
       "      <td>1.0</td>\n",
       "      <td>982853654</td>\n",
       "    </tr>\n",
       "    <tr>\n",
       "      <th>5</th>\n",
       "      <td>4450</td>\n",
       "      <td>54</td>\n",
       "      <td>810</td>\n",
       "      <td>3.0</td>\n",
       "      <td>868126354</td>\n",
       "    </tr>\n",
       "    <tr>\n",
       "      <th>6</th>\n",
       "      <td>5189</td>\n",
       "      <td>56</td>\n",
       "      <td>4255</td>\n",
       "      <td>3.5</td>\n",
       "      <td>1381372980</td>\n",
       "    </tr>\n",
       "    <tr>\n",
       "      <th>7</th>\n",
       "      <td>6455</td>\n",
       "      <td>72</td>\n",
       "      <td>90890</td>\n",
       "      <td>3.5</td>\n",
       "      <td>1459980875</td>\n",
       "    </tr>\n",
       "    <tr>\n",
       "      <th>8</th>\n",
       "      <td>6506</td>\n",
       "      <td>72</td>\n",
       "      <td>125916</td>\n",
       "      <td>0.5</td>\n",
       "      <td>1459979959</td>\n",
       "    </tr>\n",
       "    <tr>\n",
       "      <th>9</th>\n",
       "      <td>7119</td>\n",
       "      <td>75</td>\n",
       "      <td>125916</td>\n",
       "      <td>2.5</td>\n",
       "      <td>1511888779</td>\n",
       "    </tr>\n",
       "    <tr>\n",
       "      <th>10</th>\n",
       "      <td>7213</td>\n",
       "      <td>77</td>\n",
       "      <td>3799</td>\n",
       "      <td>4.0</td>\n",
       "      <td>1273189694</td>\n",
       "    </tr>\n",
       "    <tr>\n",
       "      <th>11</th>\n",
       "      <td>7215</td>\n",
       "      <td>77</td>\n",
       "      <td>43919</td>\n",
       "      <td>0.5</td>\n",
       "      <td>1273189819</td>\n",
       "    </tr>\n",
       "    <tr>\n",
       "      <th>12</th>\n",
       "      <td>7404</td>\n",
       "      <td>79</td>\n",
       "      <td>1760</td>\n",
       "      <td>4.0</td>\n",
       "      <td>1007913434</td>\n",
       "    </tr>\n",
       "    <tr>\n",
       "      <th>13</th>\n",
       "      <td>7975</td>\n",
       "      <td>81</td>\n",
       "      <td>3593</td>\n",
       "      <td>3.0</td>\n",
       "      <td>1432518868</td>\n",
       "    </tr>\n",
       "    <tr>\n",
       "      <th>14</th>\n",
       "      <td>8332</td>\n",
       "      <td>81</td>\n",
       "      <td>31698</td>\n",
       "      <td>0.5</td>\n",
       "      <td>1432522213</td>\n",
       "    </tr>\n",
       "    <tr>\n",
       "      <th>15</th>\n",
       "      <td>8551</td>\n",
       "      <td>81</td>\n",
       "      <td>61348</td>\n",
       "      <td>0.5</td>\n",
       "      <td>1432522522</td>\n",
       "    </tr>\n",
       "    <tr>\n",
       "      <th>16</th>\n",
       "      <td>8593</td>\n",
       "      <td>81</td>\n",
       "      <td>67867</td>\n",
       "      <td>0.5</td>\n",
       "      <td>1432522811</td>\n",
       "    </tr>\n",
       "    <tr>\n",
       "      <th>17</th>\n",
       "      <td>8823</td>\n",
       "      <td>83</td>\n",
       "      <td>181</td>\n",
       "      <td>5.0</td>\n",
       "      <td>832443013</td>\n",
       "    </tr>\n",
       "    <tr>\n",
       "      <th>18</th>\n",
       "      <td>9609</td>\n",
       "      <td>94</td>\n",
       "      <td>1760</td>\n",
       "      <td>4.0</td>\n",
       "      <td>1400301676</td>\n",
       "    </tr>\n",
       "    <tr>\n",
       "      <th>19</th>\n",
       "      <td>10284</td>\n",
       "      <td>100</td>\n",
       "      <td>3799</td>\n",
       "      <td>0.5</td>\n",
       "      <td>1204699936</td>\n",
       "    </tr>\n",
       "    <tr>\n",
       "      <th>20</th>\n",
       "      <td>10738</td>\n",
       "      <td>105</td>\n",
       "      <td>6827</td>\n",
       "      <td>0.5</td>\n",
       "      <td>1067386896</td>\n",
       "    </tr>\n",
       "    <tr>\n",
       "      <th>21</th>\n",
       "      <td>10899</td>\n",
       "      <td>111</td>\n",
       "      <td>3799</td>\n",
       "      <td>2.0</td>\n",
       "      <td>967488739</td>\n",
       "    </tr>\n",
       "    <tr>\n",
       "      <th>22</th>\n",
       "      <td>11312</td>\n",
       "      <td>117</td>\n",
       "      <td>810</td>\n",
       "      <td>2.0</td>\n",
       "      <td>856632876</td>\n",
       "    </tr>\n",
       "    <tr>\n",
       "      <th>23</th>\n",
       "      <td>12222</td>\n",
       "      <td>134</td>\n",
       "      <td>810</td>\n",
       "      <td>2.5</td>\n",
       "      <td>1382317679</td>\n",
       "    </tr>\n",
       "    <tr>\n",
       "      <th>24</th>\n",
       "      <td>12326</td>\n",
       "      <td>134</td>\n",
       "      <td>1599</td>\n",
       "      <td>2.0</td>\n",
       "      <td>1383498413</td>\n",
       "    </tr>\n",
       "    <tr>\n",
       "      <th>25</th>\n",
       "      <td>12373</td>\n",
       "      <td>134</td>\n",
       "      <td>1981</td>\n",
       "      <td>1.0</td>\n",
       "      <td>1347378821</td>\n",
       "    </tr>\n",
       "    <tr>\n",
       "      <th>26</th>\n",
       "      <td>12376</td>\n",
       "      <td>134</td>\n",
       "      <td>1984</td>\n",
       "      <td>1.0</td>\n",
       "      <td>1383496602</td>\n",
       "    </tr>\n",
       "    <tr>\n",
       "      <th>27</th>\n",
       "      <td>12584</td>\n",
       "      <td>134</td>\n",
       "      <td>3572</td>\n",
       "      <td>2.0</td>\n",
       "      <td>1485107161</td>\n",
       "    </tr>\n",
       "    <tr>\n",
       "      <th>28</th>\n",
       "      <td>12587</td>\n",
       "      <td>134</td>\n",
       "      <td>3593</td>\n",
       "      <td>3.0</td>\n",
       "      <td>1383496029</td>\n",
       "    </tr>\n",
       "    <tr>\n",
       "      <th>29</th>\n",
       "      <td>12890</td>\n",
       "      <td>134</td>\n",
       "      <td>8811</td>\n",
       "      <td>3.0</td>\n",
       "      <td>1485105635</td>\n",
       "    </tr>\n",
       "  </tbody>\n",
       "</table>\n",
       "</div>"
      ],
      "text/plain": [
       "    Unnamed: 0  userId  movieId  rating   timestamp\n",
       "0           90       4      181     0.5  1127946789\n",
       "1          296       4     1760     0.5  1114050751\n",
       "2          484       4     3593     1.0  1115782046\n",
       "3         1631      19      181     2.0   836433987\n",
       "4         2655      38     4125     1.0   982853654\n",
       "5         4450      54      810     3.0   868126354\n",
       "6         5189      56     4255     3.5  1381372980\n",
       "7         6455      72    90890     3.5  1459980875\n",
       "8         6506      72   125916     0.5  1459979959\n",
       "9         7119      75   125916     2.5  1511888779\n",
       "10        7213      77     3799     4.0  1273189694\n",
       "11        7215      77    43919     0.5  1273189819\n",
       "12        7404      79     1760     4.0  1007913434\n",
       "13        7975      81     3593     3.0  1432518868\n",
       "14        8332      81    31698     0.5  1432522213\n",
       "15        8551      81    61348     0.5  1432522522\n",
       "16        8593      81    67867     0.5  1432522811\n",
       "17        8823      83      181     5.0   832443013\n",
       "18        9609      94     1760     4.0  1400301676\n",
       "19       10284     100     3799     0.5  1204699936\n",
       "20       10738     105     6827     0.5  1067386896\n",
       "21       10899     111     3799     2.0   967488739\n",
       "22       11312     117      810     2.0   856632876\n",
       "23       12222     134      810     2.5  1382317679\n",
       "24       12326     134     1599     2.0  1383498413\n",
       "25       12373     134     1981     1.0  1347378821\n",
       "26       12376     134     1984     1.0  1383496602\n",
       "27       12584     134     3572     2.0  1485107161\n",
       "28       12587     134     3593     3.0  1383496029\n",
       "29       12890     134     8811     3.0  1485105635"
      ]
     },
     "execution_count": 33,
     "metadata": {},
     "output_type": "execute_result"
    }
   ],
   "source": [
    "df = pd.read_csv('item_item_test.csv')\n",
    "df.head(30)"
   ]
  },
  {
   "cell_type": "code",
   "execution_count": 34,
   "metadata": {},
   "outputs": [],
   "source": [
    "df.drop(['Unnamed: 0','timestamp'], inplace=True,axis=1)"
   ]
  },
  {
   "cell_type": "code",
   "execution_count": 35,
   "metadata": {},
   "outputs": [
    {
     "data": {
      "text/html": [
       "<div>\n",
       "<style scoped>\n",
       "    .dataframe tbody tr th:only-of-type {\n",
       "        vertical-align: middle;\n",
       "    }\n",
       "\n",
       "    .dataframe tbody tr th {\n",
       "        vertical-align: top;\n",
       "    }\n",
       "\n",
       "    .dataframe thead th {\n",
       "        text-align: right;\n",
       "    }\n",
       "</style>\n",
       "<table border=\"1\" class=\"dataframe\">\n",
       "  <thead>\n",
       "    <tr style=\"text-align: right;\">\n",
       "      <th></th>\n",
       "      <th>userId</th>\n",
       "      <th>movieId</th>\n",
       "      <th>rating</th>\n",
       "    </tr>\n",
       "  </thead>\n",
       "  <tbody>\n",
       "    <tr>\n",
       "      <th>0</th>\n",
       "      <td>4</td>\n",
       "      <td>181</td>\n",
       "      <td>0.5</td>\n",
       "    </tr>\n",
       "    <tr>\n",
       "      <th>1</th>\n",
       "      <td>4</td>\n",
       "      <td>1760</td>\n",
       "      <td>0.5</td>\n",
       "    </tr>\n",
       "    <tr>\n",
       "      <th>2</th>\n",
       "      <td>4</td>\n",
       "      <td>3593</td>\n",
       "      <td>1.0</td>\n",
       "    </tr>\n",
       "    <tr>\n",
       "      <th>3</th>\n",
       "      <td>19</td>\n",
       "      <td>181</td>\n",
       "      <td>2.0</td>\n",
       "    </tr>\n",
       "    <tr>\n",
       "      <th>4</th>\n",
       "      <td>38</td>\n",
       "      <td>4125</td>\n",
       "      <td>1.0</td>\n",
       "    </tr>\n",
       "  </tbody>\n",
       "</table>\n",
       "</div>"
      ],
      "text/plain": [
       "   userId  movieId  rating\n",
       "0       4      181     0.5\n",
       "1       4     1760     0.5\n",
       "2       4     3593     1.0\n",
       "3      19      181     2.0\n",
       "4      38     4125     1.0"
      ]
     },
     "execution_count": 35,
     "metadata": {},
     "output_type": "execute_result"
    }
   ],
   "source": [
    "df.head()"
   ]
  },
  {
   "cell_type": "code",
   "execution_count": 36,
   "metadata": {},
   "outputs": [
    {
     "data": {
      "text/plain": [
       "63163"
      ]
     },
     "execution_count": 36,
     "metadata": {},
     "output_type": "execute_result"
    }
   ],
   "source": [
    "len(df)"
   ]
  },
  {
   "cell_type": "code",
   "execution_count": 61,
   "metadata": {},
   "outputs": [],
   "source": [
    "def rec_gridsearch(model,param_grid,cv):\n",
    "    gs = GridSearchCV(model, param_grid, measures=['rmse', 'mae'], cv=cv, n_jobs=-1)\n",
    "    gs.fit(data)\n",
    "    # best RMSE score\n",
    "    print(gs.best_score['rmse'])\n",
    "\n",
    "    # combination of parameters that gave the best RMSE score\n",
    "    print(gs.best_params['rmse'])"
   ]
  },
  {
   "cell_type": "markdown",
   "metadata": {},
   "source": [
    "## Lets narrow down candidates.    "
   ]
  },
  {
   "cell_type": "code",
   "execution_count": 51,
   "metadata": {},
   "outputs": [
    {
     "name": "stdout",
     "output_type": "stream",
     "text": [
      "Estimating biases using als...\n",
      "Computing the msd similarity matrix...\n",
      "Done computing similarity matrix.\n",
      "Estimating biases using als...\n",
      "Computing the msd similarity matrix...\n",
      "Done computing similarity matrix.\n",
      "Estimating biases using als...\n",
      "Computing the msd similarity matrix...\n",
      "Done computing similarity matrix.\n",
      "Estimating biases using als...\n",
      "Computing the msd similarity matrix...\n",
      "Done computing similarity matrix.\n",
      "Estimating biases using als...\n",
      "Computing the msd similarity matrix...\n",
      "Done computing similarity matrix.\n",
      "Estimating biases using als...\n",
      "Computing the msd similarity matrix...\n",
      "Done computing similarity matrix.\n",
      "Estimating biases using als...\n",
      "Computing the msd similarity matrix...\n",
      "Done computing similarity matrix.\n",
      "Estimating biases using als...\n",
      "Computing the msd similarity matrix...\n",
      "Done computing similarity matrix.\n",
      "Estimating biases using als...\n",
      "Computing the msd similarity matrix...\n",
      "Done computing similarity matrix.\n",
      "Estimating biases using als...\n",
      "Computing the msd similarity matrix...\n",
      "Done computing similarity matrix.\n",
      "Computing the msd similarity matrix...\n",
      "Done computing similarity matrix.\n",
      "Computing the msd similarity matrix...\n",
      "Done computing similarity matrix.\n",
      "Computing the msd similarity matrix...\n",
      "Done computing similarity matrix.\n",
      "Computing the msd similarity matrix...\n",
      "Done computing similarity matrix.\n",
      "Computing the msd similarity matrix...\n",
      "Done computing similarity matrix.\n",
      "Computing the msd similarity matrix...\n",
      "Done computing similarity matrix.\n",
      "Computing the msd similarity matrix...\n",
      "Done computing similarity matrix.\n",
      "Computing the msd similarity matrix...\n",
      "Done computing similarity matrix.\n",
      "Computing the msd similarity matrix...\n",
      "Done computing similarity matrix.\n",
      "Computing the msd similarity matrix...\n",
      "Done computing similarity matrix.\n",
      "Computing the msd similarity matrix...\n",
      "Done computing similarity matrix.\n",
      "Computing the msd similarity matrix...\n",
      "Done computing similarity matrix.\n",
      "Computing the msd similarity matrix...\n",
      "Done computing similarity matrix.\n",
      "Computing the msd similarity matrix...\n",
      "Done computing similarity matrix.\n",
      "Computing the msd similarity matrix...\n",
      "Done computing similarity matrix.\n",
      "Computing the msd similarity matrix...\n",
      "Done computing similarity matrix.\n",
      "Computing the msd similarity matrix...\n",
      "Done computing similarity matrix.\n",
      "Computing the msd similarity matrix...\n",
      "Done computing similarity matrix.\n",
      "Computing the msd similarity matrix...\n",
      "Done computing similarity matrix.\n",
      "Computing the msd similarity matrix...\n",
      "Done computing similarity matrix.\n",
      "Computing the msd similarity matrix...\n",
      "Done computing similarity matrix.\n",
      "Computing the msd similarity matrix...\n",
      "Done computing similarity matrix.\n",
      "Computing the msd similarity matrix...\n",
      "Done computing similarity matrix.\n",
      "Computing the msd similarity matrix...\n",
      "Done computing similarity matrix.\n",
      "Computing the msd similarity matrix...\n",
      "Done computing similarity matrix.\n",
      "Computing the msd similarity matrix...\n",
      "Done computing similarity matrix.\n",
      "Computing the msd similarity matrix...\n",
      "Done computing similarity matrix.\n",
      "Computing the msd similarity matrix...\n",
      "Done computing similarity matrix.\n",
      "Computing the msd similarity matrix...\n",
      "Done computing similarity matrix.\n",
      "Computing the msd similarity matrix...\n",
      "Done computing similarity matrix.\n",
      "Estimating biases using als...\n",
      "Estimating biases using als...\n",
      "Estimating biases using als...\n",
      "Estimating biases using als...\n",
      "Estimating biases using als...\n",
      "Estimating biases using als...\n",
      "Estimating biases using als...\n",
      "Estimating biases using als...\n",
      "Estimating biases using als...\n",
      "Estimating biases using als...\n"
     ]
    },
    {
     "data": {
      "text/html": [
       "<div>\n",
       "<style scoped>\n",
       "    .dataframe tbody tr th:only-of-type {\n",
       "        vertical-align: middle;\n",
       "    }\n",
       "\n",
       "    .dataframe tbody tr th {\n",
       "        vertical-align: top;\n",
       "    }\n",
       "\n",
       "    .dataframe thead th {\n",
       "        text-align: right;\n",
       "    }\n",
       "</style>\n",
       "<table border=\"1\" class=\"dataframe\">\n",
       "  <thead>\n",
       "    <tr style=\"text-align: right;\">\n",
       "      <th></th>\n",
       "      <th>test_rmse</th>\n",
       "      <th>fit_time</th>\n",
       "      <th>test_time</th>\n",
       "    </tr>\n",
       "    <tr>\n",
       "      <th>Algorithm</th>\n",
       "      <th></th>\n",
       "      <th></th>\n",
       "      <th></th>\n",
       "    </tr>\n",
       "  </thead>\n",
       "  <tbody>\n",
       "    <tr>\n",
       "      <th>KNNBaseline</th>\n",
       "      <td>1.020727</td>\n",
       "      <td>89.183144</td>\n",
       "      <td>7.468731</td>\n",
       "    </tr>\n",
       "    <tr>\n",
       "      <th>SVDpp</th>\n",
       "      <td>1.040596</td>\n",
       "      <td>14.320231</td>\n",
       "      <td>0.210154</td>\n",
       "    </tr>\n",
       "    <tr>\n",
       "      <th>KNNBasic</th>\n",
       "      <td>1.053583</td>\n",
       "      <td>83.150241</td>\n",
       "      <td>6.483075</td>\n",
       "    </tr>\n",
       "    <tr>\n",
       "      <th>KNNWithMeans</th>\n",
       "      <td>1.059923</td>\n",
       "      <td>89.239505</td>\n",
       "      <td>6.966381</td>\n",
       "    </tr>\n",
       "    <tr>\n",
       "      <th>NMF</th>\n",
       "      <td>1.060838</td>\n",
       "      <td>6.355041</td>\n",
       "      <td>0.069143</td>\n",
       "    </tr>\n",
       "    <tr>\n",
       "      <th>KNNWithZScore</th>\n",
       "      <td>1.062559</td>\n",
       "      <td>93.642434</td>\n",
       "      <td>7.276902</td>\n",
       "    </tr>\n",
       "    <tr>\n",
       "      <th>SlopeOne</th>\n",
       "      <td>1.064206</td>\n",
       "      <td>0.392056</td>\n",
       "      <td>0.145317</td>\n",
       "    </tr>\n",
       "    <tr>\n",
       "      <th>SVD</th>\n",
       "      <td>1.065767</td>\n",
       "      <td>4.401206</td>\n",
       "      <td>0.075216</td>\n",
       "    </tr>\n",
       "    <tr>\n",
       "      <th>CoClustering</th>\n",
       "      <td>1.081905</td>\n",
       "      <td>4.598551</td>\n",
       "      <td>0.051666</td>\n",
       "    </tr>\n",
       "    <tr>\n",
       "      <th>BaselineOnly</th>\n",
       "      <td>1.086919</td>\n",
       "      <td>0.291023</td>\n",
       "      <td>0.046545</td>\n",
       "    </tr>\n",
       "    <tr>\n",
       "      <th>NormalPredictor</th>\n",
       "      <td>1.516856</td>\n",
       "      <td>0.113144</td>\n",
       "      <td>0.046027</td>\n",
       "    </tr>\n",
       "  </tbody>\n",
       "</table>\n",
       "</div>"
      ],
      "text/plain": [
       "                 test_rmse   fit_time  test_time\n",
       "Algorithm                                       \n",
       "KNNBaseline       1.020727  89.183144   7.468731\n",
       "SVDpp             1.040596  14.320231   0.210154\n",
       "KNNBasic          1.053583  83.150241   6.483075\n",
       "KNNWithMeans      1.059923  89.239505   6.966381\n",
       "NMF               1.060838   6.355041   0.069143\n",
       "KNNWithZScore     1.062559  93.642434   7.276902\n",
       "SlopeOne          1.064206   0.392056   0.145317\n",
       "SVD               1.065767   4.401206   0.075216\n",
       "CoClustering      1.081905   4.598551   0.051666\n",
       "BaselineOnly      1.086919   0.291023   0.046545\n",
       "NormalPredictor   1.516856   0.113144   0.046027"
      ]
     },
     "execution_count": 51,
     "metadata": {},
     "output_type": "execute_result"
    }
   ],
   "source": [
    "benchmark = []\n",
    "# Iterate over all algorithms\n",
    "for algorithm in [SVD(), SVDpp(), SlopeOne(), NMF(), NormalPredictor(), KNNBaseline(), KNNBasic(), KNNWithMeans(), KNNWithZScore(), BaselineOnly(), CoClustering()]:\n",
    "    # Perform cross validation\n",
    "    results = cross_validate(algorithm, data, measures=['RMSE'], cv=10, verbose=False)\n",
    "    \n",
    "    # Get results & append algorithm name\n",
    "    tmp = pd.DataFrame.from_dict(results).mean(axis=0)\n",
    "    tmp = tmp.append(pd.Series([str(algorithm).split(' ')[0].split('.')[-1]], index=['Algorithm']))\n",
    "    benchmark.append(tmp)\n",
    "    \n",
    "pd.DataFrame(benchmark).set_index('Algorithm').sort_values('test_rmse') "
   ]
  },
  {
   "cell_type": "markdown",
   "metadata": {},
   "source": [
    "## SVD"
   ]
  },
  {
   "cell_type": "code",
   "execution_count": 144,
   "metadata": {},
   "outputs": [],
   "source": [
    "reader = Reader(rating_scale=(0.5, 5))\n",
    "data = Dataset.load_from_df(df,reader)"
   ]
  },
  {
   "cell_type": "code",
   "execution_count": 40,
   "metadata": {},
   "outputs": [
    {
     "name": "stdout",
     "output_type": "stream",
     "text": [
      "Evaluating RMSE, MAE of algorithm SVD on 10 split(s).\n",
      "\n",
      "                  Fold 1  Fold 2  Fold 3  Fold 4  Fold 5  Fold 6  Fold 7  Fold 8  Fold 9  Fold 10 Mean    Std     \n",
      "RMSE (testset)    1.0480  1.0639  1.0572  1.0631  1.0695  1.0577  1.0587  1.0828  1.0779  1.0816  1.0660  0.0110  \n",
      "MAE (testset)     0.8468  0.8610  0.8527  0.8584  0.8670  0.8529  0.8580  0.8763  0.8746  0.8800  0.8628  0.0107  \n",
      "Fit time          4.23    4.24    4.17    4.20    4.20    4.22    4.29    4.22    4.29    4.16    4.22    0.04    \n",
      "Test time         0.06    0.06    0.06    0.06    0.06    0.07    0.06    0.06    0.14    0.06    0.07    0.03    \n"
     ]
    },
    {
     "data": {
      "text/plain": [
       "{'test_rmse': array([1.04799704, 1.06393136, 1.05718242, 1.0631157 , 1.06948358,\n",
       "        1.0576798 , 1.05870252, 1.08278422, 1.07792866, 1.0815916 ]),\n",
       " 'test_mae': array([0.84680658, 0.86103314, 0.85271596, 0.85842769, 0.86704902,\n",
       "        0.85287666, 0.85803869, 0.87626983, 0.87460099, 0.88001262]),\n",
       " 'fit_time': (4.225666761398315,\n",
       "  4.244113922119141,\n",
       "  4.16943097114563,\n",
       "  4.201759099960327,\n",
       "  4.200515985488892,\n",
       "  4.22236704826355,\n",
       "  4.287075757980347,\n",
       "  4.219311237335205,\n",
       "  4.285580635070801,\n",
       "  4.1620237827301025),\n",
       " 'test_time': (0.05500006675720215,\n",
       "  0.05860090255737305,\n",
       "  0.057804107666015625,\n",
       "  0.05599403381347656,\n",
       "  0.05787920951843262,\n",
       "  0.07165002822875977,\n",
       "  0.05598306655883789,\n",
       "  0.0560460090637207,\n",
       "  0.1419200897216797,\n",
       "  0.06035280227661133)}"
      ]
     },
     "execution_count": 40,
     "metadata": {},
     "output_type": "execute_result"
    }
   ],
   "source": [
    "svd = SVD()\n",
    "cross_validate(svd, data, measures=['RMSE', 'MAE'], cv=10, verbose=True)"
   ]
  },
  {
   "cell_type": "code",
   "execution_count": 42,
   "metadata": {},
   "outputs": [
    {
     "name": "stdout",
     "output_type": "stream",
     "text": [
      "1.0465191432486414\n",
      "{'n_epochs': 50, 'n_factors': 10, 'lr_all': 0.01, 'reg_all': 0.4, 'biased': True}\n"
     ]
    }
   ],
   "source": [
    "param_grid = {'n_epochs': [10, 20, 50], 'n_factors': [1,5,10],'lr_all': [0.001, 0.005, 0.01,0.05],\n",
    "              'reg_all': [0.4, 0.6], 'biased': [True, False],}\n",
    "rec_gridsearch(SVD,param_grid,3)"
   ]
  },
  {
   "cell_type": "code",
   "execution_count": 53,
   "metadata": {},
   "outputs": [
    {
     "name": "stdout",
     "output_type": "stream",
     "text": [
      "1.0424537695080438\n",
      "{'n_epochs': 75, 'n_factors': 20, 'lr_all': 0.01, 'reg_all': 0.3, 'biased': True}\n"
     ]
    }
   ],
   "source": [
    "param_grid = {'n_epochs': [50,75,100], 'n_factors': [5,10,20],'lr_all': [0.01,0.05],\n",
    "              'reg_all': [0.3,0.4,0.5], 'biased': [True, False],}\n",
    "rec_gridsearch(SVD,param_grid,3)"
   ]
  },
  {
   "cell_type": "code",
   "execution_count": 64,
   "metadata": {},
   "outputs": [
    {
     "name": "stdout",
     "output_type": "stream",
     "text": [
      "1.0298727259675857\n",
      "{'n_epochs': 75, 'n_factors': 40, 'lr_all': 0.01, 'reg_all': 0.1, 'biased': True}\n"
     ]
    }
   ],
   "source": [
    "param_grid = {'n_epochs': [75], 'n_factors': [20,30,40],'lr_all': [0.01],\n",
    "              'reg_all': [0.1,0.2,0.3], 'biased': [True],}\n",
    "rec_gridsearch(SVD,param_grid,3)"
   ]
  },
  {
   "cell_type": "code",
   "execution_count": 65,
   "metadata": {},
   "outputs": [
    {
     "name": "stdout",
     "output_type": "stream",
     "text": [
      "1.0282990610139882\n",
      "{'n_epochs': 75, 'n_factors': 60, 'lr_all': 0.01, 'reg_all': 0.1, 'biased': True}\n"
     ]
    }
   ],
   "source": [
    "param_grid = {'n_epochs': [75], 'n_factors': [40,50,60],'lr_all': [0.01],\n",
    "              'reg_all': [0.01,0.05,0.1], 'biased': [True],}\n",
    "rec_gridsearch(SVD,param_grid,3)"
   ]
  },
  {
   "cell_type": "code",
   "execution_count": 66,
   "metadata": {},
   "outputs": [
    {
     "name": "stdout",
     "output_type": "stream",
     "text": [
      "1.0281911365332073\n",
      "{'n_epochs': 75, 'n_factors': 90, 'lr_all': 0.01, 'reg_all': 0.1, 'biased': True}\n"
     ]
    }
   ],
   "source": [
    "param_grid = {'n_epochs': [75], 'n_factors': [60,70,80,90],'lr_all': [0.01],\n",
    "              'reg_all': [0.1], 'biased': [True],}\n",
    "rec_gridsearch(SVD,param_grid,3)"
   ]
  },
  {
   "cell_type": "markdown",
   "metadata": {},
   "source": [
    "Marginal improvement at this point. Moving on to other models."
   ]
  },
  {
   "cell_type": "markdown",
   "metadata": {},
   "source": [
    "## NMF"
   ]
  },
  {
   "cell_type": "code",
   "execution_count": 37,
   "metadata": {},
   "outputs": [
    {
     "name": "stdout",
     "output_type": "stream",
     "text": [
      "Evaluating RMSE, MAE of algorithm NMF on 10 split(s).\n",
      "\n",
      "                  Fold 1  Fold 2  Fold 3  Fold 4  Fold 5  Fold 6  Fold 7  Fold 8  Fold 9  Fold 10 Mean    Std     \n",
      "RMSE (testset)    1.0633  1.0634  1.0668  1.0630  1.0625  1.0599  1.0577  1.0702  1.0516  1.0759  1.0634  0.0063  \n",
      "MAE (testset)     0.7956  0.7947  0.7967  0.8000  0.8004  0.7915  0.7877  0.7993  0.7878  0.8044  0.7958  0.0053  \n",
      "Fit time          7.55    7.07    7.60    7.27    7.57    7.09    7.65    7.90    7.39    7.00    7.41    0.28    \n",
      "Test time         0.07    0.06    0.06    0.07    0.06    0.05    0.06    0.09    0.08    0.15    0.08    0.03    \n"
     ]
    },
    {
     "data": {
      "text/plain": [
       "{'test_rmse': array([1.06328433, 1.06336099, 1.06677292, 1.06301131, 1.06252209,\n",
       "        1.05991413, 1.05772675, 1.07020364, 1.05158049, 1.07592665]),\n",
       " 'test_mae': array([0.79562841, 0.79471426, 0.7966913 , 0.79999204, 0.80043335,\n",
       "        0.79146986, 0.78771769, 0.79933589, 0.78783922, 0.80444307]),\n",
       " 'fit_time': (7.5549468994140625,\n",
       "  7.073349952697754,\n",
       "  7.60212516784668,\n",
       "  7.266840934753418,\n",
       "  7.566035985946655,\n",
       "  7.087186813354492,\n",
       "  7.645038843154907,\n",
       "  7.904263973236084,\n",
       "  7.385869979858398,\n",
       "  7.002677917480469),\n",
       " 'test_time': (0.07328200340270996,\n",
       "  0.05996417999267578,\n",
       "  0.06066727638244629,\n",
       "  0.06553912162780762,\n",
       "  0.059427738189697266,\n",
       "  0.054814815521240234,\n",
       "  0.06008100509643555,\n",
       "  0.08710718154907227,\n",
       "  0.0838470458984375,\n",
       "  0.1524968147277832)}"
      ]
     },
     "execution_count": 37,
     "metadata": {},
     "output_type": "execute_result"
    }
   ],
   "source": [
    "nmf = NMF()\n",
    "cross_validate(nmf, data, measures=['RMSE', 'MAE'], cv=10, verbose=True)"
   ]
  },
  {
   "cell_type": "code",
   "execution_count": 39,
   "metadata": {},
   "outputs": [
    {
     "name": "stdout",
     "output_type": "stream",
     "text": [
      "1.057280091186513\n",
      "{'n_epochs': 50, 'n_factors': 1, 'biased': False}\n"
     ]
    },
    {
     "data": {
      "application/vnd.jupyter.widget-view+json": {
       "model_id": "abb21a8e26824dccb2076182dfe70f9f",
       "version_major": 2,
       "version_minor": 0
      },
      "text/plain": [
       "HBox(children=(IntProgress(value=1, bar_style='info', max=1), HTML(value='')))"
      ]
     },
     "metadata": {},
     "output_type": "display_data"
    },
    {
     "data": {
      "text/plain": [
       "0it [00:00, ?it/s]"
      ]
     },
     "execution_count": 39,
     "metadata": {},
     "output_type": "execute_result"
    }
   ],
   "source": [
    "# Not tuning LR/Reg until biased is determined to be true or not. \n",
    "param_grid = {'n_epochs': [10, 20, 50], 'n_factors': [1,5,10], 'biased': [True, False],}\n",
    "tqdm(rec_gridsearch(NMF,param_grid,9))"
   ]
  },
  {
   "cell_type": "code",
   "execution_count": null,
   "metadata": {},
   "outputs": [],
   "source": []
  },
  {
   "cell_type": "code",
   "execution_count": null,
   "metadata": {},
   "outputs": [],
   "source": []
  },
  {
   "cell_type": "markdown",
   "metadata": {},
   "source": [
    "### KNN Baseline"
   ]
  },
  {
   "cell_type": "code",
   "execution_count": 78,
   "metadata": {},
   "outputs": [],
   "source": [
    "knn = KNNBaseline()"
   ]
  },
  {
   "cell_type": "code",
   "execution_count": 79,
   "metadata": {},
   "outputs": [
    {
     "name": "stdout",
     "output_type": "stream",
     "text": [
      "Estimating biases using als...\n",
      "Computing the msd similarity matrix...\n",
      "Done computing similarity matrix.\n",
      "Estimating biases using als...\n",
      "Computing the msd similarity matrix...\n",
      "Done computing similarity matrix.\n",
      "Estimating biases using als...\n",
      "Computing the msd similarity matrix...\n",
      "Done computing similarity matrix.\n",
      "Estimating biases using als...\n",
      "Computing the msd similarity matrix...\n",
      "Done computing similarity matrix.\n",
      "Estimating biases using als...\n",
      "Computing the msd similarity matrix...\n",
      "Done computing similarity matrix.\n",
      "Estimating biases using als...\n",
      "Computing the msd similarity matrix...\n",
      "Done computing similarity matrix.\n",
      "Estimating biases using als...\n",
      "Computing the msd similarity matrix...\n",
      "Done computing similarity matrix.\n",
      "Estimating biases using als...\n",
      "Computing the msd similarity matrix...\n",
      "Done computing similarity matrix.\n",
      "Estimating biases using als...\n",
      "Computing the msd similarity matrix...\n",
      "Done computing similarity matrix.\n",
      "Estimating biases using als...\n",
      "Computing the msd similarity matrix...\n",
      "Done computing similarity matrix.\n",
      "Evaluating RMSE, MAE of algorithm KNNBaseline on 10 split(s).\n",
      "\n",
      "                  Fold 1  Fold 2  Fold 3  Fold 4  Fold 5  Fold 6  Fold 7  Fold 8  Fold 9  Fold 10 Mean    Std     \n",
      "RMSE (testset)    1.0212  1.0147  1.0171  1.0057  1.0183  1.0154  1.0254  1.0393  1.0167  1.0206  1.0194  0.0082  \n",
      "MAE (testset)     0.7897  0.7966  0.7962  0.7862  0.7983  0.7940  0.8047  0.8130  0.7952  0.7951  0.7969  0.0071  \n",
      "Fit time          81.98   85.10   83.33   82.51   81.27   85.21   85.35   82.57   82.92   80.71   83.10   1.57    \n",
      "Test time         6.32    6.42    7.32    6.58    6.94    6.73    6.29    6.50    7.58    6.68    6.73    0.41    \n"
     ]
    },
    {
     "data": {
      "text/plain": [
       "{'test_rmse': array([1.02117399, 1.01472005, 1.01711235, 1.00567749, 1.01832867,\n",
       "        1.01538854, 1.02541524, 1.03927229, 1.01674642, 1.02055621]),\n",
       " 'test_mae': array([0.78972274, 0.79656566, 0.79622076, 0.78623501, 0.79834623,\n",
       "        0.79404881, 0.80474513, 0.81302319, 0.79518576, 0.79507834]),\n",
       " 'fit_time': (81.97987985610962,\n",
       "  85.09711527824402,\n",
       "  83.33498191833496,\n",
       "  82.5072431564331,\n",
       "  81.26806092262268,\n",
       "  85.20557284355164,\n",
       "  85.35262894630432,\n",
       "  82.57301998138428,\n",
       "  82.91954588890076,\n",
       "  80.7125871181488),\n",
       " 'test_time': (6.315085172653198,\n",
       "  6.4196648597717285,\n",
       "  7.319612741470337,\n",
       "  6.577861309051514,\n",
       "  6.937384843826294,\n",
       "  6.732741832733154,\n",
       "  6.29314398765564,\n",
       "  6.4974470138549805,\n",
       "  7.580524206161499,\n",
       "  6.67586612701416)}"
      ]
     },
     "execution_count": 79,
     "metadata": {},
     "output_type": "execute_result"
    }
   ],
   "source": [
    "cross_validate(knn, data, measures=['RMSE', 'MAE'], cv=10, verbose=True)"
   ]
  },
  {
   "cell_type": "code",
   "execution_count": 83,
   "metadata": {},
   "outputs": [],
   "source": [
    "param_grid_knn = {'k': [20,30,50,60]}\n",
    "knnbaseline_gs = GridSearchCV(KNNBaseline, param_grid_knn, measures=['rmse', 'mae'], cv=4, n_jobs=-1)\n",
    "knnbaseline_gs.fit(data)"
   ]
  },
  {
   "cell_type": "code",
   "execution_count": 162,
   "metadata": {},
   "outputs": [
    {
     "name": "stdout",
     "output_type": "stream",
     "text": [
      "{'rmse': {'k': 35}, 'mae': {'k': 30}}\n",
      "{'rmse': 1.0327849906778375, 'mae': 0.8090094874055599}\n"
     ]
    }
   ],
   "source": [
    "print(knnbaseline_gs.best_params)\n",
    "print(knnbaseline_gs.best_score)"
   ]
  },
  {
   "cell_type": "code",
   "execution_count": 86,
   "metadata": {},
   "outputs": [
    {
     "name": "stdout",
     "output_type": "stream",
     "text": [
      "{'rmse': {'k': 35}, 'mae': {'k': 30}}\n",
      "{'rmse': 1.0327849906778375, 'mae': 0.8090094874055599}\n"
     ]
    }
   ],
   "source": [
    "param_grid_knn = {'k': [30,35,40,45]}\n",
    "knnbaseline_gs = GridSearchCV(KNNBaseline, param_grid_knn, measures=['rmse', 'mae'], cv=4, n_jobs=-1)\n",
    "knnbaseline_gs.fit(data)\n",
    "print(knnbaseline_gs.best_params)\n",
    "print(knnbaseline_gs.best_score)"
   ]
  },
  {
   "cell_type": "code",
   "execution_count": null,
   "metadata": {},
   "outputs": [],
   "source": []
  },
  {
   "cell_type": "markdown",
   "metadata": {},
   "source": [
    "### SVDpp"
   ]
  },
  {
   "cell_type": "code",
   "execution_count": 54,
   "metadata": {},
   "outputs": [
    {
     "name": "stdout",
     "output_type": "stream",
     "text": [
      "Evaluating RMSE, MAE of algorithm SVDpp on 10 split(s).\n",
      "\n",
      "                  Fold 1  Fold 2  Fold 3  Fold 4  Fold 5  Fold 6  Fold 7  Fold 8  Fold 9  Fold 10 Mean    Std     \n",
      "RMSE (testset)    1.0417  1.0315  1.0367  1.0386  1.0307  1.0364  1.0249  1.0468  1.0484  1.0428  1.0379  0.0070  \n",
      "MAE (testset)     0.8153  0.8088  0.8099  0.8155  0.7991  0.8077  0.8022  0.8201  0.8223  0.8163  0.8117  0.0071  \n",
      "Fit time          13.81   13.53   13.70   14.03   13.13   12.79   12.96   12.73   12.63   12.64   13.19   0.50    \n",
      "Test time         0.31    0.15    0.18    0.16    0.14    0.15    0.14    0.15    0.14    0.15    0.17    0.05    \n"
     ]
    },
    {
     "data": {
      "text/plain": [
       "{'test_rmse': array([1.04172288, 1.03148326, 1.0367124 , 1.03858046, 1.03072872,\n",
       "        1.03638924, 1.02494009, 1.04676632, 1.04843384, 1.04284449]),\n",
       " 'test_mae': array([0.81527772, 0.80879415, 0.80990328, 0.8154974 , 0.79912627,\n",
       "        0.80766324, 0.80224503, 0.82013032, 0.82229712, 0.81628458]),\n",
       " 'fit_time': (13.805808782577515,\n",
       "  13.52705192565918,\n",
       "  13.697068929672241,\n",
       "  14.026280879974365,\n",
       "  13.12869930267334,\n",
       "  12.78980016708374,\n",
       "  12.958942174911499,\n",
       "  12.731549978256226,\n",
       "  12.634726285934448,\n",
       "  12.638183832168579),\n",
       " 'test_time': (0.31453514099121094,\n",
       "  0.14533495903015137,\n",
       "  0.18267416954040527,\n",
       "  0.15613913536071777,\n",
       "  0.14376091957092285,\n",
       "  0.1474299430847168,\n",
       "  0.1381058692932129,\n",
       "  0.15408015251159668,\n",
       "  0.1385819911956787,\n",
       "  0.15295100212097168)}"
      ]
     },
     "execution_count": 54,
     "metadata": {},
     "output_type": "execute_result"
    }
   ],
   "source": [
    "svdpp = SVDpp()\n",
    "cross_validate(svdpp, data, measures=['RMSE', 'MAE'], cv=10, verbose=True)"
   ]
  },
  {
   "cell_type": "code",
   "execution_count": 62,
   "metadata": {},
   "outputs": [
    {
     "name": "stdout",
     "output_type": "stream",
     "text": [
      "1.031005864411734\n",
      "{'n_epochs': 75, 'n_factors': 20, 'lr_all': 0.01, 'reg_all': 0.3, 'random_state': 7}\n"
     ]
    }
   ],
   "source": [
    "param_grid_svdpp = {'n_epochs': [50,75,100], 'n_factors': [5,10,20],'lr_all': [0.01,0.05],\n",
    "              'reg_all': [0.3,0.4,0.5],'random_state':[7]}\n",
    "rec_gridsearch(SVDpp,param_grid_svdpp,7)"
   ]
  },
  {
   "cell_type": "code",
   "execution_count": 67,
   "metadata": {},
   "outputs": [
    {
     "name": "stdout",
     "output_type": "stream",
     "text": [
      "1.013783707348949\n",
      "{'n_epochs': 75, 'n_factors': 40, 'lr_all': 0.01, 'reg_all': 0.1, 'random_state': 7}\n"
     ]
    }
   ],
   "source": [
    "param_grid_svdpp = {'n_epochs': [75], 'n_factors': [20,30,40],'lr_all': [0.01],\n",
    "              'reg_all': [0.1,0.2,0.3],'random_state':[7]}\n",
    "rec_gridsearch(SVDpp,param_grid_svdpp,7)"
   ]
  },
  {
   "cell_type": "code",
   "execution_count": 68,
   "metadata": {},
   "outputs": [
    {
     "name": "stdout",
     "output_type": "stream",
     "text": [
      "1.012264700140572\n",
      "{'n_epochs': 75, 'n_factors': 50, 'lr_all': 0.01, 'reg_all': 0.1, 'random_state': 7}\n"
     ]
    }
   ],
   "source": [
    "param_grid_svdpp = {'n_epochs': [75], 'n_factors': [40,50,60],'lr_all': [0.01],\n",
    "              'reg_all': [0.05,0.1],'random_state':[7]}\n",
    "rec_gridsearch(SVDpp,param_grid_svdpp,7)"
   ]
  },
  {
   "cell_type": "markdown",
   "metadata": {},
   "source": [
    "Winner!"
   ]
  },
  {
   "cell_type": "markdown",
   "metadata": {},
   "source": [
    "### Annoy"
   ]
  },
  {
   "cell_type": "code",
   "execution_count": 87,
   "metadata": {},
   "outputs": [],
   "source": [
    "from annoy import AnnoyIndex"
   ]
  },
  {
   "cell_type": "code",
   "execution_count": 90,
   "metadata": {},
   "outputs": [
    {
     "name": "stdout",
     "output_type": "stream",
     "text": [
      "335k.csv                    \u001b[34maverage\u001b[m\u001b[m/\r\n",
      "615k.csv                    first_ml_dataset.csv\r\n",
      "Data_Gathering.ipynb        good_bad_movie_list.csv\r\n",
      "EDA.ipynb                   goodbad.db\r\n",
      "Flask Implementation.ipynb  gtag_test.csv\r\n",
      "README.md                   item_item_test.csv\r\n",
      "Recommender_Modeling.ipynb  \u001b[34mml-latest\u001b[m\u001b[m/\r\n",
      "SQL Import.ipynb            \u001b[34mward\u001b[m\u001b[m/\r\n"
     ]
    }
   ],
   "source": [
    "ls"
   ]
  },
  {
   "cell_type": "code",
   "execution_count": 93,
   "metadata": {},
   "outputs": [
    {
     "name": "stdout",
     "output_type": "stream",
     "text": [
      "<class 'pandas.core.frame.DataFrame'>\n",
      "RangeIndex: 128 entries, 0 to 127\n",
      "Data columns (total 32 columns):\n",
      "Unnamed: 0               128 non-null int64\n",
      "index                    128 non-null int64\n",
      "movieId                  128 non-null int64\n",
      "title                    128 non-null object\n",
      "genres                   128 non-null object\n",
      "imdbId                   128 non-null object\n",
      "tmdbId                   126 non-null float64\n",
      "('count', 0.5)           128 non-null float64\n",
      "('count', 1.0)           128 non-null float64\n",
      "('count', 1.5)           128 non-null float64\n",
      "('count', 2.0)           128 non-null float64\n",
      "('count', 2.5)           128 non-null float64\n",
      "('count', 3.0)           128 non-null float64\n",
      "('count', 3.5)           128 non-null float64\n",
      "('count', 4.0)           128 non-null float64\n",
      "('count', 4.5)           128 non-null float64\n",
      "('count', 5.0)           128 non-null float64\n",
      "Cheesy                   128 non-null float64\n",
      "Cult                     128 non-null float64\n",
      "Cult Classic             128 non-null float64\n",
      "Cult Film                128 non-null float64\n",
      "Low Budget               128 non-null float64\n",
      "Scifi Cult               128 non-null float64\n",
      "So bad its funny         128 non-null float64\n",
      "So bad its good          128 non-null float64\n",
      "Unintentionally funny    128 non-null float64\n",
      "total_count              128 non-null float64\n",
      "percent_0.5to1           128 non-null float64\n",
      "percent_4.5to5           128 non-null float64\n",
      "percent_polarity         128 non-null float64\n",
      "total_tails              128 non-null float64\n",
      "Cluster                  128 non-null int64\n",
      "dtypes: float64(25), int64(4), object(3)\n",
      "memory usage: 32.1+ KB\n"
     ]
    }
   ],
   "source": [
    "annoy_df = pd.read_csv('good_bad_movie_list.csv')\n",
    "annoy_df.info()"
   ]
  },
  {
   "cell_type": "code",
   "execution_count": null,
   "metadata": {},
   "outputs": [],
   "source": []
  },
  {
   "cell_type": "code",
   "execution_count": null,
   "metadata": {},
   "outputs": [],
   "source": []
  },
  {
   "cell_type": "code",
   "execution_count": null,
   "metadata": {},
   "outputs": [],
   "source": []
  },
  {
   "cell_type": "code",
   "execution_count": null,
   "metadata": {},
   "outputs": [],
   "source": []
  },
  {
   "cell_type": "code",
   "execution_count": null,
   "metadata": {},
   "outputs": [],
   "source": []
  },
  {
   "cell_type": "code",
   "execution_count": null,
   "metadata": {},
   "outputs": [],
   "source": []
  },
  {
   "cell_type": "markdown",
   "metadata": {},
   "source": [
    "### Final Model"
   ]
  },
  {
   "cell_type": "code",
   "execution_count": 145,
   "metadata": {},
   "outputs": [],
   "source": [
    "train, test = train_test_split(data, test_size=.2)"
   ]
  },
  {
   "cell_type": "code",
   "execution_count": 146,
   "metadata": {},
   "outputs": [],
   "source": [
    "final_model = SVDpp(n_epochs=75, n_factors=50, \n",
    "              lr_all=0.01, reg_all=0.1,random_state=7)"
   ]
  },
  {
   "cell_type": "code",
   "execution_count": 151,
   "metadata": {},
   "outputs": [
    {
     "name": "stdout",
     "output_type": "stream",
     "text": [
      "RMSE: 1.0159\n"
     ]
    },
    {
     "data": {
      "text/plain": [
       "1.0158505817425685"
      ]
     },
     "execution_count": 151,
     "metadata": {},
     "output_type": "execute_result"
    }
   ],
   "source": [
    "final_model.fit(train)\n",
    "predictions = final_model.test(test)\n",
    "accuracy.rmse(predictions)"
   ]
  },
  {
   "cell_type": "code",
   "execution_count": 148,
   "metadata": {},
   "outputs": [
    {
     "name": "stdout",
     "output_type": "stream",
     "text": [
      "MAE:  0.5167\n"
     ]
    },
    {
     "data": {
      "text/plain": [
       "0.5167495186189889"
      ]
     },
     "execution_count": 148,
     "metadata": {},
     "output_type": "execute_result"
    }
   ],
   "source": [
    "accuracy.mae(predictions)"
   ]
  },
  {
   "cell_type": "code",
   "execution_count": 129,
   "metadata": {},
   "outputs": [
    {
     "name": "stdout",
     "output_type": "stream",
     "text": [
      "The dump has been saved as file final_model\n"
     ]
    }
   ],
   "source": [
    "dump.dump('final_model', algo=final_model, predictions=predictions, verbose=1)"
   ]
  },
  {
   "cell_type": "code",
   "execution_count": 131,
   "metadata": {},
   "outputs": [],
   "source": [
    "preds, model = dump.load('final_model')"
   ]
  },
  {
   "cell_type": "code",
   "execution_count": 154,
   "metadata": {},
   "outputs": [
    {
     "data": {
      "text/plain": [
       "[Prediction(uid=60900, iid=3573, r_ui=4.0, est=1.8148834648064411, details={'was_impossible': False}),\n",
       " Prediction(uid=47265, iid=3799, r_ui=5.0, est=4.762999747372759, details={'was_impossible': False}),\n",
       " Prediction(uid=281535, iid=1760, r_ui=3.0, est=1.7667679050762473, details={'was_impossible': False}),\n",
       " Prediction(uid=245339, iid=90890, r_ui=0.5, est=0.8113782021349213, details={'was_impossible': False}),\n",
       " Prediction(uid=259920, iid=2383, r_ui=0.5, est=1.4232502708429215, details={'was_impossible': False}),\n",
       " Prediction(uid=121261, iid=3593, r_ui=3.0, est=1.756846889092994, details={'was_impossible': False}),\n",
       " Prediction(uid=202682, iid=125916, r_ui=3.5, est=1.8861287289483741, details={'was_impossible': False}),\n",
       " Prediction(uid=124637, iid=1323, r_ui=0.5, est=1.480585390847311, details={'was_impossible': False}),\n",
       " Prediction(uid=140598, iid=4241, r_ui=1.0, est=1.5454718346606553, details={'was_impossible': False}),\n",
       " Prediction(uid=207864, iid=181, r_ui=2.0, est=1.9341919946510697, details={'was_impossible': False}),\n",
       " Prediction(uid=166101, iid=74754, r_ui=5.0, est=2.6766837706606204, details={'was_impossible': False}),\n",
       " Prediction(uid=27766, iid=2383, r_ui=1.0, est=1.9466569632243398, details={'was_impossible': False}),\n",
       " Prediction(uid=127005, iid=4241, r_ui=0.5, est=0.9685534566562164, details={'was_impossible': False}),\n",
       " Prediction(uid=218233, iid=1595, r_ui=0.5, est=1.831629501247716, details={'was_impossible': False}),\n",
       " Prediction(uid=99359, iid=4051, r_ui=0.5, est=0.7419294787132422, details={'was_impossible': False}),\n",
       " Prediction(uid=249355, iid=4750, r_ui=1.5, est=2.6606069227832223, details={'was_impossible': False}),\n",
       " Prediction(uid=276645, iid=133824, r_ui=2.0, est=1.6586682987574541, details={'was_impossible': False}),\n",
       " Prediction(uid=102990, iid=1981, r_ui=3.0, est=1.8096635199375224, details={'was_impossible': False}),\n",
       " Prediction(uid=34658, iid=2555, r_ui=0.5, est=1.6134345480593373, details={'was_impossible': False}),\n",
       " Prediction(uid=140725, iid=68965, r_ui=0.5, est=2.8159527257644745, details={'was_impossible': False}),\n",
       " Prediction(uid=108615, iid=5832, r_ui=2.0, est=2.0629280003855706, details={'was_impossible': False}),\n",
       " Prediction(uid=151910, iid=6899, r_ui=1.0, est=1.8549900668334827, details={'was_impossible': False}),\n",
       " Prediction(uid=10161, iid=1760, r_ui=0.5, est=1.4824389717204287, details={'was_impossible': False}),\n",
       " Prediction(uid=261506, iid=50798, r_ui=2.0, est=0.8550100886379418, details={'was_impossible': False}),\n",
       " Prediction(uid=200354, iid=2368, r_ui=2.5, est=2.2969387174739113, details={'was_impossible': False}),\n",
       " Prediction(uid=15812, iid=1323, r_ui=1.0, est=1.794298101849523, details={'was_impossible': False}),\n",
       " Prediction(uid=177765, iid=2555, r_ui=1.5, est=1.769180240713959, details={'was_impossible': False}),\n",
       " Prediction(uid=158521, iid=2974, r_ui=3.5, est=2.0227429550916773, details={'was_impossible': False}),\n",
       " Prediction(uid=95579, iid=1760, r_ui=1.0, est=1.8486346867780779, details={'was_impossible': False}),\n",
       " Prediction(uid=168295, iid=2817, r_ui=1.0, est=1.794620878708165, details={'was_impossible': False}),\n",
       " Prediction(uid=145034, iid=125916, r_ui=1.0, est=1.693792962034177, details={'was_impossible': False}),\n",
       " Prediction(uid=178311, iid=810, r_ui=3.0, est=1.2487721724162844, details={'was_impossible': False}),\n",
       " Prediction(uid=214032, iid=125916, r_ui=3.5, est=1.8861287289483741, details={'was_impossible': False}),\n",
       " Prediction(uid=63670, iid=125916, r_ui=0.5, est=1.8861287289483741, details={'was_impossible': False}),\n",
       " Prediction(uid=156855, iid=1984, r_ui=2.5, est=2.6458893678308386, details={'was_impossible': False}),\n",
       " Prediction(uid=19363, iid=50798, r_ui=2.0, est=2.1006785537679082, details={'was_impossible': False}),\n",
       " Prediction(uid=133297, iid=5675, r_ui=3.0, est=2.1000263061639486, details={'was_impossible': False}),\n",
       " Prediction(uid=166659, iid=6482, r_ui=1.0, est=0.8067559697739242, details={'was_impossible': False}),\n",
       " Prediction(uid=273183, iid=3434, r_ui=3.0, est=3.0461063416593595, details={'was_impossible': False}),\n",
       " Prediction(uid=266418, iid=2817, r_ui=1.0, est=1.1664667836125926, details={'was_impossible': False}),\n",
       " Prediction(uid=112029, iid=70946, r_ui=0.5, est=1.1465936089184563, details={'was_impossible': False}),\n",
       " Prediction(uid=3361, iid=2383, r_ui=0.5, est=1.9466569632243398, details={'was_impossible': False}),\n",
       " Prediction(uid=123295, iid=2383, r_ui=0.5, est=1.9466569632243398, details={'was_impossible': False}),\n",
       " Prediction(uid=174422, iid=2887, r_ui=2.0, est=1.7489912607917206, details={'was_impossible': False}),\n",
       " Prediction(uid=49953, iid=810, r_ui=2.0, est=1.8783164886732824, details={'was_impossible': False}),\n",
       " Prediction(uid=184203, iid=1760, r_ui=0.5, est=1.5302084888662943, details={'was_impossible': False}),\n",
       " Prediction(uid=26700, iid=1328, r_ui=3.5, est=2.718017046981032, details={'was_impossible': False}),\n",
       " Prediction(uid=52664, iid=1739, r_ui=1.5, est=1.3167008932066586, details={'was_impossible': False}),\n",
       " Prediction(uid=254334, iid=90890, r_ui=2.0, est=1.7816723101750325, details={'was_impossible': False}),\n",
       " Prediction(uid=48192, iid=3042, r_ui=3.0, est=2.5565401211908263, details={'was_impossible': False}),\n",
       " Prediction(uid=60021, iid=31424, r_ui=3.0, est=1.5429240447402295, details={'was_impossible': False}),\n",
       " Prediction(uid=56007, iid=1984, r_ui=3.0, est=2.52029356139873, details={'was_impossible': False}),\n",
       " Prediction(uid=229100, iid=1886, r_ui=1.0, est=2.124233803309371, details={'was_impossible': False}),\n",
       " Prediction(uid=48470, iid=2462, r_ui=2.0, est=1.6308814979914115, details={'was_impossible': False}),\n",
       " Prediction(uid=266853, iid=43919, r_ui=2.0, est=1.0364096010602668, details={'was_impossible': False}),\n",
       " Prediction(uid=185155, iid=61348, r_ui=0.5, est=1.328209135767922, details={'was_impossible': False}),\n",
       " Prediction(uid=22920, iid=2383, r_ui=1.5, est=1.9697079117880611, details={'was_impossible': False}),\n",
       " Prediction(uid=4636, iid=3593, r_ui=1.0, est=1.756846889092994, details={'was_impossible': False}),\n",
       " Prediction(uid=264337, iid=6872, r_ui=1.5, est=1.1509576059705946, details={'was_impossible': False}),\n",
       " Prediction(uid=47599, iid=3573, r_ui=2.0, est=2.105972515957191, details={'was_impossible': False}),\n",
       " Prediction(uid=227091, iid=4241, r_ui=1.0, est=0.9525137915296428, details={'was_impossible': False}),\n",
       " Prediction(uid=64342, iid=3593, r_ui=1.0, est=1.210546520662253, details={'was_impossible': False}),\n",
       " Prediction(uid=93190, iid=1826, r_ui=0.5, est=0.5, details={'was_impossible': False}),\n",
       " Prediction(uid=237394, iid=67867, r_ui=0.5, est=1.6933468709480568, details={'was_impossible': False}),\n",
       " Prediction(uid=85527, iid=3799, r_ui=0.5, est=1.2002191210430948, details={'was_impossible': False}),\n",
       " Prediction(uid=94749, iid=2383, r_ui=2.0, est=1.5593030307805404, details={'was_impossible': False}),\n",
       " Prediction(uid=175634, iid=3437, r_ui=0.5, est=1.2696005858090984, details={'was_impossible': False}),\n",
       " Prediction(uid=61095, iid=6482, r_ui=2.0, est=2.131927563459718, details={'was_impossible': False}),\n",
       " Prediction(uid=251978, iid=1989, r_ui=1.0, est=1.1609360259686605, details={'was_impossible': False}),\n",
       " Prediction(uid=239936, iid=2799, r_ui=1.0, est=1.9143461040012786, details={'was_impossible': False}),\n",
       " Prediction(uid=149995, iid=4125, r_ui=1.0, est=2.143278732586554, details={'was_impossible': False}),\n",
       " Prediction(uid=7395, iid=3593, r_ui=1.0, est=1.756846889092994, details={'was_impossible': False}),\n",
       " Prediction(uid=275298, iid=3437, r_ui=4.0, est=2.3946667694939068, details={'was_impossible': False}),\n",
       " Prediction(uid=180933, iid=31698, r_ui=0.5, est=0.9550850144859262, details={'was_impossible': False}),\n",
       " Prediction(uid=244089, iid=1826, r_ui=0.5, est=1.2666934079578627, details={'was_impossible': False}),\n",
       " Prediction(uid=112780, iid=3945, r_ui=5.0, est=2.8087094212140187, details={'was_impossible': False}),\n",
       " Prediction(uid=79738, iid=2383, r_ui=2.0, est=1.6310694392471523, details={'was_impossible': False}),\n",
       " Prediction(uid=157690, iid=3593, r_ui=1.0, est=1.756846889092994, details={'was_impossible': False}),\n",
       " Prediction(uid=154755, iid=2817, r_ui=1.0, est=1.5106967384173153, details={'was_impossible': False}),\n",
       " Prediction(uid=190477, iid=6482, r_ui=1.5, est=1.356812130067498, details={'was_impossible': False}),\n",
       " Prediction(uid=87481, iid=4125, r_ui=1.0, est=1.6421468149458192, details={'was_impossible': False}),\n",
       " Prediction(uid=18241, iid=181, r_ui=1.0, est=1.7262106427853523, details={'was_impossible': False}),\n",
       " Prediction(uid=152506, iid=2449, r_ui=1.0, est=1.6163751083171125, details={'was_impossible': False}),\n",
       " Prediction(uid=12406, iid=1322, r_ui=1.5, est=1.2097257106212689, details={'was_impossible': False}),\n",
       " Prediction(uid=79830, iid=3573, r_ui=1.0, est=1.1256842981009305, details={'was_impossible': False}),\n",
       " Prediction(uid=41884, iid=67867, r_ui=0.5, est=2.2985640350700693, details={'was_impossible': False}),\n",
       " Prediction(uid=204845, iid=1323, r_ui=2.0, est=1.2347872764695265, details={'was_impossible': False}),\n",
       " Prediction(uid=129258, iid=1853, r_ui=2.0, est=1.984613751359654, details={'was_impossible': False}),\n",
       " Prediction(uid=2629, iid=2368, r_ui=2.0, est=2.0080223434561324, details={'was_impossible': False}),\n",
       " Prediction(uid=126253, iid=1739, r_ui=2.5, est=1.340641105230846, details={'was_impossible': False}),\n",
       " Prediction(uid=223606, iid=6483, r_ui=0.5, est=0.5986315531719246, details={'was_impossible': False}),\n",
       " Prediction(uid=207590, iid=2799, r_ui=1.0, est=1.9143461040012786, details={'was_impossible': False}),\n",
       " Prediction(uid=5813, iid=3593, r_ui=3.0, est=1.756846889092994, details={'was_impossible': False}),\n",
       " Prediction(uid=82992, iid=135216, r_ui=1.0, est=1.8357344387260075, details={'was_impossible': False}),\n",
       " Prediction(uid=146580, iid=1495, r_ui=1.0, est=1.5687975724924417, details={'was_impossible': False}),\n",
       " Prediction(uid=149995, iid=3041, r_ui=3.0, est=2.0955490719053462, details={'was_impossible': False}),\n",
       " Prediction(uid=117097, iid=1335, r_ui=3.0, est=1.9483328573140881, details={'was_impossible': False}),\n",
       " Prediction(uid=68632, iid=125916, r_ui=0.5, est=1.0189109714032165, details={'was_impossible': False}),\n",
       " Prediction(uid=17127, iid=1323, r_ui=2.0, est=2.2641990392738043, details={'was_impossible': False}),\n",
       " Prediction(uid=245307, iid=1981, r_ui=2.0, est=1.0937377912446382, details={'was_impossible': False}),\n",
       " Prediction(uid=240972, iid=125916, r_ui=2.5, est=1.8850358481509768, details={'was_impossible': False}),\n",
       " Prediction(uid=266004, iid=67867, r_ui=1.5, est=2.3943632270072586, details={'was_impossible': False}),\n",
       " Prediction(uid=210928, iid=2516, r_ui=1.0, est=1.2252412548589457, details={'was_impossible': False}),\n",
       " Prediction(uid=195255, iid=810, r_ui=2.0, est=1.8783164886732824, details={'was_impossible': False}),\n",
       " Prediction(uid=224272, iid=1335, r_ui=2.0, est=2.014698086486806, details={'was_impossible': False}),\n",
       " Prediction(uid=198223, iid=39408, r_ui=5.0, est=4.0557138224367755, details={'was_impossible': False}),\n",
       " Prediction(uid=275244, iid=2818, r_ui=3.0, est=2.792351631814992, details={'was_impossible': False}),\n",
       " Prediction(uid=74040, iid=31698, r_ui=0.5, est=1.4020793855194742, details={'was_impossible': False}),\n",
       " Prediction(uid=56073, iid=1679, r_ui=0.5, est=1.197036980716407, details={'was_impossible': False}),\n",
       " Prediction(uid=253813, iid=3820, r_ui=0.5, est=0.8894096913697787, details={'was_impossible': False}),\n",
       " Prediction(uid=98560, iid=4255, r_ui=1.0, est=1.2355138028558619, details={'was_impossible': False}),\n",
       " Prediction(uid=37046, iid=6899, r_ui=3.5, est=2.373169939851282, details={'was_impossible': False}),\n",
       " Prediction(uid=143502, iid=4255, r_ui=0.5, est=3.192156235354162, details={'was_impossible': False}),\n",
       " Prediction(uid=110155, iid=5672, r_ui=3.0, est=2.746862024266282, details={'was_impossible': False}),\n",
       " Prediction(uid=248431, iid=8290, r_ui=0.5, est=1.1687902891019095, details={'was_impossible': False}),\n",
       " Prediction(uid=234184, iid=3593, r_ui=3.0, est=1.756846889092994, details={'was_impossible': False}),\n",
       " Prediction(uid=186479, iid=1595, r_ui=1.0, est=1.597503057971458, details={'was_impossible': False}),\n",
       " Prediction(uid=242915, iid=50798, r_ui=1.5, est=1.634853811526717, details={'was_impossible': False}),\n",
       " Prediction(uid=105700, iid=4775, r_ui=1.0, est=0.9091120617811241, details={'was_impossible': False}),\n",
       " Prediction(uid=269098, iid=31698, r_ui=0.5, est=1.428589102350545, details={'was_impossible': False}),\n",
       " Prediction(uid=234914, iid=1495, r_ui=3.5, est=2.527249172292035, details={'was_impossible': False}),\n",
       " Prediction(uid=67661, iid=2383, r_ui=1.0, est=1.9466569632243398, details={'was_impossible': False}),\n",
       " Prediction(uid=141534, iid=4255, r_ui=4.0, est=2.0144899112255508, details={'was_impossible': False}),\n",
       " Prediction(uid=9537, iid=3593, r_ui=0.5, est=1.756846889092994, details={'was_impossible': False}),\n",
       " Prediction(uid=99587, iid=2555, r_ui=3.0, est=1.7927524978935119, details={'was_impossible': False}),\n",
       " Prediction(uid=137253, iid=39408, r_ui=3.5, est=2.1952133008691925, details={'was_impossible': False}),\n",
       " Prediction(uid=227105, iid=1760, r_ui=1.0, est=1.8486346867780779, details={'was_impossible': False}),\n",
       " Prediction(uid=102123, iid=125916, r_ui=1.0, est=1.8861287289483741, details={'was_impossible': False}),\n",
       " Prediction(uid=132363, iid=3593, r_ui=4.0, est=1.756846889092994, details={'was_impossible': False}),\n",
       " Prediction(uid=97726, iid=3799, r_ui=4.0, est=1.9394443376995767, details={'was_impossible': False}),\n",
       " Prediction(uid=132991, iid=2516, r_ui=1.0, est=1.6761662465319767, details={'was_impossible': False}),\n",
       " Prediction(uid=5323, iid=6483, r_ui=1.0, est=1.553241909513005, details={'was_impossible': False}),\n",
       " Prediction(uid=46427, iid=1826, r_ui=1.0, est=1.197447759583201, details={'was_impossible': False}),\n",
       " Prediction(uid=10543, iid=4241, r_ui=4.0, est=1.7964305231663829, details={'was_impossible': False}),\n",
       " Prediction(uid=190592, iid=1826, r_ui=0.5, est=0.5299896667028158, details={'was_impossible': False}),\n",
       " Prediction(uid=194424, iid=3041, r_ui=1.0, est=1.3505829794989643, details={'was_impossible': False}),\n",
       " Prediction(uid=137652, iid=181, r_ui=2.0, est=1.6143231450299413, details={'was_impossible': False}),\n",
       " Prediction(uid=134024, iid=3593, r_ui=1.0, est=1.756846889092994, details={'was_impossible': False}),\n",
       " Prediction(uid=14320, iid=2386, r_ui=0.5, est=0.6886612956090661, details={'was_impossible': False}),\n",
       " Prediction(uid=127369, iid=2383, r_ui=2.5, est=1.9466569632243398, details={'was_impossible': False}),\n",
       " Prediction(uid=40290, iid=3574, r_ui=1.0, est=1.591785580673956, details={'was_impossible': False}),\n",
       " Prediction(uid=70404, iid=3042, r_ui=1.0, est=1.313327660210238, details={'was_impossible': False}),\n",
       " Prediction(uid=228891, iid=74754, r_ui=3.5, est=2.141477504788109, details={'was_impossible': False}),\n",
       " Prediction(uid=280018, iid=1826, r_ui=2.5, est=1.0986250977972987, details={'was_impossible': False}),\n",
       " Prediction(uid=117486, iid=4241, r_ui=1.0, est=1.531086590777206, details={'was_impossible': False}),\n",
       " Prediction(uid=168963, iid=84312, r_ui=2.5, est=2.306348392825602, details={'was_impossible': False}),\n",
       " Prediction(uid=100729, iid=57532, r_ui=2.0, est=1.7117695595522013, details={'was_impossible': False}),\n",
       " Prediction(uid=99990, iid=4775, r_ui=0.5, est=0.6890691456262928, details={'was_impossible': False}),\n",
       " Prediction(uid=188066, iid=6827, r_ui=2.5, est=2.118854758999056, details={'was_impossible': False}),\n",
       " Prediction(uid=158105, iid=4775, r_ui=2.5, est=2.679290644615571, details={'was_impossible': False}),\n",
       " Prediction(uid=71941, iid=6827, r_ui=1.0, est=0.5477502750662431, details={'was_impossible': False}),\n",
       " Prediction(uid=126562, iid=5647, r_ui=5.0, est=3.197539068614791, details={'was_impossible': False}),\n",
       " Prediction(uid=164559, iid=181, r_ui=1.0, est=1.9341919946510697, details={'was_impossible': False}),\n",
       " Prediction(uid=85527, iid=181, r_ui=0.5, est=1.0655823388172334, details={'was_impossible': False}),\n",
       " Prediction(uid=81695, iid=31424, r_ui=3.5, est=1.9705871182892871, details={'was_impossible': False}),\n",
       " Prediction(uid=10599, iid=3593, r_ui=0.5, est=1.756846889092994, details={'was_impossible': False}),\n",
       " Prediction(uid=256230, iid=2462, r_ui=3.0, est=1.823069275805916, details={'was_impossible': False}),\n",
       " Prediction(uid=176999, iid=2817, r_ui=1.0, est=1.1002255115033766, details={'was_impossible': False}),\n",
       " Prediction(uid=239928, iid=67867, r_ui=3.5, est=2.8454970183720683, details={'was_impossible': False}),\n",
       " Prediction(uid=50913, iid=2383, r_ui=2.5, est=1.9466569632243398, details={'was_impossible': False}),\n",
       " Prediction(uid=261887, iid=1984, r_ui=2.5, est=1.885451572759893, details={'was_impossible': False}),\n",
       " Prediction(uid=234141, iid=2818, r_ui=3.0, est=1.7088837999994813, details={'was_impossible': False}),\n",
       " Prediction(uid=75589, iid=3593, r_ui=2.0, est=1.756846889092994, details={'was_impossible': False}),\n",
       " Prediction(uid=45498, iid=90890, r_ui=1.0, est=2.0977161666215087, details={'was_impossible': False}),\n",
       " Prediction(uid=11705, iid=31424, r_ui=1.5, est=1.5429240447402295, details={'was_impossible': False}),\n",
       " Prediction(uid=204896, iid=57532, r_ui=0.5, est=1.2468165652342231, details={'was_impossible': False}),\n",
       " Prediction(uid=62861, iid=181, r_ui=0.5, est=0.7224314546883931, details={'was_impossible': False}),\n",
       " Prediction(uid=37882, iid=1886, r_ui=1.0, est=2.124233803309371, details={'was_impossible': False}),\n",
       " Prediction(uid=133139, iid=810, r_ui=3.0, est=1.8783164886732824, details={'was_impossible': False}),\n",
       " Prediction(uid=36689, iid=3026, r_ui=5.0, est=2.052600664155973, details={'was_impossible': False}),\n",
       " Prediction(uid=258474, iid=92058, r_ui=1.5, est=1.062532432777495, details={'was_impossible': False}),\n",
       " Prediction(uid=37145, iid=2386, r_ui=2.0, est=1.354295402606815, details={'was_impossible': False}),\n",
       " Prediction(uid=243350, iid=3941, r_ui=1.0, est=2.2029374066991156, details={'was_impossible': False}),\n",
       " Prediction(uid=243036, iid=1826, r_ui=1.0, est=1.145304869114207, details={'was_impossible': False}),\n",
       " Prediction(uid=103083, iid=54290, r_ui=5.0, est=1.5108514318569004, details={'was_impossible': False}),\n",
       " Prediction(uid=92877, iid=6587, r_ui=1.0, est=1.3749343281149913, details={'was_impossible': False}),\n",
       " Prediction(uid=261606, iid=3042, r_ui=1.0, est=1.774064368375907, details={'was_impossible': False}),\n",
       " Prediction(uid=19063, iid=59295, r_ui=0.5, est=2.3977911567523256, details={'was_impossible': False}),\n",
       " Prediction(uid=79979, iid=6371, r_ui=0.5, est=0.770731489696959, details={'was_impossible': False}),\n",
       " Prediction(uid=47249, iid=2383, r_ui=0.5, est=1.1805910139752223, details={'was_impossible': False}),\n",
       " Prediction(uid=50824, iid=135216, r_ui=4.0, est=2.9098056502026686, details={'was_impossible': False}),\n",
       " Prediction(uid=185717, iid=3041, r_ui=2.0, est=1.1430695621093137, details={'was_impossible': False}),\n",
       " Prediction(uid=168743, iid=57532, r_ui=2.5, est=1.2896663716633203, details={'was_impossible': False}),\n",
       " Prediction(uid=190210, iid=3962, r_ui=2.0, est=1.7106341559400302, details={'was_impossible': False}),\n",
       " Prediction(uid=6884, iid=4255, r_ui=2.5, est=2.6118738159217063, details={'was_impossible': False}),\n",
       " Prediction(uid=28205, iid=3940, r_ui=1.0, est=1.6364581902185202, details={'was_impossible': False}),\n",
       " Prediction(uid=248099, iid=6587, r_ui=2.5, est=1.3749343281149913, details={'was_impossible': False}),\n",
       " Prediction(uid=177284, iid=57532, r_ui=4.5, est=1.1136218479502447, details={'was_impossible': False}),\n",
       " Prediction(uid=251844, iid=1325, r_ui=3.0, est=2.6703816691300717, details={'was_impossible': False}),\n",
       " Prediction(uid=109357, iid=2383, r_ui=2.0, est=2.414103939038294, details={'was_impossible': False}),\n",
       " Prediction(uid=908, iid=1984, r_ui=5.0, est=1.6000717933102044, details={'was_impossible': False}),\n",
       " Prediction(uid=212710, iid=54290, r_ui=0.5, est=0.6436284330476381, details={'was_impossible': False}),\n",
       " Prediction(uid=58009, iid=2799, r_ui=2.5, est=2.237269285583176, details={'was_impossible': False}),\n",
       " Prediction(uid=59478, iid=3593, r_ui=1.0, est=1.9289173182820492, details={'was_impossible': False}),\n",
       " Prediction(uid=162611, iid=3042, r_ui=3.0, est=1.774064368375907, details={'was_impossible': False}),\n",
       " Prediction(uid=203477, iid=1325, r_ui=1.0, est=1.6310990198054196, details={'was_impossible': False}),\n",
       " Prediction(uid=127947, iid=5675, r_ui=1.5, est=1.9445743687084476, details={'was_impossible': False}),\n",
       " Prediction(uid=167645, iid=181, r_ui=3.0, est=1.9341919946510697, details={'was_impossible': False}),\n",
       " Prediction(uid=89365, iid=3593, r_ui=1.0, est=1.756846889092994, details={'was_impossible': False}),\n",
       " Prediction(uid=83134, iid=1981, r_ui=1.0, est=1.4889120429708025, details={'was_impossible': False}),\n",
       " Prediction(uid=199150, iid=6482, r_ui=1.0, est=1.3489997488180157, details={'was_impossible': False}),\n",
       " Prediction(uid=277645, iid=74754, r_ui=3.5, est=1.620585513650061, details={'was_impossible': False}),\n",
       " Prediction(uid=163135, iid=8859, r_ui=0.5, est=0.5, details={'was_impossible': False}),\n",
       " Prediction(uid=237952, iid=1760, r_ui=1.0, est=1.8486346867780779, details={'was_impossible': False}),\n",
       " Prediction(uid=9905, iid=1760, r_ui=0.5, est=1.9085416828414608, details={'was_impossible': False}),\n",
       " Prediction(uid=153795, iid=125916, r_ui=1.0, est=1.2338318528692418, details={'was_impossible': False}),\n",
       " Prediction(uid=253065, iid=2555, r_ui=1.0, est=1.678488196064114, details={'was_impossible': False}),\n",
       " Prediction(uid=143597, iid=4781, r_ui=1.0, est=0.9184967436510596, details={'was_impossible': False}),\n",
       " Prediction(uid=88955, iid=2449, r_ui=4.5, est=1.7830993537370363, details={'was_impossible': False}),\n",
       " Prediction(uid=240606, iid=1760, r_ui=1.0, est=2.2063622036343706, details={'was_impossible': False}),\n",
       " Prediction(uid=104219, iid=3945, r_ui=1.0, est=1.7335745060032868, details={'was_impossible': False}),\n",
       " Prediction(uid=195821, iid=1490, r_ui=0.5, est=2.1677559293851636, details={'was_impossible': False}),\n",
       " Prediction(uid=109834, iid=2817, r_ui=1.0, est=1.1736702650685102, details={'was_impossible': False}),\n",
       " Prediction(uid=188020, iid=31698, r_ui=1.0, est=1.3186200063012172, details={'was_impossible': False}),\n",
       " Prediction(uid=158194, iid=6482, r_ui=1.0, est=2.0118541011607136, details={'was_impossible': False}),\n",
       " Prediction(uid=263182, iid=2555, r_ui=4.0, est=1.7927524978935119, details={'was_impossible': False}),\n",
       " Prediction(uid=216013, iid=3942, r_ui=5.0, est=4.069900469055689, details={'was_impossible': False}),\n",
       " Prediction(uid=150593, iid=2974, r_ui=3.5, est=2.1668614799129977, details={'was_impossible': False}),\n",
       " Prediction(uid=261947, iid=181, r_ui=1.0, est=1.480280415192564, details={'was_impossible': False}),\n",
       " Prediction(uid=208347, iid=5648, r_ui=1.5, est=2.393811544481499, details={'was_impossible': False}),\n",
       " Prediction(uid=275244, iid=2817, r_ui=3.0, est=2.983712643334928, details={'was_impossible': False}),\n",
       " Prediction(uid=8431, iid=3574, r_ui=0.5, est=0.6025852722971071, details={'was_impossible': False}),\n",
       " Prediction(uid=146785, iid=8859, r_ui=0.5, est=0.5, details={'was_impossible': False}),\n",
       " Prediction(uid=67557, iid=1984, r_ui=3.0, est=2.110187190420158, details={'was_impossible': False}),\n",
       " Prediction(uid=220955, iid=1760, r_ui=4.0, est=1.9105830079978754, details={'was_impossible': False}),\n",
       " Prediction(uid=220260, iid=43919, r_ui=0.5, est=1.725573814094016, details={'was_impossible': False}),\n",
       " Prediction(uid=203958, iid=3041, r_ui=1.0, est=1.1836543031600266, details={'was_impossible': False}),\n",
       " Prediction(uid=25707, iid=3593, r_ui=1.0, est=1.756846889092994, details={'was_impossible': False}),\n",
       " Prediction(uid=137577, iid=5675, r_ui=0.5, est=1.6316853946000511, details={'was_impossible': False}),\n",
       " Prediction(uid=184722, iid=2516, r_ui=3.0, est=2.697876555229546, details={'was_impossible': False}),\n",
       " Prediction(uid=205905, iid=4775, r_ui=3.0, est=1.0113037434278025, details={'was_impossible': False}),\n",
       " Prediction(uid=155861, iid=2516, r_ui=1.0, est=1.2001438825512012, details={'was_impossible': False}),\n",
       " Prediction(uid=38276, iid=6482, r_ui=2.5, est=1.769580461615618, details={'was_impossible': False}),\n",
       " Prediction(uid=52147, iid=810, r_ui=0.5, est=0.9137192416603249, details={'was_impossible': False}),\n",
       " Prediction(uid=242757, iid=6482, r_ui=2.5, est=1.769580461615618, details={'was_impossible': False}),\n",
       " Prediction(uid=203142, iid=1984, r_ui=2.0, est=3.3273417500357443, details={'was_impossible': False}),\n",
       " Prediction(uid=16006, iid=181, r_ui=2.0, est=2.4594720110526467, details={'was_impossible': False}),\n",
       " Prediction(uid=247538, iid=1739, r_ui=5.0, est=1.6140770235494835, details={'was_impossible': False}),\n",
       " Prediction(uid=59815, iid=5779, r_ui=1.5, est=1.2923557832311636, details={'was_impossible': False}),\n",
       " Prediction(uid=28881, iid=1599, r_ui=1.0, est=1.2686051773134226, details={'was_impossible': False}),\n",
       " Prediction(uid=275244, iid=3041, r_ui=3.0, est=3.0287200805737093, details={'was_impossible': False}),\n",
       " Prediction(uid=266467, iid=3593, r_ui=1.5, est=1.756846889092994, details={'was_impossible': False}),\n",
       " Prediction(uid=63227, iid=3434, r_ui=3.0, est=2.6976338294324096, details={'was_impossible': False}),\n",
       " Prediction(uid=282748, iid=90890, r_ui=3.5, est=3.090421121766317, details={'was_impossible': False}),\n",
       " Prediction(uid=100608, iid=4125, r_ui=1.0, est=1.6421468149458192, details={'was_impossible': False}),\n",
       " Prediction(uid=55444, iid=1760, r_ui=2.0, est=1.7266615669609493, details={'was_impossible': False}),\n",
       " Prediction(uid=126681, iid=1981, r_ui=3.0, est=1.367751909447939, details={'was_impossible': False}),\n",
       " Prediction(uid=20019, iid=2818, r_ui=1.0, est=1.121501486442499, details={'was_impossible': False}),\n",
       " Prediction(uid=38123, iid=3593, r_ui=1.0, est=1.756846889092994, details={'was_impossible': False}),\n",
       " Prediction(uid=22692, iid=4241, r_ui=1.0, est=1.412892055987553, details={'was_impossible': False}),\n",
       " Prediction(uid=253986, iid=1325, r_ui=3.5, est=2.753623895975249, details={'was_impossible': False}),\n",
       " Prediction(uid=272035, iid=1599, r_ui=3.0, est=1.2784730112540128, details={'was_impossible': False}),\n",
       " Prediction(uid=259980, iid=181, r_ui=1.0, est=1.9341919946510697, details={'was_impossible': False}),\n",
       " Prediction(uid=255268, iid=181, r_ui=1.0, est=1.9341919946510697, details={'was_impossible': False}),\n",
       " Prediction(uid=156213, iid=70946, r_ui=0.5, est=2.104449061352624, details={'was_impossible': False}),\n",
       " Prediction(uid=267341, iid=1981, r_ui=2.0, est=2.274453291524576, details={'was_impossible': False}),\n",
       " Prediction(uid=158854, iid=1981, r_ui=2.0, est=1.6434457695107092, details={'was_impossible': False}),\n",
       " Prediction(uid=79909, iid=6827, r_ui=3.0, est=1.9077150006090886, details={'was_impossible': False}),\n",
       " Prediction(uid=220395, iid=2555, r_ui=2.0, est=1.9654047294567047, details={'was_impossible': False}),\n",
       " Prediction(uid=252323, iid=2799, r_ui=2.5, est=2.1390835154256025, details={'was_impossible': False}),\n",
       " Prediction(uid=16766, iid=6587, r_ui=0.5, est=1.1651481984525567, details={'was_impossible': False}),\n",
       " Prediction(uid=186691, iid=4255, r_ui=1.0, est=2.0144899112255508, details={'was_impossible': False}),\n",
       " Prediction(uid=45462, iid=1760, r_ui=3.5, est=1.8486346867780779, details={'was_impossible': False}),\n",
       " Prediction(uid=19924, iid=2817, r_ui=2.0, est=1.2156021205077958, details={'was_impossible': False}),\n",
       " Prediction(uid=13579, iid=1323, r_ui=2.0, est=1.957205004955099, details={'was_impossible': False}),\n",
       " Prediction(uid=137113, iid=1760, r_ui=2.0, est=1.8486346867780779, details={'was_impossible': False}),\n",
       " Prediction(uid=68698, iid=2799, r_ui=2.5, est=1.9143461040012786, details={'was_impossible': False}),\n",
       " Prediction(uid=35901, iid=2462, r_ui=0.5, est=1.5396059852001247, details={'was_impossible': False}),\n",
       " Prediction(uid=66069, iid=2555, r_ui=2.5, est=1.7927524978935119, details={'was_impossible': False}),\n",
       " Prediction(uid=201544, iid=6482, r_ui=0.5, est=1.84321571310293, details={'was_impossible': False}),\n",
       " Prediction(uid=110765, iid=2555, r_ui=3.0, est=1.7927524978935119, details={'was_impossible': False}),\n",
       " Prediction(uid=232213, iid=1495, r_ui=0.5, est=1.0316751010734804, details={'was_impossible': False}),\n",
       " Prediction(uid=204039, iid=1599, r_ui=3.0, est=2.2958495163835857, details={'was_impossible': False}),\n",
       " Prediction(uid=17755, iid=92058, r_ui=4.0, est=2.6052202511287814, details={'was_impossible': False}),\n",
       " Prediction(uid=272899, iid=2452, r_ui=1.0, est=2.0586210945318038, details={'was_impossible': False}),\n",
       " Prediction(uid=79143, iid=1490, r_ui=0.5, est=1.337282312222983, details={'was_impossible': False}),\n",
       " Prediction(uid=157226, iid=3593, r_ui=1.0, est=1.756846889092994, details={'was_impossible': False}),\n",
       " Prediction(uid=161650, iid=3593, r_ui=2.0, est=2.408843373162889, details={'was_impossible': False}),\n",
       " Prediction(uid=57593, iid=3593, r_ui=2.0, est=1.756846889092994, details={'was_impossible': False}),\n",
       " Prediction(uid=24496, iid=1760, r_ui=2.5, est=1.8486346867780779, details={'was_impossible': False}),\n",
       " Prediction(uid=262209, iid=3820, r_ui=1.0, est=1.402080425365564, details={'was_impossible': False}),\n",
       " Prediction(uid=126562, iid=4750, r_ui=4.5, est=2.8614545773899236, details={'was_impossible': False}),\n",
       " Prediction(uid=137461, iid=1984, r_ui=1.0, est=2.2304795275729594, details={'was_impossible': False}),\n",
       " Prediction(uid=180798, iid=1495, r_ui=1.0, est=1.5687975724924417, details={'was_impossible': False}),\n",
       " Prediction(uid=261680, iid=1760, r_ui=0.5, est=2.5604361808897886, details={'was_impossible': False}),\n",
       " Prediction(uid=121067, iid=181, r_ui=3.0, est=1.9341919946510697, details={'was_impossible': False}),\n",
       " Prediction(uid=77429, iid=1760, r_ui=1.5, est=1.666401944335635, details={'was_impossible': False}),\n",
       " Prediction(uid=183376, iid=6482, r_ui=0.5, est=1.769580461615618, details={'was_impossible': False}),\n",
       " Prediction(uid=224747, iid=810, r_ui=1.0, est=1.2958048079602467, details={'was_impossible': False}),\n",
       " Prediction(uid=53865, iid=6482, r_ui=0.5, est=1.769580461615618, details={'was_impossible': False}),\n",
       " Prediction(uid=56709, iid=4775, r_ui=0.5, est=1.3768052765998082, details={'was_impossible': False}),\n",
       " Prediction(uid=139246, iid=3041, r_ui=1.0, est=1.9238263318700952, details={'was_impossible': False}),\n",
       " Prediction(uid=112780, iid=70946, r_ui=3.0, est=2.178677255753139, details={'was_impossible': False}),\n",
       " Prediction(uid=124188, iid=50798, r_ui=0.5, est=0.5654680868514661, details={'was_impossible': False}),\n",
       " Prediction(uid=80743, iid=6587, r_ui=1.0, est=2.1476708132179514, details={'was_impossible': False}),\n",
       " Prediction(uid=123342, iid=3593, r_ui=1.0, est=1.756846889092994, details={'was_impossible': False}),\n",
       " Prediction(uid=94749, iid=2817, r_ui=1.0, est=1.5560706990217885, details={'was_impossible': False}),\n",
       " Prediction(uid=137563, iid=3664, r_ui=2.0, est=2.65195255219662, details={'was_impossible': False}),\n",
       " Prediction(uid=241038, iid=3041, r_ui=2.0, est=2.5153458366549146, details={'was_impossible': False}),\n",
       " Prediction(uid=187986, iid=4750, r_ui=0.5, est=1.4873547741422668, details={'was_impossible': False}),\n",
       " Prediction(uid=131488, iid=6482, r_ui=0.5, est=1.769580461615618, details={'was_impossible': False}),\n",
       " Prediction(uid=278492, iid=3572, r_ui=1.0, est=1.3342863020846716, details={'was_impossible': False}),\n",
       " Prediction(uid=191063, iid=74754, r_ui=0.5, est=1.7822690917645445, details={'was_impossible': False}),\n",
       " Prediction(uid=14190, iid=3593, r_ui=1.0, est=1.756846889092994, details={'was_impossible': False}),\n",
       " Prediction(uid=8847, iid=6899, r_ui=1.0, est=1.3370632987271014, details={'was_impossible': False}),\n",
       " Prediction(uid=66189, iid=125916, r_ui=3.0, est=2.5477869686261396, details={'was_impossible': False}),\n",
       " Prediction(uid=253813, iid=3593, r_ui=0.5, est=0.9643255169089537, details={'was_impossible': False}),\n",
       " Prediction(uid=97502, iid=3799, r_ui=4.0, est=3.4198970112012295, details={'was_impossible': False}),\n",
       " Prediction(uid=127627, iid=2516, r_ui=2.0, est=2.113973261375576, details={'was_impossible': False}),\n",
       " Prediction(uid=9613, iid=92058, r_ui=0.5, est=1.0723997059976134, details={'was_impossible': False}),\n",
       " Prediction(uid=20519, iid=1760, r_ui=0.5, est=1.666117079962874, details={'was_impossible': False}),\n",
       " Prediction(uid=15298, iid=1739, r_ui=2.0, est=1.2151864775630432, details={'was_impossible': False}),\n",
       " Prediction(uid=170511, iid=1495, r_ui=2.0, est=2.369229468297213, details={'was_impossible': False}),\n",
       " Prediction(uid=62551, iid=145096, r_ui=0.5, est=1.0395881745237254, details={'was_impossible': False}),\n",
       " Prediction(uid=139593, iid=6482, r_ui=0.5, est=2.1043602713556995, details={'was_impossible': False}),\n",
       " Prediction(uid=122978, iid=2817, r_ui=3.0, est=2.734357358917475, details={'was_impossible': False}),\n",
       " Prediction(uid=278323, iid=84312, r_ui=4.5, est=2.2152378299255333, details={'was_impossible': False}),\n",
       " Prediction(uid=136623, iid=3593, r_ui=3.0, est=1.756846889092994, details={'was_impossible': False}),\n",
       " Prediction(uid=27395, iid=6483, r_ui=3.5, est=1.973679085309792, details={'was_impossible': False}),\n",
       " Prediction(uid=91071, iid=4241, r_ui=1.0, est=1.1088602878932625, details={'was_impossible': False}),\n",
       " Prediction(uid=31963, iid=1760, r_ui=2.5, est=0.8141290661575546, details={'was_impossible': False}),\n",
       " Prediction(uid=113308, iid=31424, r_ui=0.5, est=0.6960260617686386, details={'was_impossible': False}),\n",
       " Prediction(uid=248694, iid=6872, r_ui=0.5, est=1.3837008503504844, details={'was_impossible': False}),\n",
       " Prediction(uid=96389, iid=3945, r_ui=1.0, est=1.4681101540647787, details={'was_impossible': False}),\n",
       " Prediction(uid=102318, iid=3799, r_ui=0.5, est=0.9098159704149027, details={'was_impossible': False}),\n",
       " Prediction(uid=141326, iid=2462, r_ui=2.0, est=1.9879999573878526, details={'was_impossible': False}),\n",
       " Prediction(uid=255311, iid=2383, r_ui=3.0, est=2.6391858709946217, details={'was_impossible': False}),\n",
       " Prediction(uid=243430, iid=1984, r_ui=3.0, est=2.074600503141801, details={'was_impossible': False}),\n",
       " Prediction(uid=220217, iid=1739, r_ui=1.0, est=1.3603455526029014, details={'was_impossible': False}),\n",
       " Prediction(uid=179250, iid=1490, r_ui=3.0, est=2.440845874297696, details={'was_impossible': False}),\n",
       " Prediction(uid=169506, iid=1595, r_ui=2.5, est=1.831629501247716, details={'was_impossible': False}),\n",
       " Prediction(uid=172357, iid=2655, r_ui=1.5, est=1.0224677754835074, details={'was_impossible': False}),\n",
       " Prediction(uid=185105, iid=181, r_ui=2.0, est=1.7218206632779676, details={'was_impossible': False}),\n",
       " Prediction(uid=11560, iid=3593, r_ui=1.0, est=1.21356114953196, details={'was_impossible': False}),\n",
       " Prediction(uid=35083, iid=1984, r_ui=3.0, est=1.6757940509198388, details={'was_impossible': False}),\n",
       " Prediction(uid=122109, iid=2383, r_ui=3.0, est=1.9466569632243398, details={'was_impossible': False}),\n",
       " Prediction(uid=55219, iid=50798, r_ui=0.5, est=1.5699853681403182, details={'was_impossible': False}),\n",
       " Prediction(uid=120073, iid=59295, r_ui=5.0, est=2.073532792453033, details={'was_impossible': False}),\n",
       " Prediction(uid=75304, iid=74754, r_ui=1.0, est=1.7575053865576598, details={'was_impossible': False}),\n",
       " Prediction(uid=114936, iid=58146, r_ui=1.5, est=2.0427315256249563, details={'was_impossible': False}),\n",
       " Prediction(uid=44099, iid=125916, r_ui=1.5, est=1.337074601113529, details={'was_impossible': False}),\n",
       " Prediction(uid=177325, iid=1595, r_ui=1.0, est=1.585869339383617, details={'was_impossible': False}),\n",
       " Prediction(uid=184417, iid=3390, r_ui=1.0, est=1.1241985761539586, details={'was_impossible': False}),\n",
       " Prediction(uid=156194, iid=2555, r_ui=1.5, est=1.9396170016639651, details={'was_impossible': False}),\n",
       " Prediction(uid=100832, iid=3042, r_ui=1.0, est=1.4093985426621558, details={'was_impossible': False}),\n",
       " Prediction(uid=82775, iid=810, r_ui=1.0, est=1.5015635905003972, details={'was_impossible': False}),\n",
       " Prediction(uid=56278, iid=3434, r_ui=3.0, est=1.9945605031394247, details={'was_impossible': False}),\n",
       " Prediction(uid=60591, iid=1760, r_ui=0.5, est=1.8486346867780779, details={'was_impossible': False}),\n",
       " Prediction(uid=72700, iid=4425, r_ui=2.5, est=2.1207302015447174, details={'was_impossible': False}),\n",
       " Prediction(uid=283095, iid=4241, r_ui=0.5, est=1.1078702600796042, details={'was_impossible': False}),\n",
       " Prediction(uid=258449, iid=1595, r_ui=1.0, est=0.8877774520900893, details={'was_impossible': False}),\n",
       " Prediction(uid=146598, iid=6482, r_ui=3.0, est=1.769580461615618, details={'was_impossible': False}),\n",
       " Prediction(uid=141108, iid=810, r_ui=1.0, est=1.090573658861442, details={'was_impossible': False}),\n",
       " Prediction(uid=276418, iid=2817, r_ui=0.5, est=0.7852162690288896, details={'was_impossible': False}),\n",
       " Prediction(uid=155955, iid=78321, r_ui=3.5, est=2.0741978256343714, details={'was_impossible': False}),\n",
       " Prediction(uid=92787, iid=4750, r_ui=4.0, est=2.190474732725957, details={'was_impossible': False}),\n",
       " Prediction(uid=37688, iid=1990, r_ui=1.0, est=1.9402823478406863, details={'was_impossible': False}),\n",
       " Prediction(uid=148368, iid=57532, r_ui=0.5, est=0.8104403145666299, details={'was_impossible': False}),\n",
       " Prediction(uid=276712, iid=125916, r_ui=1.5, est=1.8861287289483741, details={'was_impossible': False}),\n",
       " Prediction(uid=175928, iid=2799, r_ui=1.0, est=1.694141442617357, details={'was_impossible': False}),\n",
       " Prediction(uid=2224, iid=2383, r_ui=1.5, est=1.9466569632243398, details={'was_impossible': False}),\n",
       " Prediction(uid=247918, iid=181, r_ui=3.0, est=1.9341919946510697, details={'was_impossible': False}),\n",
       " Prediction(uid=172178, iid=2383, r_ui=2.5, est=2.109356416979459, details={'was_impossible': False}),\n",
       " Prediction(uid=256730, iid=50798, r_ui=1.0, est=1.1756842830025622, details={'was_impossible': False}),\n",
       " Prediction(uid=269178, iid=4775, r_ui=3.0, est=1.3768052765998082, details={'was_impossible': False}),\n",
       " Prediction(uid=208411, iid=6587, r_ui=1.0, est=0.7125357122164403, details={'was_impossible': False}),\n",
       " Prediction(uid=100663, iid=1760, r_ui=1.0, est=1.8486346867780779, details={'was_impossible': False}),\n",
       " Prediction(uid=275943, iid=3593, r_ui=1.0, est=1.872272665958207, details={'was_impossible': False}),\n",
       " Prediction(uid=229283, iid=3593, r_ui=1.0, est=1.756846889092994, details={'was_impossible': False}),\n",
       " Prediction(uid=246863, iid=3593, r_ui=1.5, est=1.756846889092994, details={'was_impossible': False}),\n",
       " Prediction(uid=25199, iid=4125, r_ui=2.5, est=1.8730083609176722, details={'was_impossible': False}),\n",
       " Prediction(uid=71211, iid=1324, r_ui=4.0, est=3.2323853825509197, details={'was_impossible': False}),\n",
       " Prediction(uid=252776, iid=2818, r_ui=2.0, est=3.3371305583426425, details={'was_impossible': False}),\n",
       " Prediction(uid=152273, iid=2655, r_ui=1.0, est=1.3194389191477676, details={'was_impossible': False}),\n",
       " Prediction(uid=269159, iid=8811, r_ui=1.0, est=1.5426592426421548, details={'was_impossible': False}),\n",
       " Prediction(uid=137511, iid=2555, r_ui=2.5, est=1.7927524978935119, details={'was_impossible': False}),\n",
       " Prediction(uid=6703, iid=6872, r_ui=3.0, est=1.6731574981062105, details={'was_impossible': False}),\n",
       " Prediction(uid=262222, iid=61348, r_ui=4.0, est=2.8790355784445114, details={'was_impossible': False}),\n",
       " Prediction(uid=96305, iid=2974, r_ui=1.0, est=1.518957816751333, details={'was_impossible': False}),\n",
       " Prediction(uid=18491, iid=3593, r_ui=1.5, est=1.4787224526850893, details={'was_impossible': False}),\n",
       " Prediction(uid=129765, iid=2383, r_ui=0.5, est=1.9466569632243398, details={'was_impossible': False}),\n",
       " Prediction(uid=250772, iid=2817, r_ui=2.5, est=2.300647280654916, details={'was_impossible': False}),\n",
       " Prediction(uid=29287, iid=4255, r_ui=2.0, est=2.0144899112255508, details={'was_impossible': False}),\n",
       " Prediction(uid=60369, iid=70946, r_ui=5.0, est=2.104449061352624, details={'was_impossible': False}),\n",
       " Prediction(uid=249861, iid=5672, r_ui=0.5, est=0.8278480523902636, details={'was_impossible': False}),\n",
       " Prediction(uid=36117, iid=3390, r_ui=2.0, est=1.4986241957464939, details={'was_impossible': False}),\n",
       " Prediction(uid=60443, iid=6483, r_ui=0.5, est=1.283868730250144, details={'was_impossible': False}),\n",
       " Prediction(uid=263860, iid=3390, r_ui=3.0, est=2.3813475030492612, details={'was_impossible': False}),\n",
       " Prediction(uid=175132, iid=2383, r_ui=2.5, est=1.9466569632243398, details={'was_impossible': False}),\n",
       " Prediction(uid=44962, iid=1760, r_ui=3.0, est=1.8486346867780779, details={'was_impossible': False}),\n",
       " Prediction(uid=187489, iid=135216, r_ui=4.0, est=1.6439682026301228, details={'was_impossible': False}),\n",
       " Prediction(uid=93701, iid=2383, r_ui=0.5, est=1.6073641391869942, details={'was_impossible': False}),\n",
       " Prediction(uid=154352, iid=2386, r_ui=1.0, est=1.3432399177122742, details={'was_impossible': False}),\n",
       " Prediction(uid=269478, iid=181, r_ui=1.0, est=1.9276619653233902, details={'was_impossible': False}),\n",
       " Prediction(uid=116632, iid=57532, r_ui=1.0, est=2.2994139460411174, details={'was_impossible': False}),\n",
       " Prediction(uid=1567, iid=1760, r_ui=1.0, est=1.8486346867780779, details={'was_impossible': False}),\n",
       " Prediction(uid=93035, iid=2368, r_ui=3.0, est=2.0423840808039437, details={'was_impossible': False}),\n",
       " Prediction(uid=46396, iid=181, r_ui=3.0, est=1.7297639338696569, details={'was_impossible': False}),\n",
       " Prediction(uid=257151, iid=2386, r_ui=1.0, est=1.101085160329231, details={'was_impossible': False}),\n",
       " Prediction(uid=249007, iid=181, r_ui=2.0, est=1.9341919946510697, details={'was_impossible': False}),\n",
       " Prediction(uid=175934, iid=4255, r_ui=3.0, est=2.5801962242088274, details={'was_impossible': False}),\n",
       " Prediction(uid=140964, iid=92058, r_ui=2.0, est=1.8414059025899745, details={'was_impossible': False}),\n",
       " Prediction(uid=82871, iid=2386, r_ui=0.5, est=0.7089547070388144, details={'was_impossible': False}),\n",
       " Prediction(uid=104285, iid=3593, r_ui=1.5, est=1.756846889092994, details={'was_impossible': False}),\n",
       " Prediction(uid=29813, iid=3593, r_ui=2.0, est=1.756846889092994, details={'was_impossible': False}),\n",
       " Prediction(uid=16284, iid=58146, r_ui=0.5, est=1.7141602256798012, details={'was_impossible': False}),\n",
       " Prediction(uid=271364, iid=84312, r_ui=1.0, est=2.0945312042403934, details={'was_impossible': False}),\n",
       " Prediction(uid=43097, iid=5647, r_ui=1.0, est=1.1858057071839698, details={'was_impossible': False}),\n",
       " Prediction(uid=129589, iid=3799, r_ui=3.0, est=1.9394443376995767, details={'was_impossible': False}),\n",
       " Prediction(uid=242683, iid=4241, r_ui=2.0, est=1.8047994844247048, details={'was_impossible': False}),\n",
       " Prediction(uid=113595, iid=3593, r_ui=2.0, est=1.6541158289916902, details={'was_impossible': False}),\n",
       " Prediction(uid=53664, iid=2818, r_ui=2.5, est=1.6296887249422383, details={'was_impossible': False}),\n",
       " Prediction(uid=74841, iid=2383, r_ui=4.0, est=1.9466569632243398, details={'was_impossible': False}),\n",
       " Prediction(uid=276478, iid=181, r_ui=3.5, est=1.9341919946510697, details={'was_impossible': False}),\n",
       " Prediction(uid=110390, iid=3026, r_ui=1.0, est=1.9538685699641833, details={'was_impossible': False}),\n",
       " Prediction(uid=55581, iid=1760, r_ui=1.0, est=1.8486346867780779, details={'was_impossible': False}),\n",
       " Prediction(uid=152514, iid=2383, r_ui=2.5, est=2.2080841599926715, details={'was_impossible': False}),\n",
       " Prediction(uid=74245, iid=6872, r_ui=2.0, est=1.4821992824385872, details={'was_impossible': False}),\n",
       " Prediction(uid=178050, iid=67867, r_ui=0.5, est=1.6933468709480568, details={'was_impossible': False}),\n",
       " Prediction(uid=155254, iid=43919, r_ui=1.5, est=1.725573814094016, details={'was_impossible': False}),\n",
       " Prediction(uid=166086, iid=5832, r_ui=3.0, est=1.3784545196078017, details={'was_impossible': False}),\n",
       " Prediction(uid=257951, iid=57532, r_ui=3.0, est=3.536524059327353, details={'was_impossible': False}),\n",
       " Prediction(uid=80146, iid=3593, r_ui=2.0, est=1.756846889092994, details={'was_impossible': False}),\n",
       " Prediction(uid=231915, iid=1739, r_ui=1.0, est=1.6140770235494835, details={'was_impossible': False}),\n",
       " Prediction(uid=191850, iid=3799, r_ui=3.0, est=1.9394443376995767, details={'was_impossible': False}),\n",
       " Prediction(uid=76666, iid=181, r_ui=1.0, est=1.9341919946510697, details={'was_impossible': False}),\n",
       " Prediction(uid=138715, iid=3573, r_ui=5.0, est=1.5605228124831045, details={'was_impossible': False}),\n",
       " Prediction(uid=235528, iid=2555, r_ui=1.0, est=1.5937628109604902, details={'was_impossible': False}),\n",
       " Prediction(uid=76663, iid=3593, r_ui=1.0, est=1.756846889092994, details={'was_impossible': False}),\n",
       " Prediction(uid=274398, iid=125916, r_ui=0.5, est=1.2953511757310556, details={'was_impossible': False}),\n",
       " Prediction(uid=220099, iid=1323, r_ui=1.5, est=1.4976690462115538, details={'was_impossible': False}),\n",
       " Prediction(uid=240268, iid=1595, r_ui=3.0, est=1.831629501247716, details={'was_impossible': False}),\n",
       " Prediction(uid=103438, iid=125916, r_ui=1.0, est=1.4209388469384105, details={'was_impossible': False}),\n",
       " Prediction(uid=219190, iid=1495, r_ui=1.0, est=1.295195254918628, details={'was_impossible': False}),\n",
       " Prediction(uid=201712, iid=61348, r_ui=0.5, est=0.5694803583140945, details={'was_impossible': False}),\n",
       " Prediction(uid=146192, iid=2383, r_ui=1.0, est=1.9466569632243398, details={'was_impossible': False}),\n",
       " Prediction(uid=6424, iid=6482, r_ui=3.0, est=2.960562574313531, details={'was_impossible': False}),\n",
       " Prediction(uid=89411, iid=181, r_ui=1.0, est=1.9341919946510697, details={'was_impossible': False}),\n",
       " Prediction(uid=22908, iid=181, r_ui=2.0, est=1.9341919946510697, details={'was_impossible': False}),\n",
       " Prediction(uid=260673, iid=810, r_ui=0.5, est=1.8783164886732824, details={'was_impossible': False}),\n",
       " Prediction(uid=72398, iid=8811, r_ui=0.5, est=0.8958118748166555, details={'was_impossible': False}),\n",
       " Prediction(uid=20098, iid=810, r_ui=3.0, est=1.8783164886732824, details={'was_impossible': False}),\n",
       " Prediction(uid=26302, iid=4425, r_ui=3.5, est=2.986413016446335, details={'was_impossible': False}),\n",
       " Prediction(uid=193385, iid=2462, r_ui=1.0, est=1.265848652488358, details={'was_impossible': False}),\n",
       " Prediction(uid=17046, iid=2383, r_ui=0.5, est=1.9466569632243398, details={'was_impossible': False}),\n",
       " Prediction(uid=37679, iid=43919, r_ui=0.5, est=2.393031109741685, details={'was_impossible': False}),\n",
       " Prediction(uid=221414, iid=810, r_ui=1.5, est=2.216517084931249, details={'was_impossible': False}),\n",
       " Prediction(uid=205928, iid=2555, r_ui=4.0, est=1.7927524978935119, details={'was_impossible': False}),\n",
       " Prediction(uid=193567, iid=175475, r_ui=0.5, est=1.7522685909738909, details={'was_impossible': False}),\n",
       " Prediction(uid=252684, iid=4125, r_ui=1.0, est=1.5269299012666169, details={'was_impossible': False}),\n",
       " Prediction(uid=252674, iid=1323, r_ui=0.5, est=0.606309951749043, details={'was_impossible': False}),\n",
       " Prediction(uid=255842, iid=1981, r_ui=0.5, est=1.166082866967163, details={'was_impossible': False}),\n",
       " Prediction(uid=64965, iid=2383, r_ui=3.0, est=2.1207650137675755, details={'was_impossible': False}),\n",
       " Prediction(uid=102941, iid=8811, r_ui=4.0, est=1.7338570407661424, details={'was_impossible': False}),\n",
       " Prediction(uid=24213, iid=810, r_ui=5.0, est=2.7174995360417054, details={'was_impossible': False}),\n",
       " Prediction(uid=269430, iid=43919, r_ui=2.0, est=2.641328295952646, details={'was_impossible': False}),\n",
       " Prediction(uid=89867, iid=3593, r_ui=0.5, est=1.756846889092994, details={'was_impossible': False}),\n",
       " Prediction(uid=195565, iid=2555, r_ui=0.5, est=0.7508342255278826, details={'was_impossible': False}),\n",
       " Prediction(uid=275921, iid=5672, r_ui=0.5, est=0.5422452219868269, details={'was_impossible': False}),\n",
       " Prediction(uid=186522, iid=1679, r_ui=3.0, est=2.3771229299470313, details={'was_impossible': False}),\n",
       " Prediction(uid=280098, iid=3962, r_ui=0.5, est=0.8240507494564896, details={'was_impossible': False}),\n",
       " Prediction(uid=277624, iid=3663, r_ui=3.0, est=2.5684859580719235, details={'was_impossible': False}),\n",
       " Prediction(uid=250369, iid=1599, r_ui=3.0, est=1.7808189436640156, details={'was_impossible': False}),\n",
       " Prediction(uid=121473, iid=181, r_ui=0.5, est=1.9341919946510697, details={'was_impossible': False}),\n",
       " Prediction(uid=186514, iid=1760, r_ui=1.0, est=1.4797805979412102, details={'was_impossible': False}),\n",
       " Prediction(uid=101444, iid=2799, r_ui=1.0, est=1.4536716330885389, details={'was_impossible': False}),\n",
       " Prediction(uid=165478, iid=2368, r_ui=1.0, est=1.4084772833351578, details={'was_impossible': False}),\n",
       " Prediction(uid=80398, iid=181, r_ui=0.5, est=1.3803331204112785, details={'was_impossible': False}),\n",
       " Prediction(uid=123926, iid=181, r_ui=2.0, est=1.9341919946510697, details={'was_impossible': False}),\n",
       " Prediction(uid=140840, iid=3593, r_ui=1.0, est=1.4238598291329405, details={'was_impossible': False}),\n",
       " Prediction(uid=172138, iid=3799, r_ui=0.5, est=0.9092232913374867, details={'was_impossible': False}),\n",
       " Prediction(uid=138837, iid=1328, r_ui=1.0, est=1.3300593837487338, details={'was_impossible': False}),\n",
       " Prediction(uid=59378, iid=1599, r_ui=1.5, est=1.2787878789949667, details={'was_impossible': False}),\n",
       " Prediction(uid=269098, iid=3962, r_ui=2.5, est=1.8315429920676056, details={'was_impossible': False}),\n",
       " Prediction(uid=30759, iid=3593, r_ui=1.0, est=1.756846889092994, details={'was_impossible': False}),\n",
       " Prediction(uid=248994, iid=1981, r_ui=4.0, est=2.6369056614457675, details={'was_impossible': False}),\n",
       " Prediction(uid=19947, iid=4775, r_ui=1.0, est=1.069775304035772, details={'was_impossible': False}),\n",
       " Prediction(uid=198227, iid=3043, r_ui=1.0, est=1.8026776454754563, details={'was_impossible': False}),\n",
       " Prediction(uid=79922, iid=181, r_ui=2.0, est=1.9341919946510697, details={'was_impossible': False}),\n",
       " Prediction(uid=129610, iid=1595, r_ui=1.0, est=1.4362202759904408, details={'was_impossible': False}),\n",
       " Prediction(uid=116581, iid=4255, r_ui=5.0, est=2.5682279955009544, details={'was_impossible': False}),\n",
       " Prediction(uid=114064, iid=6482, r_ui=0.5, est=1.3220322000538274, details={'was_impossible': False}),\n",
       " Prediction(uid=4507, iid=2974, r_ui=1.5, est=2.088592690529945, details={'was_impossible': False}),\n",
       " Prediction(uid=116624, iid=2817, r_ui=3.0, est=2.3285951518959855, details={'was_impossible': False}),\n",
       " Prediction(uid=142701, iid=2386, r_ui=2.0, est=1.4800303707618676, details={'was_impossible': False}),\n",
       " Prediction(uid=168218, iid=6482, r_ui=0.5, est=1.1706620122104576, details={'was_impossible': False}),\n",
       " Prediction(uid=220285, iid=181, r_ui=4.0, est=2.886809888917135, details={'was_impossible': False}),\n",
       " Prediction(uid=134433, iid=61348, r_ui=3.0, est=1.3865493120873502, details={'was_impossible': False}),\n",
       " Prediction(uid=55691, iid=1595, r_ui=3.0, est=1.831629501247716, details={'was_impossible': False}),\n",
       " Prediction(uid=219190, iid=54290, r_ui=0.5, est=1.3121286836681454, details={'was_impossible': False}),\n",
       " Prediction(uid=54837, iid=31698, r_ui=1.0, est=1.4020793855194742, details={'was_impossible': False}),\n",
       " Prediction(uid=111669, iid=2462, r_ui=1.0, est=2.04558229277819, details={'was_impossible': False}),\n",
       " Prediction(uid=64569, iid=3799, r_ui=1.0, est=1.4759662806885843, details={'was_impossible': False}),\n",
       " Prediction(uid=150867, iid=181, r_ui=0.5, est=1.4409911453220705, details={'was_impossible': False}),\n",
       " Prediction(uid=7781, iid=4775, r_ui=2.5, est=2.9922640833429908, details={'was_impossible': False}),\n",
       " Prediction(uid=45817, iid=2655, r_ui=1.0, est=1.384602538922326, details={'was_impossible': False}),\n",
       " Prediction(uid=208453, iid=2817, r_ui=1.0, est=1.2955935731851955, details={'was_impossible': False}),\n",
       " Prediction(uid=200840, iid=6483, r_ui=2.0, est=1.283868730250144, details={'was_impossible': False}),\n",
       " Prediction(uid=229796, iid=3593, r_ui=1.0, est=1.7477738443212183, details={'was_impossible': False}),\n",
       " Prediction(uid=118972, iid=1760, r_ui=0.5, est=2.096785619035487, details={'was_impossible': False}),\n",
       " Prediction(uid=44656, iid=43919, r_ui=4.0, est=3.1852347362776117, details={'was_impossible': False}),\n",
       " Prediction(uid=88014, iid=3665, r_ui=3.0, est=2.736233305899773, details={'was_impossible': False}),\n",
       " Prediction(uid=50960, iid=3593, r_ui=1.0, est=1.2033749541739334, details={'was_impossible': False}),\n",
       " Prediction(uid=52761, iid=6482, r_ui=2.0, est=1.0890669099182058, details={'was_impossible': False}),\n",
       " Prediction(uid=217948, iid=1495, r_ui=0.5, est=0.9767834241679255, details={'was_impossible': False}),\n",
       " Prediction(uid=96271, iid=50798, r_ui=1.0, est=1.5699853681403182, details={'was_impossible': False}),\n",
       " Prediction(uid=117496, iid=3433, r_ui=1.0, est=1.3109585326159878, details={'was_impossible': False}),\n",
       " Prediction(uid=247180, iid=1495, r_ui=1.0, est=0.9786187384574345, details={'was_impossible': False}),\n",
       " Prediction(uid=131046, iid=810, r_ui=3.0, est=2.5723346249473042, details={'was_impossible': False}),\n",
       " Prediction(uid=126892, iid=181, r_ui=3.0, est=1.9341919946510697, details={'was_impossible': False}),\n",
       " Prediction(uid=277493, iid=61348, r_ui=0.5, est=0.5215936896203439, details={'was_impossible': False}),\n",
       " Prediction(uid=154601, iid=50798, r_ui=0.5, est=0.6028861051673274, details={'was_impossible': False}),\n",
       " Prediction(uid=179605, iid=8811, r_ui=0.5, est=2.381997243238812, details={'was_impossible': False}),\n",
       " Prediction(uid=236981, iid=115414, r_ui=2.0, est=2.1802675773115636, details={'was_impossible': False}),\n",
       " Prediction(uid=58820, iid=3593, r_ui=1.0, est=2.6976774715410814, details={'was_impossible': False}),\n",
       " Prediction(uid=70154, iid=1984, r_ui=1.0, est=1.2272044378174392, details={'was_impossible': False}),\n",
       " Prediction(uid=59611, iid=6482, r_ui=0.5, est=1.234841162037729, details={'was_impossible': False}),\n",
       " Prediction(uid=135200, iid=3593, r_ui=1.0, est=1.756846889092994, details={'was_impossible': False}),\n",
       " Prediction(uid=164158, iid=2799, r_ui=0.5, est=0.9517299759683159, details={'was_impossible': False}),\n",
       " Prediction(uid=129766, iid=5672, r_ui=2.0, est=1.5305943777609832, details={'was_impossible': False}),\n",
       " Prediction(uid=167040, iid=74754, r_ui=1.5, est=2.1148114875753943, details={'was_impossible': False}),\n",
       " Prediction(uid=98341, iid=90890, r_ui=0.5, est=0.8610594469742195, details={'was_impossible': False}),\n",
       " Prediction(uid=85381, iid=2817, r_ui=2.0, est=1.9745890512269966, details={'was_impossible': False}),\n",
       " Prediction(uid=118839, iid=3593, r_ui=3.0, est=1.756846889092994, details={'was_impossible': False}),\n",
       " Prediction(uid=244621, iid=6899, r_ui=1.0, est=1.4543604196251358, details={'was_impossible': False}),\n",
       " Prediction(uid=23861, iid=135216, r_ui=0.5, est=1.0320457898706137, details={'was_impossible': False}),\n",
       " Prediction(uid=148191, iid=5779, r_ui=2.5, est=2.0900601258067746, details={'was_impossible': False}),\n",
       " Prediction(uid=212669, iid=1760, r_ui=3.0, est=1.8486346867780779, details={'was_impossible': False}),\n",
       " Prediction(uid=115918, iid=90890, r_ui=0.5, est=3.123750809890954, details={'was_impossible': False}),\n",
       " Prediction(uid=126562, iid=5672, r_ui=1.0, est=1.7590540104246835, details={'was_impossible': False}),\n",
       " Prediction(uid=149040, iid=3941, r_ui=1.0, est=2.057388591588743, details={'was_impossible': False}),\n",
       " Prediction(uid=264622, iid=50798, r_ui=1.5, est=1.9605292680583977, details={'was_impossible': False}),\n",
       " Prediction(uid=135722, iid=1595, r_ui=2.5, est=3.1217758879304602, details={'was_impossible': False}),\n",
       " Prediction(uid=262989, iid=2555, r_ui=0.5, est=0.7778671359595662, details={'was_impossible': False}),\n",
       " Prediction(uid=208487, iid=1984, r_ui=1.0, est=1.883037651069813, details={'was_impossible': False}),\n",
       " Prediction(uid=46832, iid=5779, r_ui=3.0, est=1.9364408087032023, details={'was_impossible': False}),\n",
       " Prediction(uid=127373, iid=4750, r_ui=3.5, est=2.9563001699585407, details={'was_impossible': False}),\n",
       " Prediction(uid=132323, iid=2799, r_ui=3.5, est=1.8134442437901663, details={'was_impossible': False}),\n",
       " Prediction(uid=273572, iid=2799, r_ui=0.5, est=1.9294563369891986, details={'was_impossible': False}),\n",
       " Prediction(uid=262989, iid=3574, r_ui=0.5, est=0.7007762918188692, details={'was_impossible': False}),\n",
       " Prediction(uid=38616, iid=31424, r_ui=4.0, est=3.31700603255054, details={'was_impossible': False}),\n",
       " Prediction(uid=170525, iid=3799, r_ui=3.5, est=2.631064171470406, details={'was_impossible': False}),\n",
       " Prediction(uid=27733, iid=125916, r_ui=4.0, est=1.8861287289483741, details={'was_impossible': False}),\n",
       " Prediction(uid=200311, iid=1595, r_ui=3.0, est=1.831629501247716, details={'was_impossible': False}),\n",
       " Prediction(uid=216154, iid=57532, r_ui=3.5, est=1.2791723369677699, details={'was_impossible': False}),\n",
       " Prediction(uid=210864, iid=181, r_ui=3.0, est=1.925576519531069, details={'was_impossible': False}),\n",
       " Prediction(uid=130490, iid=6872, r_ui=0.5, est=0.5007523417994731, details={'was_impossible': False}),\n",
       " Prediction(uid=127578, iid=3041, r_ui=1.0, est=1.5596727385524736, details={'was_impossible': False}),\n",
       " Prediction(uid=252909, iid=1679, r_ui=0.5, est=1.9182026747861907, details={'was_impossible': False}),\n",
       " Prediction(uid=35943, iid=2817, r_ui=1.0, est=1.794620878708165, details={'was_impossible': False}),\n",
       " Prediction(uid=261988, iid=1984, r_ui=2.0, est=1.1606310320224087, details={'was_impossible': False}),\n",
       " Prediction(uid=29973, iid=2386, r_ui=1.0, est=1.5823704273101964, details={'was_impossible': False}),\n",
       " Prediction(uid=238958, iid=181, r_ui=0.5, est=1.0121764362220365, details={'was_impossible': False}),\n",
       " Prediction(uid=108981, iid=1760, r_ui=3.0, est=1.6394759404830406, details={'was_impossible': False}),\n",
       " Prediction(uid=148829, iid=3593, r_ui=1.0, est=1.756846889092994, details={'was_impossible': False}),\n",
       " Prediction(uid=257133, iid=6587, r_ui=0.5, est=1.3749343281149913, details={'was_impossible': False}),\n",
       " Prediction(uid=253511, iid=3573, r_ui=1.5, est=1.7665563640219273, details={'was_impossible': False}),\n",
       " Prediction(uid=38767, iid=1760, r_ui=1.0, est=1.492879398559184, details={'was_impossible': False}),\n",
       " Prediction(uid=26302, iid=6872, r_ui=3.5, est=1.7094895177839575, details={'was_impossible': False}),\n",
       " Prediction(uid=100666, iid=181, r_ui=3.0, est=1.9341919946510697, details={'was_impossible': False}),\n",
       " Prediction(uid=112467, iid=141131, r_ui=0.5, est=1.7690248776528543, details={'was_impossible': False}),\n",
       " Prediction(uid=70574, iid=1495, r_ui=1.0, est=1.7047834260000945, details={'was_impossible': False}),\n",
       " Prediction(uid=275550, iid=1760, r_ui=0.5, est=1.8486346867780779, details={'was_impossible': False}),\n",
       " Prediction(uid=26409, iid=3390, r_ui=1.5, est=1.9134154414470632, details={'was_impossible': False}),\n",
       " Prediction(uid=153076, iid=6587, r_ui=2.5, est=1.4348905357176014, details={'was_impossible': False}),\n",
       " Prediction(uid=93327, iid=1760, r_ui=1.0, est=1.8245328183078244, details={'was_impossible': False}),\n",
       " Prediction(uid=181889, iid=1760, r_ui=4.0, est=1.8486346867780779, details={'was_impossible': False}),\n",
       " Prediction(uid=221882, iid=2818, r_ui=0.5, est=0.934320861852094, details={'was_impossible': False}),\n",
       " Prediction(uid=141284, iid=2817, r_ui=1.0, est=1.794620878708165, details={'was_impossible': False}),\n",
       " Prediction(uid=119752, iid=3166, r_ui=2.0, est=1.5006414396842815, details={'was_impossible': False}),\n",
       " Prediction(uid=108082, iid=2555, r_ui=1.0, est=1.9813917007974662, details={'was_impossible': False}),\n",
       " Prediction(uid=184512, iid=5675, r_ui=3.5, est=1.6852900427202993, details={'was_impossible': False}),\n",
       " Prediction(uid=23415, iid=26157, r_ui=3.5, est=1.5419352587299648, details={'was_impossible': False}),\n",
       " Prediction(uid=122263, iid=2386, r_ui=1.0, est=1.6916037313609011, details={'was_impossible': False}),\n",
       " Prediction(uid=276418, iid=6483, r_ui=0.5, est=0.5, details={'was_impossible': False}),\n",
       " Prediction(uid=236297, iid=3593, r_ui=3.0, est=1.756846889092994, details={'was_impossible': False}),\n",
       " Prediction(uid=282347, iid=31424, r_ui=0.5, est=1.5429240447402295, details={'was_impossible': False}),\n",
       " Prediction(uid=3970, iid=1739, r_ui=0.5, est=1.0016090679028062, details={'was_impossible': False}),\n",
       " Prediction(uid=55494, iid=2383, r_ui=2.0, est=2.202162599304255, details={'was_impossible': False}),\n",
       " Prediction(uid=36321, iid=181, r_ui=2.0, est=1.9341919946510697, details={'was_impossible': False}),\n",
       " Prediction(uid=244080, iid=2799, r_ui=1.0, est=1.6904283720239344, details={'was_impossible': False}),\n",
       " Prediction(uid=225881, iid=3043, r_ui=3.0, est=3.316200080489959, details={'was_impossible': False}),\n",
       " Prediction(uid=100236, iid=181, r_ui=1.0, est=1.9341919946510697, details={'was_impossible': False}),\n",
       " Prediction(uid=56073, iid=50798, r_ui=0.5, est=0.678931166830961, details={'was_impossible': False}),\n",
       " Prediction(uid=124342, iid=31698, r_ui=1.5, est=1.687200032130181, details={'was_impossible': False}),\n",
       " Prediction(uid=213563, iid=2799, r_ui=1.0, est=1.377135515785094, details={'was_impossible': False}),\n",
       " Prediction(uid=279821, iid=1760, r_ui=4.0, est=1.8486346867780779, details={'was_impossible': False}),\n",
       " Prediction(uid=281270, iid=3572, r_ui=1.0, est=1.4897656155335488, details={'was_impossible': False}),\n",
       " Prediction(uid=234167, iid=181, r_ui=3.0, est=1.9341919946510697, details={'was_impossible': False}),\n",
       " Prediction(uid=15368, iid=2516, r_ui=3.0, est=1.291817919270242, details={'was_impossible': False}),\n",
       " Prediction(uid=138982, iid=810, r_ui=0.5, est=1.4457988734612623, details={'was_impossible': False}),\n",
       " Prediction(uid=17177, iid=3593, r_ui=0.5, est=1.756846889092994, details={'was_impossible': False}),\n",
       " Prediction(uid=101566, iid=4425, r_ui=0.5, est=1.5983107030513632, details={'was_impossible': False}),\n",
       " Prediction(uid=167867, iid=1760, r_ui=1.0, est=1.8486346867780779, details={'was_impossible': False}),\n",
       " Prediction(uid=263301, iid=4255, r_ui=3.0, est=2.166573794783926, details={'was_impossible': False}),\n",
       " Prediction(uid=197529, iid=2452, r_ui=2.0, est=1.878659333958964, details={'was_impossible': False}),\n",
       " Prediction(uid=30579, iid=4255, r_ui=1.0, est=1.5302049604467185, details={'was_impossible': False}),\n",
       " Prediction(uid=96700, iid=3041, r_ui=1.0, est=1.9238263318700952, details={'was_impossible': False}),\n",
       " Prediction(uid=138494, iid=141131, r_ui=3.0, est=1.7690248776528543, details={'was_impossible': False}),\n",
       " Prediction(uid=85524, iid=181, r_ui=3.0, est=1.9341919946510697, details={'was_impossible': False}),\n",
       " Prediction(uid=182128, iid=3941, r_ui=1.0, est=1.192907816323224, details={'was_impossible': False}),\n",
       " Prediction(uid=98921, iid=1760, r_ui=1.0, est=1.110860177098758, details={'was_impossible': False}),\n",
       " Prediction(uid=201712, iid=57532, r_ui=0.5, est=1.1377582762343932, details={'was_impossible': False}),\n",
       " Prediction(uid=113041, iid=6371, r_ui=0.5, est=0.5516016129991921, details={'was_impossible': False}),\n",
       " Prediction(uid=152772, iid=50798, r_ui=2.0, est=1.5699853681403182, details={'was_impossible': False}),\n",
       " Prediction(uid=81019, iid=3593, r_ui=3.5, est=1.756846889092994, details={'was_impossible': False}),\n",
       " Prediction(uid=97098, iid=2383, r_ui=2.0, est=2.1410760147757943, details={'was_impossible': False}),\n",
       " Prediction(uid=33285, iid=3593, r_ui=3.5, est=1.756846889092994, details={'was_impossible': False}),\n",
       " Prediction(uid=54446, iid=4255, r_ui=1.0, est=2.0144899112255508, details={'was_impossible': False}),\n",
       " Prediction(uid=127313, iid=6827, r_ui=3.0, est=2.287606150062696, details={'was_impossible': False}),\n",
       " Prediction(uid=80575, iid=2555, r_ui=1.0, est=1.7927524978935119, details={'was_impossible': False}),\n",
       " Prediction(uid=9630, iid=181, r_ui=1.0, est=1.9341919946510697, details={'was_impossible': False}),\n",
       " Prediction(uid=125212, iid=3041, r_ui=3.0, est=2.639644216204081, details={'was_impossible': False}),\n",
       " Prediction(uid=234180, iid=43919, r_ui=0.5, est=1.1132298190841419, details={'was_impossible': False}),\n",
       " Prediction(uid=236587, iid=1595, r_ui=0.5, est=1.831629501247716, details={'was_impossible': False}),\n",
       " Prediction(uid=179136, iid=31424, r_ui=3.0, est=1.644262356017299, details={'was_impossible': False}),\n",
       " Prediction(uid=14844, iid=1826, r_ui=1.0, est=1.4468812901831671, details={'was_impossible': False}),\n",
       " Prediction(uid=260726, iid=6587, r_ui=2.5, est=1.6766895633519885, details={'was_impossible': False}),\n",
       " Prediction(uid=68468, iid=810, r_ui=3.0, est=2.2907761572897636, details={'was_impossible': False}),\n",
       " Prediction(uid=259624, iid=6483, r_ui=1.0, est=1.283868730250144, details={'was_impossible': False}),\n",
       " Prediction(uid=264386, iid=31698, r_ui=0.5, est=1.4020793855194742, details={'was_impossible': False}),\n",
       " Prediction(uid=241546, iid=1760, r_ui=1.5, est=1.6813074949495963, details={'was_impossible': False}),\n",
       " Prediction(uid=270695, iid=6482, r_ui=2.5, est=1.7557873430981632, details={'was_impossible': False}),\n",
       " Prediction(uid=247263, iid=1760, r_ui=1.0, est=1.8486346867780779, details={'was_impossible': False}),\n",
       " Prediction(uid=231386, iid=810, r_ui=4.0, est=1.8783164886732824, details={'was_impossible': False}),\n",
       " Prediction(uid=15492, iid=3041, r_ui=0.5, est=0.9532274567107155, details={'was_impossible': False}),\n",
       " Prediction(uid=73654, iid=103723, r_ui=4.0, est=1.8487025674829836, details={'was_impossible': False}),\n",
       " Prediction(uid=95329, iid=43919, r_ui=1.0, est=1.193203370849419, details={'was_impossible': False}),\n",
       " Prediction(uid=277685, iid=1739, r_ui=0.5, est=0.602275234988151, details={'was_impossible': False}),\n",
       " Prediction(uid=102786, iid=4750, r_ui=3.0, est=2.3290603653895734, details={'was_impossible': False}),\n",
       " Prediction(uid=279503, iid=6483, r_ui=0.5, est=0.5389476562428489, details={'was_impossible': False}),\n",
       " Prediction(uid=134229, iid=68965, r_ui=1.5, est=1.059215975943987, details={'was_impossible': False}),\n",
       " Prediction(uid=37311, iid=810, r_ui=2.5, est=1.9637750273964982, details={'was_impossible': False}),\n",
       " Prediction(uid=22211, iid=3593, r_ui=1.0, est=1.756846889092994, details={'was_impossible': False}),\n",
       " Prediction(uid=125596, iid=1495, r_ui=1.0, est=0.8832570554709116, details={'was_impossible': False}),\n",
       " Prediction(uid=120249, iid=67867, r_ui=1.0, est=1.4994078737441667, details={'was_impossible': False}),\n",
       " Prediction(uid=102207, iid=61348, r_ui=0.5, est=2.0989474191613997, details={'was_impossible': False}),\n",
       " Prediction(uid=235277, iid=1990, r_ui=0.5, est=2.114794199795256, details={'was_impossible': False}),\n",
       " Prediction(uid=19596, iid=3042, r_ui=1.0, est=1.7986374394381246, details={'was_impossible': False}),\n",
       " Prediction(uid=126040, iid=810, r_ui=0.5, est=1.8384423986311103, details={'was_impossible': False}),\n",
       " Prediction(uid=133855, iid=1984, r_ui=3.0, est=1.3547637231468614, details={'was_impossible': False}),\n",
       " Prediction(uid=109512, iid=1760, r_ui=2.5, est=2.291157741784231, details={'was_impossible': False}),\n",
       " Prediction(uid=99945, iid=90890, r_ui=2.5, est=2.7348798758857957, details={'was_impossible': False}),\n",
       " Prediction(uid=205832, iid=6587, r_ui=1.0, est=0.7852899706776766, details={'was_impossible': False}),\n",
       " Prediction(uid=184203, iid=3962, r_ui=2.0, est=1.4353893209015318, details={'was_impossible': False}),\n",
       " Prediction(uid=220075, iid=3572, r_ui=2.0, est=1.7268163238177112, details={'was_impossible': False}),\n",
       " Prediction(uid=280748, iid=181, r_ui=1.5, est=1.9341919946510697, details={'was_impossible': False}),\n",
       " Prediction(uid=115051, iid=74754, r_ui=1.0, est=2.141477504788109, details={'was_impossible': False}),\n",
       " Prediction(uid=83791, iid=1739, r_ui=1.0, est=0.7010978937957356, details={'was_impossible': False}),\n",
       " Prediction(uid=110733, iid=2799, r_ui=2.0, est=1.9548069259909415, details={'was_impossible': False}),\n",
       " Prediction(uid=137304, iid=74754, r_ui=0.5, est=2.141477504788109, details={'was_impossible': False}),\n",
       " Prediction(uid=119564, iid=1886, r_ui=1.0, est=1.427243239375199, details={'was_impossible': False}),\n",
       " Prediction(uid=192909, iid=2555, r_ui=2.0, est=1.7927524978935119, details={'was_impossible': False}),\n",
       " Prediction(uid=54840, iid=2383, r_ui=1.0, est=1.535479791770307, details={'was_impossible': False}),\n",
       " Prediction(uid=184762, iid=8290, r_ui=1.0, est=1.737354086051337, details={'was_impossible': False}),\n",
       " Prediction(uid=115963, iid=1325, r_ui=0.5, est=0.6324108791289298, details={'was_impossible': False}),\n",
       " Prediction(uid=78279, iid=74754, r_ui=2.0, est=1.6558648244281091, details={'was_impossible': False}),\n",
       " Prediction(uid=40929, iid=3663, r_ui=1.0, est=1.7314797550732417, details={'was_impossible': False}),\n",
       " Prediction(uid=279173, iid=31698, r_ui=1.0, est=1.6638183041266037, details={'was_impossible': False}),\n",
       " Prediction(uid=92503, iid=4775, r_ui=3.0, est=1.2370942324349814, details={'was_impossible': False}),\n",
       " Prediction(uid=136569, iid=31698, r_ui=4.0, est=1.4661857044434101, details={'was_impossible': False}),\n",
       " Prediction(uid=99888, iid=57532, r_ui=1.5, est=1.3892542172660038, details={'was_impossible': False}),\n",
       " Prediction(uid=86861, iid=3593, r_ui=1.0, est=1.3702201958652722, details={'was_impossible': False}),\n",
       " Prediction(uid=158194, iid=3593, r_ui=2.0, est=2.124596116226581, details={'was_impossible': False}),\n",
       " Prediction(uid=234637, iid=1323, r_ui=1.0, est=1.794298101849523, details={'was_impossible': False}),\n",
       " Prediction(uid=247994, iid=5647, r_ui=0.5, est=1.7878311349708274, details={'was_impossible': False}),\n",
       " Prediction(uid=71941, iid=3166, r_ui=0.5, est=0.8396120155790786, details={'was_impossible': False}),\n",
       " Prediction(uid=224303, iid=2799, r_ui=2.0, est=1.9143461040012786, details={'was_impossible': False}),\n",
       " Prediction(uid=235058, iid=6483, r_ui=0.5, est=1.3788685920027681, details={'was_impossible': False}),\n",
       " Prediction(uid=140443, iid=6827, r_ui=2.5, est=1.8477514799529369, details={'was_impossible': False}),\n",
       " Prediction(uid=126103, iid=3593, r_ui=1.0, est=1.756846889092994, details={'was_impossible': False}),\n",
       " Prediction(uid=96436, iid=2555, r_ui=1.0, est=1.314599991306727, details={'was_impossible': False}),\n",
       " Prediction(uid=255483, iid=2555, r_ui=0.5, est=1.7403758639250029, details={'was_impossible': False}),\n",
       " Prediction(uid=10472, iid=2799, r_ui=1.5, est=1.9143461040012786, details={'was_impossible': False}),\n",
       " Prediction(uid=169142, iid=3593, r_ui=1.0, est=1.756846889092994, details={'was_impossible': False}),\n",
       " Prediction(uid=258474, iid=1760, r_ui=1.5, est=1.0049259779694517, details={'was_impossible': False}),\n",
       " Prediction(uid=73624, iid=3433, r_ui=2.0, est=1.6581658686066771, details={'was_impossible': False}),\n",
       " Prediction(uid=55048, iid=2368, r_ui=1.0, est=2.2317508214494395, details={'was_impossible': False}),\n",
       " Prediction(uid=11055, iid=3041, r_ui=3.0, est=2.7567263031400677, details={'was_impossible': False}),\n",
       " Prediction(uid=152381, iid=135216, r_ui=0.5, est=1.0850606108970045, details={'was_impossible': False}),\n",
       " Prediction(uid=46428, iid=1760, r_ui=2.0, est=1.8486346867780779, details={'was_impossible': False}),\n",
       " Prediction(uid=74085, iid=1595, r_ui=1.0, est=2.0457142035728193, details={'was_impossible': False}),\n",
       " Prediction(uid=266611, iid=73829, r_ui=2.5, est=1.6560667595133367, details={'was_impossible': False}),\n",
       " Prediction(uid=277213, iid=1760, r_ui=0.5, est=2.573351514072471, details={'was_impossible': False}),\n",
       " Prediction(uid=175913, iid=2555, r_ui=5.0, est=1.7927524978935119, details={'was_impossible': False}),\n",
       " Prediction(uid=24492, iid=2818, r_ui=3.0, est=1.3119591149046386, details={'was_impossible': False}),\n",
       " Prediction(uid=100479, iid=1989, r_ui=0.5, est=0.7608628461043984, details={'was_impossible': False}),\n",
       " Prediction(uid=176254, iid=6827, r_ui=1.0, est=0.8099899207748733, details={'was_impossible': False}),\n",
       " Prediction(uid=278375, iid=2383, r_ui=1.0, est=1.707842654712049, details={'was_impossible': False}),\n",
       " Prediction(uid=150683, iid=3593, r_ui=2.0, est=2.0836303298688317, details={'was_impossible': False}),\n",
       " Prediction(uid=240174, iid=3593, r_ui=2.0, est=2.0252102630688, details={'was_impossible': False}),\n",
       " Prediction(uid=37046, iid=6827, r_ui=1.5, est=2.5992867429438657, details={'was_impossible': False}),\n",
       " Prediction(uid=67924, iid=50798, r_ui=0.5, est=0.7306918650280438, details={'was_impossible': False}),\n",
       " Prediction(uid=175123, iid=125916, r_ui=3.0, est=1.8861287289483741, details={'was_impossible': False}),\n",
       " Prediction(uid=254494, iid=4425, r_ui=3.0, est=1.731249954179795, details={'was_impossible': False}),\n",
       " Prediction(uid=129110, iid=1335, r_ui=2.0, est=1.3869181072300387, details={'was_impossible': False}),\n",
       " Prediction(uid=109834, iid=2818, r_ui=1.0, est=1.140044413040177, details={'was_impossible': False}),\n",
       " Prediction(uid=77651, iid=8859, r_ui=0.5, est=0.6995694256569049, details={'was_impossible': False}),\n",
       " Prediction(uid=256729, iid=67867, r_ui=4.0, est=3.044020777380367, details={'was_impossible': False}),\n",
       " Prediction(uid=203335, iid=3433, r_ui=1.0, est=2.277008833916122, details={'was_impossible': False}),\n",
       " Prediction(uid=218045, iid=6587, r_ui=1.0, est=0.8740254418524743, details={'was_impossible': False}),\n",
       " Prediction(uid=6045, iid=50798, r_ui=0.5, est=1.5699853681403182, details={'was_impossible': False}),\n",
       " Prediction(uid=198324, iid=6872, r_ui=0.5, est=1.6339455143956154, details={'was_impossible': False}),\n",
       " Prediction(uid=43534, iid=1984, r_ui=3.0, est=3.3620818915376884, details={'was_impossible': False}),\n",
       " Prediction(uid=167392, iid=1826, r_ui=0.5, est=1.207473896219043, details={'was_impossible': False}),\n",
       " Prediction(uid=174288, iid=3799, r_ui=0.5, est=1.3366362573846982, details={'was_impossible': False}),\n",
       " Prediction(uid=183648, iid=4781, r_ui=2.0, est=1.8848121243334377, details={'was_impossible': False}),\n",
       " Prediction(uid=236867, iid=74754, r_ui=0.5, est=1.5018012948782362, details={'was_impossible': False}),\n",
       " Prediction(uid=190478, iid=57532, r_ui=2.5, est=1.7117695595522013, details={'was_impossible': False}),\n",
       " Prediction(uid=10846, iid=3593, r_ui=2.0, est=1.4173338747009023, details={'was_impossible': False}),\n",
       " Prediction(uid=227760, iid=2555, r_ui=0.5, est=2.087199942814699, details={'was_impossible': False}),\n",
       " Prediction(uid=76200, iid=125916, r_ui=2.0, est=1.8861287289483741, details={'was_impossible': False}),\n",
       " Prediction(uid=253813, iid=810, r_ui=0.5, est=0.993092187686601, details={'was_impossible': False}),\n",
       " Prediction(uid=111372, iid=57532, r_ui=0.5, est=1.108821681554105, details={'was_impossible': False}),\n",
       " Prediction(uid=192890, iid=1984, r_ui=3.5, est=1.5827739590033443, details={'was_impossible': False}),\n",
       " Prediction(uid=49323, iid=3799, r_ui=1.0, est=1.3754841758833265, details={'was_impossible': False}),\n",
       " Prediction(uid=78813, iid=1990, r_ui=3.0, est=2.4015436305017417, details={'was_impossible': False}),\n",
       " Prediction(uid=200183, iid=1826, r_ui=1.0, est=1.233659171980076, details={'was_impossible': False}),\n",
       " Prediction(uid=10918, iid=3593, r_ui=0.5, est=1.756846889092994, details={'was_impossible': False}),\n",
       " Prediction(uid=214071, iid=2555, r_ui=3.0, est=1.732479107723616, details={'was_impossible': False}),\n",
       " Prediction(uid=180026, iid=1981, r_ui=1.0, est=1.2180151155876602, details={'was_impossible': False}),\n",
       " Prediction(uid=206501, iid=3593, r_ui=1.0, est=1.756846889092994, details={'was_impossible': False}),\n",
       " Prediction(uid=11195, iid=3166, r_ui=1.0, est=1.8505551716217588, details={'was_impossible': False}),\n",
       " Prediction(uid=139760, iid=2383, r_ui=1.0, est=1.7680436505640857, details={'was_impossible': False}),\n",
       " Prediction(uid=133104, iid=1599, r_ui=3.5, est=1.7808189436640156, details={'was_impossible': False}),\n",
       " Prediction(uid=227062, iid=4241, r_ui=0.5, est=1.0679726582174323, details={'was_impossible': False}),\n",
       " Prediction(uid=142590, iid=1595, r_ui=0.5, est=0.8889599901969268, details={'was_impossible': False}),\n",
       " Prediction(uid=10671, iid=2887, r_ui=1.0, est=1.5514499515461668, details={'was_impossible': False}),\n",
       " Prediction(uid=136606, iid=1760, r_ui=2.5, est=1.8486346867780779, details={'was_impossible': False}),\n",
       " Prediction(uid=136464, iid=3572, r_ui=1.0, est=1.8465229156893304, details={'was_impossible': False}),\n",
       " Prediction(uid=242683, iid=59295, r_ui=2.0, est=1.8693317158539304, details={'was_impossible': False}),\n",
       " Prediction(uid=63137, iid=1595, r_ui=3.0, est=2.863214276461036, details={'was_impossible': False}),\n",
       " Prediction(uid=55306, iid=31698, r_ui=0.5, est=1.0798874039252968, details={'was_impossible': False}),\n",
       " Prediction(uid=207647, iid=43919, r_ui=1.0, est=1.5541446267171586, details={'was_impossible': False}),\n",
       " Prediction(uid=162059, iid=2383, r_ui=4.0, est=1.9466569632243398, details={'was_impossible': False}),\n",
       " Prediction(uid=219761, iid=59295, r_ui=0.5, est=2.127560260929921, details={'was_impossible': False}),\n",
       " Prediction(uid=23351, iid=2817, r_ui=1.0, est=1.1905708841378457, details={'was_impossible': False}),\n",
       " Prediction(uid=102269, iid=1322, r_ui=1.0, est=1.202880914529275, details={'was_impossible': False}),\n",
       " Prediction(uid=42746, iid=3572, r_ui=1.5, est=0.8043973582117606, details={'was_impossible': False}),\n",
       " Prediction(uid=98511, iid=3962, r_ui=2.0, est=1.408987064858567, details={'was_impossible': False}),\n",
       " Prediction(uid=168730, iid=181, r_ui=1.0, est=1.9341919946510697, details={'was_impossible': False}),\n",
       " Prediction(uid=199308, iid=1599, r_ui=1.0, est=1.8458583026516144, details={'was_impossible': False}),\n",
       " Prediction(uid=181598, iid=1595, r_ui=1.0, est=1.4683314466929203, details={'was_impossible': False}),\n",
       " Prediction(uid=84878, iid=1981, r_ui=0.5, est=0.9335378914459391, details={'was_impossible': False}),\n",
       " Prediction(uid=221388, iid=6827, r_ui=1.0, est=1.7991119390893713, details={'was_impossible': False}),\n",
       " Prediction(uid=189789, iid=3945, r_ui=3.0, est=3.3729535457198105, details={'was_impossible': False}),\n",
       " Prediction(uid=133341, iid=2383, r_ui=1.0, est=1.2345231309421567, details={'was_impossible': False}),\n",
       " Prediction(uid=41734, iid=2368, r_ui=4.0, est=2.7172129178149795, details={'was_impossible': False}),\n",
       " Prediction(uid=193564, iid=1760, r_ui=4.0, est=1.8486346867780779, details={'was_impossible': False}),\n",
       " Prediction(uid=220323, iid=67867, r_ui=1.0, est=2.17605941335878, details={'was_impossible': False}),\n",
       " Prediction(uid=229636, iid=125916, r_ui=0.5, est=2.7388413345043836, details={'was_impossible': False}),\n",
       " Prediction(uid=10057, iid=70946, r_ui=4.5, est=2.104449061352624, details={'was_impossible': False}),\n",
       " Prediction(uid=261935, iid=4255, r_ui=0.5, est=2.0144899112255508, details={'was_impossible': False}),\n",
       " Prediction(uid=83554, iid=1760, r_ui=1.0, est=1.8486346867780779, details={'was_impossible': False}),\n",
       " Prediction(uid=203463, iid=181, r_ui=2.5, est=1.8723847049382676, details={'was_impossible': False}),\n",
       " Prediction(uid=227646, iid=1984, r_ui=4.5, est=2.226725613985403, details={'was_impossible': False}),\n",
       " Prediction(uid=10319, iid=1495, r_ui=1.0, est=2.2092769059019335, details={'was_impossible': False}),\n",
       " Prediction(uid=30767, iid=5832, r_ui=0.5, est=1.1880506658865781, details={'was_impossible': False}),\n",
       " Prediction(uid=46812, iid=3593, r_ui=1.5, est=1.756846889092994, details={'was_impossible': False}),\n",
       " Prediction(uid=92132, iid=1739, r_ui=3.5, est=2.5499438859539376, details={'was_impossible': False}),\n",
       " Prediction(uid=187633, iid=1495, r_ui=2.0, est=1.7994561076171625, details={'was_impossible': False}),\n",
       " Prediction(uid=106336, iid=3433, r_ui=1.0, est=1.2769386773450355, details={'was_impossible': False}),\n",
       " Prediction(uid=204052, iid=181, r_ui=1.0, est=1.25472772023366, details={'was_impossible': False}),\n",
       " Prediction(uid=85414, iid=6482, r_ui=0.5, est=1.769580461615618, details={'was_impossible': False}),\n",
       " Prediction(uid=281438, iid=1853, r_ui=1.0, est=1.4325914738712542, details={'was_impossible': False}),\n",
       " Prediction(uid=210851, iid=1984, r_ui=2.0, est=1.9254327961109277, details={'was_impossible': False}),\n",
       " Prediction(uid=279557, iid=810, r_ui=1.5, est=1.7684613130291196, details={'was_impossible': False}),\n",
       " Prediction(uid=268018, iid=84312, r_ui=2.5, est=2.8861663151405392, details={'was_impossible': False}),\n",
       " Prediction(uid=2867, iid=3593, r_ui=1.0, est=1.756846889092994, details={'was_impossible': False}),\n",
       " Prediction(uid=248548, iid=1984, r_ui=3.0, est=2.7209020313466343, details={'was_impossible': False}),\n",
       " Prediction(uid=71966, iid=1599, r_ui=1.0, est=1.7808189436640156, details={'was_impossible': False}),\n",
       " Prediction(uid=210233, iid=8811, r_ui=0.5, est=1.7338570407661424, details={'was_impossible': False}),\n",
       " Prediction(uid=48837, iid=3945, r_ui=1.0, est=2.0007684094194653, details={'was_impossible': False}),\n",
       " Prediction(uid=42377, iid=43919, r_ui=2.0, est=3.592043424396247, details={'was_impossible': False}),\n",
       " Prediction(uid=103571, iid=1981, r_ui=1.0, est=1.6277383863236858, details={'was_impossible': False}),\n",
       " Prediction(uid=253279, iid=3434, r_ui=1.0, est=1.5360673129080424, details={'was_impossible': False}),\n",
       " Prediction(uid=154072, iid=1826, r_ui=1.0, est=0.8581482607796463, details={'was_impossible': False}),\n",
       " Prediction(uid=208543, iid=1981, r_ui=3.0, est=2.6949972058133826, details={'was_impossible': False}),\n",
       " Prediction(uid=93068, iid=2386, r_ui=0.5, est=0.7509793682131154, details={'was_impossible': False}),\n",
       " Prediction(uid=281950, iid=1739, r_ui=0.5, est=0.8597107624730222, details={'was_impossible': False}),\n",
       " Prediction(uid=100090, iid=1760, r_ui=2.0, est=1.8486346867780779, details={'was_impossible': False}),\n",
       " Prediction(uid=243653, iid=1760, r_ui=1.0, est=2.0649666862017, details={'was_impossible': False}),\n",
       " Prediction(uid=135831, iid=1311, r_ui=5.0, est=2.091959740136814, details={'was_impossible': False}),\n",
       " Prediction(uid=193493, iid=5648, r_ui=0.5, est=0.5799132269702405, details={'was_impossible': False}),\n",
       " Prediction(uid=51913, iid=181, r_ui=2.0, est=1.9341919946510697, details={'was_impossible': False}),\n",
       " Prediction(uid=153803, iid=2452, r_ui=3.0, est=1.7344837921109288, details={'was_impossible': False}),\n",
       " Prediction(uid=180095, iid=3593, r_ui=2.0, est=1.756846889092994, details={'was_impossible': False}),\n",
       " Prediction(uid=80237, iid=4750, r_ui=2.0, est=1.8520683239892477, details={'was_impossible': False}),\n",
       " Prediction(uid=111583, iid=43919, r_ui=0.5, est=1.0853474990781478, details={'was_impossible': False}),\n",
       " Prediction(uid=152506, iid=3799, r_ui=1.0, est=1.5145865346450416, details={'was_impossible': False}),\n",
       " Prediction(uid=35119, iid=1760, r_ui=0.5, est=1.414756173514223, details={'was_impossible': False}),\n",
       " Prediction(uid=260867, iid=56, r_ui=4.0, est=1.9055535599113782, details={'was_impossible': False}),\n",
       " Prediction(uid=13459, iid=810, r_ui=1.0, est=1.2012611127486768, details={'was_impossible': False}),\n",
       " Prediction(uid=259982, iid=1739, r_ui=3.0, est=2.7037727515818784, details={'was_impossible': False}),\n",
       " Prediction(uid=131945, iid=2817, r_ui=3.0, est=3.321789255703555, details={'was_impossible': False}),\n",
       " Prediction(uid=248293, iid=2799, r_ui=1.0, est=1.227854425148409, details={'was_impossible': False}),\n",
       " Prediction(uid=13138, iid=6827, r_ui=5.0, est=3.2182874908077466, details={'was_impossible': False}),\n",
       " Prediction(uid=66885, iid=67867, r_ui=3.5, est=1.6933468709480568, details={'was_impossible': False}),\n",
       " Prediction(uid=263343, iid=3799, r_ui=1.0, est=1.2546519787282344, details={'was_impossible': False}),\n",
       " Prediction(uid=163374, iid=4241, r_ui=2.5, est=2.3118555476365112, details={'was_impossible': False}),\n",
       " Prediction(uid=11600, iid=6483, r_ui=0.5, est=1.283868730250144, details={'was_impossible': False}),\n",
       " Prediction(uid=263915, iid=57532, r_ui=1.0, est=1.7117695595522013, details={'was_impossible': False}),\n",
       " Prediction(uid=165481, iid=2555, r_ui=0.5, est=1.7927524978935119, details={'was_impossible': False}),\n",
       " Prediction(uid=96205, iid=6483, r_ui=0.5, est=1.283868730250144, details={'was_impossible': False}),\n",
       " Prediction(uid=180933, iid=1760, r_ui=0.5, est=1.2515539479867035, details={'was_impossible': False}),\n",
       " Prediction(uid=35081, iid=2818, r_ui=1.0, est=1.2167727865553362, details={'was_impossible': False}),\n",
       " Prediction(uid=152073, iid=4241, r_ui=4.5, est=4.162253871164928, details={'was_impossible': False}),\n",
       " Prediction(uid=191438, iid=4255, r_ui=3.5, est=1.9404520576514033, details={'was_impossible': False}),\n",
       " Prediction(uid=109965, iid=5701, r_ui=1.0, est=1.4636410820648618, details={'was_impossible': False}),\n",
       " Prediction(uid=123026, iid=2383, r_ui=0.5, est=1.9466569632243398, details={'was_impossible': False}),\n",
       " Prediction(uid=102923, iid=2818, r_ui=3.0, est=2.5152769444357452, details={'was_impossible': False}),\n",
       " Prediction(uid=25898, iid=68965, r_ui=0.5, est=1.609486376853563, details={'was_impossible': False}),\n",
       " Prediction(uid=35453, iid=1323, r_ui=2.0, est=2.605265192835492, details={'was_impossible': False}),\n",
       " Prediction(uid=100393, iid=5648, r_ui=3.0, est=1.4322598655441816, details={'was_impossible': False}),\n",
       " Prediction(uid=43264, iid=3593, r_ui=0.5, est=1.0677856143026343, details={'was_impossible': False}),\n",
       " Prediction(uid=266853, iid=2383, r_ui=0.5, est=1.143740505795718, details={'was_impossible': False}),\n",
       " Prediction(uid=183620, iid=2452, r_ui=0.5, est=1.2334205432182566, details={'was_impossible': False}),\n",
       " Prediction(uid=155085, iid=2386, r_ui=1.0, est=1.6916037313609011, details={'was_impossible': False}),\n",
       " Prediction(uid=217818, iid=3042, r_ui=1.0, est=1.0496955494969709, details={'was_impossible': False}),\n",
       " Prediction(uid=218684, iid=1760, r_ui=0.5, est=1.8486346867780779, details={'was_impossible': False}),\n",
       " Prediction(uid=2551, iid=2799, r_ui=0.5, est=0.8496424150648303, details={'was_impossible': False}),\n",
       " Prediction(uid=225694, iid=4255, r_ui=3.5, est=2.3321607467582584, details={'was_impossible': False}),\n",
       " Prediction(uid=224738, iid=78321, r_ui=4.0, est=1.861102247661456, details={'was_impossible': False}),\n",
       " Prediction(uid=71164, iid=2555, r_ui=0.5, est=2.289384685715962, details={'was_impossible': False}),\n",
       " Prediction(uid=162582, iid=74754, r_ui=3.0, est=2.141477504788109, details={'was_impossible': False}),\n",
       " Prediction(uid=196284, iid=1599, r_ui=3.0, est=2.0138322262081823, details={'was_impossible': False}),\n",
       " Prediction(uid=97184, iid=1981, r_ui=1.0, est=1.2823608741498382, details={'was_impossible': False}),\n",
       " Prediction(uid=143847, iid=810, r_ui=2.5, est=2.682336407424919, details={'was_impossible': False}),\n",
       " Prediction(uid=180505, iid=5672, r_ui=0.5, est=0.6406661197774418, details={'was_impossible': False}),\n",
       " Prediction(uid=214791, iid=2383, r_ui=0.5, est=1.431070334070496, details={'was_impossible': False}),\n",
       " Prediction(uid=37046, iid=3574, r_ui=3.0, est=2.3461827364670307, details={'was_impossible': False}),\n",
       " Prediction(uid=203100, iid=2555, r_ui=3.0, est=1.437539307686727, details={'was_impossible': False}),\n",
       " Prediction(uid=35878, iid=1984, r_ui=2.5, est=1.6038107532683847, details={'was_impossible': False}),\n",
       " Prediction(uid=184171, iid=1760, r_ui=1.5, est=1.8486346867780779, details={'was_impossible': False}),\n",
       " Prediction(uid=132177, iid=3799, r_ui=2.0, est=1.9267760198754265, details={'was_impossible': False}),\n",
       " Prediction(uid=54198, iid=181, r_ui=2.0, est=2.5810914711147506, details={'was_impossible': False}),\n",
       " Prediction(uid=55735, iid=6482, r_ui=0.5, est=1.1693471885885371, details={'was_impossible': False}),\n",
       " Prediction(uid=148649, iid=181, r_ui=2.0, est=1.9341919946510697, details={'was_impossible': False}),\n",
       " Prediction(uid=158889, iid=1595, r_ui=1.0, est=1.448168118646095, details={'was_impossible': False}),\n",
       " Prediction(uid=208529, iid=125916, r_ui=1.0, est=1.3080280848303005, details={'was_impossible': False}),\n",
       " Prediction(uid=199011, iid=5832, r_ui=2.5, est=2.3754790137611375, details={'was_impossible': False}),\n",
       " Prediction(uid=92211, iid=4255, r_ui=4.0, est=2.08373462680136, details={'was_impossible': False}),\n",
       " Prediction(uid=200987, iid=57532, r_ui=1.0, est=2.2521896787375253, details={'was_impossible': False}),\n",
       " Prediction(uid=109011, iid=4775, r_ui=1.5, est=1.2938369634922042, details={'was_impossible': False}),\n",
       " Prediction(uid=150812, iid=1599, r_ui=4.0, est=1.7808189436640156, details={'was_impossible': False}),\n",
       " Prediction(uid=157580, iid=3574, r_ui=1.0, est=1.591785580673956, details={'was_impossible': False}),\n",
       " Prediction(uid=269159, iid=3799, r_ui=3.0, est=1.7292449833561931, details={'was_impossible': False}),\n",
       " Prediction(uid=95120, iid=3663, r_ui=1.0, est=1.233306337164814, details={'was_impossible': False}),\n",
       " Prediction(uid=18910, iid=31698, r_ui=0.5, est=1.4904699749585046, details={'was_impossible': False}),\n",
       " Prediction(uid=181145, iid=4750, r_ui=3.0, est=2.4980620646771743, details={'was_impossible': False}),\n",
       " Prediction(uid=210577, iid=3593, r_ui=1.0, est=1.756846889092994, details={'was_impossible': False}),\n",
       " Prediction(uid=3304, iid=31698, r_ui=2.0, est=1.4020793855194742, details={'was_impossible': False}),\n",
       " Prediction(uid=101412, iid=1984, r_ui=2.0, est=1.6492866447429875, details={'was_impossible': False}),\n",
       " Prediction(uid=246647, iid=125916, r_ui=1.5, est=1.8861287289483741, details={'was_impossible': False}),\n",
       " Prediction(uid=186406, iid=1760, r_ui=2.5, est=1.8486346867780779, details={'was_impossible': False}),\n",
       " Prediction(uid=163962, iid=1495, r_ui=0.5, est=0.7387229886907254, details={'was_impossible': False}),\n",
       " Prediction(uid=98873, iid=1760, r_ui=0.5, est=1.8486346867780779, details={'was_impossible': False}),\n",
       " Prediction(uid=226704, iid=3940, r_ui=0.5, est=0.7434155159881501, details={'was_impossible': False}),\n",
       " Prediction(uid=233655, iid=4255, r_ui=1.0, est=2.0144899112255508, details={'was_impossible': False}),\n",
       " Prediction(uid=108930, iid=2799, r_ui=1.5, est=1.9143461040012786, details={'was_impossible': False}),\n",
       " Prediction(uid=26331, iid=1739, r_ui=4.0, est=2.709660752723267, details={'was_impossible': False}),\n",
       " Prediction(uid=106397, iid=2368, r_ui=2.0, est=1.5584378252575877, details={'was_impossible': False}),\n",
       " Prediction(uid=205765, iid=90890, r_ui=1.0, est=1.7498977285968513, details={'was_impossible': False}),\n",
       " Prediction(uid=56548, iid=181, r_ui=1.0, est=1.6038921473458185, details={'was_impossible': False}),\n",
       " Prediction(uid=55181, iid=6587, r_ui=5.0, est=2.4319286327359806, details={'was_impossible': False}),\n",
       " Prediction(uid=139711, iid=3593, r_ui=2.5, est=1.3279236255808333, details={'was_impossible': False}),\n",
       " Prediction(uid=200210, iid=125916, r_ui=2.0, est=1.8861287289483741, details={'was_impossible': False}),\n",
       " Prediction(uid=49116, iid=5374, r_ui=3.0, est=1.54806266362714, details={'was_impossible': False}),\n",
       " Prediction(uid=250156, iid=1335, r_ui=1.0, est=1.432639473549203, details={'was_impossible': False}),\n",
       " Prediction(uid=74283, iid=125916, r_ui=2.5, est=1.8861287289483741, details={'was_impossible': False}),\n",
       " Prediction(uid=244290, iid=2462, r_ui=1.5, est=1.4243037599343165, details={'was_impossible': False}),\n",
       " Prediction(uid=177409, iid=3666, r_ui=4.0, est=1.8075612768831388, details={'was_impossible': False}),\n",
       " Prediction(uid=82467, iid=3593, r_ui=1.0, est=1.756846889092994, details={'was_impossible': False}),\n",
       " Prediction(uid=213036, iid=1760, r_ui=3.0, est=1.8486346867780779, details={'was_impossible': False}),\n",
       " Prediction(uid=25244, iid=3593, r_ui=0.5, est=1.756846889092994, details={'was_impossible': False}),\n",
       " Prediction(uid=254151, iid=2555, r_ui=0.5, est=0.7761800249526118, details={'was_impossible': False}),\n",
       " Prediction(uid=201946, iid=1739, r_ui=1.0, est=1.7340145616929237, details={'was_impossible': False}),\n",
       " Prediction(uid=140312, iid=2383, r_ui=0.5, est=1.9466569632243398, details={'was_impossible': False}),\n",
       " Prediction(uid=265246, iid=3593, r_ui=0.5, est=1.756846889092994, details={'was_impossible': False}),\n",
       " Prediction(uid=189016, iid=1984, r_ui=2.0, est=1.7394301484454924, details={'was_impossible': False}),\n",
       " Prediction(uid=205755, iid=4425, r_ui=0.5, est=0.6475520788800978, details={'was_impossible': False}),\n",
       " Prediction(uid=73145, iid=2974, r_ui=1.5, est=2.0295334554167948, details={'was_impossible': False}),\n",
       " Prediction(uid=60950, iid=1322, r_ui=1.0, est=1.709324812503621, details={'was_impossible': False}),\n",
       " Prediction(uid=137355, iid=1595, r_ui=5.0, est=1.831629501247716, details={'was_impossible': False}),\n",
       " Prediction(uid=20556, iid=90890, r_ui=0.5, est=1.7816723101750325, details={'was_impossible': False}),\n",
       " Prediction(uid=51384, iid=50798, r_ui=2.5, est=1.8790845051568255, details={'was_impossible': False}),\n",
       " Prediction(uid=65648, iid=2383, r_ui=5.0, est=1.9466569632243398, details={'was_impossible': False}),\n",
       " Prediction(uid=31279, iid=4255, r_ui=0.5, est=1.5906911241809774, details={'was_impossible': False}),\n",
       " Prediction(uid=24541, iid=3593, r_ui=3.5, est=1.756846889092994, details={'was_impossible': False}),\n",
       " Prediction(uid=137965, iid=181, r_ui=1.0, est=1.4609392796334781, details={'was_impossible': False}),\n",
       " Prediction(uid=37136, iid=5647, r_ui=1.0, est=1.6496621543887224, details={'was_impossible': False}),\n",
       " Prediction(uid=76239, iid=1760, r_ui=1.0, est=1.8486346867780779, details={'was_impossible': False}),\n",
       " Prediction(uid=84733, iid=125916, r_ui=3.5, est=1.8861287289483741, details={'was_impossible': False}),\n",
       " Prediction(uid=35053, iid=4425, r_ui=1.0, est=1.731249954179795, details={'was_impossible': False}),\n",
       " Prediction(uid=254171, iid=4255, r_ui=2.0, est=2.0144899112255508, details={'was_impossible': False}),\n",
       " Prediction(uid=111908, iid=6483, r_ui=0.5, est=0.5, details={'was_impossible': False}),\n",
       " Prediction(uid=271576, iid=2555, r_ui=1.0, est=1.5218393892049404, details={'was_impossible': False}),\n",
       " Prediction(uid=233505, iid=1760, r_ui=1.0, est=1.2948256344677451, details={'was_impossible': False}),\n",
       " Prediction(uid=131538, iid=3593, r_ui=1.0, est=1.756846889092994, details={'was_impossible': False}),\n",
       " Prediction(uid=30994, iid=70946, r_ui=0.5, est=1.4309041468019783, details={'was_impossible': False}),\n",
       " Prediction(uid=249674, iid=43919, r_ui=1.5, est=1.6368173593985935, details={'was_impossible': False}),\n",
       " Prediction(uid=62555, iid=2383, r_ui=3.0, est=1.8690139594282307, details={'was_impossible': False}),\n",
       " Prediction(uid=196827, iid=1760, r_ui=3.0, est=1.8486346867780779, details={'was_impossible': False}),\n",
       " Prediction(uid=35307, iid=1739, r_ui=1.0, est=1.0113929501667251, details={'was_impossible': False}),\n",
       " Prediction(uid=219555, iid=84312, r_ui=0.5, est=1.6181219364991966, details={'was_impossible': False}),\n",
       " Prediction(uid=202871, iid=3593, r_ui=1.0, est=1.756846889092994, details={'was_impossible': False}),\n",
       " Prediction(uid=70000, iid=3593, r_ui=0.5, est=1.756846889092994, details={'was_impossible': False}),\n",
       " Prediction(uid=97483, iid=1760, r_ui=0.5, est=1.7056276695616104, details={'was_impossible': False}),\n",
       " Prediction(uid=214755, iid=6827, r_ui=1.5, est=1.4521233392885462, details={'was_impossible': False}),\n",
       " Prediction(uid=156874, iid=4775, r_ui=3.0, est=1.9416983717439327, details={'was_impossible': False}),\n",
       " Prediction(uid=18704, iid=2555, r_ui=1.0, est=1.5327909197175367, details={'was_impossible': False}),\n",
       " Prediction(uid=110892, iid=43919, r_ui=1.0, est=1.2053162187507453, details={'was_impossible': False}),\n",
       " Prediction(uid=69997, iid=5672, r_ui=1.5, est=1.5867032424597447, details={'was_impossible': False}),\n",
       " Prediction(uid=236068, iid=810, r_ui=1.0, est=1.2000303462291961, details={'was_impossible': False}),\n",
       " Prediction(uid=238610, iid=78321, r_ui=2.0, est=1.7213907444454934, details={'was_impossible': False}),\n",
       " Prediction(uid=78982, iid=3962, r_ui=1.0, est=0.6972345269703413, details={'was_impossible': False}),\n",
       " Prediction(uid=106835, iid=1760, r_ui=1.0, est=1.8486346867780779, details={'was_impossible': False}),\n",
       " Prediction(uid=225410, iid=3593, r_ui=1.5, est=1.756846889092994, details={'was_impossible': False}),\n",
       " Prediction(uid=32930, iid=67867, r_ui=0.5, est=1.6933468709480568, details={'was_impossible': False}),\n",
       " Prediction(uid=71835, iid=2974, r_ui=3.0, est=1.804054431407776, details={'was_impossible': False}),\n",
       " Prediction(uid=151536, iid=4775, r_ui=0.5, est=0.8822771549884955, details={'was_impossible': False}),\n",
       " Prediction(uid=70260, iid=125916, r_ui=3.5, est=1.8861287289483741, details={'was_impossible': False}),\n",
       " Prediction(uid=13059, iid=2386, r_ui=3.0, est=1.6916037313609011, details={'was_impossible': False}),\n",
       " Prediction(uid=148382, iid=2516, r_ui=1.0, est=2.9122228351900405, details={'was_impossible': False}),\n",
       " Prediction(uid=269150, iid=2386, r_ui=3.0, est=1.5547770610414013, details={'was_impossible': False}),\n",
       " Prediction(uid=16505, iid=43919, r_ui=1.0, est=1.34930869555328, details={'was_impossible': False}),\n",
       " Prediction(uid=127225, iid=57532, r_ui=2.5, est=2.5829032683380935, details={'was_impossible': False}),\n",
       " Prediction(uid=127004, iid=5832, r_ui=0.5, est=1.4177934412668411, details={'was_impossible': False}),\n",
       " Prediction(uid=160237, iid=181, r_ui=1.0, est=1.9341919946510697, details={'was_impossible': False}),\n",
       " Prediction(uid=47445, iid=3593, r_ui=1.0, est=1.3701306568093623, details={'was_impossible': False}),\n",
       " Prediction(uid=257664, iid=90890, r_ui=2.0, est=2.5077662071962847, details={'was_impossible': False}),\n",
       " Prediction(uid=194020, iid=2368, r_ui=1.0, est=1.380287648041377, details={'was_impossible': False}),\n",
       " Prediction(uid=115449, iid=6482, r_ui=2.0, est=0.9313235553027619, details={'was_impossible': False}),\n",
       " Prediction(uid=271154, iid=31698, r_ui=0.5, est=0.8573863402114112, details={'was_impossible': False}),\n",
       " Prediction(uid=262584, iid=74754, r_ui=3.5, est=1.9116681263380215, details={'was_impossible': False}),\n",
       " Prediction(uid=246610, iid=2383, r_ui=0.5, est=1.3108563153509447, details={'was_impossible': False}),\n",
       " Prediction(uid=153969, iid=8859, r_ui=0.5, est=0.5, details={'was_impossible': False}),\n",
       " Prediction(uid=111908, iid=4255, r_ui=1.0, est=0.980324216425483, details={'was_impossible': False}),\n",
       " Prediction(uid=194422, iid=1760, r_ui=1.0, est=2.0051983995964684, details={'was_impossible': False}),\n",
       " Prediction(uid=209221, iid=1984, r_ui=2.0, est=1.3254932919789868, details={'was_impossible': False}),\n",
       " Prediction(uid=3321, iid=4775, r_ui=0.5, est=0.9430853310336565, details={'was_impossible': False}),\n",
       " Prediction(uid=80743, iid=810, r_ui=1.0, est=2.4488422891934345, details={'was_impossible': False}),\n",
       " Prediction(uid=99662, iid=5779, r_ui=3.5, est=1.6851512250583633, details={'was_impossible': False}),\n",
       " Prediction(uid=151596, iid=1826, r_ui=2.0, est=1.3491333126470058, details={'was_impossible': False}),\n",
       " Prediction(uid=224181, iid=3799, r_ui=0.5, est=1.4872763096675112, details={'was_impossible': False}),\n",
       " Prediction(uid=172320, iid=1383, r_ui=1.0, est=2.2345534290369575, details={'was_impossible': False}),\n",
       " Prediction(uid=222185, iid=8811, r_ui=0.5, est=2.5483177473716747, details={'was_impossible': False}),\n",
       " Prediction(uid=276198, iid=6827, r_ui=0.5, est=0.7849627531883998, details={'was_impossible': False}),\n",
       " Prediction(uid=95725, iid=1984, r_ui=1.0, est=1.6564563682434554, details={'was_impossible': False}),\n",
       " Prediction(uid=108517, iid=115414, r_ui=0.5, est=1.562854148991639, details={'was_impossible': False}),\n",
       " Prediction(uid=257698, iid=3042, r_ui=2.0, est=2.0152468218638293, details={'was_impossible': False}),\n",
       " Prediction(uid=41249, iid=1760, r_ui=1.0, est=1.3527192915173807, details={'was_impossible': False}),\n",
       " Prediction(uid=47952, iid=2452, r_ui=3.0, est=2.3084638296517013, details={'was_impossible': False}),\n",
       " Prediction(uid=222537, iid=4255, r_ui=1.0, est=2.0144899112255508, details={'was_impossible': False}),\n",
       " Prediction(uid=38787, iid=6482, r_ui=1.5, est=1.769580461615618, details={'was_impossible': False}),\n",
       " Prediction(uid=47834, iid=6482, r_ui=1.0, est=1.9785451623294334, details={'was_impossible': False}),\n",
       " Prediction(uid=36617, iid=5356, r_ui=0.5, est=1.452441625830768, details={'was_impossible': False}),\n",
       " Prediction(uid=231014, iid=4775, r_ui=1.5, est=1.1633575271774728, details={'was_impossible': False}),\n",
       " Prediction(uid=200610, iid=1760, r_ui=1.0, est=1.8486346867780779, details={'was_impossible': False}),\n",
       " Prediction(uid=140550, iid=6483, r_ui=2.0, est=1.283868730250144, details={'was_impossible': False}),\n",
       " Prediction(uid=74518, iid=84312, r_ui=1.5, est=1.946654886926248, details={'was_impossible': False}),\n",
       " Prediction(uid=67830, iid=1760, r_ui=1.0, est=1.8055682226137058, details={'was_impossible': False}),\n",
       " Prediction(uid=152819, iid=1383, r_ui=1.0, est=1.5302090594017348, details={'was_impossible': False}),\n",
       " Prediction(uid=197179, iid=6872, r_ui=1.5, est=1.341246365580915, details={'was_impossible': False}),\n",
       " Prediction(uid=143243, iid=1325, r_ui=1.0, est=1.1054715295001087, details={'was_impossible': False}),\n",
       " Prediction(uid=218409, iid=1760, r_ui=0.5, est=1.8486346867780779, details={'was_impossible': False}),\n",
       " Prediction(uid=80508, iid=57532, r_ui=1.0, est=1.2611044382344465, details={'was_impossible': False}),\n",
       " Prediction(uid=247180, iid=1328, r_ui=1.0, est=1.2563898731919576, details={'was_impossible': False}),\n",
       " Prediction(uid=106397, iid=3593, r_ui=0.5, est=1.5399833954180757, details={'was_impossible': False}),\n",
       " Prediction(uid=217085, iid=2383, r_ui=2.0, est=1.5783622033319444, details={'was_impossible': False}),\n",
       " Prediction(uid=5396, iid=1599, r_ui=1.0, est=1.987496195068735, details={'was_impossible': False}),\n",
       " Prediction(uid=154274, iid=90890, r_ui=0.5, est=2.1125315896550454, details={'was_impossible': False}),\n",
       " Prediction(uid=117132, iid=3799, r_ui=0.5, est=1.2294760208559739, details={'was_impossible': False}),\n",
       " Prediction(uid=47088, iid=59295, r_ui=1.0, est=2.5337765660358267, details={'was_impossible': False}),\n",
       " Prediction(uid=137652, iid=90890, r_ui=0.5, est=1.629828489766633, details={'was_impossible': False}),\n",
       " Prediction(uid=44263, iid=3799, r_ui=5.0, est=1.9394443376995767, details={'was_impossible': False}),\n",
       " Prediction(uid=194019, iid=6872, r_ui=0.5, est=1.6563022079477008, details={'was_impossible': False}),\n",
       " Prediction(uid=24896, iid=2516, r_ui=1.0, est=1.1765364851689282, details={'was_impossible': False}),\n",
       " Prediction(uid=36536, iid=2799, r_ui=2.0, est=1.9143461040012786, details={'was_impossible': False}),\n",
       " Prediction(uid=138560, iid=2383, r_ui=1.0, est=1.509441524751828, details={'was_impossible': False}),\n",
       " Prediction(uid=75352, iid=74754, r_ui=1.0, est=1.8261636929576828, details={'was_impossible': False}),\n",
       " Prediction(uid=131981, iid=6482, r_ui=1.0, est=1.769580461615618, details={'was_impossible': False}),\n",
       " Prediction(uid=82520, iid=1760, r_ui=4.0, est=2.4260080532769224, details={'was_impossible': False}),\n",
       " Prediction(uid=128610, iid=1739, r_ui=3.0, est=1.2265575220979132, details={'was_impossible': False}),\n",
       " Prediction(uid=198744, iid=2799, r_ui=2.5, est=2.364651747207358, details={'was_impossible': False}),\n",
       " Prediction(uid=89563, iid=84312, r_ui=1.0, est=1.5296019393430218, details={'was_impossible': False}),\n",
       " Prediction(uid=65237, iid=31698, r_ui=3.0, est=3.048402847622903, details={'was_impossible': False}),\n",
       " Prediction(uid=98334, iid=5647, r_ui=0.5, est=1.2526726952544311, details={'was_impossible': False}),\n",
       " Prediction(uid=122414, iid=57532, r_ui=1.0, est=2.952111590436859, details={'was_impossible': False}),\n",
       " Prediction(uid=63571, iid=6482, r_ui=2.5, est=2.5616743636394794, details={'was_impossible': False}),\n",
       " Prediction(uid=163073, iid=1760, r_ui=3.0, est=1.8486346867780779, details={'was_impossible': False}),\n",
       " Prediction(uid=174711, iid=1311, r_ui=1.0, est=1.3909712707096609, details={'was_impossible': False}),\n",
       " Prediction(uid=21372, iid=3593, r_ui=0.5, est=1.756846889092994, details={'was_impossible': False}),\n",
       " Prediction(uid=16225, iid=4255, r_ui=1.0, est=1.5855616879712537, details={'was_impossible': False}),\n",
       " Prediction(uid=242683, iid=50798, r_ui=1.0, est=1.2401237106599092, details={'was_impossible': False}),\n",
       " Prediction(uid=257029, iid=2383, r_ui=1.5, est=1.9466569632243398, details={'was_impossible': False}),\n",
       " Prediction(uid=171817, iid=2655, r_ui=1.0, est=1.7855915895998447, details={'was_impossible': False}),\n",
       " Prediction(uid=191325, iid=43919, r_ui=0.5, est=0.8825574070745151, details={'was_impossible': False}),\n",
       " Prediction(uid=203276, iid=61348, r_ui=2.0, est=1.3865493120873502, details={'was_impossible': False}),\n",
       " Prediction(uid=8313, iid=2386, r_ui=1.0, est=1.1648900726500873, details={'was_impossible': False}),\n",
       " ...]"
      ]
     },
     "execution_count": 154,
     "metadata": {},
     "output_type": "execute_result"
    }
   ],
   "source": [
    "predictions"
   ]
  },
  {
   "cell_type": "code",
   "execution_count": null,
   "metadata": {},
   "outputs": [],
   "source": []
  },
  {
   "cell_type": "code",
   "execution_count": 149,
   "metadata": {},
   "outputs": [
    {
     "name": "stdout",
     "output_type": "stream",
     "text": [
      "Estimating biases using als...\n",
      "Computing the pearson_baseline similarity matrix...\n",
      "Done computing similarity matrix.\n"
     ]
    },
    {
     "data": {
      "text/plain": [
       "<surprise.prediction_algorithms.knns.KNNBaseline at 0x11a1e1588>"
      ]
     },
     "execution_count": 149,
     "metadata": {},
     "output_type": "execute_result"
    }
   ],
   "source": [
    "sim_options = {'name': 'pearson_baseline', 'user_based': False}\n",
    "algo = KNNBaseline(k=40,sim_options=sim_options)\n",
    "algo.fit(train)"
   ]
  },
  {
   "cell_type": "code",
   "execution_count": 150,
   "metadata": {},
   "outputs": [
    {
     "name": "stdout",
     "output_type": "stream",
     "text": [
      "RMSE: 1.0517\n"
     ]
    },
    {
     "data": {
      "text/plain": [
       "1.051715769725699"
      ]
     },
     "execution_count": 150,
     "metadata": {},
     "output_type": "execute_result"
    }
   ],
   "source": [
    "knn_predictions = algo.test(test)\n",
    "accuracy.rmse(knn_predictions)"
   ]
  },
  {
   "cell_type": "code",
   "execution_count": 155,
   "metadata": {},
   "outputs": [],
   "source": [
    "algo1 = KNNBaseline()"
   ]
  },
  {
   "cell_type": "code",
   "execution_count": 156,
   "metadata": {},
   "outputs": [
    {
     "name": "stdout",
     "output_type": "stream",
     "text": [
      "Estimating biases using als...\n",
      "Computing the msd similarity matrix...\n",
      "Done computing similarity matrix.\n",
      "RMSE: 1.0255\n"
     ]
    },
    {
     "data": {
      "text/plain": [
       "1.0254548940449109"
      ]
     },
     "execution_count": 156,
     "metadata": {},
     "output_type": "execute_result"
    }
   ],
   "source": [
    "algo1.fit(train)\n",
    "knn1_predictions = algo1.test(test)\n",
    "accuracy.rmse(knn1_predictions)"
   ]
  },
  {
   "cell_type": "code",
   "execution_count": 160,
   "metadata": {},
   "outputs": [],
   "source": [
    "algo2 = KNNBaseline(k=30)"
   ]
  },
  {
   "cell_type": "code",
   "execution_count": 161,
   "metadata": {},
   "outputs": [
    {
     "name": "stdout",
     "output_type": "stream",
     "text": [
      "Estimating biases using als...\n",
      "Computing the msd similarity matrix...\n",
      "Done computing similarity matrix.\n",
      "RMSE: 1.0252\n"
     ]
    },
    {
     "data": {
      "text/plain": [
       "1.025218431688024"
      ]
     },
     "execution_count": 161,
     "metadata": {},
     "output_type": "execute_result"
    }
   ],
   "source": [
    "algo2.fit(train)\n",
    "knn2_predictions = algo2.test(test)\n",
    "accuracy.rmse(knn2_predictions)"
   ]
  },
  {
   "cell_type": "code",
   "execution_count": 183,
   "metadata": {},
   "outputs": [],
   "source": [
    "algo3 = KNNBaseline(k=29,sim_options=sim_options)"
   ]
  },
  {
   "cell_type": "code",
   "execution_count": 184,
   "metadata": {},
   "outputs": [
    {
     "name": "stdout",
     "output_type": "stream",
     "text": [
      "Estimating biases using als...\n",
      "Computing the msd similarity matrix...\n",
      "Done computing similarity matrix.\n",
      "RMSE: 1.0550\n"
     ]
    },
    {
     "data": {
      "text/plain": [
       "1.0549952693931341"
      ]
     },
     "execution_count": 184,
     "metadata": {},
     "output_type": "execute_result"
    }
   ],
   "source": [
    "algo3.fit(train)\n",
    "knn3_predictions = algo3.test(test)\n",
    "accuracy.rmse(knn3_predictions)"
   ]
  },
  {
   "cell_type": "code",
   "execution_count": 185,
   "metadata": {},
   "outputs": [],
   "source": [
    "sim_options = {'name': 'msd', 'user_based': True}\n",
    "algo4 = KNNBaseline(k=5,sim_options=sim_options)"
   ]
  },
  {
   "cell_type": "code",
   "execution_count": 186,
   "metadata": {},
   "outputs": [
    {
     "name": "stdout",
     "output_type": "stream",
     "text": [
      "Estimating biases using als...\n",
      "Computing the msd similarity matrix...\n"
     ]
    },
    {
     "ename": "KeyboardInterrupt",
     "evalue": "",
     "output_type": "error",
     "traceback": [
      "\u001b[0;31m---------------------------------------------------------------------------\u001b[0m",
      "\u001b[0;31mKeyboardInterrupt\u001b[0m                         Traceback (most recent call last)",
      "\u001b[0;32m<ipython-input-186-f7a6b74f904f>\u001b[0m in \u001b[0;36m<module>\u001b[0;34m\u001b[0m\n\u001b[0;32m----> 1\u001b[0;31m \u001b[0malgo4\u001b[0m\u001b[0;34m.\u001b[0m\u001b[0mfit\u001b[0m\u001b[0;34m(\u001b[0m\u001b[0mtrain\u001b[0m\u001b[0;34m)\u001b[0m\u001b[0;34m\u001b[0m\u001b[0;34m\u001b[0m\u001b[0m\n\u001b[0m\u001b[1;32m      2\u001b[0m \u001b[0mknn4_predictions\u001b[0m \u001b[0;34m=\u001b[0m \u001b[0malgo4\u001b[0m\u001b[0;34m.\u001b[0m\u001b[0mtest\u001b[0m\u001b[0;34m(\u001b[0m\u001b[0mtest\u001b[0m\u001b[0;34m)\u001b[0m\u001b[0;34m\u001b[0m\u001b[0;34m\u001b[0m\u001b[0m\n\u001b[1;32m      3\u001b[0m \u001b[0maccuracy\u001b[0m\u001b[0;34m.\u001b[0m\u001b[0mrmse\u001b[0m\u001b[0;34m(\u001b[0m\u001b[0mknn4_predictions\u001b[0m\u001b[0;34m)\u001b[0m\u001b[0;34m\u001b[0m\u001b[0;34m\u001b[0m\u001b[0m\n",
      "\u001b[0;32m/anaconda3/lib/python3.7/site-packages/surprise/prediction_algorithms/knns.py\u001b[0m in \u001b[0;36mfit\u001b[0;34m(self, trainset)\u001b[0m\n\u001b[1;32m    279\u001b[0m         \u001b[0mself\u001b[0m\u001b[0;34m.\u001b[0m\u001b[0mbu\u001b[0m\u001b[0;34m,\u001b[0m \u001b[0mself\u001b[0m\u001b[0;34m.\u001b[0m\u001b[0mbi\u001b[0m \u001b[0;34m=\u001b[0m \u001b[0mself\u001b[0m\u001b[0;34m.\u001b[0m\u001b[0mcompute_baselines\u001b[0m\u001b[0;34m(\u001b[0m\u001b[0;34m)\u001b[0m\u001b[0;34m\u001b[0m\u001b[0;34m\u001b[0m\u001b[0m\n\u001b[1;32m    280\u001b[0m         \u001b[0mself\u001b[0m\u001b[0;34m.\u001b[0m\u001b[0mbx\u001b[0m\u001b[0;34m,\u001b[0m \u001b[0mself\u001b[0m\u001b[0;34m.\u001b[0m\u001b[0mby\u001b[0m \u001b[0;34m=\u001b[0m \u001b[0mself\u001b[0m\u001b[0;34m.\u001b[0m\u001b[0mswitch\u001b[0m\u001b[0;34m(\u001b[0m\u001b[0mself\u001b[0m\u001b[0;34m.\u001b[0m\u001b[0mbu\u001b[0m\u001b[0;34m,\u001b[0m \u001b[0mself\u001b[0m\u001b[0;34m.\u001b[0m\u001b[0mbi\u001b[0m\u001b[0;34m)\u001b[0m\u001b[0;34m\u001b[0m\u001b[0;34m\u001b[0m\u001b[0m\n\u001b[0;32m--> 281\u001b[0;31m         \u001b[0mself\u001b[0m\u001b[0;34m.\u001b[0m\u001b[0msim\u001b[0m \u001b[0;34m=\u001b[0m \u001b[0mself\u001b[0m\u001b[0;34m.\u001b[0m\u001b[0mcompute_similarities\u001b[0m\u001b[0;34m(\u001b[0m\u001b[0;34m)\u001b[0m\u001b[0;34m\u001b[0m\u001b[0;34m\u001b[0m\u001b[0m\n\u001b[0m\u001b[1;32m    282\u001b[0m \u001b[0;34m\u001b[0m\u001b[0m\n\u001b[1;32m    283\u001b[0m         \u001b[0;32mreturn\u001b[0m \u001b[0mself\u001b[0m\u001b[0;34m\u001b[0m\u001b[0;34m\u001b[0m\u001b[0m\n",
      "\u001b[0;32m/anaconda3/lib/python3.7/site-packages/surprise/prediction_algorithms/algo_base.py\u001b[0m in \u001b[0;36mcompute_similarities\u001b[0;34m(self)\u001b[0m\n\u001b[1;32m    291\u001b[0m             \u001b[0;32mif\u001b[0m \u001b[0mself\u001b[0m\u001b[0;34m.\u001b[0m\u001b[0mverbose\u001b[0m\u001b[0;34m:\u001b[0m\u001b[0;34m\u001b[0m\u001b[0;34m\u001b[0m\u001b[0m\n\u001b[1;32m    292\u001b[0m                 \u001b[0mprint\u001b[0m\u001b[0;34m(\u001b[0m\u001b[0;34m'Computing the {0} similarity matrix...'\u001b[0m\u001b[0;34m.\u001b[0m\u001b[0mformat\u001b[0m\u001b[0;34m(\u001b[0m\u001b[0mname\u001b[0m\u001b[0;34m)\u001b[0m\u001b[0;34m)\u001b[0m\u001b[0;34m\u001b[0m\u001b[0;34m\u001b[0m\u001b[0m\n\u001b[0;32m--> 293\u001b[0;31m             \u001b[0msim\u001b[0m \u001b[0;34m=\u001b[0m \u001b[0mconstruction_func\u001b[0m\u001b[0;34m[\u001b[0m\u001b[0mname\u001b[0m\u001b[0;34m]\u001b[0m\u001b[0;34m(\u001b[0m\u001b[0;34m*\u001b[0m\u001b[0margs\u001b[0m\u001b[0;34m)\u001b[0m\u001b[0;34m\u001b[0m\u001b[0;34m\u001b[0m\u001b[0m\n\u001b[0m\u001b[1;32m    294\u001b[0m             \u001b[0;32mif\u001b[0m \u001b[0mself\u001b[0m\u001b[0;34m.\u001b[0m\u001b[0mverbose\u001b[0m\u001b[0;34m:\u001b[0m\u001b[0;34m\u001b[0m\u001b[0;34m\u001b[0m\u001b[0m\n\u001b[1;32m    295\u001b[0m                 \u001b[0mprint\u001b[0m\u001b[0;34m(\u001b[0m\u001b[0;34m'Done computing similarity matrix.'\u001b[0m\u001b[0;34m)\u001b[0m\u001b[0;34m\u001b[0m\u001b[0;34m\u001b[0m\u001b[0m\n",
      "\u001b[0;31mKeyboardInterrupt\u001b[0m: "
     ]
    }
   ],
   "source": [
    "algo4.fit(train)\n",
    "knn4_predictions = algo4.test(test)\n",
    "accuracy.rmse(knn4_predictions)"
   ]
  },
  {
   "cell_type": "code",
   "execution_count": 187,
   "metadata": {},
   "outputs": [
    {
     "name": "stdout",
     "output_type": "stream",
     "text": [
      "335k.csv                    final_model\r\n",
      "615k.csv                    first_ml_dataset.csv\r\n",
      "Data_Gathering.ipynb        good_bad_movie_list.csv\r\n",
      "EDA.ipynb                   goodbad.db\r\n",
      "Implementation.ipynb        gtag_test.csv\r\n",
      "README.md                   item_item_final.csv\r\n",
      "Recommender_Modeling.ipynb  item_item_test.csv\r\n",
      "SQL Import.ipynb            \u001b[34mml-latest\u001b[m\u001b[m/\r\n",
      "\u001b[34maverage\u001b[m\u001b[m/                    \u001b[34mward\u001b[m\u001b[m/\r\n"
     ]
    }
   ],
   "source": [
    "ls"
   ]
  },
  {
   "cell_type": "markdown",
   "metadata": {},
   "source": [
    "## Redoing everything with a new dataset"
   ]
  },
  {
   "cell_type": "code",
   "execution_count": 8,
   "metadata": {},
   "outputs": [
    {
     "data": {
      "text/html": [
       "<div>\n",
       "<style scoped>\n",
       "    .dataframe tbody tr th:only-of-type {\n",
       "        vertical-align: middle;\n",
       "    }\n",
       "\n",
       "    .dataframe tbody tr th {\n",
       "        vertical-align: top;\n",
       "    }\n",
       "\n",
       "    .dataframe thead th {\n",
       "        text-align: right;\n",
       "    }\n",
       "</style>\n",
       "<table border=\"1\" class=\"dataframe\">\n",
       "  <thead>\n",
       "    <tr style=\"text-align: right;\">\n",
       "      <th></th>\n",
       "      <th>Unnamed: 0</th>\n",
       "      <th>userId</th>\n",
       "      <th>movieId</th>\n",
       "      <th>rating</th>\n",
       "      <th>timestamp</th>\n",
       "    </tr>\n",
       "  </thead>\n",
       "  <tbody>\n",
       "    <tr>\n",
       "      <th>0</th>\n",
       "      <td>90</td>\n",
       "      <td>4</td>\n",
       "      <td>181</td>\n",
       "      <td>0.5</td>\n",
       "      <td>1127946789</td>\n",
       "    </tr>\n",
       "    <tr>\n",
       "      <th>1</th>\n",
       "      <td>296</td>\n",
       "      <td>4</td>\n",
       "      <td>1760</td>\n",
       "      <td>0.5</td>\n",
       "      <td>1114050751</td>\n",
       "    </tr>\n",
       "    <tr>\n",
       "      <th>2</th>\n",
       "      <td>341</td>\n",
       "      <td>4</td>\n",
       "      <td>2152</td>\n",
       "      <td>0.5</td>\n",
       "      <td>1115781964</td>\n",
       "    </tr>\n",
       "    <tr>\n",
       "      <th>3</th>\n",
       "      <td>417</td>\n",
       "      <td>4</td>\n",
       "      <td>2816</td>\n",
       "      <td>2.5</td>\n",
       "      <td>1123989912</td>\n",
       "    </tr>\n",
       "    <tr>\n",
       "      <th>4</th>\n",
       "      <td>466</td>\n",
       "      <td>4</td>\n",
       "      <td>3268</td>\n",
       "      <td>0.5</td>\n",
       "      <td>1114050659</td>\n",
       "    </tr>\n",
       "    <tr>\n",
       "      <th>5</th>\n",
       "      <td>484</td>\n",
       "      <td>4</td>\n",
       "      <td>3593</td>\n",
       "      <td>1.0</td>\n",
       "      <td>1115782046</td>\n",
       "    </tr>\n",
       "    <tr>\n",
       "      <th>6</th>\n",
       "      <td>757</td>\n",
       "      <td>4</td>\n",
       "      <td>42721</td>\n",
       "      <td>0.5</td>\n",
       "      <td>1145938348</td>\n",
       "    </tr>\n",
       "    <tr>\n",
       "      <th>7</th>\n",
       "      <td>1631</td>\n",
       "      <td>19</td>\n",
       "      <td>181</td>\n",
       "      <td>2.0</td>\n",
       "      <td>836433987</td>\n",
       "    </tr>\n",
       "    <tr>\n",
       "      <th>8</th>\n",
       "      <td>1657</td>\n",
       "      <td>19</td>\n",
       "      <td>286</td>\n",
       "      <td>3.0</td>\n",
       "      <td>849710700</td>\n",
       "    </tr>\n",
       "    <tr>\n",
       "      <th>9</th>\n",
       "      <td>1749</td>\n",
       "      <td>19</td>\n",
       "      <td>591</td>\n",
       "      <td>3.0</td>\n",
       "      <td>849710721</td>\n",
       "    </tr>\n",
       "    <tr>\n",
       "      <th>10</th>\n",
       "      <td>2636</td>\n",
       "      <td>38</td>\n",
       "      <td>3973</td>\n",
       "      <td>2.0</td>\n",
       "      <td>979581741</td>\n",
       "    </tr>\n",
       "    <tr>\n",
       "      <th>11</th>\n",
       "      <td>2655</td>\n",
       "      <td>38</td>\n",
       "      <td>4125</td>\n",
       "      <td>1.0</td>\n",
       "      <td>982853654</td>\n",
       "    </tr>\n",
       "    <tr>\n",
       "      <th>12</th>\n",
       "      <td>2711</td>\n",
       "      <td>39</td>\n",
       "      <td>1707</td>\n",
       "      <td>3.0</td>\n",
       "      <td>1077333478</td>\n",
       "    </tr>\n",
       "    <tr>\n",
       "      <th>13</th>\n",
       "      <td>3213</td>\n",
       "      <td>43</td>\n",
       "      <td>2807</td>\n",
       "      <td>1.0</td>\n",
       "      <td>1084491560</td>\n",
       "    </tr>\n",
       "    <tr>\n",
       "      <th>14</th>\n",
       "      <td>4450</td>\n",
       "      <td>54</td>\n",
       "      <td>810</td>\n",
       "      <td>3.0</td>\n",
       "      <td>868126354</td>\n",
       "    </tr>\n",
       "    <tr>\n",
       "      <th>15</th>\n",
       "      <td>4639</td>\n",
       "      <td>55</td>\n",
       "      <td>3054</td>\n",
       "      <td>0.5</td>\n",
       "      <td>1059057728</td>\n",
       "    </tr>\n",
       "    <tr>\n",
       "      <th>16</th>\n",
       "      <td>4690</td>\n",
       "      <td>55</td>\n",
       "      <td>4398</td>\n",
       "      <td>0.5</td>\n",
       "      <td>1059054897</td>\n",
       "    </tr>\n",
       "    <tr>\n",
       "      <th>17</th>\n",
       "      <td>5189</td>\n",
       "      <td>56</td>\n",
       "      <td>4255</td>\n",
       "      <td>3.5</td>\n",
       "      <td>1381372980</td>\n",
       "    </tr>\n",
       "    <tr>\n",
       "      <th>18</th>\n",
       "      <td>6455</td>\n",
       "      <td>72</td>\n",
       "      <td>90890</td>\n",
       "      <td>3.5</td>\n",
       "      <td>1459980875</td>\n",
       "    </tr>\n",
       "    <tr>\n",
       "      <th>19</th>\n",
       "      <td>6506</td>\n",
       "      <td>72</td>\n",
       "      <td>125916</td>\n",
       "      <td>0.5</td>\n",
       "      <td>1459979959</td>\n",
       "    </tr>\n",
       "    <tr>\n",
       "      <th>20</th>\n",
       "      <td>7119</td>\n",
       "      <td>75</td>\n",
       "      <td>125916</td>\n",
       "      <td>2.5</td>\n",
       "      <td>1511888779</td>\n",
       "    </tr>\n",
       "    <tr>\n",
       "      <th>21</th>\n",
       "      <td>7213</td>\n",
       "      <td>77</td>\n",
       "      <td>3799</td>\n",
       "      <td>4.0</td>\n",
       "      <td>1273189694</td>\n",
       "    </tr>\n",
       "    <tr>\n",
       "      <th>22</th>\n",
       "      <td>7215</td>\n",
       "      <td>77</td>\n",
       "      <td>43919</td>\n",
       "      <td>0.5</td>\n",
       "      <td>1273189819</td>\n",
       "    </tr>\n",
       "    <tr>\n",
       "      <th>23</th>\n",
       "      <td>7404</td>\n",
       "      <td>79</td>\n",
       "      <td>1760</td>\n",
       "      <td>4.0</td>\n",
       "      <td>1007913434</td>\n",
       "    </tr>\n",
       "    <tr>\n",
       "      <th>24</th>\n",
       "      <td>7975</td>\n",
       "      <td>81</td>\n",
       "      <td>3593</td>\n",
       "      <td>3.0</td>\n",
       "      <td>1432518868</td>\n",
       "    </tr>\n",
       "    <tr>\n",
       "      <th>25</th>\n",
       "      <td>8009</td>\n",
       "      <td>81</td>\n",
       "      <td>3973</td>\n",
       "      <td>0.5</td>\n",
       "      <td>1432519712</td>\n",
       "    </tr>\n",
       "    <tr>\n",
       "      <th>26</th>\n",
       "      <td>8332</td>\n",
       "      <td>81</td>\n",
       "      <td>31698</td>\n",
       "      <td>0.5</td>\n",
       "      <td>1432522213</td>\n",
       "    </tr>\n",
       "    <tr>\n",
       "      <th>27</th>\n",
       "      <td>8443</td>\n",
       "      <td>81</td>\n",
       "      <td>50806</td>\n",
       "      <td>0.5</td>\n",
       "      <td>1432522294</td>\n",
       "    </tr>\n",
       "    <tr>\n",
       "      <th>28</th>\n",
       "      <td>8551</td>\n",
       "      <td>81</td>\n",
       "      <td>61348</td>\n",
       "      <td>0.5</td>\n",
       "      <td>1432522522</td>\n",
       "    </tr>\n",
       "    <tr>\n",
       "      <th>29</th>\n",
       "      <td>8585</td>\n",
       "      <td>81</td>\n",
       "      <td>66808</td>\n",
       "      <td>3.5</td>\n",
       "      <td>1244671993</td>\n",
       "    </tr>\n",
       "  </tbody>\n",
       "</table>\n",
       "</div>"
      ],
      "text/plain": [
       "    Unnamed: 0  userId  movieId  rating   timestamp\n",
       "0           90       4      181     0.5  1127946789\n",
       "1          296       4     1760     0.5  1114050751\n",
       "2          341       4     2152     0.5  1115781964\n",
       "3          417       4     2816     2.5  1123989912\n",
       "4          466       4     3268     0.5  1114050659\n",
       "5          484       4     3593     1.0  1115782046\n",
       "6          757       4    42721     0.5  1145938348\n",
       "7         1631      19      181     2.0   836433987\n",
       "8         1657      19      286     3.0   849710700\n",
       "9         1749      19      591     3.0   849710721\n",
       "10        2636      38     3973     2.0   979581741\n",
       "11        2655      38     4125     1.0   982853654\n",
       "12        2711      39     1707     3.0  1077333478\n",
       "13        3213      43     2807     1.0  1084491560\n",
       "14        4450      54      810     3.0   868126354\n",
       "15        4639      55     3054     0.5  1059057728\n",
       "16        4690      55     4398     0.5  1059054897\n",
       "17        5189      56     4255     3.5  1381372980\n",
       "18        6455      72    90890     3.5  1459980875\n",
       "19        6506      72   125916     0.5  1459979959\n",
       "20        7119      75   125916     2.5  1511888779\n",
       "21        7213      77     3799     4.0  1273189694\n",
       "22        7215      77    43919     0.5  1273189819\n",
       "23        7404      79     1760     4.0  1007913434\n",
       "24        7975      81     3593     3.0  1432518868\n",
       "25        8009      81     3973     0.5  1432519712\n",
       "26        8332      81    31698     0.5  1432522213\n",
       "27        8443      81    50806     0.5  1432522294\n",
       "28        8551      81    61348     0.5  1432522522\n",
       "29        8585      81    66808     3.5  1244671993"
      ]
     },
     "execution_count": 8,
     "metadata": {},
     "output_type": "execute_result"
    }
   ],
   "source": [
    "df2 = pd.read_csv('item_item_final.csv')\n",
    "df2.head(30)"
   ]
  },
  {
   "cell_type": "code",
   "execution_count": 9,
   "metadata": {},
   "outputs": [],
   "source": [
    "df2.drop(['Unnamed: 0','timestamp'], inplace=True,axis=1)"
   ]
  },
  {
   "cell_type": "code",
   "execution_count": 10,
   "metadata": {},
   "outputs": [
    {
     "data": {
      "text/html": [
       "<div>\n",
       "<style scoped>\n",
       "    .dataframe tbody tr th:only-of-type {\n",
       "        vertical-align: middle;\n",
       "    }\n",
       "\n",
       "    .dataframe tbody tr th {\n",
       "        vertical-align: top;\n",
       "    }\n",
       "\n",
       "    .dataframe thead th {\n",
       "        text-align: right;\n",
       "    }\n",
       "</style>\n",
       "<table border=\"1\" class=\"dataframe\">\n",
       "  <thead>\n",
       "    <tr style=\"text-align: right;\">\n",
       "      <th></th>\n",
       "      <th>userId</th>\n",
       "      <th>movieId</th>\n",
       "      <th>rating</th>\n",
       "    </tr>\n",
       "  </thead>\n",
       "  <tbody>\n",
       "    <tr>\n",
       "      <th>0</th>\n",
       "      <td>4</td>\n",
       "      <td>181</td>\n",
       "      <td>0.5</td>\n",
       "    </tr>\n",
       "    <tr>\n",
       "      <th>1</th>\n",
       "      <td>4</td>\n",
       "      <td>1760</td>\n",
       "      <td>0.5</td>\n",
       "    </tr>\n",
       "    <tr>\n",
       "      <th>2</th>\n",
       "      <td>4</td>\n",
       "      <td>2152</td>\n",
       "      <td>0.5</td>\n",
       "    </tr>\n",
       "    <tr>\n",
       "      <th>3</th>\n",
       "      <td>4</td>\n",
       "      <td>2816</td>\n",
       "      <td>2.5</td>\n",
       "    </tr>\n",
       "    <tr>\n",
       "      <th>4</th>\n",
       "      <td>4</td>\n",
       "      <td>3268</td>\n",
       "      <td>0.5</td>\n",
       "    </tr>\n",
       "  </tbody>\n",
       "</table>\n",
       "</div>"
      ],
      "text/plain": [
       "   userId  movieId  rating\n",
       "0       4      181     0.5\n",
       "1       4     1760     0.5\n",
       "2       4     2152     0.5\n",
       "3       4     2816     2.5\n",
       "4       4     3268     0.5"
      ]
     },
     "execution_count": 10,
     "metadata": {},
     "output_type": "execute_result"
    }
   ],
   "source": [
    "df2.head()"
   ]
  },
  {
   "cell_type": "code",
   "execution_count": 12,
   "metadata": {},
   "outputs": [],
   "source": [
    "reader = Reader(rating_scale=(0.5, 5))\n",
    "data2 = Dataset.load_from_df(df2,reader)"
   ]
  },
  {
   "cell_type": "code",
   "execution_count": 13,
   "metadata": {},
   "outputs": [],
   "source": [
    "train2, test2 = train_test_split(data2, test_size=.2)"
   ]
  },
  {
   "cell_type": "markdown",
   "metadata": {},
   "source": [
    "### KNN Baseline"
   ]
  },
  {
   "cell_type": "code",
   "execution_count": 26,
   "metadata": {},
   "outputs": [],
   "source": [
    "sim_options = {'name': 'msd',\n",
    "               'min_support': 5,\n",
    "               'user_based': False}\n",
    "base1 = KNNBaseline(k=30,sim_options=sim_options)"
   ]
  },
  {
   "cell_type": "code",
   "execution_count": 21,
   "metadata": {},
   "outputs": [
    {
     "name": "stdout",
     "output_type": "stream",
     "text": [
      "Estimating biases using als...\n",
      "Computing the msd similarity matrix...\n",
      "Done computing similarity matrix.\n",
      "RMSE: 1.0197\n"
     ]
    },
    {
     "data": {
      "text/plain": [
       "1.0196939903010263"
      ]
     },
     "execution_count": 21,
     "metadata": {},
     "output_type": "execute_result"
    }
   ],
   "source": [
    "base1.fit(train2)\n",
    "base1_preds = base1.test(test2)\n",
    "accuracy.rmse(base1_preds)"
   ]
  },
  {
   "cell_type": "code",
   "execution_count": 22,
   "metadata": {},
   "outputs": [],
   "source": [
    "sim_options = {'name': 'cosine',\n",
    "               'min_support': 5,\n",
    "               'user_based': False}\n",
    "base2 = KNNBaseline(k=30,sim_options=sim_options)"
   ]
  },
  {
   "cell_type": "code",
   "execution_count": 23,
   "metadata": {},
   "outputs": [
    {
     "name": "stdout",
     "output_type": "stream",
     "text": [
      "Estimating biases using als...\n",
      "Computing the cosine similarity matrix...\n",
      "Done computing similarity matrix.\n",
      "RMSE: 1.0241\n"
     ]
    },
    {
     "data": {
      "text/plain": [
       "1.024058366731553"
      ]
     },
     "execution_count": 23,
     "metadata": {},
     "output_type": "execute_result"
    }
   ],
   "source": [
    "base2.fit(train2)\n",
    "base2_preds = base2.test(test2)\n",
    "accuracy.rmse(base2_preds)"
   ]
  },
  {
   "cell_type": "code",
   "execution_count": 27,
   "metadata": {},
   "outputs": [],
   "source": [
    "sim_options = {'name': 'pearson_baseline',\n",
    "               'min_support': 5,\n",
    "               'user_based': False}\n",
    "base3 = KNNBaseline(k=30,sim_options=sim_options)"
   ]
  },
  {
   "cell_type": "code",
   "execution_count": 28,
   "metadata": {},
   "outputs": [
    {
     "name": "stdout",
     "output_type": "stream",
     "text": [
      "Estimating biases using als...\n",
      "Computing the pearson_baseline similarity matrix...\n",
      "Done computing similarity matrix.\n",
      "RMSE: 1.0098\n"
     ]
    },
    {
     "data": {
      "text/plain": [
       "1.0098460059651595"
      ]
     },
     "execution_count": 28,
     "metadata": {},
     "output_type": "execute_result"
    }
   ],
   "source": [
    "base3.fit(train2)\n",
    "base3_preds = base3.test(test2)\n",
    "accuracy.rmse(base3_preds)"
   ]
  },
  {
   "cell_type": "code",
   "execution_count": 31,
   "metadata": {},
   "outputs": [],
   "source": [
    "sim_options = {'name': 'pearson_baseline',\n",
    "               'min_support': 5,\n",
    "               'user_based': False}\n",
    "base4 = KNNBaseline(k=35,sim_options=sim_options)"
   ]
  },
  {
   "cell_type": "code",
   "execution_count": 32,
   "metadata": {},
   "outputs": [
    {
     "name": "stdout",
     "output_type": "stream",
     "text": [
      "Estimating biases using als...\n",
      "Computing the pearson_baseline similarity matrix...\n",
      "Done computing similarity matrix.\n",
      "RMSE: 1.0098\n"
     ]
    },
    {
     "data": {
      "text/plain": [
       "1.0098252215921415"
      ]
     },
     "execution_count": 32,
     "metadata": {},
     "output_type": "execute_result"
    }
   ],
   "source": [
    "base4.fit(train2)\n",
    "base4_preds = base4.test(test2)\n",
    "accuracy.rmse(base4_preds)"
   ]
  },
  {
   "cell_type": "code",
   "execution_count": 33,
   "metadata": {},
   "outputs": [],
   "source": [
    "sim_options = {'name': 'pearson_baseline',\n",
    "               'min_support': 5,\n",
    "               'user_based': False}\n",
    "base5 = KNNBaseline(k=40,sim_options=sim_options)"
   ]
  },
  {
   "cell_type": "code",
   "execution_count": 34,
   "metadata": {},
   "outputs": [
    {
     "name": "stdout",
     "output_type": "stream",
     "text": [
      "Estimating biases using als...\n",
      "Computing the pearson_baseline similarity matrix...\n",
      "Done computing similarity matrix.\n",
      "RMSE: 1.0098\n"
     ]
    },
    {
     "data": {
      "text/plain": [
       "1.0098465914432893"
      ]
     },
     "execution_count": 34,
     "metadata": {},
     "output_type": "execute_result"
    }
   ],
   "source": [
    "base5.fit(train2)\n",
    "base5_preds = base5.test(test2)\n",
    "accuracy.rmse(base5_preds)"
   ]
  },
  {
   "cell_type": "code",
   "execution_count": 49,
   "metadata": {},
   "outputs": [],
   "source": [
    "sim_options = {'name': 'pearson_baseline',\n",
    "               'min_support': 5,\n",
    "               'user_based': False}\n",
    "base6 = KNNBaseline(k=39,sim_options=sim_options)"
   ]
  },
  {
   "cell_type": "code",
   "execution_count": 50,
   "metadata": {},
   "outputs": [
    {
     "name": "stdout",
     "output_type": "stream",
     "text": [
      "Estimating biases using als...\n",
      "Computing the pearson_baseline similarity matrix...\n",
      "Done computing similarity matrix.\n",
      "RMSE: 1.0098\n"
     ]
    },
    {
     "data": {
      "text/plain": [
       "1.0098372002372284"
      ]
     },
     "execution_count": 50,
     "metadata": {},
     "output_type": "execute_result"
    }
   ],
   "source": [
    "base6.fit(train2)\n",
    "base6_preds = base6.test(test2)\n",
    "accuracy.rmse(base6_preds)"
   ]
  },
  {
   "cell_type": "code",
   "execution_count": 51,
   "metadata": {},
   "outputs": [],
   "source": [
    "sim_options = {'name': 'pearson_baseline',\n",
    "               'min_support': 5,\n",
    "               'user_based': False}\n",
    "base7 = KNNBaseline(k=37,sim_options=sim_options)"
   ]
  },
  {
   "cell_type": "code",
   "execution_count": 52,
   "metadata": {},
   "outputs": [
    {
     "name": "stdout",
     "output_type": "stream",
     "text": [
      "Estimating biases using als...\n",
      "Computing the pearson_baseline similarity matrix...\n",
      "Done computing similarity matrix.\n",
      "RMSE: 1.0098\n"
     ]
    },
    {
     "data": {
      "text/plain": [
       "1.0098314020112866"
      ]
     },
     "execution_count": 52,
     "metadata": {},
     "output_type": "execute_result"
    }
   ],
   "source": [
    "base7.fit(train2)\n",
    "base7_preds = base7.test(test2)\n",
    "accuracy.rmse(base7_preds)"
   ]
  },
  {
   "cell_type": "code",
   "execution_count": 53,
   "metadata": {},
   "outputs": [],
   "source": [
    "sim_options = {'name': 'pearson_baseline',\n",
    "               'min_support': 5,\n",
    "               'user_based': False}\n",
    "base8 = KNNBaseline(k=36,sim_options=sim_options)"
   ]
  },
  {
   "cell_type": "code",
   "execution_count": 54,
   "metadata": {},
   "outputs": [
    {
     "name": "stdout",
     "output_type": "stream",
     "text": [
      "Estimating biases using als...\n",
      "Computing the pearson_baseline similarity matrix...\n",
      "Done computing similarity matrix.\n",
      "RMSE: 1.0098\n"
     ]
    },
    {
     "data": {
      "text/plain": [
       "1.0098283820135368"
      ]
     },
     "execution_count": 54,
     "metadata": {},
     "output_type": "execute_result"
    }
   ],
   "source": [
    "base8.fit(train2)\n",
    "base8_preds = base8.test(test2)\n",
    "accuracy.rmse(base8_preds)"
   ]
  },
  {
   "cell_type": "code",
   "execution_count": 55,
   "metadata": {},
   "outputs": [],
   "source": [
    "sim_options = {'name': 'pearson_baseline',\n",
    "               'min_support': 5,\n",
    "               'user_based': False}\n",
    "base9 = KNNBaseline(k=33,sim_options=sim_options)"
   ]
  },
  {
   "cell_type": "code",
   "execution_count": 56,
   "metadata": {},
   "outputs": [
    {
     "name": "stdout",
     "output_type": "stream",
     "text": [
      "Estimating biases using als...\n",
      "Computing the pearson_baseline similarity matrix...\n",
      "Done computing similarity matrix.\n",
      "RMSE: 1.0098\n"
     ]
    },
    {
     "data": {
      "text/plain": [
       "1.0098364010834906"
      ]
     },
     "execution_count": 56,
     "metadata": {},
     "output_type": "execute_result"
    }
   ],
   "source": [
    "base9.fit(train2)\n",
    "base9_preds = base9.test(test2)\n",
    "accuracy.rmse(base9_preds)"
   ]
  },
  {
   "cell_type": "code",
   "execution_count": 57,
   "metadata": {},
   "outputs": [],
   "source": [
    "sim_options = {'name': 'pearson_baseline',\n",
    "               'min_support': 5,\n",
    "               'user_based': False}\n",
    "base10 = KNNBaseline(k=10,sim_options=sim_options)"
   ]
  },
  {
   "cell_type": "code",
   "execution_count": 58,
   "metadata": {},
   "outputs": [
    {
     "name": "stdout",
     "output_type": "stream",
     "text": [
      "Estimating biases using als...\n",
      "Computing the pearson_baseline similarity matrix...\n",
      "Done computing similarity matrix.\n",
      "RMSE: 1.0099\n"
     ]
    },
    {
     "data": {
      "text/plain": [
       "1.0098848285440225"
      ]
     },
     "execution_count": 58,
     "metadata": {},
     "output_type": "execute_result"
    }
   ],
   "source": [
    "base10.fit(train2)\n",
    "base10_preds = base10.test(test2)\n",
    "accuracy.rmse(base10_preds)"
   ]
  },
  {
   "cell_type": "code",
   "execution_count": 59,
   "metadata": {},
   "outputs": [],
   "source": [
    "sim_options = {'name': 'pearson_baseline',\n",
    "               'min_support': 5,\n",
    "               'user_based': False}\n",
    "base11 = KNNBaseline(k=20,sim_options=sim_options)"
   ]
  },
  {
   "cell_type": "code",
   "execution_count": 60,
   "metadata": {},
   "outputs": [
    {
     "name": "stdout",
     "output_type": "stream",
     "text": [
      "Estimating biases using als...\n",
      "Computing the pearson_baseline similarity matrix...\n",
      "Done computing similarity matrix.\n",
      "RMSE: 1.0098\n"
     ]
    },
    {
     "data": {
      "text/plain": [
       "1.0098036979411174"
      ]
     },
     "execution_count": 60,
     "metadata": {},
     "output_type": "execute_result"
    }
   ],
   "source": [
    "base11.fit(train2)\n",
    "base11_preds = base11.test(test2)\n",
    "accuracy.rmse(base11_preds)"
   ]
  },
  {
   "cell_type": "code",
   "execution_count": 61,
   "metadata": {},
   "outputs": [],
   "source": [
    "sim_options = {'name': 'pearson_baseline',\n",
    "               'min_support': 5,\n",
    "               'user_based': False}\n",
    "base12 = KNNBaseline(k=25,sim_options=sim_options)"
   ]
  },
  {
   "cell_type": "code",
   "execution_count": 62,
   "metadata": {},
   "outputs": [
    {
     "name": "stdout",
     "output_type": "stream",
     "text": [
      "Estimating biases using als...\n",
      "Computing the pearson_baseline similarity matrix...\n",
      "Done computing similarity matrix.\n",
      "RMSE: 1.0099\n"
     ]
    },
    {
     "data": {
      "text/plain": [
       "1.0098544168866566"
      ]
     },
     "execution_count": 62,
     "metadata": {},
     "output_type": "execute_result"
    }
   ],
   "source": [
    "base12.fit(train2)\n",
    "base12_preds = base12.test(test2)\n",
    "accuracy.rmse(base12_preds)"
   ]
  },
  {
   "cell_type": "code",
   "execution_count": 63,
   "metadata": {},
   "outputs": [],
   "source": [
    "sim_options = {'name': 'pearson_baseline',\n",
    "               'min_support': 5,\n",
    "               'user_based': False}\n",
    "base13 = KNNBaseline(k=21,sim_options=sim_options)"
   ]
  },
  {
   "cell_type": "code",
   "execution_count": 64,
   "metadata": {},
   "outputs": [
    {
     "name": "stdout",
     "output_type": "stream",
     "text": [
      "Estimating biases using als...\n",
      "Computing the pearson_baseline similarity matrix...\n",
      "Done computing similarity matrix.\n",
      "RMSE: 1.0098\n"
     ]
    },
    {
     "data": {
      "text/plain": [
       "1.009794033164408"
      ]
     },
     "execution_count": 64,
     "metadata": {},
     "output_type": "execute_result"
    }
   ],
   "source": [
    "base13.fit(train2)\n",
    "base13_preds = base13.test(test2)\n",
    "accuracy.rmse(base13_preds)"
   ]
  },
  {
   "cell_type": "markdown",
   "metadata": {},
   "source": [
    "### BEST MODEL ^^^^^^^^"
   ]
  },
  {
   "cell_type": "code",
   "execution_count": 67,
   "metadata": {},
   "outputs": [],
   "source": [
    "sim_options = {'name': 'pearson_baseline',\n",
    "               'min_support': 5,\n",
    "               'user_based': False}\n",
    "base14 = KNNBaseline(k=22,sim_options=sim_options)"
   ]
  },
  {
   "cell_type": "code",
   "execution_count": 68,
   "metadata": {},
   "outputs": [
    {
     "name": "stdout",
     "output_type": "stream",
     "text": [
      "Estimating biases using als...\n",
      "Computing the pearson_baseline similarity matrix...\n",
      "Done computing similarity matrix.\n",
      "RMSE: 1.0098\n"
     ]
    },
    {
     "data": {
      "text/plain": [
       "1.009816116980724"
      ]
     },
     "execution_count": 68,
     "metadata": {},
     "output_type": "execute_result"
    }
   ],
   "source": [
    "base14.fit(train2)\n",
    "base14_preds = base14.test(test2)\n",
    "accuracy.rmse(base14_preds)"
   ]
  },
  {
   "cell_type": "code",
   "execution_count": null,
   "metadata": {},
   "outputs": [],
   "source": []
  },
  {
   "cell_type": "code",
   "execution_count": null,
   "metadata": {},
   "outputs": [],
   "source": []
  },
  {
   "cell_type": "markdown",
   "metadata": {},
   "source": [
    "### KNNMeans"
   ]
  },
  {
   "cell_type": "code",
   "execution_count": 38,
   "metadata": {},
   "outputs": [],
   "source": [
    "sim_options = {'name': 'msd',\n",
    "               'min_support': 5,\n",
    "               'user_based': False}\n",
    "means1 = KNNWithMeans(k=30,sim_options=sim_options)"
   ]
  },
  {
   "cell_type": "code",
   "execution_count": 36,
   "metadata": {},
   "outputs": [
    {
     "name": "stdout",
     "output_type": "stream",
     "text": [
      "Computing the msd similarity matrix...\n",
      "Done computing similarity matrix.\n",
      "RMSE: 1.0294\n"
     ]
    },
    {
     "data": {
      "text/plain": [
       "1.0294320120270934"
      ]
     },
     "execution_count": 36,
     "metadata": {},
     "output_type": "execute_result"
    }
   ],
   "source": [
    "means1.fit(train2)\n",
    "means1_preds = means1.test(test2)\n",
    "accuracy.rmse(means1_preds)"
   ]
  },
  {
   "cell_type": "code",
   "execution_count": 39,
   "metadata": {},
   "outputs": [],
   "source": [
    "sim_options = {'name': 'cosine',\n",
    "               'min_support': 5,\n",
    "               'user_based': False}\n",
    "means2 = KNNWithMeans(k=30,sim_options=sim_options)"
   ]
  },
  {
   "cell_type": "code",
   "execution_count": 40,
   "metadata": {},
   "outputs": [
    {
     "name": "stdout",
     "output_type": "stream",
     "text": [
      "Computing the cosine similarity matrix...\n",
      "Done computing similarity matrix.\n",
      "RMSE: 1.0337\n"
     ]
    },
    {
     "data": {
      "text/plain": [
       "1.0337170543942928"
      ]
     },
     "execution_count": 40,
     "metadata": {},
     "output_type": "execute_result"
    }
   ],
   "source": [
    "means2.fit(train2)\n",
    "means2_preds = means2.test(test2)\n",
    "accuracy.rmse(means2_preds)"
   ]
  },
  {
   "cell_type": "code",
   "execution_count": 41,
   "metadata": {},
   "outputs": [],
   "source": [
    "sim_options = {'name': 'pearson_baseline',\n",
    "               'min_support': 5,\n",
    "               'user_based': False}\n",
    "means3 = KNNWithMeans(k=30,sim_options=sim_options)"
   ]
  },
  {
   "cell_type": "code",
   "execution_count": 42,
   "metadata": {},
   "outputs": [
    {
     "name": "stdout",
     "output_type": "stream",
     "text": [
      "Estimating biases using als...\n",
      "Computing the pearson_baseline similarity matrix...\n",
      "Done computing similarity matrix.\n",
      "RMSE: 1.0203\n"
     ]
    },
    {
     "data": {
      "text/plain": [
       "1.0203067696333434"
      ]
     },
     "execution_count": 42,
     "metadata": {},
     "output_type": "execute_result"
    }
   ],
   "source": [
    "means3.fit(train2)\n",
    "means3_preds = means3.test(test2)\n",
    "accuracy.rmse(means3_preds)"
   ]
  },
  {
   "cell_type": "markdown",
   "metadata": {},
   "source": [
    "### KNN Basic"
   ]
  },
  {
   "cell_type": "code",
   "execution_count": 43,
   "metadata": {},
   "outputs": [],
   "source": [
    "sim_options = {'name': 'msd',\n",
    "               'min_support': 5,\n",
    "               'user_based': False}\n",
    "basic1 = KNNBasic(k=30,sim_options=sim_options)"
   ]
  },
  {
   "cell_type": "code",
   "execution_count": 44,
   "metadata": {},
   "outputs": [
    {
     "name": "stdout",
     "output_type": "stream",
     "text": [
      "Computing the msd similarity matrix...\n",
      "Done computing similarity matrix.\n",
      "RMSE: 1.0450\n"
     ]
    },
    {
     "data": {
      "text/plain": [
       "1.045005286085737"
      ]
     },
     "execution_count": 44,
     "metadata": {},
     "output_type": "execute_result"
    }
   ],
   "source": [
    "basic1.fit(train2)\n",
    "basic1_preds = basic1.test(test2)\n",
    "accuracy.rmse(basic1_preds)"
   ]
  },
  {
   "cell_type": "code",
   "execution_count": 45,
   "metadata": {},
   "outputs": [],
   "source": [
    "sim_options = {'name': 'cosine',\n",
    "               'min_support': 5,\n",
    "               'user_based': False}\n",
    "basic2 = KNNBasic(k=30,sim_options=sim_options)"
   ]
  },
  {
   "cell_type": "code",
   "execution_count": 46,
   "metadata": {},
   "outputs": [
    {
     "name": "stdout",
     "output_type": "stream",
     "text": [
      "Computing the cosine similarity matrix...\n",
      "Done computing similarity matrix.\n",
      "RMSE: 1.0508\n"
     ]
    },
    {
     "data": {
      "text/plain": [
       "1.0508391483421877"
      ]
     },
     "execution_count": 46,
     "metadata": {},
     "output_type": "execute_result"
    }
   ],
   "source": [
    "basic2.fit(train2)\n",
    "basic2_preds = basic2.test(test2)\n",
    "accuracy.rmse(basic2_preds)"
   ]
  },
  {
   "cell_type": "code",
   "execution_count": 47,
   "metadata": {},
   "outputs": [],
   "source": [
    "sim_options = {'name': 'pearson_baseline',\n",
    "               'min_support': 5,\n",
    "               'user_based': False}\n",
    "basic3 = KNNBasic(k=30,sim_options=sim_options)"
   ]
  },
  {
   "cell_type": "code",
   "execution_count": 48,
   "metadata": {},
   "outputs": [
    {
     "name": "stdout",
     "output_type": "stream",
     "text": [
      "Estimating biases using als...\n",
      "Computing the pearson_baseline similarity matrix...\n",
      "Done computing similarity matrix.\n",
      "RMSE: 1.0352\n"
     ]
    },
    {
     "data": {
      "text/plain": [
       "1.035231088637645"
      ]
     },
     "execution_count": 48,
     "metadata": {},
     "output_type": "execute_result"
    }
   ],
   "source": [
    "basic3.fit(train2)\n",
    "basic3_preds = basic3.test(test2)\n",
    "accuracy.rmse(basic3_preds)"
   ]
  },
  {
   "cell_type": "code",
   "execution_count": null,
   "metadata": {},
   "outputs": [],
   "source": []
  },
  {
   "cell_type": "code",
   "execution_count": null,
   "metadata": {},
   "outputs": [],
   "source": []
  },
  {
   "cell_type": "code",
   "execution_count": null,
   "metadata": {},
   "outputs": [],
   "source": []
  },
  {
   "cell_type": "code",
   "execution_count": null,
   "metadata": {},
   "outputs": [],
   "source": []
  }
 ],
 "metadata": {
  "kernelspec": {
   "display_name": "Python 3",
   "language": "python",
   "name": "python3"
  },
  "language_info": {
   "codemirror_mode": {
    "name": "ipython",
    "version": 3
   },
   "file_extension": ".py",
   "mimetype": "text/x-python",
   "name": "python",
   "nbconvert_exporter": "python",
   "pygments_lexer": "ipython3",
   "version": "3.7.1"
  }
 },
 "nbformat": 4,
 "nbformat_minor": 2
}
