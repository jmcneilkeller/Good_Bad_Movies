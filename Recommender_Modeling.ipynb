{
 "cells": [
  {
   "cell_type": "markdown",
   "metadata": {},
   "source": [
    "## 1. Importing libraries"
   ]
  },
  {
   "cell_type": "code",
   "execution_count": 1,
   "metadata": {},
   "outputs": [],
   "source": [
    "import numpy as np\n",
    "import pandas as pd\n",
    "from surprise import Dataset, Reader, evaluate, accuracy, dump, get_dataset_dir\n",
    "from surprise.model_selection import cross_validate, train_test_split\n",
    "from surprise.model_selection import GridSearchCV\n",
    "from surprise import SVD, NMF, KNNBasic, KNNWithMeans, KNNBaseline, KNNWithZScore\n",
    "from surprise import SlopeOne, SVDpp, NormalPredictor, BaselineOnly, CoClustering"
   ]
  },
  {
   "cell_type": "code",
   "execution_count": 2,
   "metadata": {},
   "outputs": [],
   "source": [
    "import io"
   ]
  },
  {
   "cell_type": "code",
   "execution_count": 3,
   "metadata": {},
   "outputs": [],
   "source": [
    "from tqdm import tqdm_notebook as tqdm"
   ]
  },
  {
   "cell_type": "markdown",
   "metadata": {},
   "source": [
    "## 2. Importing dataset"
   ]
  },
  {
   "cell_type": "code",
   "execution_count": 4,
   "metadata": {},
   "outputs": [
    {
     "data": {
      "text/html": [
       "<div>\n",
       "<style scoped>\n",
       "    .dataframe tbody tr th:only-of-type {\n",
       "        vertical-align: middle;\n",
       "    }\n",
       "\n",
       "    .dataframe tbody tr th {\n",
       "        vertical-align: top;\n",
       "    }\n",
       "\n",
       "    .dataframe thead th {\n",
       "        text-align: right;\n",
       "    }\n",
       "</style>\n",
       "<table border=\"1\" class=\"dataframe\">\n",
       "  <thead>\n",
       "    <tr style=\"text-align: right;\">\n",
       "      <th></th>\n",
       "      <th>Unnamed: 0</th>\n",
       "      <th>userId</th>\n",
       "      <th>movieId</th>\n",
       "      <th>rating</th>\n",
       "      <th>timestamp</th>\n",
       "    </tr>\n",
       "  </thead>\n",
       "  <tbody>\n",
       "    <tr>\n",
       "      <th>0</th>\n",
       "      <td>66</td>\n",
       "      <td>4</td>\n",
       "      <td>66</td>\n",
       "      <td>0.5</td>\n",
       "      <td>1145937915</td>\n",
       "    </tr>\n",
       "    <tr>\n",
       "      <th>1</th>\n",
       "      <td>90</td>\n",
       "      <td>4</td>\n",
       "      <td>181</td>\n",
       "      <td>0.5</td>\n",
       "      <td>1127946789</td>\n",
       "    </tr>\n",
       "    <tr>\n",
       "      <th>2</th>\n",
       "      <td>93</td>\n",
       "      <td>4</td>\n",
       "      <td>193</td>\n",
       "      <td>0.5</td>\n",
       "      <td>1113766123</td>\n",
       "    </tr>\n",
       "    <tr>\n",
       "      <th>3</th>\n",
       "      <td>159</td>\n",
       "      <td>4</td>\n",
       "      <td>546</td>\n",
       "      <td>0.5</td>\n",
       "      <td>1115782390</td>\n",
       "    </tr>\n",
       "    <tr>\n",
       "      <th>4</th>\n",
       "      <td>296</td>\n",
       "      <td>4</td>\n",
       "      <td>1760</td>\n",
       "      <td>0.5</td>\n",
       "      <td>1114050751</td>\n",
       "    </tr>\n",
       "    <tr>\n",
       "      <th>5</th>\n",
       "      <td>341</td>\n",
       "      <td>4</td>\n",
       "      <td>2152</td>\n",
       "      <td>0.5</td>\n",
       "      <td>1115781964</td>\n",
       "    </tr>\n",
       "    <tr>\n",
       "      <th>6</th>\n",
       "      <td>363</td>\n",
       "      <td>4</td>\n",
       "      <td>2381</td>\n",
       "      <td>0.5</td>\n",
       "      <td>1135543160</td>\n",
       "    </tr>\n",
       "    <tr>\n",
       "      <th>7</th>\n",
       "      <td>371</td>\n",
       "      <td>4</td>\n",
       "      <td>2450</td>\n",
       "      <td>0.5</td>\n",
       "      <td>1113796599</td>\n",
       "    </tr>\n",
       "    <tr>\n",
       "      <th>8</th>\n",
       "      <td>417</td>\n",
       "      <td>4</td>\n",
       "      <td>2816</td>\n",
       "      <td>2.5</td>\n",
       "      <td>1123989912</td>\n",
       "    </tr>\n",
       "    <tr>\n",
       "      <th>9</th>\n",
       "      <td>466</td>\n",
       "      <td>4</td>\n",
       "      <td>3268</td>\n",
       "      <td>0.5</td>\n",
       "      <td>1114050659</td>\n",
       "    </tr>\n",
       "    <tr>\n",
       "      <th>10</th>\n",
       "      <td>484</td>\n",
       "      <td>4</td>\n",
       "      <td>3593</td>\n",
       "      <td>1.0</td>\n",
       "      <td>1115782046</td>\n",
       "    </tr>\n",
       "    <tr>\n",
       "      <th>11</th>\n",
       "      <td>524</td>\n",
       "      <td>4</td>\n",
       "      <td>3997</td>\n",
       "      <td>2.0</td>\n",
       "      <td>1113766387</td>\n",
       "    </tr>\n",
       "    <tr>\n",
       "      <th>12</th>\n",
       "      <td>757</td>\n",
       "      <td>4</td>\n",
       "      <td>42721</td>\n",
       "      <td>0.5</td>\n",
       "      <td>1145938348</td>\n",
       "    </tr>\n",
       "    <tr>\n",
       "      <th>13</th>\n",
       "      <td>1631</td>\n",
       "      <td>19</td>\n",
       "      <td>181</td>\n",
       "      <td>2.0</td>\n",
       "      <td>836433987</td>\n",
       "    </tr>\n",
       "    <tr>\n",
       "      <th>14</th>\n",
       "      <td>1657</td>\n",
       "      <td>19</td>\n",
       "      <td>286</td>\n",
       "      <td>3.0</td>\n",
       "      <td>849710700</td>\n",
       "    </tr>\n",
       "    <tr>\n",
       "      <th>15</th>\n",
       "      <td>1693</td>\n",
       "      <td>19</td>\n",
       "      <td>393</td>\n",
       "      <td>3.0</td>\n",
       "      <td>849710707</td>\n",
       "    </tr>\n",
       "    <tr>\n",
       "      <th>16</th>\n",
       "      <td>1739</td>\n",
       "      <td>19</td>\n",
       "      <td>546</td>\n",
       "      <td>3.0</td>\n",
       "      <td>849620598</td>\n",
       "    </tr>\n",
       "    <tr>\n",
       "      <th>17</th>\n",
       "      <td>1749</td>\n",
       "      <td>19</td>\n",
       "      <td>591</td>\n",
       "      <td>3.0</td>\n",
       "      <td>849710721</td>\n",
       "    </tr>\n",
       "    <tr>\n",
       "      <th>18</th>\n",
       "      <td>1773</td>\n",
       "      <td>19</td>\n",
       "      <td>737</td>\n",
       "      <td>3.0</td>\n",
       "      <td>836845026</td>\n",
       "    </tr>\n",
       "    <tr>\n",
       "      <th>19</th>\n",
       "      <td>1813</td>\n",
       "      <td>19</td>\n",
       "      <td>1170</td>\n",
       "      <td>3.0</td>\n",
       "      <td>849710721</td>\n",
       "    </tr>\n",
       "    <tr>\n",
       "      <th>20</th>\n",
       "      <td>1895</td>\n",
       "      <td>23</td>\n",
       "      <td>193</td>\n",
       "      <td>1.0</td>\n",
       "      <td>1193667802</td>\n",
       "    </tr>\n",
       "    <tr>\n",
       "      <th>21</th>\n",
       "      <td>1943</td>\n",
       "      <td>26</td>\n",
       "      <td>546</td>\n",
       "      <td>3.0</td>\n",
       "      <td>1225232084</td>\n",
       "    </tr>\n",
       "    <tr>\n",
       "      <th>22</th>\n",
       "      <td>2191</td>\n",
       "      <td>33</td>\n",
       "      <td>737</td>\n",
       "      <td>1.0</td>\n",
       "      <td>1187074082</td>\n",
       "    </tr>\n",
       "    <tr>\n",
       "      <th>23</th>\n",
       "      <td>2636</td>\n",
       "      <td>38</td>\n",
       "      <td>3973</td>\n",
       "      <td>2.0</td>\n",
       "      <td>979581741</td>\n",
       "    </tr>\n",
       "    <tr>\n",
       "      <th>24</th>\n",
       "      <td>2654</td>\n",
       "      <td>38</td>\n",
       "      <td>4124</td>\n",
       "      <td>3.0</td>\n",
       "      <td>982853654</td>\n",
       "    </tr>\n",
       "    <tr>\n",
       "      <th>25</th>\n",
       "      <td>2655</td>\n",
       "      <td>38</td>\n",
       "      <td>4125</td>\n",
       "      <td>1.0</td>\n",
       "      <td>982853654</td>\n",
       "    </tr>\n",
       "    <tr>\n",
       "      <th>26</th>\n",
       "      <td>2681</td>\n",
       "      <td>39</td>\n",
       "      <td>393</td>\n",
       "      <td>2.0</td>\n",
       "      <td>1077333349</td>\n",
       "    </tr>\n",
       "    <tr>\n",
       "      <th>27</th>\n",
       "      <td>2704</td>\n",
       "      <td>39</td>\n",
       "      <td>1556</td>\n",
       "      <td>2.0</td>\n",
       "      <td>1077333437</td>\n",
       "    </tr>\n",
       "    <tr>\n",
       "      <th>28</th>\n",
       "      <td>2709</td>\n",
       "      <td>39</td>\n",
       "      <td>1681</td>\n",
       "      <td>2.0</td>\n",
       "      <td>1077333328</td>\n",
       "    </tr>\n",
       "    <tr>\n",
       "      <th>29</th>\n",
       "      <td>2711</td>\n",
       "      <td>39</td>\n",
       "      <td>1707</td>\n",
       "      <td>3.0</td>\n",
       "      <td>1077333478</td>\n",
       "    </tr>\n",
       "  </tbody>\n",
       "</table>\n",
       "</div>"
      ],
      "text/plain": [
       "    Unnamed: 0  userId  movieId  rating   timestamp\n",
       "0           66       4       66     0.5  1145937915\n",
       "1           90       4      181     0.5  1127946789\n",
       "2           93       4      193     0.5  1113766123\n",
       "3          159       4      546     0.5  1115782390\n",
       "4          296       4     1760     0.5  1114050751\n",
       "5          341       4     2152     0.5  1115781964\n",
       "6          363       4     2381     0.5  1135543160\n",
       "7          371       4     2450     0.5  1113796599\n",
       "8          417       4     2816     2.5  1123989912\n",
       "9          466       4     3268     0.5  1114050659\n",
       "10         484       4     3593     1.0  1115782046\n",
       "11         524       4     3997     2.0  1113766387\n",
       "12         757       4    42721     0.5  1145938348\n",
       "13        1631      19      181     2.0   836433987\n",
       "14        1657      19      286     3.0   849710700\n",
       "15        1693      19      393     3.0   849710707\n",
       "16        1739      19      546     3.0   849620598\n",
       "17        1749      19      591     3.0   849710721\n",
       "18        1773      19      737     3.0   836845026\n",
       "19        1813      19     1170     3.0   849710721\n",
       "20        1895      23      193     1.0  1193667802\n",
       "21        1943      26      546     3.0  1225232084\n",
       "22        2191      33      737     1.0  1187074082\n",
       "23        2636      38     3973     2.0   979581741\n",
       "24        2654      38     4124     3.0   982853654\n",
       "25        2655      38     4125     1.0   982853654\n",
       "26        2681      39      393     2.0  1077333349\n",
       "27        2704      39     1556     2.0  1077333437\n",
       "28        2709      39     1681     2.0  1077333328\n",
       "29        2711      39     1707     3.0  1077333478"
      ]
     },
     "execution_count": 4,
     "metadata": {},
     "output_type": "execute_result"
    }
   ],
   "source": [
    "df = pd.read_csv('item_item_final.csv')\n",
    "df.head(30)"
   ]
  },
  {
   "cell_type": "code",
   "execution_count": 5,
   "metadata": {},
   "outputs": [],
   "source": [
    "df.drop(['Unnamed: 0','timestamp'], inplace=True,axis=1)"
   ]
  },
  {
   "cell_type": "code",
   "execution_count": 6,
   "metadata": {},
   "outputs": [
    {
     "data": {
      "text/html": [
       "<div>\n",
       "<style scoped>\n",
       "    .dataframe tbody tr th:only-of-type {\n",
       "        vertical-align: middle;\n",
       "    }\n",
       "\n",
       "    .dataframe tbody tr th {\n",
       "        vertical-align: top;\n",
       "    }\n",
       "\n",
       "    .dataframe thead th {\n",
       "        text-align: right;\n",
       "    }\n",
       "</style>\n",
       "<table border=\"1\" class=\"dataframe\">\n",
       "  <thead>\n",
       "    <tr style=\"text-align: right;\">\n",
       "      <th></th>\n",
       "      <th>userId</th>\n",
       "      <th>movieId</th>\n",
       "      <th>rating</th>\n",
       "    </tr>\n",
       "  </thead>\n",
       "  <tbody>\n",
       "    <tr>\n",
       "      <th>0</th>\n",
       "      <td>4</td>\n",
       "      <td>66</td>\n",
       "      <td>0.5</td>\n",
       "    </tr>\n",
       "    <tr>\n",
       "      <th>1</th>\n",
       "      <td>4</td>\n",
       "      <td>181</td>\n",
       "      <td>0.5</td>\n",
       "    </tr>\n",
       "    <tr>\n",
       "      <th>2</th>\n",
       "      <td>4</td>\n",
       "      <td>193</td>\n",
       "      <td>0.5</td>\n",
       "    </tr>\n",
       "    <tr>\n",
       "      <th>3</th>\n",
       "      <td>4</td>\n",
       "      <td>546</td>\n",
       "      <td>0.5</td>\n",
       "    </tr>\n",
       "    <tr>\n",
       "      <th>4</th>\n",
       "      <td>4</td>\n",
       "      <td>1760</td>\n",
       "      <td>0.5</td>\n",
       "    </tr>\n",
       "  </tbody>\n",
       "</table>\n",
       "</div>"
      ],
      "text/plain": [
       "   userId  movieId  rating\n",
       "0       4       66     0.5\n",
       "1       4      181     0.5\n",
       "2       4      193     0.5\n",
       "3       4      546     0.5\n",
       "4       4     1760     0.5"
      ]
     },
     "execution_count": 6,
     "metadata": {},
     "output_type": "execute_result"
    }
   ],
   "source": [
    "df.head()"
   ]
  },
  {
   "cell_type": "code",
   "execution_count": 7,
   "metadata": {},
   "outputs": [
    {
     "data": {
      "text/plain": [
       "216399"
      ]
     },
     "execution_count": 7,
     "metadata": {},
     "output_type": "execute_result"
    }
   ],
   "source": [
    "len(df)"
   ]
  },
  {
   "cell_type": "code",
   "execution_count": 8,
   "metadata": {},
   "outputs": [],
   "source": [
    "def rec_gridsearch(model,param_grid,cv):\n",
    "    gs = GridSearchCV(model, param_grid, measures=['rmse', 'mae'], cv=cv, n_jobs=-1)\n",
    "    gs.fit(data)\n",
    "    # best RMSE score\n",
    "    print(gs.best_score['rmse'])\n",
    "\n",
    "    # combination of parameters that gave the best RMSE score\n",
    "    print(gs.best_params['rmse'])"
   ]
  },
  {
   "cell_type": "markdown",
   "metadata": {},
   "source": [
    "## Setting a benchmark for user-based recommendation   "
   ]
  },
  {
   "cell_type": "code",
   "execution_count": 9,
   "metadata": {},
   "outputs": [],
   "source": [
    "reader = Reader(rating_scale=(0.5, 5))\n",
    "data = Dataset.load_from_df(df,reader)"
   ]
  },
  {
   "cell_type": "code",
   "execution_count": 11,
   "metadata": {},
   "outputs": [
    {
     "name": "stdout",
     "output_type": "stream",
     "text": [
      "Estimating biases using als...\n",
      "Estimating biases using als...\n",
      "Estimating biases using als...\n",
      "Estimating biases using als...\n",
      "Estimating biases using als...\n",
      "Estimating biases using als...\n",
      "Estimating biases using als...\n",
      "Estimating biases using als...\n",
      "Estimating biases using als...\n",
      "Estimating biases using als...\n"
     ]
    },
    {
     "data": {
      "text/html": [
       "<div>\n",
       "<style scoped>\n",
       "    .dataframe tbody tr th:only-of-type {\n",
       "        vertical-align: middle;\n",
       "    }\n",
       "\n",
       "    .dataframe tbody tr th {\n",
       "        vertical-align: top;\n",
       "    }\n",
       "\n",
       "    .dataframe thead th {\n",
       "        text-align: right;\n",
       "    }\n",
       "</style>\n",
       "<table border=\"1\" class=\"dataframe\">\n",
       "  <thead>\n",
       "    <tr style=\"text-align: right;\">\n",
       "      <th></th>\n",
       "      <th>test_rmse</th>\n",
       "      <th>fit_time</th>\n",
       "      <th>test_time</th>\n",
       "    </tr>\n",
       "    <tr>\n",
       "      <th>Algorithm</th>\n",
       "      <th></th>\n",
       "      <th></th>\n",
       "      <th></th>\n",
       "    </tr>\n",
       "  </thead>\n",
       "  <tbody>\n",
       "    <tr>\n",
       "      <th>SVDpp</th>\n",
       "      <td>0.999671</td>\n",
       "      <td>66.845375</td>\n",
       "      <td>0.753049</td>\n",
       "    </tr>\n",
       "    <tr>\n",
       "      <th>SVD</th>\n",
       "      <td>1.026698</td>\n",
       "      <td>12.790418</td>\n",
       "      <td>0.240849</td>\n",
       "    </tr>\n",
       "    <tr>\n",
       "      <th>SlopeOne</th>\n",
       "      <td>1.037818</td>\n",
       "      <td>0.996858</td>\n",
       "      <td>0.564639</td>\n",
       "    </tr>\n",
       "    <tr>\n",
       "      <th>BaselineOnly</th>\n",
       "      <td>1.056784</td>\n",
       "      <td>0.818183</td>\n",
       "      <td>0.164463</td>\n",
       "    </tr>\n",
       "    <tr>\n",
       "      <th>NMF</th>\n",
       "      <td>1.060784</td>\n",
       "      <td>25.028074</td>\n",
       "      <td>0.218789</td>\n",
       "    </tr>\n",
       "    <tr>\n",
       "      <th>CoClustering</th>\n",
       "      <td>1.075421</td>\n",
       "      <td>10.611190</td>\n",
       "      <td>0.209843</td>\n",
       "    </tr>\n",
       "    <tr>\n",
       "      <th>NormalPredictor</th>\n",
       "      <td>1.620468</td>\n",
       "      <td>0.380421</td>\n",
       "      <td>0.196912</td>\n",
       "    </tr>\n",
       "  </tbody>\n",
       "</table>\n",
       "</div>"
      ],
      "text/plain": [
       "                 test_rmse   fit_time  test_time\n",
       "Algorithm                                       \n",
       "SVDpp             0.999671  66.845375   0.753049\n",
       "SVD               1.026698  12.790418   0.240849\n",
       "SlopeOne          1.037818   0.996858   0.564639\n",
       "BaselineOnly      1.056784   0.818183   0.164463\n",
       "NMF               1.060784  25.028074   0.218789\n",
       "CoClustering      1.075421  10.611190   0.209843\n",
       "NormalPredictor   1.620468   0.380421   0.196912"
      ]
     },
     "execution_count": 11,
     "metadata": {},
     "output_type": "execute_result"
    }
   ],
   "source": [
    "# Massive Cross Validation of every model Surprise has. \n",
    "benchmark = []\n",
    "# Iterate over all algorithms\n",
    "for algorithm in [SVD(), SVDpp(), SlopeOne(), NMF(), NormalPredictor(), BaselineOnly(), CoClustering()]:\n",
    "    # Perform cross validation\n",
    "    results = cross_validate(algorithm, data, measures=['RMSE'], cv=10, verbose=False)\n",
    "    \n",
    "    # Get results & append algorithm name\n",
    "    tmp = pd.DataFrame.from_dict(results).mean(axis=0)\n",
    "    tmp = tmp.append(pd.Series([str(algorithm).split(' ')[0].split('.')[-1]], index=['Algorithm']))\n",
    "    benchmark.append(tmp)\n",
    "    \n",
    "pd.DataFrame(benchmark).set_index('Algorithm').sort_values('test_rmse') "
   ]
  },
  {
   "cell_type": "code",
   "execution_count": null,
   "metadata": {},
   "outputs": [],
   "source": [
    "KNNBaseline(), KNNBasic(), KNNWithMeans(), KNNWithZScore()"
   ]
  },
  {
   "cell_type": "markdown",
   "metadata": {},
   "source": [
    "## Testing KNNs for item-item recommendation."
   ]
  },
  {
   "cell_type": "code",
   "execution_count": 13,
   "metadata": {},
   "outputs": [],
   "source": [
    "train2, test2 = train_test_split(data2, test_size=.2)"
   ]
  },
  {
   "cell_type": "markdown",
   "metadata": {},
   "source": [
    "### KNN Baseline"
   ]
  },
  {
   "cell_type": "code",
   "execution_count": 26,
   "metadata": {},
   "outputs": [],
   "source": [
    "sim_options = {'name': 'msd',\n",
    "               'min_support': 5,\n",
    "               'user_based': False}\n",
    "base1 = KNNBaseline(k=30,sim_options=sim_options)"
   ]
  },
  {
   "cell_type": "code",
   "execution_count": 21,
   "metadata": {},
   "outputs": [
    {
     "name": "stdout",
     "output_type": "stream",
     "text": [
      "Estimating biases using als...\n",
      "Computing the msd similarity matrix...\n",
      "Done computing similarity matrix.\n",
      "RMSE: 1.0197\n"
     ]
    },
    {
     "data": {
      "text/plain": [
       "1.0196939903010263"
      ]
     },
     "execution_count": 21,
     "metadata": {},
     "output_type": "execute_result"
    }
   ],
   "source": [
    "base1.fit(train2)\n",
    "base1_preds = base1.test(test2)\n",
    "accuracy.rmse(base1_preds)"
   ]
  },
  {
   "cell_type": "code",
   "execution_count": 22,
   "metadata": {},
   "outputs": [],
   "source": [
    "sim_options = {'name': 'cosine',\n",
    "               'min_support': 5,\n",
    "               'user_based': False}\n",
    "base2 = KNNBaseline(k=30,sim_options=sim_options)"
   ]
  },
  {
   "cell_type": "code",
   "execution_count": 23,
   "metadata": {},
   "outputs": [
    {
     "name": "stdout",
     "output_type": "stream",
     "text": [
      "Estimating biases using als...\n",
      "Computing the cosine similarity matrix...\n",
      "Done computing similarity matrix.\n",
      "RMSE: 1.0241\n"
     ]
    },
    {
     "data": {
      "text/plain": [
       "1.024058366731553"
      ]
     },
     "execution_count": 23,
     "metadata": {},
     "output_type": "execute_result"
    }
   ],
   "source": [
    "base2.fit(train2)\n",
    "base2_preds = base2.test(test2)\n",
    "accuracy.rmse(base2_preds)"
   ]
  },
  {
   "cell_type": "code",
   "execution_count": 27,
   "metadata": {},
   "outputs": [],
   "source": [
    "sim_options = {'name': 'pearson_baseline',\n",
    "               'min_support': 5,\n",
    "               'user_based': False}\n",
    "base3 = KNNBaseline(k=30,sim_options=sim_options)"
   ]
  },
  {
   "cell_type": "code",
   "execution_count": 28,
   "metadata": {},
   "outputs": [
    {
     "name": "stdout",
     "output_type": "stream",
     "text": [
      "Estimating biases using als...\n",
      "Computing the pearson_baseline similarity matrix...\n",
      "Done computing similarity matrix.\n",
      "RMSE: 1.0098\n"
     ]
    },
    {
     "data": {
      "text/plain": [
       "1.0098460059651595"
      ]
     },
     "execution_count": 28,
     "metadata": {},
     "output_type": "execute_result"
    }
   ],
   "source": [
    "base3.fit(train2)\n",
    "base3_preds = base3.test(test2)\n",
    "accuracy.rmse(base3_preds)"
   ]
  },
  {
   "cell_type": "code",
   "execution_count": 31,
   "metadata": {},
   "outputs": [],
   "source": [
    "sim_options = {'name': 'pearson_baseline',\n",
    "               'min_support': 5,\n",
    "               'user_based': False}\n",
    "base4 = KNNBaseline(k=35,sim_options=sim_options)"
   ]
  },
  {
   "cell_type": "code",
   "execution_count": 32,
   "metadata": {},
   "outputs": [
    {
     "name": "stdout",
     "output_type": "stream",
     "text": [
      "Estimating biases using als...\n",
      "Computing the pearson_baseline similarity matrix...\n",
      "Done computing similarity matrix.\n",
      "RMSE: 1.0098\n"
     ]
    },
    {
     "data": {
      "text/plain": [
       "1.0098252215921415"
      ]
     },
     "execution_count": 32,
     "metadata": {},
     "output_type": "execute_result"
    }
   ],
   "source": [
    "base4.fit(train2)\n",
    "base4_preds = base4.test(test2)\n",
    "accuracy.rmse(base4_preds)"
   ]
  },
  {
   "cell_type": "code",
   "execution_count": 33,
   "metadata": {},
   "outputs": [],
   "source": [
    "sim_options = {'name': 'pearson_baseline',\n",
    "               'min_support': 5,\n",
    "               'user_based': False}\n",
    "base5 = KNNBaseline(k=40,sim_options=sim_options)"
   ]
  },
  {
   "cell_type": "code",
   "execution_count": 34,
   "metadata": {},
   "outputs": [
    {
     "name": "stdout",
     "output_type": "stream",
     "text": [
      "Estimating biases using als...\n",
      "Computing the pearson_baseline similarity matrix...\n",
      "Done computing similarity matrix.\n",
      "RMSE: 1.0098\n"
     ]
    },
    {
     "data": {
      "text/plain": [
       "1.0098465914432893"
      ]
     },
     "execution_count": 34,
     "metadata": {},
     "output_type": "execute_result"
    }
   ],
   "source": [
    "base5.fit(train2)\n",
    "base5_preds = base5.test(test2)\n",
    "accuracy.rmse(base5_preds)"
   ]
  },
  {
   "cell_type": "code",
   "execution_count": 49,
   "metadata": {},
   "outputs": [],
   "source": [
    "sim_options = {'name': 'pearson_baseline',\n",
    "               'min_support': 5,\n",
    "               'user_based': False}\n",
    "base6 = KNNBaseline(k=39,sim_options=sim_options)"
   ]
  },
  {
   "cell_type": "code",
   "execution_count": 50,
   "metadata": {},
   "outputs": [
    {
     "name": "stdout",
     "output_type": "stream",
     "text": [
      "Estimating biases using als...\n",
      "Computing the pearson_baseline similarity matrix...\n",
      "Done computing similarity matrix.\n",
      "RMSE: 1.0098\n"
     ]
    },
    {
     "data": {
      "text/plain": [
       "1.0098372002372284"
      ]
     },
     "execution_count": 50,
     "metadata": {},
     "output_type": "execute_result"
    }
   ],
   "source": [
    "base6.fit(train2)\n",
    "base6_preds = base6.test(test2)\n",
    "accuracy.rmse(base6_preds)"
   ]
  },
  {
   "cell_type": "code",
   "execution_count": 51,
   "metadata": {},
   "outputs": [],
   "source": [
    "sim_options = {'name': 'pearson_baseline',\n",
    "               'min_support': 5,\n",
    "               'user_based': False}\n",
    "base7 = KNNBaseline(k=37,sim_options=sim_options)"
   ]
  },
  {
   "cell_type": "code",
   "execution_count": 52,
   "metadata": {},
   "outputs": [
    {
     "name": "stdout",
     "output_type": "stream",
     "text": [
      "Estimating biases using als...\n",
      "Computing the pearson_baseline similarity matrix...\n",
      "Done computing similarity matrix.\n",
      "RMSE: 1.0098\n"
     ]
    },
    {
     "data": {
      "text/plain": [
       "1.0098314020112866"
      ]
     },
     "execution_count": 52,
     "metadata": {},
     "output_type": "execute_result"
    }
   ],
   "source": [
    "base7.fit(train2)\n",
    "base7_preds = base7.test(test2)\n",
    "accuracy.rmse(base7_preds)"
   ]
  },
  {
   "cell_type": "code",
   "execution_count": 53,
   "metadata": {},
   "outputs": [],
   "source": [
    "sim_options = {'name': 'pearson_baseline',\n",
    "               'min_support': 5,\n",
    "               'user_based': False}\n",
    "base8 = KNNBaseline(k=36,sim_options=sim_options)"
   ]
  },
  {
   "cell_type": "code",
   "execution_count": 54,
   "metadata": {},
   "outputs": [
    {
     "name": "stdout",
     "output_type": "stream",
     "text": [
      "Estimating biases using als...\n",
      "Computing the pearson_baseline similarity matrix...\n",
      "Done computing similarity matrix.\n",
      "RMSE: 1.0098\n"
     ]
    },
    {
     "data": {
      "text/plain": [
       "1.0098283820135368"
      ]
     },
     "execution_count": 54,
     "metadata": {},
     "output_type": "execute_result"
    }
   ],
   "source": [
    "base8.fit(train2)\n",
    "base8_preds = base8.test(test2)\n",
    "accuracy.rmse(base8_preds)"
   ]
  },
  {
   "cell_type": "code",
   "execution_count": 55,
   "metadata": {},
   "outputs": [],
   "source": [
    "sim_options = {'name': 'pearson_baseline',\n",
    "               'min_support': 5,\n",
    "               'user_based': False}\n",
    "base9 = KNNBaseline(k=33,sim_options=sim_options)"
   ]
  },
  {
   "cell_type": "code",
   "execution_count": 56,
   "metadata": {},
   "outputs": [
    {
     "name": "stdout",
     "output_type": "stream",
     "text": [
      "Estimating biases using als...\n",
      "Computing the pearson_baseline similarity matrix...\n",
      "Done computing similarity matrix.\n",
      "RMSE: 1.0098\n"
     ]
    },
    {
     "data": {
      "text/plain": [
       "1.0098364010834906"
      ]
     },
     "execution_count": 56,
     "metadata": {},
     "output_type": "execute_result"
    }
   ],
   "source": [
    "base9.fit(train2)\n",
    "base9_preds = base9.test(test2)\n",
    "accuracy.rmse(base9_preds)"
   ]
  },
  {
   "cell_type": "code",
   "execution_count": 57,
   "metadata": {},
   "outputs": [],
   "source": [
    "sim_options = {'name': 'pearson_baseline',\n",
    "               'min_support': 5,\n",
    "               'user_based': False}\n",
    "base10 = KNNBaseline(k=10,sim_options=sim_options)"
   ]
  },
  {
   "cell_type": "code",
   "execution_count": 58,
   "metadata": {},
   "outputs": [
    {
     "name": "stdout",
     "output_type": "stream",
     "text": [
      "Estimating biases using als...\n",
      "Computing the pearson_baseline similarity matrix...\n",
      "Done computing similarity matrix.\n",
      "RMSE: 1.0099\n"
     ]
    },
    {
     "data": {
      "text/plain": [
       "1.0098848285440225"
      ]
     },
     "execution_count": 58,
     "metadata": {},
     "output_type": "execute_result"
    }
   ],
   "source": [
    "base10.fit(train2)\n",
    "base10_preds = base10.test(test2)\n",
    "accuracy.rmse(base10_preds)"
   ]
  },
  {
   "cell_type": "code",
   "execution_count": 59,
   "metadata": {},
   "outputs": [],
   "source": [
    "sim_options = {'name': 'pearson_baseline',\n",
    "               'min_support': 5,\n",
    "               'user_based': False}\n",
    "base11 = KNNBaseline(k=20,sim_options=sim_options)"
   ]
  },
  {
   "cell_type": "code",
   "execution_count": 60,
   "metadata": {},
   "outputs": [
    {
     "name": "stdout",
     "output_type": "stream",
     "text": [
      "Estimating biases using als...\n",
      "Computing the pearson_baseline similarity matrix...\n",
      "Done computing similarity matrix.\n",
      "RMSE: 1.0098\n"
     ]
    },
    {
     "data": {
      "text/plain": [
       "1.0098036979411174"
      ]
     },
     "execution_count": 60,
     "metadata": {},
     "output_type": "execute_result"
    }
   ],
   "source": [
    "base11.fit(train2)\n",
    "base11_preds = base11.test(test2)\n",
    "accuracy.rmse(base11_preds)"
   ]
  },
  {
   "cell_type": "code",
   "execution_count": 61,
   "metadata": {},
   "outputs": [],
   "source": [
    "sim_options = {'name': 'pearson_baseline',\n",
    "               'min_support': 5,\n",
    "               'user_based': False}\n",
    "base12 = KNNBaseline(k=25,sim_options=sim_options)"
   ]
  },
  {
   "cell_type": "code",
   "execution_count": 62,
   "metadata": {},
   "outputs": [
    {
     "name": "stdout",
     "output_type": "stream",
     "text": [
      "Estimating biases using als...\n",
      "Computing the pearson_baseline similarity matrix...\n",
      "Done computing similarity matrix.\n",
      "RMSE: 1.0099\n"
     ]
    },
    {
     "data": {
      "text/plain": [
       "1.0098544168866566"
      ]
     },
     "execution_count": 62,
     "metadata": {},
     "output_type": "execute_result"
    }
   ],
   "source": [
    "base12.fit(train2)\n",
    "base12_preds = base12.test(test2)\n",
    "accuracy.rmse(base12_preds)"
   ]
  },
  {
   "cell_type": "code",
   "execution_count": 63,
   "metadata": {},
   "outputs": [],
   "source": [
    "sim_options = {'name': 'pearson_baseline',\n",
    "               'min_support': 5,\n",
    "               'user_based': False}\n",
    "base13 = KNNBaseline(k=21,sim_options=sim_options)"
   ]
  },
  {
   "cell_type": "code",
   "execution_count": 64,
   "metadata": {},
   "outputs": [
    {
     "name": "stdout",
     "output_type": "stream",
     "text": [
      "Estimating biases using als...\n",
      "Computing the pearson_baseline similarity matrix...\n",
      "Done computing similarity matrix.\n",
      "RMSE: 1.0098\n"
     ]
    },
    {
     "data": {
      "text/plain": [
       "1.009794033164408"
      ]
     },
     "execution_count": 64,
     "metadata": {},
     "output_type": "execute_result"
    }
   ],
   "source": [
    "base13.fit(train2)\n",
    "base13_preds = base13.test(test2)\n",
    "accuracy.rmse(base13_preds)"
   ]
  },
  {
   "cell_type": "markdown",
   "metadata": {},
   "source": [
    "### BEST MODEL ^^^^^^^^"
   ]
  },
  {
   "cell_type": "code",
   "execution_count": 67,
   "metadata": {},
   "outputs": [],
   "source": [
    "sim_options = {'name': 'pearson_baseline',\n",
    "               'min_support': 5,\n",
    "               'user_based': False}\n",
    "base14 = KNNBaseline(k=22,sim_options=sim_options)"
   ]
  },
  {
   "cell_type": "code",
   "execution_count": 68,
   "metadata": {},
   "outputs": [
    {
     "name": "stdout",
     "output_type": "stream",
     "text": [
      "Estimating biases using als...\n",
      "Computing the pearson_baseline similarity matrix...\n",
      "Done computing similarity matrix.\n",
      "RMSE: 1.0098\n"
     ]
    },
    {
     "data": {
      "text/plain": [
       "1.009816116980724"
      ]
     },
     "execution_count": 68,
     "metadata": {},
     "output_type": "execute_result"
    }
   ],
   "source": [
    "base14.fit(train2)\n",
    "base14_preds = base14.test(test2)\n",
    "accuracy.rmse(base14_preds)"
   ]
  },
  {
   "cell_type": "code",
   "execution_count": null,
   "metadata": {},
   "outputs": [],
   "source": []
  },
  {
   "cell_type": "code",
   "execution_count": null,
   "metadata": {},
   "outputs": [],
   "source": []
  },
  {
   "cell_type": "markdown",
   "metadata": {},
   "source": [
    "### KNNMeans"
   ]
  },
  {
   "cell_type": "code",
   "execution_count": 38,
   "metadata": {},
   "outputs": [],
   "source": [
    "sim_options = {'name': 'msd',\n",
    "               'min_support': 5,\n",
    "               'user_based': False}\n",
    "means1 = KNNWithMeans(k=30,sim_options=sim_options)"
   ]
  },
  {
   "cell_type": "code",
   "execution_count": 36,
   "metadata": {},
   "outputs": [
    {
     "name": "stdout",
     "output_type": "stream",
     "text": [
      "Computing the msd similarity matrix...\n",
      "Done computing similarity matrix.\n",
      "RMSE: 1.0294\n"
     ]
    },
    {
     "data": {
      "text/plain": [
       "1.0294320120270934"
      ]
     },
     "execution_count": 36,
     "metadata": {},
     "output_type": "execute_result"
    }
   ],
   "source": [
    "means1.fit(train2)\n",
    "means1_preds = means1.test(test2)\n",
    "accuracy.rmse(means1_preds)"
   ]
  },
  {
   "cell_type": "code",
   "execution_count": 39,
   "metadata": {},
   "outputs": [],
   "source": [
    "sim_options = {'name': 'cosine',\n",
    "               'min_support': 5,\n",
    "               'user_based': False}\n",
    "means2 = KNNWithMeans(k=30,sim_options=sim_options)"
   ]
  },
  {
   "cell_type": "code",
   "execution_count": 40,
   "metadata": {},
   "outputs": [
    {
     "name": "stdout",
     "output_type": "stream",
     "text": [
      "Computing the cosine similarity matrix...\n",
      "Done computing similarity matrix.\n",
      "RMSE: 1.0337\n"
     ]
    },
    {
     "data": {
      "text/plain": [
       "1.0337170543942928"
      ]
     },
     "execution_count": 40,
     "metadata": {},
     "output_type": "execute_result"
    }
   ],
   "source": [
    "means2.fit(train2)\n",
    "means2_preds = means2.test(test2)\n",
    "accuracy.rmse(means2_preds)"
   ]
  },
  {
   "cell_type": "code",
   "execution_count": 41,
   "metadata": {},
   "outputs": [],
   "source": [
    "sim_options = {'name': 'pearson_baseline',\n",
    "               'min_support': 5,\n",
    "               'user_based': False}\n",
    "means3 = KNNWithMeans(k=30,sim_options=sim_options)"
   ]
  },
  {
   "cell_type": "code",
   "execution_count": 42,
   "metadata": {},
   "outputs": [
    {
     "name": "stdout",
     "output_type": "stream",
     "text": [
      "Estimating biases using als...\n",
      "Computing the pearson_baseline similarity matrix...\n",
      "Done computing similarity matrix.\n",
      "RMSE: 1.0203\n"
     ]
    },
    {
     "data": {
      "text/plain": [
       "1.0203067696333434"
      ]
     },
     "execution_count": 42,
     "metadata": {},
     "output_type": "execute_result"
    }
   ],
   "source": [
    "means3.fit(train2)\n",
    "means3_preds = means3.test(test2)\n",
    "accuracy.rmse(means3_preds)"
   ]
  },
  {
   "cell_type": "markdown",
   "metadata": {},
   "source": [
    "### KNN Basic"
   ]
  },
  {
   "cell_type": "code",
   "execution_count": 43,
   "metadata": {},
   "outputs": [],
   "source": [
    "sim_options = {'name': 'msd',\n",
    "               'min_support': 5,\n",
    "               'user_based': False}\n",
    "basic1 = KNNBasic(k=30,sim_options=sim_options)"
   ]
  },
  {
   "cell_type": "code",
   "execution_count": 44,
   "metadata": {},
   "outputs": [
    {
     "name": "stdout",
     "output_type": "stream",
     "text": [
      "Computing the msd similarity matrix...\n",
      "Done computing similarity matrix.\n",
      "RMSE: 1.0450\n"
     ]
    },
    {
     "data": {
      "text/plain": [
       "1.045005286085737"
      ]
     },
     "execution_count": 44,
     "metadata": {},
     "output_type": "execute_result"
    }
   ],
   "source": [
    "basic1.fit(train2)\n",
    "basic1_preds = basic1.test(test2)\n",
    "accuracy.rmse(basic1_preds)"
   ]
  },
  {
   "cell_type": "code",
   "execution_count": 45,
   "metadata": {},
   "outputs": [],
   "source": [
    "sim_options = {'name': 'cosine',\n",
    "               'min_support': 5,\n",
    "               'user_based': False}\n",
    "basic2 = KNNBasic(k=30,sim_options=sim_options)"
   ]
  },
  {
   "cell_type": "code",
   "execution_count": 46,
   "metadata": {},
   "outputs": [
    {
     "name": "stdout",
     "output_type": "stream",
     "text": [
      "Computing the cosine similarity matrix...\n",
      "Done computing similarity matrix.\n",
      "RMSE: 1.0508\n"
     ]
    },
    {
     "data": {
      "text/plain": [
       "1.0508391483421877"
      ]
     },
     "execution_count": 46,
     "metadata": {},
     "output_type": "execute_result"
    }
   ],
   "source": [
    "basic2.fit(train2)\n",
    "basic2_preds = basic2.test(test2)\n",
    "accuracy.rmse(basic2_preds)"
   ]
  },
  {
   "cell_type": "code",
   "execution_count": 47,
   "metadata": {},
   "outputs": [],
   "source": [
    "sim_options = {'name': 'pearson_baseline',\n",
    "               'min_support': 5,\n",
    "               'user_based': False}\n",
    "basic3 = KNNBasic(k=30,sim_options=sim_options)"
   ]
  },
  {
   "cell_type": "code",
   "execution_count": 48,
   "metadata": {},
   "outputs": [
    {
     "name": "stdout",
     "output_type": "stream",
     "text": [
      "Estimating biases using als...\n",
      "Computing the pearson_baseline similarity matrix...\n",
      "Done computing similarity matrix.\n",
      "RMSE: 1.0352\n"
     ]
    },
    {
     "data": {
      "text/plain": [
       "1.035231088637645"
      ]
     },
     "execution_count": 48,
     "metadata": {},
     "output_type": "execute_result"
    }
   ],
   "source": [
    "basic3.fit(train2)\n",
    "basic3_preds = basic3.test(test2)\n",
    "accuracy.rmse(basic3_preds)"
   ]
  },
  {
   "cell_type": "code",
   "execution_count": null,
   "metadata": {},
   "outputs": [],
   "source": []
  },
  {
   "cell_type": "code",
   "execution_count": null,
   "metadata": {},
   "outputs": [],
   "source": []
  },
  {
   "cell_type": "code",
   "execution_count": null,
   "metadata": {},
   "outputs": [],
   "source": []
  },
  {
   "cell_type": "code",
   "execution_count": null,
   "metadata": {},
   "outputs": [],
   "source": []
  }
 ],
 "metadata": {
  "kernelspec": {
   "display_name": "Python 3",
   "language": "python",
   "name": "python3"
  },
  "language_info": {
   "codemirror_mode": {
    "name": "ipython",
    "version": 3
   },
   "file_extension": ".py",
   "mimetype": "text/x-python",
   "name": "python",
   "nbconvert_exporter": "python",
   "pygments_lexer": "ipython3",
   "version": "3.7.1"
  }
 },
 "nbformat": 4,
 "nbformat_minor": 2
}
