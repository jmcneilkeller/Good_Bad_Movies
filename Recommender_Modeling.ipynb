{
 "cells": [
  {
   "cell_type": "code",
   "execution_count": 1,
   "metadata": {},
   "outputs": [
    {
     "name": "stdout",
     "output_type": "stream",
     "text": [
      "Requirement already satisfied: annoy in /anaconda3/lib/python3.7/site-packages (1.16.0)\n",
      "Requirement already satisfied: implicit in /anaconda3/lib/python3.7/site-packages (0.3.9)\n",
      "Requirement already satisfied: numpy in /anaconda3/lib/python3.7/site-packages (from implicit) (1.15.4)\n",
      "Requirement already satisfied: scipy>=0.16 in /anaconda3/lib/python3.7/site-packages (from implicit) (1.1.0)\n",
      "Requirement already satisfied: tqdm in /anaconda3/lib/python3.7/site-packages (from implicit) (4.28.1)\n"
     ]
    }
   ],
   "source": [
    "!pip install annoy\n",
    "!pip install implicit"
   ]
  },
  {
   "cell_type": "code",
   "execution_count": 2,
   "metadata": {},
   "outputs": [],
   "source": [
    "import annoy\n",
    "import numpy as np\n",
    "import pandas as pd\n",
    "from surprise import Dataset\n",
    "from surprise import Reader\n",
    "from surprise import SVD, evaluate, accuracy\n",
    "from surprise import dump\n",
    "from surprise.model_selection import cross_validate, train_test_split\n",
    "from surprise.model_selection import GridSearchCV "
   ]
  },
  {
   "cell_type": "code",
   "execution_count": 20,
   "metadata": {},
   "outputs": [],
   "source": [
    "from surprise import NMF\n",
    "from surprise import KNNBasic\n",
    "from surprise import KNNWithMeans\n",
    "from surprise import KNNBaseline\n",
    "from surprise import KNNWithZScore"
   ]
  },
  {
   "cell_type": "code",
   "execution_count": 28,
   "metadata": {},
   "outputs": [],
   "source": [
    "from tqdm import tqdm_notebook as tqdm"
   ]
  },
  {
   "cell_type": "code",
   "execution_count": 4,
   "metadata": {},
   "outputs": [
    {
     "data": {
      "text/html": [
       "<div>\n",
       "<style scoped>\n",
       "    .dataframe tbody tr th:only-of-type {\n",
       "        vertical-align: middle;\n",
       "    }\n",
       "\n",
       "    .dataframe tbody tr th {\n",
       "        vertical-align: top;\n",
       "    }\n",
       "\n",
       "    .dataframe thead th {\n",
       "        text-align: right;\n",
       "    }\n",
       "</style>\n",
       "<table border=\"1\" class=\"dataframe\">\n",
       "  <thead>\n",
       "    <tr style=\"text-align: right;\">\n",
       "      <th></th>\n",
       "      <th>Unnamed: 0</th>\n",
       "      <th>userId</th>\n",
       "      <th>movieId</th>\n",
       "      <th>rating</th>\n",
       "    </tr>\n",
       "  </thead>\n",
       "  <tbody>\n",
       "    <tr>\n",
       "      <th>0</th>\n",
       "      <td>90</td>\n",
       "      <td>4</td>\n",
       "      <td>181</td>\n",
       "      <td>0.5</td>\n",
       "    </tr>\n",
       "    <tr>\n",
       "      <th>1</th>\n",
       "      <td>296</td>\n",
       "      <td>4</td>\n",
       "      <td>1760</td>\n",
       "      <td>0.5</td>\n",
       "    </tr>\n",
       "    <tr>\n",
       "      <th>2</th>\n",
       "      <td>484</td>\n",
       "      <td>4</td>\n",
       "      <td>3593</td>\n",
       "      <td>1.0</td>\n",
       "    </tr>\n",
       "    <tr>\n",
       "      <th>3</th>\n",
       "      <td>1631</td>\n",
       "      <td>19</td>\n",
       "      <td>181</td>\n",
       "      <td>2.0</td>\n",
       "    </tr>\n",
       "    <tr>\n",
       "      <th>4</th>\n",
       "      <td>2655</td>\n",
       "      <td>38</td>\n",
       "      <td>4125</td>\n",
       "      <td>1.0</td>\n",
       "    </tr>\n",
       "    <tr>\n",
       "      <th>5</th>\n",
       "      <td>4450</td>\n",
       "      <td>54</td>\n",
       "      <td>810</td>\n",
       "      <td>3.0</td>\n",
       "    </tr>\n",
       "    <tr>\n",
       "      <th>6</th>\n",
       "      <td>5189</td>\n",
       "      <td>56</td>\n",
       "      <td>4255</td>\n",
       "      <td>3.5</td>\n",
       "    </tr>\n",
       "    <tr>\n",
       "      <th>7</th>\n",
       "      <td>6455</td>\n",
       "      <td>72</td>\n",
       "      <td>90890</td>\n",
       "      <td>3.5</td>\n",
       "    </tr>\n",
       "    <tr>\n",
       "      <th>8</th>\n",
       "      <td>6506</td>\n",
       "      <td>72</td>\n",
       "      <td>125916</td>\n",
       "      <td>0.5</td>\n",
       "    </tr>\n",
       "    <tr>\n",
       "      <th>9</th>\n",
       "      <td>7119</td>\n",
       "      <td>75</td>\n",
       "      <td>125916</td>\n",
       "      <td>2.5</td>\n",
       "    </tr>\n",
       "    <tr>\n",
       "      <th>10</th>\n",
       "      <td>7213</td>\n",
       "      <td>77</td>\n",
       "      <td>3799</td>\n",
       "      <td>4.0</td>\n",
       "    </tr>\n",
       "    <tr>\n",
       "      <th>11</th>\n",
       "      <td>7215</td>\n",
       "      <td>77</td>\n",
       "      <td>43919</td>\n",
       "      <td>0.5</td>\n",
       "    </tr>\n",
       "    <tr>\n",
       "      <th>12</th>\n",
       "      <td>7404</td>\n",
       "      <td>79</td>\n",
       "      <td>1760</td>\n",
       "      <td>4.0</td>\n",
       "    </tr>\n",
       "    <tr>\n",
       "      <th>13</th>\n",
       "      <td>7975</td>\n",
       "      <td>81</td>\n",
       "      <td>3593</td>\n",
       "      <td>3.0</td>\n",
       "    </tr>\n",
       "    <tr>\n",
       "      <th>14</th>\n",
       "      <td>8332</td>\n",
       "      <td>81</td>\n",
       "      <td>31698</td>\n",
       "      <td>0.5</td>\n",
       "    </tr>\n",
       "    <tr>\n",
       "      <th>15</th>\n",
       "      <td>8551</td>\n",
       "      <td>81</td>\n",
       "      <td>61348</td>\n",
       "      <td>0.5</td>\n",
       "    </tr>\n",
       "    <tr>\n",
       "      <th>16</th>\n",
       "      <td>8593</td>\n",
       "      <td>81</td>\n",
       "      <td>67867</td>\n",
       "      <td>0.5</td>\n",
       "    </tr>\n",
       "    <tr>\n",
       "      <th>17</th>\n",
       "      <td>8823</td>\n",
       "      <td>83</td>\n",
       "      <td>181</td>\n",
       "      <td>5.0</td>\n",
       "    </tr>\n",
       "    <tr>\n",
       "      <th>18</th>\n",
       "      <td>9609</td>\n",
       "      <td>94</td>\n",
       "      <td>1760</td>\n",
       "      <td>4.0</td>\n",
       "    </tr>\n",
       "    <tr>\n",
       "      <th>19</th>\n",
       "      <td>10284</td>\n",
       "      <td>100</td>\n",
       "      <td>3799</td>\n",
       "      <td>0.5</td>\n",
       "    </tr>\n",
       "    <tr>\n",
       "      <th>20</th>\n",
       "      <td>10738</td>\n",
       "      <td>105</td>\n",
       "      <td>6827</td>\n",
       "      <td>0.5</td>\n",
       "    </tr>\n",
       "    <tr>\n",
       "      <th>21</th>\n",
       "      <td>10899</td>\n",
       "      <td>111</td>\n",
       "      <td>3799</td>\n",
       "      <td>2.0</td>\n",
       "    </tr>\n",
       "    <tr>\n",
       "      <th>22</th>\n",
       "      <td>11312</td>\n",
       "      <td>117</td>\n",
       "      <td>810</td>\n",
       "      <td>2.0</td>\n",
       "    </tr>\n",
       "    <tr>\n",
       "      <th>23</th>\n",
       "      <td>12222</td>\n",
       "      <td>134</td>\n",
       "      <td>810</td>\n",
       "      <td>2.5</td>\n",
       "    </tr>\n",
       "    <tr>\n",
       "      <th>24</th>\n",
       "      <td>12326</td>\n",
       "      <td>134</td>\n",
       "      <td>1599</td>\n",
       "      <td>2.0</td>\n",
       "    </tr>\n",
       "    <tr>\n",
       "      <th>25</th>\n",
       "      <td>12373</td>\n",
       "      <td>134</td>\n",
       "      <td>1981</td>\n",
       "      <td>1.0</td>\n",
       "    </tr>\n",
       "    <tr>\n",
       "      <th>26</th>\n",
       "      <td>12376</td>\n",
       "      <td>134</td>\n",
       "      <td>1984</td>\n",
       "      <td>1.0</td>\n",
       "    </tr>\n",
       "    <tr>\n",
       "      <th>27</th>\n",
       "      <td>12584</td>\n",
       "      <td>134</td>\n",
       "      <td>3572</td>\n",
       "      <td>2.0</td>\n",
       "    </tr>\n",
       "    <tr>\n",
       "      <th>28</th>\n",
       "      <td>12587</td>\n",
       "      <td>134</td>\n",
       "      <td>3593</td>\n",
       "      <td>3.0</td>\n",
       "    </tr>\n",
       "    <tr>\n",
       "      <th>29</th>\n",
       "      <td>12890</td>\n",
       "      <td>134</td>\n",
       "      <td>8811</td>\n",
       "      <td>3.0</td>\n",
       "    </tr>\n",
       "  </tbody>\n",
       "</table>\n",
       "</div>"
      ],
      "text/plain": [
       "    Unnamed: 0  userId  movieId  rating\n",
       "0           90       4      181     0.5\n",
       "1          296       4     1760     0.5\n",
       "2          484       4     3593     1.0\n",
       "3         1631      19      181     2.0\n",
       "4         2655      38     4125     1.0\n",
       "5         4450      54      810     3.0\n",
       "6         5189      56     4255     3.5\n",
       "7         6455      72    90890     3.5\n",
       "8         6506      72   125916     0.5\n",
       "9         7119      75   125916     2.5\n",
       "10        7213      77     3799     4.0\n",
       "11        7215      77    43919     0.5\n",
       "12        7404      79     1760     4.0\n",
       "13        7975      81     3593     3.0\n",
       "14        8332      81    31698     0.5\n",
       "15        8551      81    61348     0.5\n",
       "16        8593      81    67867     0.5\n",
       "17        8823      83      181     5.0\n",
       "18        9609      94     1760     4.0\n",
       "19       10284     100     3799     0.5\n",
       "20       10738     105     6827     0.5\n",
       "21       10899     111     3799     2.0\n",
       "22       11312     117      810     2.0\n",
       "23       12222     134      810     2.5\n",
       "24       12326     134     1599     2.0\n",
       "25       12373     134     1981     1.0\n",
       "26       12376     134     1984     1.0\n",
       "27       12584     134     3572     2.0\n",
       "28       12587     134     3593     3.0\n",
       "29       12890     134     8811     3.0"
      ]
     },
     "execution_count": 4,
     "metadata": {},
     "output_type": "execute_result"
    }
   ],
   "source": [
    "df = pd.read_csv('item_item_test.csv')\n",
    "df.head(30)"
   ]
  },
  {
   "cell_type": "code",
   "execution_count": 5,
   "metadata": {},
   "outputs": [],
   "source": [
    "df.drop('Unnamed: 0', inplace=True,axis=1)"
   ]
  },
  {
   "cell_type": "code",
   "execution_count": 6,
   "metadata": {},
   "outputs": [
    {
     "data": {
      "text/html": [
       "<div>\n",
       "<style scoped>\n",
       "    .dataframe tbody tr th:only-of-type {\n",
       "        vertical-align: middle;\n",
       "    }\n",
       "\n",
       "    .dataframe tbody tr th {\n",
       "        vertical-align: top;\n",
       "    }\n",
       "\n",
       "    .dataframe thead th {\n",
       "        text-align: right;\n",
       "    }\n",
       "</style>\n",
       "<table border=\"1\" class=\"dataframe\">\n",
       "  <thead>\n",
       "    <tr style=\"text-align: right;\">\n",
       "      <th></th>\n",
       "      <th>userId</th>\n",
       "      <th>movieId</th>\n",
       "      <th>rating</th>\n",
       "    </tr>\n",
       "  </thead>\n",
       "  <tbody>\n",
       "    <tr>\n",
       "      <th>0</th>\n",
       "      <td>4</td>\n",
       "      <td>181</td>\n",
       "      <td>0.5</td>\n",
       "    </tr>\n",
       "    <tr>\n",
       "      <th>1</th>\n",
       "      <td>4</td>\n",
       "      <td>1760</td>\n",
       "      <td>0.5</td>\n",
       "    </tr>\n",
       "    <tr>\n",
       "      <th>2</th>\n",
       "      <td>4</td>\n",
       "      <td>3593</td>\n",
       "      <td>1.0</td>\n",
       "    </tr>\n",
       "    <tr>\n",
       "      <th>3</th>\n",
       "      <td>19</td>\n",
       "      <td>181</td>\n",
       "      <td>2.0</td>\n",
       "    </tr>\n",
       "    <tr>\n",
       "      <th>4</th>\n",
       "      <td>38</td>\n",
       "      <td>4125</td>\n",
       "      <td>1.0</td>\n",
       "    </tr>\n",
       "  </tbody>\n",
       "</table>\n",
       "</div>"
      ],
      "text/plain": [
       "   userId  movieId  rating\n",
       "0       4      181     0.5\n",
       "1       4     1760     0.5\n",
       "2       4     3593     1.0\n",
       "3      19      181     2.0\n",
       "4      38     4125     1.0"
      ]
     },
     "execution_count": 6,
     "metadata": {},
     "output_type": "execute_result"
    }
   ],
   "source": [
    "df.head()"
   ]
  },
  {
   "cell_type": "code",
   "execution_count": 15,
   "metadata": {},
   "outputs": [],
   "source": [
    "def rec_gridsearch(model,param_grid,cv):\n",
    "    gs = GridSearchCV(model, param_grid, measures=['rmse', 'mae'], cv=cv)\n",
    "    gs.fit(data)\n",
    "    # best RMSE score\n",
    "    print(gs.best_score['rmse'])\n",
    "\n",
    "    # combination of parameters that gave the best RMSE score\n",
    "    print(gs.best_params['rmse'])"
   ]
  },
  {
   "cell_type": "markdown",
   "metadata": {},
   "source": [
    "## SVD"
   ]
  },
  {
   "cell_type": "code",
   "execution_count": 14,
   "metadata": {},
   "outputs": [],
   "source": [
    "reader = Reader(rating_scale=(1, 5))\n",
    "data = Dataset.load_from_df(df,reader)"
   ]
  },
  {
   "cell_type": "code",
   "execution_count": 17,
   "metadata": {},
   "outputs": [
    {
     "name": "stdout",
     "output_type": "stream",
     "text": [
      "Evaluating RMSE, MAE of algorithm SVD on 10 split(s).\n",
      "\n",
      "                  Fold 1  Fold 2  Fold 3  Fold 4  Fold 5  Fold 6  Fold 7  Fold 8  Fold 9  Fold 10 Mean    Std     \n",
      "RMSE (testset)    1.0535  1.0567  1.0555  1.0647  1.0666  1.0539  1.0719  1.0734  1.0757  1.0692  1.0641  0.0081  \n",
      "MAE (testset)     0.8516  0.8560  0.8588  0.8659  0.8597  0.8581  0.8628  0.8630  0.8739  0.8638  0.8614  0.0058  \n",
      "Fit time          3.92    3.90    4.00    4.64    4.04    3.98    3.97    4.68    4.43    4.69    4.23    0.32    \n",
      "Test time         0.05    0.05    0.14    0.05    0.05    0.05    0.06    0.05    0.05    0.05    0.06    0.03    \n"
     ]
    },
    {
     "data": {
      "text/plain": [
       "{'test_rmse': array([1.05349738, 1.05670008, 1.05550427, 1.06472972, 1.0665943 ,\n",
       "        1.05393943, 1.0718726 , 1.07340582, 1.07567147, 1.06921951]),\n",
       " 'test_mae': array([0.85159141, 0.85604305, 0.85884696, 0.86593192, 0.85970814,\n",
       "        0.85806593, 0.86278583, 0.86295761, 0.87386728, 0.86381945]),\n",
       " 'fit_time': (3.9230339527130127,\n",
       "  3.903351068496704,\n",
       "  3.995553970336914,\n",
       "  4.640155076980591,\n",
       "  4.039940118789673,\n",
       "  3.981184720993042,\n",
       "  3.9710001945495605,\n",
       "  4.6831419467926025,\n",
       "  4.434258937835693,\n",
       "  4.688935995101929),\n",
       " 'test_time': (0.05298614501953125,\n",
       "  0.053289175033569336,\n",
       "  0.137437105178833,\n",
       "  0.05352187156677246,\n",
       "  0.054746150970458984,\n",
       "  0.05100202560424805,\n",
       "  0.056944847106933594,\n",
       "  0.05170726776123047,\n",
       "  0.051301002502441406,\n",
       "  0.05142498016357422)}"
      ]
     },
     "execution_count": 17,
     "metadata": {},
     "output_type": "execute_result"
    }
   ],
   "source": [
    "svd = SVD()\n",
    "cross_validate(svd, data, measures=['RMSE', 'MAE'], cv=10, verbose=True)"
   ]
  },
  {
   "cell_type": "code",
   "execution_count": 25,
   "metadata": {},
   "outputs": [
    {
     "name": "stdout",
     "output_type": "stream",
     "text": [
      "1.0372939179830616\n",
      "{'n_epochs': 50, 'n_factors': 10, 'lr_all': 0.01, 'reg_all': 0.4, 'biased': True}\n"
     ]
    }
   ],
   "source": [
    "param_grid = {'n_epochs': [10, 20, 50], 'n_factors': [1,5,10],'lr_all': [0.001, 0.005, 0.01,0.05],\n",
    "              'reg_all': [0.4, 0.6], 'biased': [True, False],}\n",
    "rec_gridsearch(SVD,param_grid,6)"
   ]
  },
  {
   "cell_type": "code",
   "execution_count": null,
   "metadata": {},
   "outputs": [],
   "source": []
  },
  {
   "cell_type": "markdown",
   "metadata": {},
   "source": [
    "## NMF"
   ]
  },
  {
   "cell_type": "code",
   "execution_count": 26,
   "metadata": {},
   "outputs": [
    {
     "name": "stdout",
     "output_type": "stream",
     "text": [
      "Evaluating RMSE, MAE of algorithm NMF on 10 split(s).\n",
      "\n",
      "                  Fold 1  Fold 2  Fold 3  Fold 4  Fold 5  Fold 6  Fold 7  Fold 8  Fold 9  Fold 10 Mean    Std     \n",
      "RMSE (testset)    1.0579  1.0626  1.0713  1.0747  1.0507  1.0627  1.0598  1.0679  1.0507  1.0569  1.0615  0.0076  \n",
      "MAE (testset)     0.7927  0.7962  0.8054  0.8051  0.7865  0.7903  0.7941  0.8035  0.7853  0.7860  0.7945  0.0075  \n",
      "Fit time          8.39    8.93    9.41    10.92   9.63    9.71    11.70   12.68   10.33   8.70    10.04   1.30    \n",
      "Test time         0.07    0.13    0.07    0.08    0.25    0.23    0.08    0.11    0.06    0.06    0.11    0.07    \n"
     ]
    },
    {
     "data": {
      "text/plain": [
       "{'test_rmse': array([1.05787133, 1.06261884, 1.0712683 , 1.07469762, 1.05066367,\n",
       "        1.06269279, 1.05977168, 1.06787728, 1.05067864, 1.05689128]),\n",
       " 'test_mae': array([0.79268041, 0.79622685, 0.8053805 , 0.80510888, 0.78648825,\n",
       "        0.79025716, 0.79406643, 0.80348372, 0.78527914, 0.78599573]),\n",
       " 'fit_time': (8.385046005249023,\n",
       "  8.929218769073486,\n",
       "  9.407428979873657,\n",
       "  10.915997982025146,\n",
       "  9.629431962966919,\n",
       "  9.705810070037842,\n",
       "  11.69683575630188,\n",
       "  12.680475234985352,\n",
       "  10.332500219345093,\n",
       "  8.695887088775635),\n",
       " 'test_time': (0.0735630989074707,\n",
       "  0.13040709495544434,\n",
       "  0.0650639533996582,\n",
       "  0.07552385330200195,\n",
       "  0.24634122848510742,\n",
       "  0.23092412948608398,\n",
       "  0.08028912544250488,\n",
       "  0.11409163475036621,\n",
       "  0.057929039001464844,\n",
       "  0.059168100357055664)}"
      ]
     },
     "execution_count": 26,
     "metadata": {},
     "output_type": "execute_result"
    }
   ],
   "source": [
    "nmf = NMF()\n",
    "cross_validate(nmf, data, measures=['RMSE', 'MAE'], cv=10, verbose=True)"
   ]
  },
  {
   "cell_type": "code",
   "execution_count": 29,
   "metadata": {},
   "outputs": [
    {
     "name": "stdout",
     "output_type": "stream",
     "text": [
      "1.058634612169605\n",
      "{'n_epochs': 50, 'n_factors': 1, 'biased': False}\n"
     ]
    },
    {
     "data": {
      "application/vnd.jupyter.widget-view+json": {
       "model_id": "d1f494ae903e4976991bcd77c7ae478e",
       "version_major": 2,
       "version_minor": 0
      },
      "text/plain": [
       "HBox(children=(IntProgress(value=1, bar_style='info', max=1), HTML(value='')))"
      ]
     },
     "metadata": {},
     "output_type": "display_data"
    },
    {
     "data": {
      "text/plain": [
       "0it [00:00, ?it/s]"
      ]
     },
     "execution_count": 29,
     "metadata": {},
     "output_type": "execute_result"
    }
   ],
   "source": [
    "# Not tuning LR/Reg until biased is determined to be true or not. \n",
    "param_grid = {'n_epochs': [10, 20, 50], 'n_factors': [1,5,10], 'biased': [True, False],}\n",
    "tqdm(rec_gridsearch(NMF,param_grid,9))"
   ]
  },
  {
   "cell_type": "code",
   "execution_count": null,
   "metadata": {},
   "outputs": [],
   "source": []
  },
  {
   "cell_type": "code",
   "execution_count": null,
   "metadata": {},
   "outputs": [],
   "source": []
  },
  {
   "cell_type": "code",
   "execution_count": null,
   "metadata": {},
   "outputs": [],
   "source": []
  },
  {
   "cell_type": "code",
   "execution_count": null,
   "metadata": {},
   "outputs": [],
   "source": []
  },
  {
   "cell_type": "code",
   "execution_count": null,
   "metadata": {},
   "outputs": [],
   "source": []
  },
  {
   "cell_type": "code",
   "execution_count": null,
   "metadata": {},
   "outputs": [],
   "source": []
  },
  {
   "cell_type": "code",
   "execution_count": null,
   "metadata": {},
   "outputs": [],
   "source": []
  },
  {
   "cell_type": "code",
   "execution_count": null,
   "metadata": {},
   "outputs": [],
   "source": []
  }
 ],
 "metadata": {
  "kernelspec": {
   "display_name": "Python 3",
   "language": "python",
   "name": "python3"
  },
  "language_info": {
   "codemirror_mode": {
    "name": "ipython",
    "version": 3
   },
   "file_extension": ".py",
   "mimetype": "text/x-python",
   "name": "python",
   "nbconvert_exporter": "python",
   "pygments_lexer": "ipython3",
   "version": "3.7.1"
  }
 },
 "nbformat": 4,
 "nbformat_minor": 2
}
